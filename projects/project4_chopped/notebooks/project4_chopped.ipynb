{
 "cells": [
  {
   "cell_type": "markdown",
   "metadata": {},
   "source": [
    "```\n",
    "Topic:        Project 4\n",
    "Subject:      Clustering Ingredients used in 'Chopped'\n",
    "Date:         08/21/2020\n",
    "Name:         David Weon\n",
    "\n",
    "Notebook has been cleaned using nbextension 'Code prettify'\n",
    "```"
   ]
  },
  {
   "cell_type": "markdown",
   "metadata": {},
   "source": [
    "# Exploratory Data Analysis"
   ]
  },
  {
   "cell_type": "markdown",
   "metadata": {},
   "source": [
    "## Data Import"
   ]
  },
  {
   "cell_type": "code",
   "execution_count": 1,
   "metadata": {
    "ExecuteTime": {
     "end_time": "2020-08-19T23:01:17.584950Z",
     "start_time": "2020-08-19T23:01:16.797568Z"
    }
   },
   "outputs": [],
   "source": [
    "import pandas as pd\n",
    "import numpy as np"
   ]
  },
  {
   "cell_type": "code",
   "execution_count": 2,
   "metadata": {
    "ExecuteTime": {
     "end_time": "2020-08-19T23:01:17.615926Z",
     "start_time": "2020-08-19T23:01:17.589620Z"
    }
   },
   "outputs": [],
   "source": [
    "chopped_df = pd.read_csv('data/chopped_raw.csv')"
   ]
  },
  {
   "cell_type": "markdown",
   "metadata": {},
   "source": [
    "## Data Clean"
   ]
  },
  {
   "cell_type": "code",
   "execution_count": 3,
   "metadata": {
    "ExecuteTime": {
     "end_time": "2020-08-19T23:01:17.656363Z",
     "start_time": "2020-08-19T23:01:17.620624Z"
    }
   },
   "outputs": [
    {
     "data": {
      "text/html": [
       "<div>\n",
       "<style scoped>\n",
       "    .dataframe tbody tr th:only-of-type {\n",
       "        vertical-align: middle;\n",
       "    }\n",
       "\n",
       "    .dataframe tbody tr th {\n",
       "        vertical-align: top;\n",
       "    }\n",
       "\n",
       "    .dataframe thead th {\n",
       "        text-align: right;\n",
       "    }\n",
       "</style>\n",
       "<table border=\"1\" class=\"dataframe\">\n",
       "  <thead>\n",
       "    <tr style=\"text-align: right;\">\n",
       "      <th></th>\n",
       "      <th>season</th>\n",
       "      <th>season_episode</th>\n",
       "      <th>series_episode</th>\n",
       "      <th>episode_name</th>\n",
       "      <th>episode_notes</th>\n",
       "      <th>air_date</th>\n",
       "      <th>judge1</th>\n",
       "      <th>judge2</th>\n",
       "      <th>judge3</th>\n",
       "      <th>appetizer</th>\n",
       "      <th>entree</th>\n",
       "      <th>dessert</th>\n",
       "      <th>contestant1</th>\n",
       "      <th>contestant1_info</th>\n",
       "      <th>contestant2</th>\n",
       "      <th>contestant2_info</th>\n",
       "      <th>contestant3</th>\n",
       "      <th>contestant3_info</th>\n",
       "      <th>contestant4</th>\n",
       "      <th>contestant4_info</th>\n",
       "    </tr>\n",
       "  </thead>\n",
       "  <tbody>\n",
       "    <tr>\n",
       "      <th>0</th>\n",
       "      <td>1</td>\n",
       "      <td>1</td>\n",
       "      <td>1</td>\n",
       "      <td>\"Octopus, Duck, Animal Crackers\"</td>\n",
       "      <td>This is the first episode with only three offi...</td>\n",
       "      <td>January 13, 2009</td>\n",
       "      <td>Marc Murphy</td>\n",
       "      <td>Alex Guarnaschelli</td>\n",
       "      <td>Aarón Sánchez</td>\n",
       "      <td>baby octopus, bok choy, oyster sauce, smoked ...</td>\n",
       "      <td>duck breast, green onions, ginger, honey</td>\n",
       "      <td>prunes, animal crackers, cream cheese</td>\n",
       "      <td>Summer Kriegshauser</td>\n",
       "      <td>Private Chef and Nutrition Coach  New York  NY</td>\n",
       "      <td>Perry Pollaci</td>\n",
       "      <td>Private Chef and Sous chef  Bar Blanc  New Yo...</td>\n",
       "      <td>Katie Rosenhouse</td>\n",
       "      <td>Pastry Chef  Olana Restaurant  New York  NY</td>\n",
       "      <td>Sandy Davis</td>\n",
       "      <td>Catering Chef  Showstoppers Catering at Union...</td>\n",
       "    </tr>\n",
       "    <tr>\n",
       "      <th>1</th>\n",
       "      <td>1</td>\n",
       "      <td>2</td>\n",
       "      <td>2</td>\n",
       "      <td>\"Tofu, Blueberries, Oysters\"</td>\n",
       "      <td>This is the first of a few episodes with five ...</td>\n",
       "      <td>January 20, 2009</td>\n",
       "      <td>Aarón Sánchez</td>\n",
       "      <td>Alex Guarnaschelli</td>\n",
       "      <td>Marc Murphy</td>\n",
       "      <td>firm tofu, tomato paste, prosciutto</td>\n",
       "      <td>daikon, pork loin, Napa cabbage, Thai chiles,...</td>\n",
       "      <td>phyllo dough, gorgonzola cheese, pineapple ri...</td>\n",
       "      <td>Raymond Jackson</td>\n",
       "      <td>Private Caterer and Culinary Instructor  West...</td>\n",
       "      <td>Klaus Kronsteiner</td>\n",
       "      <td>Chef de cuisine  Liberty National Golf Course...</td>\n",
       "      <td>Christopher Jackson</td>\n",
       "      <td>Executive Chef and Owner  Ted and Honey  Broo...</td>\n",
       "      <td>Pippa Calland</td>\n",
       "      <td>Owner and Chef  Chef for Hire LLC  Newville  PA</td>\n",
       "    </tr>\n",
       "    <tr>\n",
       "      <th>2</th>\n",
       "      <td>1</td>\n",
       "      <td>3</td>\n",
       "      <td>3</td>\n",
       "      <td>\"Avocado, Tahini, Bran Flakes\"</td>\n",
       "      <td>NaN</td>\n",
       "      <td>January 27, 2009</td>\n",
       "      <td>Aarón Sánchez</td>\n",
       "      <td>Alex Guarnaschelli</td>\n",
       "      <td>Marc Murphy</td>\n",
       "      <td>lump crab meat, dried shiitake mushrooms, pin...</td>\n",
       "      <td>ground beef, cannellini beans, tahini paste, ...</td>\n",
       "      <td>brioche, cantaloupe, pecans, avocados</td>\n",
       "      <td>Margaritte Malfy</td>\n",
       "      <td>Executive Chef and Co-owner  La Palapa  New Y...</td>\n",
       "      <td>Rachelle Rodwell</td>\n",
       "      <td>Chef de cuisine  SoHo Grand Hotel  New York  NY</td>\n",
       "      <td>Chris Burke</td>\n",
       "      <td>Private Chef  New York  NY</td>\n",
       "      <td>Andre Marrero</td>\n",
       "      <td>Chef tournant  L’Atelier de Joël Robuchon  Ne...</td>\n",
       "    </tr>\n",
       "    <tr>\n",
       "      <th>3</th>\n",
       "      <td>1</td>\n",
       "      <td>4</td>\n",
       "      <td>4</td>\n",
       "      <td>\"Banana, Collard Greens, Grits\"</td>\n",
       "      <td>In the appetizer round, Chef Chuboda refused t...</td>\n",
       "      <td>February 3, 2009</td>\n",
       "      <td>Scott Conant</td>\n",
       "      <td>Amanda Freitag</td>\n",
       "      <td>Geoffrey Zakarian</td>\n",
       "      <td>ground beef, wonton wrappers, cream of mushro...</td>\n",
       "      <td>scallops, collard greens, anchovies, sour cream</td>\n",
       "      <td>maple syrup, black plums, almond butter, waln...</td>\n",
       "      <td>Sean Chudoba</td>\n",
       "      <td>Executive Chef  Ayza Wine Bar  New York  NY</td>\n",
       "      <td>Kyle Shadix</td>\n",
       "      <td>Chef  Registered Dietician and Culinary Consu...</td>\n",
       "      <td>Luis Gonzales</td>\n",
       "      <td>Executive Chef  Knickerbocker Bar &amp; Grill  Ne...</td>\n",
       "      <td>Einat Admony</td>\n",
       "      <td>Chef and Owner  Taïm  New York  NY</td>\n",
       "    </tr>\n",
       "    <tr>\n",
       "      <th>4</th>\n",
       "      <td>1</td>\n",
       "      <td>5</td>\n",
       "      <td>5</td>\n",
       "      <td>\"Yucca, Watermelon, Tortillas\"</td>\n",
       "      <td>NaN</td>\n",
       "      <td>February 10, 2009</td>\n",
       "      <td>Geoffrey Zakarian</td>\n",
       "      <td>Alex Guarnaschelli</td>\n",
       "      <td>Marc Murphy</td>\n",
       "      <td>watermelon, canned sardines, pepper jack chee...</td>\n",
       "      <td>beef shoulder, yucca, raisins, ancho chiles, ...</td>\n",
       "      <td>flour tortillas, prosecco, Canadian bacon, ro...</td>\n",
       "      <td>John Keller</td>\n",
       "      <td>Personal Chef  New York  NY</td>\n",
       "      <td>Andrea Bergquist</td>\n",
       "      <td>Executive Chef  New York  NY</td>\n",
       "      <td>Ed Witt</td>\n",
       "      <td>Executive Chef / Wine Director  Bloomingdale ...</td>\n",
       "      <td>Josh Emett</td>\n",
       "      <td>Chef de cuisine  Gordon Ramsay at The London ...</td>\n",
       "    </tr>\n",
       "  </tbody>\n",
       "</table>\n",
       "</div>"
      ],
      "text/plain": [
       "   season  season_episode  series_episode                      episode_name  \\\n",
       "0       1               1               1  \"Octopus, Duck, Animal Crackers\"   \n",
       "1       1               2               2      \"Tofu, Blueberries, Oysters\"   \n",
       "2       1               3               3    \"Avocado, Tahini, Bran Flakes\"   \n",
       "3       1               4               4   \"Banana, Collard Greens, Grits\"   \n",
       "4       1               5               5    \"Yucca, Watermelon, Tortillas\"   \n",
       "\n",
       "                                       episode_notes           air_date  \\\n",
       "0  This is the first episode with only three offi...   January 13, 2009   \n",
       "1  This is the first of a few episodes with five ...   January 20, 2009   \n",
       "2                                                NaN   January 27, 2009   \n",
       "3  In the appetizer round, Chef Chuboda refused t...   February 3, 2009   \n",
       "4                                                NaN  February 10, 2009   \n",
       "\n",
       "              judge1              judge2             judge3  \\\n",
       "0        Marc Murphy  Alex Guarnaschelli      Aarón Sánchez   \n",
       "1      Aarón Sánchez  Alex Guarnaschelli        Marc Murphy   \n",
       "2      Aarón Sánchez  Alex Guarnaschelli        Marc Murphy   \n",
       "3       Scott Conant      Amanda Freitag  Geoffrey Zakarian   \n",
       "4  Geoffrey Zakarian  Alex Guarnaschelli        Marc Murphy   \n",
       "\n",
       "                                           appetizer  \\\n",
       "0   baby octopus, bok choy, oyster sauce, smoked ...   \n",
       "1               firm tofu, tomato paste, prosciutto    \n",
       "2   lump crab meat, dried shiitake mushrooms, pin...   \n",
       "3   ground beef, wonton wrappers, cream of mushro...   \n",
       "4   watermelon, canned sardines, pepper jack chee...   \n",
       "\n",
       "                                              entree  \\\n",
       "0          duck breast, green onions, ginger, honey    \n",
       "1   daikon, pork loin, Napa cabbage, Thai chiles,...   \n",
       "2   ground beef, cannellini beans, tahini paste, ...   \n",
       "3   scallops, collard greens, anchovies, sour cream    \n",
       "4   beef shoulder, yucca, raisins, ancho chiles, ...   \n",
       "\n",
       "                                             dessert          contestant1  \\\n",
       "0              prunes, animal crackers, cream cheese  Summer Kriegshauser   \n",
       "1   phyllo dough, gorgonzola cheese, pineapple ri...      Raymond Jackson   \n",
       "2              brioche, cantaloupe, pecans, avocados     Margaritte Malfy   \n",
       "3   maple syrup, black plums, almond butter, waln...         Sean Chudoba   \n",
       "4   flour tortillas, prosecco, Canadian bacon, ro...          John Keller   \n",
       "\n",
       "                                    contestant1_info         contestant2  \\\n",
       "0    Private Chef and Nutrition Coach  New York  NY        Perry Pollaci   \n",
       "1   Private Caterer and Culinary Instructor  West...   Klaus Kronsteiner   \n",
       "2   Executive Chef and Co-owner  La Palapa  New Y...    Rachelle Rodwell   \n",
       "3       Executive Chef  Ayza Wine Bar  New York  NY          Kyle Shadix   \n",
       "4                       Personal Chef  New York  NY     Andrea Bergquist   \n",
       "\n",
       "                                    contestant2_info           contestant3  \\\n",
       "0   Private Chef and Sous chef  Bar Blanc  New Yo...      Katie Rosenhouse   \n",
       "1   Chef de cuisine  Liberty National Golf Course...   Christopher Jackson   \n",
       "2   Chef de cuisine  SoHo Grand Hotel  New York  NY            Chris Burke   \n",
       "3   Chef  Registered Dietician and Culinary Consu...         Luis Gonzales   \n",
       "4                      Executive Chef  New York  NY                Ed Witt   \n",
       "\n",
       "                                    contestant3_info     contestant4  \\\n",
       "0       Pastry Chef  Olana Restaurant  New York  NY      Sandy Davis   \n",
       "1   Executive Chef and Owner  Ted and Honey  Broo...   Pippa Calland   \n",
       "2                        Private Chef  New York  NY    Andre Marrero   \n",
       "3   Executive Chef  Knickerbocker Bar & Grill  Ne...    Einat Admony   \n",
       "4   Executive Chef / Wine Director  Bloomingdale ...      Josh Emett   \n",
       "\n",
       "                                    contestant4_info  \n",
       "0   Catering Chef  Showstoppers Catering at Union...  \n",
       "1   Owner and Chef  Chef for Hire LLC  Newville  PA   \n",
       "2   Chef tournant  L’Atelier de Joël Robuchon  Ne...  \n",
       "3                Chef and Owner  Taïm  New York  NY   \n",
       "4   Chef de cuisine  Gordon Ramsay at The London ...  "
      ]
     },
     "execution_count": 3,
     "metadata": {},
     "output_type": "execute_result"
    }
   ],
   "source": [
    "chopped_df.head()"
   ]
  },
  {
   "cell_type": "code",
   "execution_count": 4,
   "metadata": {
    "ExecuteTime": {
     "end_time": "2020-08-19T23:01:17.664847Z",
     "start_time": "2020-08-19T23:01:17.658839Z"
    }
   },
   "outputs": [],
   "source": [
    "meals = chopped_df.loc[:, ['appetizer', 'entree', 'dessert']]"
   ]
  },
  {
   "cell_type": "code",
   "execution_count": 5,
   "metadata": {
    "ExecuteTime": {
     "end_time": "2020-08-19T23:01:17.676707Z",
     "start_time": "2020-08-19T23:01:17.667458Z"
    }
   },
   "outputs": [
    {
     "data": {
      "text/html": [
       "<div>\n",
       "<style scoped>\n",
       "    .dataframe tbody tr th:only-of-type {\n",
       "        vertical-align: middle;\n",
       "    }\n",
       "\n",
       "    .dataframe tbody tr th {\n",
       "        vertical-align: top;\n",
       "    }\n",
       "\n",
       "    .dataframe thead th {\n",
       "        text-align: right;\n",
       "    }\n",
       "</style>\n",
       "<table border=\"1\" class=\"dataframe\">\n",
       "  <thead>\n",
       "    <tr style=\"text-align: right;\">\n",
       "      <th></th>\n",
       "      <th>appetizer</th>\n",
       "      <th>entree</th>\n",
       "      <th>dessert</th>\n",
       "    </tr>\n",
       "  </thead>\n",
       "  <tbody>\n",
       "    <tr>\n",
       "      <th>555</th>\n",
       "      <td></td>\n",
       "      <td></td>\n",
       "      <td>NaN</td>\n",
       "    </tr>\n",
       "  </tbody>\n",
       "</table>\n",
       "</div>"
      ],
      "text/plain": [
       "    appetizer entree dessert\n",
       "555                      NaN"
      ]
     },
     "execution_count": 5,
     "metadata": {},
     "output_type": "execute_result"
    }
   ],
   "source": [
    "#check for empty baskets\n",
    "null_meals = meals[meals.isnull().any(axis=1)]\n",
    "null_meals"
   ]
  },
  {
   "cell_type": "code",
   "execution_count": 6,
   "metadata": {
    "ExecuteTime": {
     "end_time": "2020-08-19T23:01:17.685784Z",
     "start_time": "2020-08-19T23:01:17.681361Z"
    }
   },
   "outputs": [],
   "source": [
    "#drop empty baskets\n",
    "full_meals = meals.drop([555])"
   ]
  },
  {
   "cell_type": "code",
   "execution_count": 7,
   "metadata": {
    "ExecuteTime": {
     "end_time": "2020-08-19T23:01:17.722168Z",
     "start_time": "2020-08-19T23:01:17.689258Z"
    }
   },
   "outputs": [],
   "source": [
    "#create dataframe of ingredients per meal type\n",
    "appetizers = pd.DataFrame(\n",
    "    full_meals.appetizer.str.split(',').tolist()).stack().reset_index().drop(\n",
    "        ['level_0', 'level_1'], axis=1).rename(columns={0: 'appetizer'})\n",
    "entrees = pd.DataFrame(\n",
    "    full_meals.entree.str.split(',').tolist()).stack().reset_index().drop(\n",
    "        ['level_0', 'level_1'], axis=1).rename(columns={0: 'entree'})\n",
    "desserts = pd.DataFrame(\n",
    "    full_meals.dessert.str.split(',').tolist()).stack().reset_index().drop(\n",
    "        ['level_0', 'level_1'], axis=1).rename(columns={0: 'dessert'})"
   ]
  },
  {
   "cell_type": "markdown",
   "metadata": {},
   "source": [
    "## Data Check"
   ]
  },
  {
   "cell_type": "code",
   "execution_count": 8,
   "metadata": {
    "ExecuteTime": {
     "end_time": "2020-08-19T23:01:17.734755Z",
     "start_time": "2020-08-19T23:01:17.724834Z"
    },
    "scrolled": true
   },
   "outputs": [
    {
     "data": {
      "text/html": [
       "<div>\n",
       "<style scoped>\n",
       "    .dataframe tbody tr th:only-of-type {\n",
       "        vertical-align: middle;\n",
       "    }\n",
       "\n",
       "    .dataframe tbody tr th {\n",
       "        vertical-align: top;\n",
       "    }\n",
       "\n",
       "    .dataframe thead th {\n",
       "        text-align: right;\n",
       "    }\n",
       "</style>\n",
       "<table border=\"1\" class=\"dataframe\">\n",
       "  <thead>\n",
       "    <tr style=\"text-align: right;\">\n",
       "      <th></th>\n",
       "      <th>dessert</th>\n",
       "    </tr>\n",
       "  </thead>\n",
       "  <tbody>\n",
       "    <tr>\n",
       "      <th>0</th>\n",
       "      <td>prunes</td>\n",
       "    </tr>\n",
       "    <tr>\n",
       "      <th>1</th>\n",
       "      <td>animal crackers</td>\n",
       "    </tr>\n",
       "    <tr>\n",
       "      <th>2</th>\n",
       "      <td>cream cheese</td>\n",
       "    </tr>\n",
       "    <tr>\n",
       "      <th>3</th>\n",
       "      <td>phyllo dough</td>\n",
       "    </tr>\n",
       "    <tr>\n",
       "      <th>4</th>\n",
       "      <td>gorgonzola cheese</td>\n",
       "    </tr>\n",
       "  </tbody>\n",
       "</table>\n",
       "</div>"
      ],
      "text/plain": [
       "              dessert\n",
       "0              prunes\n",
       "1     animal crackers\n",
       "2        cream cheese\n",
       "3        phyllo dough\n",
       "4   gorgonzola cheese"
      ]
     },
     "execution_count": 8,
     "metadata": {},
     "output_type": "execute_result"
    }
   ],
   "source": [
    "appetizers.head()\n",
    "entrees.head()\n",
    "desserts.head()"
   ]
  },
  {
   "cell_type": "code",
   "execution_count": 9,
   "metadata": {
    "ExecuteTime": {
     "end_time": "2020-08-19T23:01:17.751661Z",
     "start_time": "2020-08-19T23:01:17.737388Z"
    }
   },
   "outputs": [
    {
     "name": "stdout",
     "output_type": "stream",
     "text": [
      "<class 'pandas.core.frame.DataFrame'>\n",
      "RangeIndex: 2238 entries, 0 to 2237\n",
      "Data columns (total 1 columns):\n",
      " #   Column     Non-Null Count  Dtype \n",
      "---  ------     --------------  ----- \n",
      " 0   appetizer  2238 non-null   object\n",
      "dtypes: object(1)\n",
      "memory usage: 17.6+ KB\n",
      "<class 'pandas.core.frame.DataFrame'>\n",
      "RangeIndex: 2280 entries, 0 to 2279\n",
      "Data columns (total 1 columns):\n",
      " #   Column  Non-Null Count  Dtype \n",
      "---  ------  --------------  ----- \n",
      " 0   entree  2280 non-null   object\n",
      "dtypes: object(1)\n",
      "memory usage: 17.9+ KB\n",
      "<class 'pandas.core.frame.DataFrame'>\n",
      "RangeIndex: 2267 entries, 0 to 2266\n",
      "Data columns (total 1 columns):\n",
      " #   Column   Non-Null Count  Dtype \n",
      "---  ------   --------------  ----- \n",
      " 0   dessert  2267 non-null   object\n",
      "dtypes: object(1)\n",
      "memory usage: 17.8+ KB\n"
     ]
    }
   ],
   "source": [
    "appetizers.info()\n",
    "entrees.info()\n",
    "desserts.info()"
   ]
  },
  {
   "cell_type": "code",
   "execution_count": 10,
   "metadata": {
    "ExecuteTime": {
     "end_time": "2020-08-19T23:01:17.768508Z",
     "start_time": "2020-08-19T23:01:17.754017Z"
    }
   },
   "outputs": [
    {
     "data": {
      "text/plain": [
       " blackberries                                   13\n",
       " blueberries                                    10\n",
       " figs                                           10\n",
       " peaches                                         9\n",
       " marshmallow spread                              9\n",
       "                                                ..\n",
       " bitters                                         1\n",
       " buffalo milk butter                             1\n",
       " mini chocolate bars. Neopolitan-style dough     1\n",
       " smoked brown sugar                              1\n",
       " frozen rosé                                     1\n",
       "Name: dessert, Length: 1651, dtype: int64"
      ]
     },
     "execution_count": 10,
     "metadata": {},
     "output_type": "execute_result"
    }
   ],
   "source": [
    "appetizers.appetizer.value_counts()\n",
    "entrees.entree.value_counts()\n",
    "desserts.dessert.value_counts()"
   ]
  },
  {
   "cell_type": "markdown",
   "metadata": {},
   "source": [
    "# Preprocessing Text"
   ]
  },
  {
   "cell_type": "code",
   "execution_count": 11,
   "metadata": {
    "ExecuteTime": {
     "end_time": "2020-08-19T23:01:19.138320Z",
     "start_time": "2020-08-19T23:01:17.770933Z"
    }
   },
   "outputs": [],
   "source": [
    "import nltk\n",
    "import re\n",
    "import string"
   ]
  },
  {
   "cell_type": "code",
   "execution_count": 12,
   "metadata": {
    "ExecuteTime": {
     "end_time": "2020-08-19T23:01:19.203767Z",
     "start_time": "2020-08-19T23:01:19.144145Z"
    }
   },
   "outputs": [],
   "source": [
    "#text preprocessing steps - remove numbers, remove punctuation, strip end-whitespace, remove capitalization\n",
    "numpunc = lambda x: re.sub('[^A-Za-z\\s]+', '', x)\n",
    "strip = lambda x: x.strip()\n",
    "lower = lambda x: x.lower()\n",
    "\n",
    "#text preprocessing for each meal type\n",
    "appetizers['appetizer'] = appetizers.appetizer.map(numpunc).map(strip).map(\n",
    "    lower)\n",
    "entrees['entree'] = entrees.entree.map(numpunc).map(strip).map(lower)\n",
    "desserts['dessert'] = desserts.dessert.map(numpunc).map(strip).map(lower)\n",
    "\n",
    "#adding underscore for search in google word2vec\n",
    "appetizers['appetizer'] = appetizers['appetizer'].str.replace(' ', '_')\n",
    "entrees['entree'] = entrees['entree'].str.replace(' ', '_')\n",
    "desserts['dessert'] = desserts['dessert'].str.replace(' ', '_')"
   ]
  },
  {
   "cell_type": "code",
   "execution_count": 13,
   "metadata": {
    "ExecuteTime": {
     "end_time": "2020-08-19T23:01:19.211891Z",
     "start_time": "2020-08-19T23:01:19.205893Z"
    }
   },
   "outputs": [
    {
     "data": {
      "text/plain": [
       "'animal_crackers'"
      ]
     },
     "execution_count": 13,
     "metadata": {},
     "output_type": "execute_result"
    }
   ],
   "source": [
    "#check\n",
    "appetizers.loc[3, 'appetizer']\n",
    "entrees.loc[1, 'entree']\n",
    "desserts.loc[1, 'dessert']"
   ]
  },
  {
   "cell_type": "markdown",
   "metadata": {},
   "source": [
    "# Word2vec"
   ]
  },
  {
   "cell_type": "markdown",
   "metadata": {},
   "source": [
    "## Load Model"
   ]
  },
  {
   "cell_type": "code",
   "execution_count": 14,
   "metadata": {
    "ExecuteTime": {
     "end_time": "2020-08-19T23:01:20.578128Z",
     "start_time": "2020-08-19T23:01:19.214188Z"
    }
   },
   "outputs": [],
   "source": [
    "import gensim\n",
    "from gensim.models import Word2Vec"
   ]
  },
  {
   "cell_type": "markdown",
   "metadata": {},
   "source": [
    "Google's pre-trained word embeddings can be downloaded from: https://drive.google.com/file/d/0B7XkCwpI5KDYNlNUTTlSS21pQmM/edit"
   ]
  },
  {
   "cell_type": "code",
   "execution_count": 15,
   "metadata": {
    "ExecuteTime": {
     "end_time": "2020-08-19T23:01:20.592263Z",
     "start_time": "2020-08-19T23:01:20.581359Z"
    }
   },
   "outputs": [],
   "source": [
    "#path to where the word2vec file lives\n",
    "google_vec_file = '/Users/davidweon/davids_code/database/GoogleNews-vectors-negative300.bin'"
   ]
  },
  {
   "cell_type": "code",
   "execution_count": 16,
   "metadata": {
    "ExecuteTime": {
     "end_time": "2020-08-19T23:01:49.549265Z",
     "start_time": "2020-08-19T23:01:20.599395Z"
    }
   },
   "outputs": [],
   "source": [
    "#load model\n",
    "model = gensim.models.KeyedVectors.load_word2vec_format(google_vec_file,\n",
    "                                                        binary=True)"
   ]
  },
  {
   "cell_type": "markdown",
   "metadata": {},
   "source": [
    "## Clean/Check Data with Model"
   ]
  },
  {
   "cell_type": "code",
   "execution_count": 17,
   "metadata": {
    "ExecuteTime": {
     "end_time": "2020-08-19T23:01:49.673896Z",
     "start_time": "2020-08-19T23:01:49.561697Z"
    }
   },
   "outputs": [],
   "source": [
    "#putting unique ingredients into a list\n",
    "unique_appetizers = [\n",
    "    ingredient for ingredient in appetizers.appetizer.unique()\n",
    "]\n",
    "unique_entrees = [ingredient for ingredient in entrees.entree.unique()]\n",
    "unique_desserts = [ingredient for ingredient in desserts.dessert.unique()]"
   ]
  },
  {
   "cell_type": "code",
   "execution_count": 18,
   "metadata": {
    "ExecuteTime": {
     "end_time": "2020-08-19T23:01:49.720799Z",
     "start_time": "2020-08-19T23:01:49.705633Z"
    }
   },
   "outputs": [],
   "source": [
    "def database_ingredients(unique_list):\n",
    "    '''\n",
    "    input: list of unique ingredients for a meal type\n",
    "    output: list of ingredients that are in the google_vec database\n",
    "    '''\n",
    "    verified_list = []\n",
    "\n",
    "    for ingredient in unique_list:\n",
    "        try:\n",
    "            model[f'{ingredient}']\n",
    "            verified_list.append(ingredient)\n",
    "        except:\n",
    "            pass\n",
    "    return verified_list"
   ]
  },
  {
   "cell_type": "code",
   "execution_count": 19,
   "metadata": {
    "ExecuteTime": {
     "end_time": "2020-08-19T23:01:50.686382Z",
     "start_time": "2020-08-19T23:01:49.746906Z"
    }
   },
   "outputs": [],
   "source": [
    "#list of unique ingredients that are available in google_vec database\n",
    "appetizers_list = database_ingredients(unique_appetizers)\n",
    "entrees_list = database_ingredients(unique_entrees)\n",
    "desserts_list = database_ingredients(unique_desserts)"
   ]
  },
  {
   "cell_type": "code",
   "execution_count": 20,
   "metadata": {
    "ExecuteTime": {
     "end_time": "2020-08-19T23:01:50.720976Z",
     "start_time": "2020-08-19T23:01:50.702868Z"
    }
   },
   "outputs": [],
   "source": [
    "def dimensions(ingredients_list):\n",
    "    '''\n",
    "    input: list of ingredients that are in the google_vec database\n",
    "    output: dataframe of word2vec dimensions for each ingredient\n",
    "    '''\n",
    "    df = pd.DataFrame([model[ingredients_list[0]]])\n",
    "\n",
    "    #iterate through every ingredient, create one dataframe\n",
    "    for ingredient in ingredients_list[1:]:\n",
    "        df = pd.concat([df, pd.DataFrame([model[f'{ingredient}']])],\n",
    "                       ignore_index=True)\n",
    "\n",
    "    return df"
   ]
  },
  {
   "cell_type": "code",
   "execution_count": 21,
   "metadata": {
    "ExecuteTime": {
     "end_time": "2020-08-19T23:02:50.506270Z",
     "start_time": "2020-08-19T23:01:50.724267Z"
    }
   },
   "outputs": [],
   "source": [
    "#dataframe of word2vec dimension for each unique ingredient per meal type\n",
    "appetizers_matrix = dimensions(appetizers_list)\n",
    "entrees_matrix = dimensions(entrees_list)\n",
    "desserts_matrix = dimensions(desserts_list)"
   ]
  },
  {
   "cell_type": "code",
   "execution_count": 22,
   "metadata": {
    "ExecuteTime": {
     "end_time": "2020-08-19T23:02:50.623319Z",
     "start_time": "2020-08-19T23:02:50.509453Z"
    }
   },
   "outputs": [
    {
     "data": {
      "text/html": [
       "<div>\n",
       "<style scoped>\n",
       "    .dataframe tbody tr th:only-of-type {\n",
       "        vertical-align: middle;\n",
       "    }\n",
       "\n",
       "    .dataframe tbody tr th {\n",
       "        vertical-align: top;\n",
       "    }\n",
       "\n",
       "    .dataframe thead th {\n",
       "        text-align: right;\n",
       "    }\n",
       "</style>\n",
       "<table border=\"1\" class=\"dataframe\">\n",
       "  <thead>\n",
       "    <tr style=\"text-align: right;\">\n",
       "      <th></th>\n",
       "      <th>0</th>\n",
       "      <th>1</th>\n",
       "      <th>2</th>\n",
       "      <th>3</th>\n",
       "      <th>4</th>\n",
       "      <th>5</th>\n",
       "      <th>6</th>\n",
       "      <th>7</th>\n",
       "      <th>8</th>\n",
       "      <th>9</th>\n",
       "      <th>...</th>\n",
       "      <th>290</th>\n",
       "      <th>291</th>\n",
       "      <th>292</th>\n",
       "      <th>293</th>\n",
       "      <th>294</th>\n",
       "      <th>295</th>\n",
       "      <th>296</th>\n",
       "      <th>297</th>\n",
       "      <th>298</th>\n",
       "      <th>299</th>\n",
       "    </tr>\n",
       "  </thead>\n",
       "  <tbody>\n",
       "    <tr>\n",
       "      <th>0</th>\n",
       "      <td>-0.198242</td>\n",
       "      <td>0.304688</td>\n",
       "      <td>-0.131836</td>\n",
       "      <td>0.192383</td>\n",
       "      <td>-0.057861</td>\n",
       "      <td>-0.018799</td>\n",
       "      <td>0.292969</td>\n",
       "      <td>0.037598</td>\n",
       "      <td>-0.176758</td>\n",
       "      <td>0.400391</td>\n",
       "      <td>...</td>\n",
       "      <td>0.103516</td>\n",
       "      <td>-0.203125</td>\n",
       "      <td>0.209961</td>\n",
       "      <td>0.134766</td>\n",
       "      <td>-0.083496</td>\n",
       "      <td>0.099609</td>\n",
       "      <td>-0.447266</td>\n",
       "      <td>0.279297</td>\n",
       "      <td>0.031738</td>\n",
       "      <td>0.170898</td>\n",
       "    </tr>\n",
       "    <tr>\n",
       "      <th>1</th>\n",
       "      <td>-0.098633</td>\n",
       "      <td>-0.032715</td>\n",
       "      <td>0.080078</td>\n",
       "      <td>0.345703</td>\n",
       "      <td>0.349609</td>\n",
       "      <td>-0.101562</td>\n",
       "      <td>0.339844</td>\n",
       "      <td>-0.067383</td>\n",
       "      <td>-0.189453</td>\n",
       "      <td>0.099121</td>\n",
       "      <td>...</td>\n",
       "      <td>-0.013855</td>\n",
       "      <td>-0.277344</td>\n",
       "      <td>-0.257812</td>\n",
       "      <td>-0.026611</td>\n",
       "      <td>0.328125</td>\n",
       "      <td>-0.300781</td>\n",
       "      <td>0.076172</td>\n",
       "      <td>-0.169922</td>\n",
       "      <td>0.088867</td>\n",
       "      <td>-0.190430</td>\n",
       "    </tr>\n",
       "    <tr>\n",
       "      <th>2</th>\n",
       "      <td>-0.180664</td>\n",
       "      <td>-0.199219</td>\n",
       "      <td>0.081055</td>\n",
       "      <td>0.192383</td>\n",
       "      <td>0.333984</td>\n",
       "      <td>0.312500</td>\n",
       "      <td>0.134766</td>\n",
       "      <td>0.003189</td>\n",
       "      <td>-0.202148</td>\n",
       "      <td>0.312500</td>\n",
       "      <td>...</td>\n",
       "      <td>-0.410156</td>\n",
       "      <td>-0.148438</td>\n",
       "      <td>-0.337891</td>\n",
       "      <td>-0.042725</td>\n",
       "      <td>0.265625</td>\n",
       "      <td>-0.074707</td>\n",
       "      <td>0.087891</td>\n",
       "      <td>0.044678</td>\n",
       "      <td>0.051758</td>\n",
       "      <td>0.259766</td>\n",
       "    </tr>\n",
       "    <tr>\n",
       "      <th>3</th>\n",
       "      <td>-0.237305</td>\n",
       "      <td>-0.152344</td>\n",
       "      <td>0.061523</td>\n",
       "      <td>0.138672</td>\n",
       "      <td>0.119629</td>\n",
       "      <td>-0.058350</td>\n",
       "      <td>0.289062</td>\n",
       "      <td>-0.117188</td>\n",
       "      <td>-0.143555</td>\n",
       "      <td>0.406250</td>\n",
       "      <td>...</td>\n",
       "      <td>0.021729</td>\n",
       "      <td>-0.137695</td>\n",
       "      <td>-0.238281</td>\n",
       "      <td>0.052979</td>\n",
       "      <td>0.197266</td>\n",
       "      <td>0.038086</td>\n",
       "      <td>-0.004639</td>\n",
       "      <td>-0.133789</td>\n",
       "      <td>0.163086</td>\n",
       "      <td>0.161133</td>\n",
       "    </tr>\n",
       "    <tr>\n",
       "      <th>4</th>\n",
       "      <td>-0.275391</td>\n",
       "      <td>0.138672</td>\n",
       "      <td>-0.147461</td>\n",
       "      <td>0.527344</td>\n",
       "      <td>0.207031</td>\n",
       "      <td>0.045166</td>\n",
       "      <td>0.227539</td>\n",
       "      <td>-0.193359</td>\n",
       "      <td>-0.240234</td>\n",
       "      <td>0.117188</td>\n",
       "      <td>...</td>\n",
       "      <td>0.029053</td>\n",
       "      <td>-0.164062</td>\n",
       "      <td>-0.138672</td>\n",
       "      <td>-0.143555</td>\n",
       "      <td>0.247070</td>\n",
       "      <td>0.228516</td>\n",
       "      <td>0.094238</td>\n",
       "      <td>0.052734</td>\n",
       "      <td>0.326172</td>\n",
       "      <td>0.085938</td>\n",
       "    </tr>\n",
       "  </tbody>\n",
       "</table>\n",
       "<p>5 rows × 300 columns</p>\n",
       "</div>"
      ],
      "text/plain": [
       "        0         1         2         3         4         5         6    \\\n",
       "0 -0.198242  0.304688 -0.131836  0.192383 -0.057861 -0.018799  0.292969   \n",
       "1 -0.098633 -0.032715  0.080078  0.345703  0.349609 -0.101562  0.339844   \n",
       "2 -0.180664 -0.199219  0.081055  0.192383  0.333984  0.312500  0.134766   \n",
       "3 -0.237305 -0.152344  0.061523  0.138672  0.119629 -0.058350  0.289062   \n",
       "4 -0.275391  0.138672 -0.147461  0.527344  0.207031  0.045166  0.227539   \n",
       "\n",
       "        7         8         9    ...       290       291       292       293  \\\n",
       "0  0.037598 -0.176758  0.400391  ...  0.103516 -0.203125  0.209961  0.134766   \n",
       "1 -0.067383 -0.189453  0.099121  ... -0.013855 -0.277344 -0.257812 -0.026611   \n",
       "2  0.003189 -0.202148  0.312500  ... -0.410156 -0.148438 -0.337891 -0.042725   \n",
       "3 -0.117188 -0.143555  0.406250  ...  0.021729 -0.137695 -0.238281  0.052979   \n",
       "4 -0.193359 -0.240234  0.117188  ...  0.029053 -0.164062 -0.138672 -0.143555   \n",
       "\n",
       "        294       295       296       297       298       299  \n",
       "0 -0.083496  0.099609 -0.447266  0.279297  0.031738  0.170898  \n",
       "1  0.328125 -0.300781  0.076172 -0.169922  0.088867 -0.190430  \n",
       "2  0.265625 -0.074707  0.087891  0.044678  0.051758  0.259766  \n",
       "3  0.197266  0.038086 -0.004639 -0.133789  0.163086  0.161133  \n",
       "4  0.247070  0.228516  0.094238  0.052734  0.326172  0.085938  \n",
       "\n",
       "[5 rows x 300 columns]"
      ]
     },
     "execution_count": 22,
     "metadata": {},
     "output_type": "execute_result"
    }
   ],
   "source": [
    "appetizers_matrix.head()\n",
    "entrees_matrix.head()\n",
    "desserts_matrix.head()"
   ]
  },
  {
   "cell_type": "markdown",
   "metadata": {},
   "source": [
    "# K-Means Clustering"
   ]
  },
  {
   "cell_type": "markdown",
   "metadata": {},
   "source": [
    "## Appetizers"
   ]
  },
  {
   "cell_type": "markdown",
   "metadata": {},
   "source": [
    "### Elbow Method for Optimal K"
   ]
  },
  {
   "cell_type": "code",
   "execution_count": 23,
   "metadata": {
    "ExecuteTime": {
     "end_time": "2020-08-19T23:02:51.964360Z",
     "start_time": "2020-08-19T23:02:50.633892Z"
    }
   },
   "outputs": [],
   "source": [
    "import sys\n",
    "sys.path.append(\"..\")\n",
    "\n",
    "from src.models.kmeans_elbow import elbow_kplot, elbow_kvalue"
   ]
  },
  {
   "cell_type": "code",
   "execution_count": 24,
   "metadata": {
    "ExecuteTime": {
     "end_time": "2020-08-19T23:02:54.159124Z",
     "start_time": "2020-08-19T23:02:51.966937Z"
    }
   },
   "outputs": [
    {
     "data": {
      "image/png": "[encoded data removed]",
      "text/plain": [
       "<Figure size 432x288 with 1 Axes>"
      ]
     },
     "metadata": {},
     "output_type": "display_data"
    }
   ],
   "source": [
    "elbow_kplot(appetizers_matrix)"
   ]
  },
  {
   "cell_type": "code",
   "execution_count": 25,
   "metadata": {
    "ExecuteTime": {
     "end_time": "2020-08-19T23:02:56.569157Z",
     "start_time": "2020-08-19T23:02:54.163767Z"
    }
   },
   "outputs": [
    {
     "data": {
      "text/plain": [
       "5"
      ]
     },
     "execution_count": 25,
     "metadata": {},
     "output_type": "execute_result"
    }
   ],
   "source": [
    "elbow_kvalue(appetizers_matrix)"
   ]
  },
  {
   "cell_type": "markdown",
   "metadata": {},
   "source": [
    "### Silhouette Score for Optimal K"
   ]
  },
  {
   "cell_type": "code",
   "execution_count": 26,
   "metadata": {
    "ExecuteTime": {
     "end_time": "2020-08-19T23:02:56.601871Z",
     "start_time": "2020-08-19T23:02:56.574503Z"
    }
   },
   "outputs": [],
   "source": [
    "from src.models.kmeans_silhouette import silhouette_plot"
   ]
  },
  {
   "cell_type": "code",
   "execution_count": 27,
   "metadata": {
    "ExecuteTime": {
     "end_time": "2020-08-19T23:02:59.193482Z",
     "start_time": "2020-08-19T23:02:56.610259Z"
    }
   },
   "outputs": [
    {
     "data": {
      "image/png": "[encoded data removed]",
      "text/plain": [
       "<Figure size 432x288 with 1 Axes>"
      ]
     },
     "metadata": {},
     "output_type": "display_data"
    }
   ],
   "source": [
    "silhouette_plot(appetizers_matrix)"
   ]
  },
  {
   "cell_type": "markdown",
   "metadata": {},
   "source": [
    "### K-Means Cluster Results"
   ]
  },
  {
   "cell_type": "code",
   "execution_count": 28,
   "metadata": {
    "ExecuteTime": {
     "end_time": "2020-08-19T23:02:59.442474Z",
     "start_time": "2020-08-19T23:02:59.196996Z"
    }
   },
   "outputs": [],
   "source": [
    "from sklearn.cluster import KMeans\n",
    "\n",
    "kmeans6 = KMeans(n_clusters=6, random_state=24).fit(appetizers_matrix)"
   ]
  },
  {
   "cell_type": "code",
   "execution_count": 29,
   "metadata": {
    "ExecuteTime": {
     "end_time": "2020-08-19T23:02:59.459630Z",
     "start_time": "2020-08-19T23:02:59.446805Z"
    }
   },
   "outputs": [],
   "source": [
    "from src.models.cluster_items import cluster_6"
   ]
  },
  {
   "cell_type": "code",
   "execution_count": 30,
   "metadata": {
    "ExecuteTime": {
     "end_time": "2020-08-19T23:02:59.491692Z",
     "start_time": "2020-08-19T23:02:59.462855Z"
    }
   },
   "outputs": [],
   "source": [
    "kmeans_app1, kmeans_app2, kmeans_app3, kmeans_app4, kmeans_app5, kmeans_app6 = cluster_6(\n",
    "    appetizers_list, kmeans6)"
   ]
  },
  {
   "cell_type": "markdown",
   "metadata": {},
   "source": [
    "## Entrees"
   ]
  },
  {
   "cell_type": "markdown",
   "metadata": {},
   "source": [
    "### Elbow Method for Optimal K"
   ]
  },
  {
   "cell_type": "code",
   "execution_count": 31,
   "metadata": {
    "ExecuteTime": {
     "end_time": "2020-08-19T23:03:01.843956Z",
     "start_time": "2020-08-19T23:02:59.496468Z"
    }
   },
   "outputs": [
    {
     "data": {
      "image/png": "[encoded data removed]",
      "text/plain": [
       "<Figure size 432x288 with 1 Axes>"
      ]
     },
     "metadata": {},
     "output_type": "display_data"
    }
   ],
   "source": [
    "elbow_kplot(entrees_matrix)"
   ]
  },
  {
   "cell_type": "code",
   "execution_count": 32,
   "metadata": {
    "ExecuteTime": {
     "end_time": "2020-08-19T23:03:03.748864Z",
     "start_time": "2020-08-19T23:03:01.846704Z"
    }
   },
   "outputs": [
    {
     "data": {
      "text/plain": [
       "4"
      ]
     },
     "execution_count": 32,
     "metadata": {},
     "output_type": "execute_result"
    }
   ],
   "source": [
    "elbow_kvalue(entrees_matrix)"
   ]
  },
  {
   "cell_type": "markdown",
   "metadata": {},
   "source": [
    "### Silhouette Score for Optimal K"
   ]
  },
  {
   "cell_type": "code",
   "execution_count": 33,
   "metadata": {
    "ExecuteTime": {
     "end_time": "2020-08-19T23:03:06.019932Z",
     "start_time": "2020-08-19T23:03:03.752693Z"
    }
   },
   "outputs": [
    {
     "data": {
      "image/png": "[encoded data removed]",
      "text/plain": [
       "<Figure size 432x288 with 1 Axes>"
      ]
     },
     "metadata": {},
     "output_type": "display_data"
    }
   ],
   "source": [
    "silhouette_plot(entrees_matrix)"
   ]
  },
  {
   "cell_type": "markdown",
   "metadata": {},
   "source": [
    "### K-Means Cluster Results"
   ]
  },
  {
   "cell_type": "code",
   "execution_count": 34,
   "metadata": {
    "ExecuteTime": {
     "end_time": "2020-08-19T23:03:06.227543Z",
     "start_time": "2020-08-19T23:03:06.024419Z"
    }
   },
   "outputs": [],
   "source": [
    "kmeans4 = KMeans(n_clusters=4, random_state=24).fit(entrees_matrix)"
   ]
  },
  {
   "cell_type": "code",
   "execution_count": 35,
   "metadata": {
    "ExecuteTime": {
     "end_time": "2020-08-19T23:03:06.247639Z",
     "start_time": "2020-08-19T23:03:06.234754Z"
    }
   },
   "outputs": [],
   "source": [
    "from src.models.cluster_items import cluster_4"
   ]
  },
  {
   "cell_type": "code",
   "execution_count": 36,
   "metadata": {
    "ExecuteTime": {
     "end_time": "2020-08-19T23:03:06.275382Z",
     "start_time": "2020-08-19T23:03:06.251818Z"
    }
   },
   "outputs": [],
   "source": [
    "kmeans_ent1, kmeans_ent2, kmeans_ent3, kmeans_ent4 = cluster_4(\n",
    "    entrees_list, kmeans4)"
   ]
  },
  {
   "cell_type": "markdown",
   "metadata": {},
   "source": [
    "## Desserts"
   ]
  },
  {
   "cell_type": "markdown",
   "metadata": {},
   "source": [
    "### Elbow Method for Optimal K"
   ]
  },
  {
   "cell_type": "code",
   "execution_count": 37,
   "metadata": {
    "ExecuteTime": {
     "end_time": "2020-08-19T23:03:08.221580Z",
     "start_time": "2020-08-19T23:03:06.282413Z"
    }
   },
   "outputs": [
    {
     "data": {
      "image/png": "[encoded data removed]",
      "text/plain": [
       "<Figure size 432x288 with 1 Axes>"
      ]
     },
     "metadata": {},
     "output_type": "display_data"
    }
   ],
   "source": [
    "elbow_kplot(desserts_matrix)"
   ]
  },
  {
   "cell_type": "code",
   "execution_count": 38,
   "metadata": {
    "ExecuteTime": {
     "end_time": "2020-08-19T23:03:09.959126Z",
     "start_time": "2020-08-19T23:03:08.226035Z"
    }
   },
   "outputs": [
    {
     "data": {
      "text/plain": [
       "4"
      ]
     },
     "execution_count": 38,
     "metadata": {},
     "output_type": "execute_result"
    }
   ],
   "source": [
    "elbow_kvalue(desserts_matrix)"
   ]
  },
  {
   "cell_type": "markdown",
   "metadata": {},
   "source": [
    "### Silhouette Score for Optimal K"
   ]
  },
  {
   "cell_type": "code",
   "execution_count": 39,
   "metadata": {
    "ExecuteTime": {
     "end_time": "2020-08-19T23:03:11.836108Z",
     "start_time": "2020-08-19T23:03:09.966139Z"
    }
   },
   "outputs": [
    {
     "data": {
      "image/png": "[encoded data removed]",
      "text/plain": [
       "<Figure size 432x288 with 1 Axes>"
      ]
     },
     "metadata": {},
     "output_type": "display_data"
    }
   ],
   "source": [
    "silhouette_plot(desserts_matrix)"
   ]
  },
  {
   "cell_type": "markdown",
   "metadata": {},
   "source": [
    "### K-Means Cluster Results"
   ]
  },
  {
   "cell_type": "code",
   "execution_count": 40,
   "metadata": {
    "ExecuteTime": {
     "end_time": "2020-08-19T23:03:12.070358Z",
     "start_time": "2020-08-19T23:03:11.840040Z"
    }
   },
   "outputs": [],
   "source": [
    "kmeans5 = KMeans(n_clusters=5, random_state=24).fit(desserts_matrix)"
   ]
  },
  {
   "cell_type": "code",
   "execution_count": 41,
   "metadata": {
    "ExecuteTime": {
     "end_time": "2020-08-19T23:03:12.081440Z",
     "start_time": "2020-08-19T23:03:12.073863Z"
    }
   },
   "outputs": [],
   "source": [
    "from src.models.cluster_items import cluster_5"
   ]
  },
  {
   "cell_type": "code",
   "execution_count": 42,
   "metadata": {
    "ExecuteTime": {
     "end_time": "2020-08-19T23:03:12.102065Z",
     "start_time": "2020-08-19T23:03:12.087227Z"
    }
   },
   "outputs": [],
   "source": [
    "kmeans_des1, kmeans_des2, kmeans_des3, kmeans_des4, kmeans_des5 = cluster_5(\n",
    "    desserts_list, kmeans5)"
   ]
  },
  {
   "cell_type": "markdown",
   "metadata": {},
   "source": [
    "# Hierarchical Clustering"
   ]
  },
  {
   "cell_type": "code",
   "execution_count": 43,
   "metadata": {
    "ExecuteTime": {
     "end_time": "2020-08-19T23:03:12.111971Z",
     "start_time": "2020-08-19T23:03:12.106495Z"
    }
   },
   "outputs": [],
   "source": [
    "from sklearn.cluster import AgglomerativeClustering"
   ]
  },
  {
   "cell_type": "markdown",
   "metadata": {},
   "source": [
    "## Appetizers"
   ]
  },
  {
   "cell_type": "code",
   "execution_count": 44,
   "metadata": {
    "ExecuteTime": {
     "end_time": "2020-08-19T23:03:12.355610Z",
     "start_time": "2020-08-19T23:03:12.120329Z"
    }
   },
   "outputs": [],
   "source": [
    "#ward clustering\n",
    "hier6 = AgglomerativeClustering(n_clusters=6).fit(appetizers_matrix)"
   ]
  },
  {
   "cell_type": "code",
   "execution_count": 45,
   "metadata": {
    "ExecuteTime": {
     "end_time": "2020-08-19T23:03:12.367192Z",
     "start_time": "2020-08-19T23:03:12.359084Z"
    }
   },
   "outputs": [],
   "source": [
    "hier_app1, hier_app2, hier_app3, hier_app4, hier_app5, hier_app6 = cluster_6(\n",
    "    appetizers_list, hier6)"
   ]
  },
  {
   "cell_type": "markdown",
   "metadata": {},
   "source": [
    "## Entrees"
   ]
  },
  {
   "cell_type": "code",
   "execution_count": 46,
   "metadata": {
    "ExecuteTime": {
     "end_time": "2020-08-19T23:03:12.496888Z",
     "start_time": "2020-08-19T23:03:12.371913Z"
    }
   },
   "outputs": [],
   "source": [
    "hier4 = AgglomerativeClustering(n_clusters=4).fit(entrees_matrix)"
   ]
  },
  {
   "cell_type": "code",
   "execution_count": 47,
   "metadata": {
    "ExecuteTime": {
     "end_time": "2020-08-19T23:03:12.508406Z",
     "start_time": "2020-08-19T23:03:12.501552Z"
    }
   },
   "outputs": [],
   "source": [
    "hier_ent1, hier_ent2, hier_ent3, hier_ent4 = cluster_4(entrees_list, hier4)"
   ]
  },
  {
   "cell_type": "markdown",
   "metadata": {},
   "source": [
    "## Desserts"
   ]
  },
  {
   "cell_type": "code",
   "execution_count": 48,
   "metadata": {
    "ExecuteTime": {
     "end_time": "2020-08-19T23:03:12.633225Z",
     "start_time": "2020-08-19T23:03:12.513198Z"
    }
   },
   "outputs": [],
   "source": [
    "hier5 = AgglomerativeClustering(n_clusters=5).fit(desserts_matrix)"
   ]
  },
  {
   "cell_type": "code",
   "execution_count": 49,
   "metadata": {
    "ExecuteTime": {
     "end_time": "2020-08-19T23:03:12.642727Z",
     "start_time": "2020-08-19T23:03:12.636581Z"
    }
   },
   "outputs": [],
   "source": [
    "hier_des1, hier_des2, hier_des3, hier_des4, hier_des5 = cluster_5(\n",
    "    desserts_list, hier5)"
   ]
  },
  {
   "cell_type": "markdown",
   "metadata": {},
   "source": [
    "# Recommendation System"
   ]
  },
  {
   "cell_type": "markdown",
   "metadata": {},
   "source": [
    "## Mystery Basket Generator"
   ]
  },
  {
   "cell_type": "code",
   "execution_count": 50,
   "metadata": {
    "ExecuteTime": {
     "end_time": "2020-08-19T23:03:12.654872Z",
     "start_time": "2020-08-19T23:03:12.646195Z"
    }
   },
   "outputs": [],
   "source": [
    "import pickle\n",
    "\n",
    "#pickling each cluster for streamlit use\n",
    "\n",
    "# pickle.dump(kmeans_app1, open('app1.p', 'wb'))\n",
    "# pickle.dump(kmeans_app2, open('app2.p', 'wb'))\n",
    "# pickle.dump(kmeans_app3, open('app3.p', 'wb'))\n",
    "# pickle.dump(kmeans_app4, open('app4.p', 'wb'))\n",
    "# pickle.dump(kmeans_app5, open('app5.p', 'wb'))\n",
    "# pickle.dump(kmeans_app6, open('app6.p', 'wb'))\n",
    "# pickle.dump(kmeans_ent1, open('ent1.p', 'wb'))\n",
    "# pickle.dump(kmeans_ent2, open('ent2.p', 'wb'))\n",
    "# pickle.dump(kmeans_ent3, open('ent3.p', 'wb'))\n",
    "# pickle.dump(kmeans_ent4, open('ent4.p', 'wb'))\n",
    "# pickle.dump(kmeans_des1, open('des1.p', 'wb'))\n",
    "# pickle.dump(kmeans_des2, open('des2.p', 'wb'))\n",
    "# pickle.dump(kmeans_des3, open('des3.p', 'wb'))\n",
    "# pickle.dump(kmeans_des4, open('des4.p', 'wb'))\n",
    "# pickle.dump(kmeans_des5, open('des5.p', 'wb'))"
   ]
  },
  {
   "cell_type": "markdown",
   "metadata": {},
   "source": [
    "## Similar Ingredient Recommender"
   ]
  },
  {
   "cell_type": "code",
   "execution_count": 51,
   "metadata": {
    "ExecuteTime": {
     "end_time": "2020-08-19T23:03:12.667284Z",
     "start_time": "2020-08-19T23:03:12.657941Z"
    }
   },
   "outputs": [
    {
     "data": {
      "text/plain": [
       "1344"
      ]
     },
     "execution_count": 51,
     "metadata": {},
     "output_type": "execute_result"
    }
   ],
   "source": [
    "#list of all unique ingredients that are available in google_vec database\n",
    "all_list = appetizers_list + entrees_list + desserts_list\n",
    "all_list = list(dict.fromkeys(all_list))\n",
    "len(all_list)"
   ]
  },
  {
   "cell_type": "code",
   "execution_count": 52,
   "metadata": {
    "ExecuteTime": {
     "end_time": "2020-08-19T23:03:54.485099Z",
     "start_time": "2020-08-19T23:03:12.671700Z"
    }
   },
   "outputs": [
    {
     "data": {
      "text/plain": [
       "1344"
      ]
     },
     "execution_count": 52,
     "metadata": {},
     "output_type": "execute_result"
    }
   ],
   "source": [
    "#dataframe of word2vec dimension for each unique ingredient\n",
    "all_matrix = dimensions(all_list)\n",
    "len(all_matrix)"
   ]
  },
  {
   "cell_type": "code",
   "execution_count": 53,
   "metadata": {
    "ExecuteTime": {
     "end_time": "2020-08-19T23:03:54.512040Z",
     "start_time": "2020-08-19T23:03:54.490774Z"
    }
   },
   "outputs": [],
   "source": [
    "from sklearn.metrics.pairwise import cosine_similarity"
   ]
  },
  {
   "cell_type": "code",
   "execution_count": 54,
   "metadata": {
    "ExecuteTime": {
     "end_time": "2020-08-19T23:03:54.851826Z",
     "start_time": "2020-08-19T23:03:54.819356Z"
    }
   },
   "outputs": [],
   "source": [
    "#adding ingredient names to matrix\n",
    "all_matrix.insert(0, \"index\", all_list)\n",
    "all_matrix.set_index('index', inplace=True)"
   ]
  },
  {
   "cell_type": "code",
   "execution_count": 55,
   "metadata": {
    "ExecuteTime": {
     "end_time": "2020-08-19T23:03:54.991949Z",
     "start_time": "2020-08-19T23:03:54.893036Z"
    }
   },
   "outputs": [],
   "source": [
    "#cosine similarity scores for each unique ingredient\n",
    "cos_similarity = pd.DataFrame(cosine_similarity(all_matrix), columns=all_list)\n",
    "cos_similarity.insert(0, \"index\", all_list)\n",
    "cos_similarity.set_index('index', inplace=True)"
   ]
  },
  {
   "cell_type": "code",
   "execution_count": 56,
   "metadata": {
    "ExecuteTime": {
     "end_time": "2020-08-19T23:03:55.103996Z",
     "start_time": "2020-08-19T23:03:55.005114Z"
    }
   },
   "outputs": [
    {
     "data": {
      "text/html": [
       "<div>\n",
       "<style scoped>\n",
       "    .dataframe tbody tr th:only-of-type {\n",
       "        vertical-align: middle;\n",
       "    }\n",
       "\n",
       "    .dataframe tbody tr th {\n",
       "        vertical-align: top;\n",
       "    }\n",
       "\n",
       "    .dataframe thead th {\n",
       "        text-align: right;\n",
       "    }\n",
       "</style>\n",
       "<table border=\"1\" class=\"dataframe\">\n",
       "  <thead>\n",
       "    <tr style=\"text-align: right;\">\n",
       "      <th></th>\n",
       "      <th>bok_choy</th>\n",
       "      <th>oyster_sauce</th>\n",
       "      <th>smoked_paprika</th>\n",
       "      <th>tomato_paste</th>\n",
       "      <th>prosciutto</th>\n",
       "      <th>lump_crab_meat</th>\n",
       "      <th>dried_shiitake_mushrooms</th>\n",
       "      <th>pink_grapefruit</th>\n",
       "      <th>bran_cereal</th>\n",
       "      <th>wonton_wrappers</th>\n",
       "      <th>...</th>\n",
       "      <th>candelabra</th>\n",
       "      <th>camel_milk</th>\n",
       "      <th>witches_brew</th>\n",
       "      <th>yogurt</th>\n",
       "      <th>cranberry_chutney</th>\n",
       "      <th>caramel_apples</th>\n",
       "      <th>muscat_grapes</th>\n",
       "      <th>bundt_cake</th>\n",
       "      <th>cabernet_sauvignon</th>\n",
       "      <th>cajeta</th>\n",
       "    </tr>\n",
       "    <tr>\n",
       "      <th>index</th>\n",
       "      <th></th>\n",
       "      <th></th>\n",
       "      <th></th>\n",
       "      <th></th>\n",
       "      <th></th>\n",
       "      <th></th>\n",
       "      <th></th>\n",
       "      <th></th>\n",
       "      <th></th>\n",
       "      <th></th>\n",
       "      <th></th>\n",
       "      <th></th>\n",
       "      <th></th>\n",
       "      <th></th>\n",
       "      <th></th>\n",
       "      <th></th>\n",
       "      <th></th>\n",
       "      <th></th>\n",
       "      <th></th>\n",
       "      <th></th>\n",
       "      <th></th>\n",
       "    </tr>\n",
       "  </thead>\n",
       "  <tbody>\n",
       "    <tr>\n",
       "      <th>bok_choy</th>\n",
       "      <td>1.000000</td>\n",
       "      <td>0.652596</td>\n",
       "      <td>0.527747</td>\n",
       "      <td>0.411653</td>\n",
       "      <td>0.467086</td>\n",
       "      <td>0.559955</td>\n",
       "      <td>0.541843</td>\n",
       "      <td>0.410777</td>\n",
       "      <td>0.336392</td>\n",
       "      <td>0.575867</td>\n",
       "      <td>...</td>\n",
       "      <td>0.211189</td>\n",
       "      <td>0.181874</td>\n",
       "      <td>0.164869</td>\n",
       "      <td>0.425637</td>\n",
       "      <td>0.520611</td>\n",
       "      <td>0.264628</td>\n",
       "      <td>0.433417</td>\n",
       "      <td>0.332231</td>\n",
       "      <td>0.269449</td>\n",
       "      <td>0.419330</td>\n",
       "    </tr>\n",
       "    <tr>\n",
       "      <th>oyster_sauce</th>\n",
       "      <td>0.652596</td>\n",
       "      <td>1.000000</td>\n",
       "      <td>0.713752</td>\n",
       "      <td>0.507635</td>\n",
       "      <td>0.547383</td>\n",
       "      <td>0.672416</td>\n",
       "      <td>0.651032</td>\n",
       "      <td>0.529316</td>\n",
       "      <td>0.432451</td>\n",
       "      <td>0.592763</td>\n",
       "      <td>...</td>\n",
       "      <td>0.296631</td>\n",
       "      <td>0.193425</td>\n",
       "      <td>0.239252</td>\n",
       "      <td>0.444819</td>\n",
       "      <td>0.653198</td>\n",
       "      <td>0.287645</td>\n",
       "      <td>0.541028</td>\n",
       "      <td>0.475547</td>\n",
       "      <td>0.346358</td>\n",
       "      <td>0.564419</td>\n",
       "    </tr>\n",
       "    <tr>\n",
       "      <th>smoked_paprika</th>\n",
       "      <td>0.527747</td>\n",
       "      <td>0.713752</td>\n",
       "      <td>1.000000</td>\n",
       "      <td>0.515285</td>\n",
       "      <td>0.598436</td>\n",
       "      <td>0.644022</td>\n",
       "      <td>0.599994</td>\n",
       "      <td>0.561299</td>\n",
       "      <td>0.435418</td>\n",
       "      <td>0.574066</td>\n",
       "      <td>...</td>\n",
       "      <td>0.305282</td>\n",
       "      <td>0.189027</td>\n",
       "      <td>0.298218</td>\n",
       "      <td>0.441839</td>\n",
       "      <td>0.639693</td>\n",
       "      <td>0.325311</td>\n",
       "      <td>0.565828</td>\n",
       "      <td>0.553101</td>\n",
       "      <td>0.388078</td>\n",
       "      <td>0.655580</td>\n",
       "    </tr>\n",
       "    <tr>\n",
       "      <th>tomato_paste</th>\n",
       "      <td>0.411653</td>\n",
       "      <td>0.507635</td>\n",
       "      <td>0.515285</td>\n",
       "      <td>1.000000</td>\n",
       "      <td>0.456423</td>\n",
       "      <td>0.437344</td>\n",
       "      <td>0.461157</td>\n",
       "      <td>0.354029</td>\n",
       "      <td>0.397287</td>\n",
       "      <td>0.490774</td>\n",
       "      <td>...</td>\n",
       "      <td>0.199995</td>\n",
       "      <td>0.307444</td>\n",
       "      <td>0.190081</td>\n",
       "      <td>0.500089</td>\n",
       "      <td>0.399783</td>\n",
       "      <td>0.191288</td>\n",
       "      <td>0.416426</td>\n",
       "      <td>0.346517</td>\n",
       "      <td>0.259674</td>\n",
       "      <td>0.415387</td>\n",
       "    </tr>\n",
       "    <tr>\n",
       "      <th>prosciutto</th>\n",
       "      <td>0.467086</td>\n",
       "      <td>0.547383</td>\n",
       "      <td>0.598436</td>\n",
       "      <td>0.456423</td>\n",
       "      <td>1.000000</td>\n",
       "      <td>0.602564</td>\n",
       "      <td>0.424876</td>\n",
       "      <td>0.435220</td>\n",
       "      <td>0.348918</td>\n",
       "      <td>0.533335</td>\n",
       "      <td>...</td>\n",
       "      <td>0.262865</td>\n",
       "      <td>0.170565</td>\n",
       "      <td>0.097854</td>\n",
       "      <td>0.379101</td>\n",
       "      <td>0.555650</td>\n",
       "      <td>0.314595</td>\n",
       "      <td>0.458975</td>\n",
       "      <td>0.460843</td>\n",
       "      <td>0.455986</td>\n",
       "      <td>0.479451</td>\n",
       "    </tr>\n",
       "  </tbody>\n",
       "</table>\n",
       "<p>5 rows × 1344 columns</p>\n",
       "</div>"
      ],
      "text/plain": [
       "                bok_choy  oyster_sauce  smoked_paprika  tomato_paste  \\\n",
       "index                                                                  \n",
       "bok_choy        1.000000      0.652596        0.527747      0.411653   \n",
       "oyster_sauce    0.652596      1.000000        0.713752      0.507635   \n",
       "smoked_paprika  0.527747      0.713752        1.000000      0.515285   \n",
       "tomato_paste    0.411653      0.507635        0.515285      1.000000   \n",
       "prosciutto      0.467086      0.547383        0.598436      0.456423   \n",
       "\n",
       "                prosciutto  lump_crab_meat  dried_shiitake_mushrooms  \\\n",
       "index                                                                  \n",
       "bok_choy          0.467086        0.559955                  0.541843   \n",
       "oyster_sauce      0.547383        0.672416                  0.651032   \n",
       "smoked_paprika    0.598436        0.644022                  0.599994   \n",
       "tomato_paste      0.456423        0.437344                  0.461157   \n",
       "prosciutto        1.000000        0.602564                  0.424876   \n",
       "\n",
       "                pink_grapefruit  bran_cereal  wonton_wrappers  ...  \\\n",
       "index                                                          ...   \n",
       "bok_choy               0.410777     0.336392         0.575867  ...   \n",
       "oyster_sauce           0.529316     0.432451         0.592763  ...   \n",
       "smoked_paprika         0.561299     0.435418         0.574066  ...   \n",
       "tomato_paste           0.354029     0.397287         0.490774  ...   \n",
       "prosciutto             0.435220     0.348918         0.533335  ...   \n",
       "\n",
       "                candelabra  camel_milk  witches_brew    yogurt  \\\n",
       "index                                                            \n",
       "bok_choy          0.211189    0.181874      0.164869  0.425637   \n",
       "oyster_sauce      0.296631    0.193425      0.239252  0.444819   \n",
       "smoked_paprika    0.305282    0.189027      0.298218  0.441839   \n",
       "tomato_paste      0.199995    0.307444      0.190081  0.500089   \n",
       "prosciutto        0.262865    0.170565      0.097854  0.379101   \n",
       "\n",
       "                cranberry_chutney  caramel_apples  muscat_grapes  bundt_cake  \\\n",
       "index                                                                          \n",
       "bok_choy                 0.520611        0.264628       0.433417    0.332231   \n",
       "oyster_sauce             0.653198        0.287645       0.541028    0.475547   \n",
       "smoked_paprika           0.639693        0.325311       0.565828    0.553101   \n",
       "tomato_paste             0.399783        0.191288       0.416426    0.346517   \n",
       "prosciutto               0.555650        0.314595       0.458975    0.460843   \n",
       "\n",
       "                cabernet_sauvignon    cajeta  \n",
       "index                                         \n",
       "bok_choy                  0.269449  0.419330  \n",
       "oyster_sauce              0.346358  0.564419  \n",
       "smoked_paprika            0.388078  0.655580  \n",
       "tomato_paste              0.259674  0.415387  \n",
       "prosciutto                0.455986  0.479451  \n",
       "\n",
       "[5 rows x 1344 columns]"
      ]
     },
     "execution_count": 56,
     "metadata": {},
     "output_type": "execute_result"
    }
   ],
   "source": [
    "cos_similarity.head()"
   ]
  },
  {
   "cell_type": "code",
   "execution_count": 57,
   "metadata": {
    "ExecuteTime": {
     "end_time": "2020-08-19T23:03:55.142442Z",
     "start_time": "2020-08-19T23:03:55.131233Z"
    }
   },
   "outputs": [],
   "source": [
    "#pickle cosine similarity matrix for streamlit use\n",
    "\n",
    "#pickle.dump(cos_similarity, open('cos_similarity.p', 'wb'))"
   ]
  },
  {
   "cell_type": "markdown",
   "metadata": {},
   "source": [
    "# Data Visualization"
   ]
  },
  {
   "cell_type": "code",
   "execution_count": 58,
   "metadata": {
    "ExecuteTime": {
     "end_time": "2020-08-19T23:03:55.216807Z",
     "start_time": "2020-08-19T23:03:55.189953Z"
    }
   },
   "outputs": [],
   "source": [
    "from sklearn.cluster import KMeans\n",
    "import matplotlib.pyplot as plt\n",
    "from kneed import KneeLocator\n",
    "from sklearn.metrics import silhouette_score\n",
    "import matplotlib.pyplot as plt\n",
    "%matplotlib inline"
   ]
  },
  {
   "cell_type": "code",
   "execution_count": 59,
   "metadata": {
    "ExecuteTime": {
     "end_time": "2020-08-19T23:03:55.249002Z",
     "start_time": "2020-08-19T23:03:55.229089Z"
    }
   },
   "outputs": [],
   "source": [
    "def silhouette_coef(matrix):\n",
    "    \"\"\"\n",
    "    input: matrix of word2vec dimensions\n",
    "    output: list of silhouette coefficients\n",
    "    \"\"\"\n",
    "\n",
    "    kmeans_kwargs = {\n",
    "        \"init\": \"random\",\n",
    "        \"n_init\": 10,\n",
    "        \"max_iter\": 300,\n",
    "        \"random_state\": 24,\n",
    "    }\n",
    "\n",
    "    # a list holds the silhouette coefficients for each k\n",
    "    silhouette_coefficients = []\n",
    "\n",
    "    # start at 2 clusters for silhouette coefficient\n",
    "    for k in range(2, 11):\n",
    "        kmeans_silhouette = KMeans(n_clusters=k, **kmeans_kwargs)\n",
    "        kmeans_silhouette.fit(matrix)\n",
    "        score = silhouette_score(matrix, kmeans_silhouette.labels_)\n",
    "        silhouette_coefficients.append(score)\n",
    "\n",
    "    return silhouette_coefficients"
   ]
  },
  {
   "cell_type": "code",
   "execution_count": 60,
   "metadata": {
    "ExecuteTime": {
     "end_time": "2020-08-19T23:04:03.290333Z",
     "start_time": "2020-08-19T23:03:55.262313Z"
    }
   },
   "outputs": [],
   "source": [
    "app_coeffs = silhouette_coef(appetizers_matrix)\n",
    "ent_coeffs = silhouette_coef(entrees_matrix)\n",
    "des_coeffs = silhouette_coef(desserts_matrix)"
   ]
  },
  {
   "cell_type": "code",
   "execution_count": 61,
   "metadata": {
    "ExecuteTime": {
     "end_time": "2020-08-19T23:04:04.118082Z",
     "start_time": "2020-08-19T23:04:03.298783Z"
    }
   },
   "outputs": [
    {
     "data": {
      "text/plain": [
       "Text(0.5, 1.0, 'Dessert')"
      ]
     },
     "execution_count": 61,
     "metadata": {},
     "output_type": "execute_result"
    },
    {
     "data": {
      "image/png": "[encoded data removed]",
      "text/plain": [
       "<Figure size 1080x504 with 3 Axes>"
      ]
     },
     "metadata": {},
     "output_type": "display_data"
    }
   ],
   "source": [
    "#all three silhouette coefficient plots together\n",
    "plt.style.use(\"fivethirtyeight\")\n",
    "plt.figure(figsize=(15, 7))\n",
    "\n",
    "plt.subplot(1, 3, 1)\n",
    "plt.plot(range(2, 11), app_coeffs)\n",
    "plt.xticks(range(2, 11))\n",
    "plt.xlabel(\"Number of Clusters\")\n",
    "plt.ylabel(\"Silhouette Coefficient\")\n",
    "plt.title('Appetizer')\n",
    "\n",
    "plt.subplot(1, 3, 2)\n",
    "plt.plot(range(2, 11), ent_coeffs)\n",
    "plt.xticks(range(2, 11))\n",
    "plt.xlabel(\"Number of Clusters\")\n",
    "plt.title('Entree')\n",
    "\n",
    "plt.subplot(1, 3, 3)\n",
    "plt.plot(range(2, 11), des_coeffs)\n",
    "plt.xticks(range(2, 11))\n",
    "plt.xlabel(\"Number of Clusters\")\n",
    "plt.title('Dessert')\n",
    "\n",
    "#plt.savefig('all_silhouette.png', dpi=400)"
   ]
  },
  {
   "cell_type": "code",
   "execution_count": null,
   "metadata": {},
   "outputs": [],
   "source": []
  }
 ],
 "metadata": {
  "kernelspec": {
   "display_name": "Python 3",
   "language": "python",
   "name": "python3"
  },
  "language_info": {
   "codemirror_mode": {
    "name": "ipython",
    "version": 3
   },
   "file_extension": ".py",
   "mimetype": "text/x-python",
   "name": "python",
   "nbconvert_exporter": "python",
   "pygments_lexer": "ipython3",
   "version": "3.7.7"
  },
  "toc": {
   "base_numbering": 1,
   "nav_menu": {},
   "number_sections": true,
   "sideBar": true,
   "skip_h1_title": false,
   "title_cell": "Table of Contents",
   "title_sidebar": "Contents",
   "toc_cell": false,
   "toc_position": {
    "height": "calc(100% - 180px)",
    "left": "10px",
    "top": "150px",
    "width": "248.2px"
   },
   "toc_section_display": true,
   "toc_window_display": true
  },
  "varInspector": {
   "cols": {
    "lenName": 16,
    "lenType": 16,
    "lenVar": 40
   },
   "kernels_config": {
    "python": {
     "delete_cmd_postfix": "",
     "delete_cmd_prefix": "del ",
     "library": "var_list.py",
     "varRefreshCmd": "print(var_dic_list())"
    },
    "r": {
     "delete_cmd_postfix": ") ",
     "delete_cmd_prefix": "rm(",
     "library": "var_list.r",
     "varRefreshCmd": "cat(var_dic_list()) "
    }
   },
   "types_to_exclude": [
    "module",
    "function",
    "builtin_function_or_method",
    "instance",
    "_Feature"
   ],
   "window_display": false
  }
 },
 "nbformat": 4,
 "nbformat_minor": 4
}
