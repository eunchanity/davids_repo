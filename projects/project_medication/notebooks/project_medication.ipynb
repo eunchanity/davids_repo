{
 "cells": [
  {
   "cell_type": "markdown",
   "metadata": {},
   "source": [
    "```\n",
    "Topic:        Project 5\n",
    "Subject:      Over-the-Counter Medication Information and Price Check\n",
    "Date:         09/11/2020\n",
    "Name:         David Weon\n",
    "\n",
    "Notebook has been cleaned using nbextension 'Code prettify'\n",
    "```"
   ]
  },
  {
   "cell_type": "markdown",
   "metadata": {},
   "source": [
    "# Exploratory Data Analysis"
   ]
  },
  {
   "cell_type": "code",
   "execution_count": 1,
   "metadata": {
    "ExecuteTime": {
     "end_time": "2020-08-28T21:05:08.124012Z",
     "start_time": "2020-08-28T21:05:07.233539Z"
    }
   },
   "outputs": [],
   "source": [
    "import pandas as pd\n",
    "import numpy as np"
   ]
  },
  {
   "cell_type": "code",
   "execution_count": 2,
   "metadata": {
    "ExecuteTime": {
     "end_time": "2020-08-28T21:05:08.154353Z",
     "start_time": "2020-08-28T21:05:08.129450Z"
    }
   },
   "outputs": [],
   "source": [
    "medication_df = pd.read_csv('data/otc_medications.csv')\n",
    "medication_df = medication_df.apply(lambda x: x.astype(str).str.lower())"
   ]
  },
  {
   "cell_type": "code",
   "execution_count": 3,
   "metadata": {
    "ExecuteTime": {
     "end_time": "2020-08-28T21:05:08.199815Z",
     "start_time": "2020-08-28T21:05:08.158584Z"
    },
    "scrolled": true
   },
   "outputs": [
    {
     "data": {
      "text/html": [
       "<div>\n",
       "<style scoped>\n",
       "    .dataframe tbody tr th:only-of-type {\n",
       "        vertical-align: middle;\n",
       "    }\n",
       "\n",
       "    .dataframe tbody tr th {\n",
       "        vertical-align: top;\n",
       "    }\n",
       "\n",
       "    .dataframe thead th {\n",
       "        text-align: right;\n",
       "    }\n",
       "</style>\n",
       "<table border=\"1\" class=\"dataframe\">\n",
       "  <thead>\n",
       "    <tr style=\"text-align: right;\">\n",
       "      <th></th>\n",
       "      <th>generic_name</th>\n",
       "      <th>brand_name</th>\n",
       "      <th>indication_type</th>\n",
       "      <th>Unnamed: 3</th>\n",
       "    </tr>\n",
       "  </thead>\n",
       "  <tbody>\n",
       "    <tr>\n",
       "      <th>0</th>\n",
       "      <td>budesonide spray</td>\n",
       "      <td>rhinocort allergy</td>\n",
       "      <td>allergy &amp; congestion</td>\n",
       "      <td>nan</td>\n",
       "    </tr>\n",
       "    <tr>\n",
       "      <th>1</th>\n",
       "      <td>cetirizine</td>\n",
       "      <td>zyrtec</td>\n",
       "      <td>allergy &amp; congestion</td>\n",
       "      <td>nan</td>\n",
       "    </tr>\n",
       "    <tr>\n",
       "      <th>2</th>\n",
       "      <td>cetirizine-pseudoephedrine ext-rel</td>\n",
       "      <td>zyrtec-d 12 hour</td>\n",
       "      <td>allergy &amp; congestion</td>\n",
       "      <td>nan</td>\n",
       "    </tr>\n",
       "    <tr>\n",
       "      <th>3</th>\n",
       "      <td>chlorpheniramine</td>\n",
       "      <td>chlor-trimeton,  aller-chlor, wal-finate</td>\n",
       "      <td>allergy &amp; congestion</td>\n",
       "      <td>nan</td>\n",
       "    </tr>\n",
       "    <tr>\n",
       "      <th>4</th>\n",
       "      <td>clemastine</td>\n",
       "      <td>dayhist</td>\n",
       "      <td>allergy &amp; congestion</td>\n",
       "      <td>nan</td>\n",
       "    </tr>\n",
       "    <tr>\n",
       "      <th>5</th>\n",
       "      <td>cromolyn sodium nasal spray</td>\n",
       "      <td>nasalcrom</td>\n",
       "      <td>allergy &amp; congestion</td>\n",
       "      <td>nan</td>\n",
       "    </tr>\n",
       "    <tr>\n",
       "      <th>6</th>\n",
       "      <td>diphenhydramine</td>\n",
       "      <td>benadryl</td>\n",
       "      <td>allergy &amp; congestion</td>\n",
       "      <td>nan</td>\n",
       "    </tr>\n",
       "    <tr>\n",
       "      <th>7</th>\n",
       "      <td>fexofenadine</td>\n",
       "      <td>allegra</td>\n",
       "      <td>allergy &amp; congestion</td>\n",
       "      <td>nan</td>\n",
       "    </tr>\n",
       "    <tr>\n",
       "      <th>8</th>\n",
       "      <td>fexofenadine-pseudoephedrine ext-rel</td>\n",
       "      <td>allegra-d</td>\n",
       "      <td>allergy &amp; congestion</td>\n",
       "      <td>nan</td>\n",
       "    </tr>\n",
       "    <tr>\n",
       "      <th>9</th>\n",
       "      <td>fluticasone spray</td>\n",
       "      <td>flonase allergy relief</td>\n",
       "      <td>allergy &amp; congestion</td>\n",
       "      <td>nan</td>\n",
       "    </tr>\n",
       "    <tr>\n",
       "      <th>10</th>\n",
       "      <td>loratadine</td>\n",
       "      <td>claritin</td>\n",
       "      <td>allergy &amp; congestion</td>\n",
       "      <td>nan</td>\n",
       "    </tr>\n",
       "    <tr>\n",
       "      <th>11</th>\n",
       "      <td>loratadine-pseudoephedrine ext-rel</td>\n",
       "      <td>claritin-d</td>\n",
       "      <td>allergy &amp; congestion</td>\n",
       "      <td>nan</td>\n",
       "    </tr>\n",
       "    <tr>\n",
       "      <th>12</th>\n",
       "      <td>pseudoephedrine</td>\n",
       "      <td>sudafed</td>\n",
       "      <td>allergy &amp; congestion</td>\n",
       "      <td>nan</td>\n",
       "    </tr>\n",
       "    <tr>\n",
       "      <th>13</th>\n",
       "      <td>triamcinolone acetonide spray</td>\n",
       "      <td>nasacort allergy 24hr</td>\n",
       "      <td>allergy &amp; congestion</td>\n",
       "      <td>nan</td>\n",
       "    </tr>\n",
       "    <tr>\n",
       "      <th>14</th>\n",
       "      <td>alumina-magnesia</td>\n",
       "      <td>maalox</td>\n",
       "      <td>antacids &amp; acid reducers</td>\n",
       "      <td>nan</td>\n",
       "    </tr>\n",
       "    <tr>\n",
       "      <th>15</th>\n",
       "      <td>alumina-magnesia-simethicone</td>\n",
       "      <td>maalox, mylanta</td>\n",
       "      <td>antacids &amp; acid reducers</td>\n",
       "      <td>nan</td>\n",
       "    </tr>\n",
       "    <tr>\n",
       "      <th>16</th>\n",
       "      <td>calcium carbonate</td>\n",
       "      <td>tums</td>\n",
       "      <td>antacids &amp; acid reducers</td>\n",
       "      <td>nan</td>\n",
       "    </tr>\n",
       "    <tr>\n",
       "      <th>17</th>\n",
       "      <td>cimetidine</td>\n",
       "      <td>tagamet hb</td>\n",
       "      <td>antacids &amp; acid reducers</td>\n",
       "      <td>nan</td>\n",
       "    </tr>\n",
       "    <tr>\n",
       "      <th>18</th>\n",
       "      <td>esomeprazole magnesium delayed-rel</td>\n",
       "      <td>nexium 24hr</td>\n",
       "      <td>antacids &amp; acid reducers</td>\n",
       "      <td>nan</td>\n",
       "    </tr>\n",
       "    <tr>\n",
       "      <th>19</th>\n",
       "      <td>famotidine</td>\n",
       "      <td>pepcid ac</td>\n",
       "      <td>antacids &amp; acid reducers</td>\n",
       "      <td>nan</td>\n",
       "    </tr>\n",
       "    <tr>\n",
       "      <th>20</th>\n",
       "      <td>lansoprazole delayed-rel</td>\n",
       "      <td>prevacid 24hr</td>\n",
       "      <td>antacids &amp; acid reducers</td>\n",
       "      <td>nan</td>\n",
       "    </tr>\n",
       "    <tr>\n",
       "      <th>21</th>\n",
       "      <td>omeprazole</td>\n",
       "      <td>prilosec</td>\n",
       "      <td>antacids &amp; acid reducers</td>\n",
       "      <td>nan</td>\n",
       "    </tr>\n",
       "    <tr>\n",
       "      <th>22</th>\n",
       "      <td>omeprazole-sodium bicarbonate</td>\n",
       "      <td>zegerid otc</td>\n",
       "      <td>antacids &amp; acid reducers</td>\n",
       "      <td>nan</td>\n",
       "    </tr>\n",
       "    <tr>\n",
       "      <th>23</th>\n",
       "      <td>ranitidine</td>\n",
       "      <td>zantac</td>\n",
       "      <td>antacids &amp; acid reducers</td>\n",
       "      <td>nan</td>\n",
       "    </tr>\n",
       "    <tr>\n",
       "      <th>24</th>\n",
       "      <td>bacitracin</td>\n",
       "      <td>baciim</td>\n",
       "      <td>antibacterials, topical</td>\n",
       "      <td>nan</td>\n",
       "    </tr>\n",
       "    <tr>\n",
       "      <th>25</th>\n",
       "      <td>bacitracin-polymyxin</td>\n",
       "      <td>b polysporin</td>\n",
       "      <td>antibacterials, topical</td>\n",
       "      <td>nan</td>\n",
       "    </tr>\n",
       "    <tr>\n",
       "      <th>26</th>\n",
       "      <td>neomycin-bacitracin-polymyxin</td>\n",
       "      <td>b neosporin</td>\n",
       "      <td>antibacterials, topical</td>\n",
       "      <td>nan</td>\n",
       "    </tr>\n",
       "    <tr>\n",
       "      <th>27</th>\n",
       "      <td>bismuth subsalicylate</td>\n",
       "      <td>pepto-bismol</td>\n",
       "      <td>antidiarrheals</td>\n",
       "      <td>nan</td>\n",
       "    </tr>\n",
       "    <tr>\n",
       "      <th>28</th>\n",
       "      <td>loperamide</td>\n",
       "      <td>diamode</td>\n",
       "      <td>antidiarrheals</td>\n",
       "      <td>nan</td>\n",
       "    </tr>\n",
       "    <tr>\n",
       "      <th>29</th>\n",
       "      <td>loperamide-simethicone</td>\n",
       "      <td>imodium</td>\n",
       "      <td>antidiarrheals</td>\n",
       "      <td>nan</td>\n",
       "    </tr>\n",
       "    <tr>\n",
       "      <th>30</th>\n",
       "      <td>meclizine</td>\n",
       "      <td>medi-meclizine, bonine</td>\n",
       "      <td>antiemetic</td>\n",
       "      <td>nan</td>\n",
       "    </tr>\n",
       "    <tr>\n",
       "      <th>31</th>\n",
       "      <td>miconazole</td>\n",
       "      <td>micatin</td>\n",
       "      <td>antifungals</td>\n",
       "      <td>nan</td>\n",
       "    </tr>\n",
       "    <tr>\n",
       "      <th>32</th>\n",
       "      <td>tolnaftate</td>\n",
       "      <td>tinactin</td>\n",
       "      <td>antifungals</td>\n",
       "      <td>nan</td>\n",
       "    </tr>\n",
       "    <tr>\n",
       "      <th>33</th>\n",
       "      <td>clotrimazole</td>\n",
       "      <td>canesten</td>\n",
       "      <td>antifungals</td>\n",
       "      <td>nan</td>\n",
       "    </tr>\n",
       "    <tr>\n",
       "      <th>34</th>\n",
       "      <td>miconazole</td>\n",
       "      <td>zeasorb, micatin, miconazole 7</td>\n",
       "      <td>antifungals</td>\n",
       "      <td>nan</td>\n",
       "    </tr>\n",
       "    <tr>\n",
       "      <th>35</th>\n",
       "      <td>hydrocortisone</td>\n",
       "      <td>cortizone</td>\n",
       "      <td>anti-itch lotions &amp; creams</td>\n",
       "      <td>nan</td>\n",
       "    </tr>\n",
       "    <tr>\n",
       "      <th>36</th>\n",
       "      <td>dextromethorphan-guaifenesin</td>\n",
       "      <td>robitussin</td>\n",
       "      <td>cough &amp; cold</td>\n",
       "      <td>nan</td>\n",
       "    </tr>\n",
       "    <tr>\n",
       "      <th>37</th>\n",
       "      <td>guaifenesin ext-rel</td>\n",
       "      <td>mucinex</td>\n",
       "      <td>cough &amp; cold</td>\n",
       "      <td>nan</td>\n",
       "    </tr>\n",
       "    <tr>\n",
       "      <th>38</th>\n",
       "      <td>pseudoephedrine-guaifenesin ext-rel</td>\n",
       "      <td>mucinex d</td>\n",
       "      <td>cough &amp; cold</td>\n",
       "      <td>nan</td>\n",
       "    </tr>\n",
       "    <tr>\n",
       "      <th>39</th>\n",
       "      <td>cholecalciferol (d3)</td>\n",
       "      <td>vitamin d</td>\n",
       "      <td>vitamins/minerals</td>\n",
       "      <td>nan</td>\n",
       "    </tr>\n",
       "    <tr>\n",
       "      <th>40</th>\n",
       "      <td>electrolyte soln, oral</td>\n",
       "      <td>pedialyte</td>\n",
       "      <td>vitamins/minerals</td>\n",
       "      <td>nan</td>\n",
       "    </tr>\n",
       "    <tr>\n",
       "      <th>41</th>\n",
       "      <td>ferrous fumarate</td>\n",
       "      <td>feosol, fer-in-sol</td>\n",
       "      <td>vitamins/minerals</td>\n",
       "      <td>nan</td>\n",
       "    </tr>\n",
       "    <tr>\n",
       "      <th>42</th>\n",
       "      <td>ferrous gluconate fergon</td>\n",
       "      <td>fergon</td>\n",
       "      <td>vitamins/minerals</td>\n",
       "      <td>nan</td>\n",
       "    </tr>\n",
       "    <tr>\n",
       "      <th>43</th>\n",
       "      <td>ferrous sulfate feosol</td>\n",
       "      <td>feosol</td>\n",
       "      <td>vitamins/minerals</td>\n",
       "      <td>nan</td>\n",
       "    </tr>\n",
       "    <tr>\n",
       "      <th>44</th>\n",
       "      <td>folic acid</td>\n",
       "      <td>fa-8</td>\n",
       "      <td>vitamins/minerals</td>\n",
       "      <td>nan</td>\n",
       "    </tr>\n",
       "    <tr>\n",
       "      <th>45</th>\n",
       "      <td>omega-3 fatty acids</td>\n",
       "      <td>fish oil</td>\n",
       "      <td>vitamins/minerals</td>\n",
       "      <td>nan</td>\n",
       "    </tr>\n",
       "    <tr>\n",
       "      <th>46</th>\n",
       "      <td>pyridoxine 50 mg</td>\n",
       "      <td>vitamin b6</td>\n",
       "      <td>vitamins/minerals</td>\n",
       "      <td>nan</td>\n",
       "    </tr>\n",
       "    <tr>\n",
       "      <th>47</th>\n",
       "      <td>ammonium lactate 12%</td>\n",
       "      <td>lac-hydrin</td>\n",
       "      <td>topical, miscellaneous</td>\n",
       "      <td>nan</td>\n",
       "    </tr>\n",
       "    <tr>\n",
       "      <th>48</th>\n",
       "      <td>benzoyl peroxide</td>\n",
       "      <td>benzoyl</td>\n",
       "      <td>topical, miscellaneous</td>\n",
       "      <td>nan</td>\n",
       "    </tr>\n",
       "    <tr>\n",
       "      <th>49</th>\n",
       "      <td>docosanol</td>\n",
       "      <td>abreva</td>\n",
       "      <td>topical, miscellaneous</td>\n",
       "      <td>nan</td>\n",
       "    </tr>\n",
       "    <tr>\n",
       "      <th>50</th>\n",
       "      <td>lidocaine-benzalkonium chloride</td>\n",
       "      <td>bactine</td>\n",
       "      <td>topical, miscellaneous</td>\n",
       "      <td>nan</td>\n",
       "    </tr>\n",
       "    <tr>\n",
       "      <th>51</th>\n",
       "      <td>permethrin</td>\n",
       "      <td>nix creme rinse, stop lice, nix complete</td>\n",
       "      <td>topical, miscellaneous</td>\n",
       "      <td>nan</td>\n",
       "    </tr>\n",
       "    <tr>\n",
       "      <th>52</th>\n",
       "      <td>povidone-iodine</td>\n",
       "      <td>betadine</td>\n",
       "      <td>topical, miscellaneous</td>\n",
       "      <td>nan</td>\n",
       "    </tr>\n",
       "    <tr>\n",
       "      <th>53</th>\n",
       "      <td>selenium sulfide shampoo 1%</td>\n",
       "      <td>selsun blue</td>\n",
       "      <td>topical, miscellaneous</td>\n",
       "      <td>nan</td>\n",
       "    </tr>\n",
       "    <tr>\n",
       "      <th>54</th>\n",
       "      <td>acetaminophen</td>\n",
       "      <td>tylenol</td>\n",
       "      <td>pain &amp; inflammation</td>\n",
       "      <td>nan</td>\n",
       "    </tr>\n",
       "    <tr>\n",
       "      <th>55</th>\n",
       "      <td>aspirin</td>\n",
       "      <td>aspirin</td>\n",
       "      <td>pain &amp; inflammation</td>\n",
       "      <td>nan</td>\n",
       "    </tr>\n",
       "    <tr>\n",
       "      <th>56</th>\n",
       "      <td>ibuprofen</td>\n",
       "      <td>advil</td>\n",
       "      <td>pain &amp; inflammation</td>\n",
       "      <td>nan</td>\n",
       "    </tr>\n",
       "    <tr>\n",
       "      <th>57</th>\n",
       "      <td>naproxen sodium</td>\n",
       "      <td>aleve</td>\n",
       "      <td>pain &amp; inflammation</td>\n",
       "      <td>nan</td>\n",
       "    </tr>\n",
       "  </tbody>\n",
       "</table>\n",
       "</div>"
      ],
      "text/plain": [
       "                            generic_name  \\\n",
       "0                       budesonide spray   \n",
       "1                             cetirizine   \n",
       "2     cetirizine-pseudoephedrine ext-rel   \n",
       "3                       chlorpheniramine   \n",
       "4                             clemastine   \n",
       "5            cromolyn sodium nasal spray   \n",
       "6                        diphenhydramine   \n",
       "7                           fexofenadine   \n",
       "8   fexofenadine-pseudoephedrine ext-rel   \n",
       "9                      fluticasone spray   \n",
       "10                            loratadine   \n",
       "11    loratadine-pseudoephedrine ext-rel   \n",
       "12                       pseudoephedrine   \n",
       "13         triamcinolone acetonide spray   \n",
       "14                      alumina-magnesia   \n",
       "15          alumina-magnesia-simethicone   \n",
       "16                     calcium carbonate   \n",
       "17                            cimetidine   \n",
       "18    esomeprazole magnesium delayed-rel   \n",
       "19                            famotidine   \n",
       "20              lansoprazole delayed-rel   \n",
       "21                            omeprazole   \n",
       "22         omeprazole-sodium bicarbonate   \n",
       "23                            ranitidine   \n",
       "24                            bacitracin   \n",
       "25                  bacitracin-polymyxin   \n",
       "26         neomycin-bacitracin-polymyxin   \n",
       "27                 bismuth subsalicylate   \n",
       "28                            loperamide   \n",
       "29                loperamide-simethicone   \n",
       "30                             meclizine   \n",
       "31                           miconazole    \n",
       "32                           tolnaftate    \n",
       "33                          clotrimazole   \n",
       "34                            miconazole   \n",
       "35                        hydrocortisone   \n",
       "36         dextromethorphan-guaifenesin    \n",
       "37                   guaifenesin ext-rel   \n",
       "38   pseudoephedrine-guaifenesin ext-rel   \n",
       "39                  cholecalciferol (d3)   \n",
       "40                electrolyte soln, oral   \n",
       "41                      ferrous fumarate   \n",
       "42              ferrous gluconate fergon   \n",
       "43                ferrous sulfate feosol   \n",
       "44                            folic acid   \n",
       "45                   omega-3 fatty acids   \n",
       "46                      pyridoxine 50 mg   \n",
       "47                  ammonium lactate 12%   \n",
       "48                      benzoyl peroxide   \n",
       "49                             docosanol   \n",
       "50       lidocaine-benzalkonium chloride   \n",
       "51                            permethrin   \n",
       "52                       povidone-iodine   \n",
       "53           selenium sulfide shampoo 1%   \n",
       "54                         acetaminophen   \n",
       "55                               aspirin   \n",
       "56                             ibuprofen   \n",
       "57                       naproxen sodium   \n",
       "\n",
       "                                  brand_name             indication_type  \\\n",
       "0                          rhinocort allergy        allergy & congestion   \n",
       "1                                     zyrtec        allergy & congestion   \n",
       "2                           zyrtec-d 12 hour        allergy & congestion   \n",
       "3   chlor-trimeton,  aller-chlor, wal-finate        allergy & congestion   \n",
       "4                                    dayhist        allergy & congestion   \n",
       "5                                  nasalcrom        allergy & congestion   \n",
       "6                                   benadryl        allergy & congestion   \n",
       "7                                    allegra        allergy & congestion   \n",
       "8                                  allegra-d        allergy & congestion   \n",
       "9                     flonase allergy relief        allergy & congestion   \n",
       "10                                  claritin        allergy & congestion   \n",
       "11                                claritin-d        allergy & congestion   \n",
       "12                                   sudafed        allergy & congestion   \n",
       "13                     nasacort allergy 24hr        allergy & congestion   \n",
       "14                                    maalox    antacids & acid reducers   \n",
       "15                           maalox, mylanta    antacids & acid reducers   \n",
       "16                                      tums    antacids & acid reducers   \n",
       "17                                tagamet hb    antacids & acid reducers   \n",
       "18                               nexium 24hr    antacids & acid reducers   \n",
       "19                                 pepcid ac    antacids & acid reducers   \n",
       "20                             prevacid 24hr    antacids & acid reducers   \n",
       "21                                  prilosec    antacids & acid reducers   \n",
       "22                               zegerid otc    antacids & acid reducers   \n",
       "23                                    zantac    antacids & acid reducers   \n",
       "24                                    baciim     antibacterials, topical   \n",
       "25                              b polysporin     antibacterials, topical   \n",
       "26                               b neosporin     antibacterials, topical   \n",
       "27                              pepto-bismol              antidiarrheals   \n",
       "28                                   diamode              antidiarrheals   \n",
       "29                                   imodium              antidiarrheals   \n",
       "30                    medi-meclizine, bonine                  antiemetic   \n",
       "31                                   micatin                 antifungals   \n",
       "32                                  tinactin                 antifungals   \n",
       "33                                  canesten                 antifungals   \n",
       "34            zeasorb, micatin, miconazole 7                 antifungals   \n",
       "35                                 cortizone  anti-itch lotions & creams   \n",
       "36                                robitussin                cough & cold   \n",
       "37                                   mucinex                cough & cold   \n",
       "38                                 mucinex d                cough & cold   \n",
       "39                                 vitamin d           vitamins/minerals   \n",
       "40                                 pedialyte           vitamins/minerals   \n",
       "41                        feosol, fer-in-sol           vitamins/minerals   \n",
       "42                                    fergon           vitamins/minerals   \n",
       "43                                    feosol           vitamins/minerals   \n",
       "44                                      fa-8           vitamins/minerals   \n",
       "45                                  fish oil           vitamins/minerals   \n",
       "46                                vitamin b6           vitamins/minerals   \n",
       "47                                lac-hydrin      topical, miscellaneous   \n",
       "48                                   benzoyl      topical, miscellaneous   \n",
       "49                                    abreva      topical, miscellaneous   \n",
       "50                                   bactine      topical, miscellaneous   \n",
       "51  nix creme rinse, stop lice, nix complete      topical, miscellaneous   \n",
       "52                                  betadine      topical, miscellaneous   \n",
       "53                               selsun blue      topical, miscellaneous   \n",
       "54                                   tylenol         pain & inflammation   \n",
       "55                                   aspirin         pain & inflammation   \n",
       "56                                     advil         pain & inflammation   \n",
       "57                                     aleve         pain & inflammation   \n",
       "\n",
       "   Unnamed: 3  \n",
       "0         nan  \n",
       "1         nan  \n",
       "2         nan  \n",
       "3         nan  \n",
       "4         nan  \n",
       "5         nan  \n",
       "6         nan  \n",
       "7         nan  \n",
       "8         nan  \n",
       "9         nan  \n",
       "10        nan  \n",
       "11        nan  \n",
       "12        nan  \n",
       "13        nan  \n",
       "14        nan  \n",
       "15        nan  \n",
       "16        nan  \n",
       "17        nan  \n",
       "18        nan  \n",
       "19        nan  \n",
       "20        nan  \n",
       "21        nan  \n",
       "22        nan  \n",
       "23        nan  \n",
       "24        nan  \n",
       "25        nan  \n",
       "26        nan  \n",
       "27        nan  \n",
       "28        nan  \n",
       "29        nan  \n",
       "30        nan  \n",
       "31        nan  \n",
       "32        nan  \n",
       "33        nan  \n",
       "34        nan  \n",
       "35        nan  \n",
       "36        nan  \n",
       "37        nan  \n",
       "38        nan  \n",
       "39        nan  \n",
       "40        nan  \n",
       "41        nan  \n",
       "42        nan  \n",
       "43        nan  \n",
       "44        nan  \n",
       "45        nan  \n",
       "46        nan  \n",
       "47        nan  \n",
       "48        nan  \n",
       "49        nan  \n",
       "50        nan  \n",
       "51        nan  \n",
       "52        nan  \n",
       "53        nan  \n",
       "54        nan  \n",
       "55        nan  \n",
       "56        nan  \n",
       "57        nan  "
      ]
     },
     "execution_count": 3,
     "metadata": {},
     "output_type": "execute_result"
    }
   ],
   "source": [
    "medication_df"
   ]
  },
  {
   "cell_type": "markdown",
   "metadata": {},
   "source": [
    "# Pytesseract"
   ]
  },
  {
   "cell_type": "code",
   "execution_count": 4,
   "metadata": {
    "ExecuteTime": {
     "end_time": "2020-08-28T21:05:08.247570Z",
     "start_time": "2020-08-28T21:05:08.202404Z"
    }
   },
   "outputs": [],
   "source": [
    "import pytesseract as tess\n",
    "from PIL import Image"
   ]
  },
  {
   "cell_type": "code",
   "execution_count": 5,
   "metadata": {
    "ExecuteTime": {
     "end_time": "2020-08-28T21:05:08.639227Z",
     "start_time": "2020-08-28T21:05:08.249917Z"
    }
   },
   "outputs": [
    {
     "data": {
      "text/plain": [
       "['wear a mask properly', '', '#stayhealthy', '#keepthecompact', '\\x0c']"
      ]
     },
     "execution_count": 5,
     "metadata": {},
     "output_type": "execute_result"
    }
   ],
   "source": [
    "extracted_text = tess.image_to_string(Image.open('images/test_image.jpeg'))\n",
    "extracted_text = extracted_text.lower().split('\\n')\n",
    "\n",
    "extracted_text"
   ]
  },
  {
   "cell_type": "code",
   "execution_count": 6,
   "metadata": {
    "ExecuteTime": {
     "end_time": "2020-08-28T21:05:08.649722Z",
     "start_time": "2020-08-28T21:05:08.643948Z"
    }
   },
   "outputs": [],
   "source": [
    "def text_extract(image_filepath):\n",
    "    '''\n",
    "    input: image_filepath (string) image file path in local folder\n",
    "    output: extracted alphanumeric text (string) from image\n",
    "    '''\n",
    "    extracted_text = tess.image_to_string(Image.open(image_filepath))\n",
    "    extracted_text = extracted_text.lower().split('\\n')\n",
    "    extracted_text = [x for x in extracted_text if x.isalpha()]\n",
    "\n",
    "    return extracted_text"
   ]
  },
  {
   "cell_type": "code",
   "execution_count": 7,
   "metadata": {
    "ExecuteTime": {
     "end_time": "2020-08-28T21:05:08.874797Z",
     "start_time": "2020-08-28T21:05:08.653146Z"
    }
   },
   "outputs": [
    {
     "data": {
      "text/plain": [
       "['tylenol']"
      ]
     },
     "execution_count": 7,
     "metadata": {},
     "output_type": "execute_result"
    }
   ],
   "source": [
    "text_extract('images/tylenol.png')"
   ]
  },
  {
   "cell_type": "code",
   "execution_count": 8,
   "metadata": {
    "ExecuteTime": {
     "end_time": "2020-08-28T21:05:09.092962Z",
     "start_time": "2020-08-28T21:05:08.877375Z"
    }
   },
   "outputs": [
    {
     "data": {
      "text/plain": [
       "['zyrtec']"
      ]
     },
     "execution_count": 8,
     "metadata": {},
     "output_type": "execute_result"
    }
   ],
   "source": [
    "text_extract('images/zyrtec.png')"
   ]
  },
  {
   "cell_type": "code",
   "execution_count": 9,
   "metadata": {
    "ExecuteTime": {
     "end_time": "2020-08-28T21:05:09.333019Z",
     "start_time": "2020-08-28T21:05:09.095252Z"
    }
   },
   "outputs": [
    {
     "data": {
      "text/plain": [
       "['claritin']"
      ]
     },
     "execution_count": 9,
     "metadata": {},
     "output_type": "execute_result"
    }
   ],
   "source": [
    "text_extract('images/claritin.png')"
   ]
  },
  {
   "cell_type": "markdown",
   "metadata": {},
   "source": [
    "# CVS Price Comparison"
   ]
  },
  {
   "cell_type": "code",
   "execution_count": 10,
   "metadata": {
    "ExecuteTime": {
     "end_time": "2020-08-28T21:05:09.606472Z",
     "start_time": "2020-08-28T21:05:09.336117Z"
    }
   },
   "outputs": [],
   "source": [
    "import pandas as pd\n",
    "import numpy as np\n",
    "import re\n",
    "from bs4 import BeautifulSoup\n",
    "import time, os\n",
    "import requests"
   ]
  },
  {
   "cell_type": "code",
   "execution_count": 11,
   "metadata": {
    "ExecuteTime": {
     "end_time": "2020-08-28T21:05:09.822793Z",
     "start_time": "2020-08-28T21:05:09.609088Z"
    }
   },
   "outputs": [],
   "source": [
    "url = 'https://www.cvs.com/robots.txt'\n",
    "response = requests.get(url)"
   ]
  },
  {
   "cell_type": "code",
   "execution_count": 12,
   "metadata": {
    "ExecuteTime": {
     "end_time": "2020-08-28T21:05:12.745880Z",
     "start_time": "2020-08-28T21:05:09.826575Z"
    }
   },
   "outputs": [
    {
     "name": "stdout",
     "output_type": "stream",
     "text": [
      "https://www.cvs.com/shop/cvs-health-cetirizine-hydrochloride-tablets-30ct-prodid-993577\n"
     ]
    }
   ],
   "source": [
    "try:\n",
    "    from googlesearch import search\n",
    "except ImportError:\n",
    "    print(\"No module named 'google' found\")\n",
    "\n",
    "# to search\n",
    "query = \"cetirizine cvs price\"\n",
    "\n",
    "for j in search(query, tld=\"co.in\", num=1, stop=1, pause=2):\n",
    "    print(j)"
   ]
  },
  {
   "cell_type": "code",
   "execution_count": 13,
   "metadata": {
    "ExecuteTime": {
     "end_time": "2020-08-28T21:05:15.565467Z",
     "start_time": "2020-08-28T21:05:12.749688Z"
    }
   },
   "outputs": [
    {
     "name": "stdout",
     "output_type": "stream",
     "text": [
      "https://www.cvs.com/shop/brand-shop/z/zyrtec\n"
     ]
    }
   ],
   "source": [
    "# to search\n",
    "query = \"zyrtec cvs price\"\n",
    "\n",
    "for j in search(query, tld=\"co.in\", num=1, stop=1, pause=2):\n",
    "    print(j)"
   ]
  },
  {
   "cell_type": "code",
   "execution_count": null,
   "metadata": {},
   "outputs": [],
   "source": []
  }
 ],
 "metadata": {
  "kernelspec": {
   "display_name": "Python 3",
   "language": "python",
   "name": "python3"
  },
  "language_info": {
   "codemirror_mode": {
    "name": "ipython",
    "version": 3
   },
   "file_extension": ".py",
   "mimetype": "text/x-python",
   "name": "python",
   "nbconvert_exporter": "python",
   "pygments_lexer": "ipython3",
   "version": "3.7.7"
  },
  "toc": {
   "base_numbering": 1,
   "nav_menu": {},
   "number_sections": true,
   "sideBar": true,
   "skip_h1_title": false,
   "title_cell": "Table of Contents",
   "title_sidebar": "Contents",
   "toc_cell": false,
   "toc_position": {},
   "toc_section_display": true,
   "toc_window_display": false
  },
  "varInspector": {
   "cols": {
    "lenName": 16,
    "lenType": 16,
    "lenVar": 40
   },
   "kernels_config": {
    "python": {
     "delete_cmd_postfix": "",
     "delete_cmd_prefix": "del ",
     "library": "var_list.py",
     "varRefreshCmd": "print(var_dic_list())"
    },
    "r": {
     "delete_cmd_postfix": ") ",
     "delete_cmd_prefix": "rm(",
     "library": "var_list.r",
     "varRefreshCmd": "cat(var_dic_list()) "
    }
   },
   "types_to_exclude": [
    "module",
    "function",
    "builtin_function_or_method",
    "instance",
    "_Feature"
   ],
   "window_display": false
  }
 },
 "nbformat": 4,
 "nbformat_minor": 4
}
