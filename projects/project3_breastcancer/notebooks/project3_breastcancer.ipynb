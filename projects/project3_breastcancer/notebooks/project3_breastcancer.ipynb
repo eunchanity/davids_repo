{
 "cells": [
  {
   "cell_type": "markdown",
   "metadata": {},
   "source": [
    "```\n",
    "Topic:        Project 3\n",
    "Subject:      Determining Benign or Malignant Breast Cancer\n",
    "Date:         08/05/2020\n",
    "Name:         David Weon\n",
    "\n",
    "Notebook has been cleaned using nbextension 'Code prettify'\n",
    "```"
   ]
  },
  {
   "cell_type": "markdown",
   "metadata": {},
   "source": [
    "# Connecting to AWS Postgresql"
   ]
  },
  {
   "cell_type": "code",
   "execution_count": 1,
   "metadata": {
    "ExecuteTime": {
     "end_time": "2020-07-30T20:26:30.112400Z",
     "start_time": "2020-07-30T20:26:29.041986Z"
    }
   },
   "outputs": [],
   "source": [
    "from sqlalchemy import create_engine\n",
    "import psycopg2\n",
    "import pandas as pd\n",
    "import numpy as np"
   ]
  },
  {
   "cell_type": "code",
   "execution_count": 2,
   "metadata": {
    "ExecuteTime": {
     "end_time": "2020-07-30T20:26:30.153036Z",
     "start_time": "2020-07-30T20:26:30.115271Z"
    }
   },
   "outputs": [],
   "source": [
    "#connect to aws machine with elastic IP\n",
    "cnx = create_engine('postgresql://ubuntu@34.196.129.175:5432/breastcancer')"
   ]
  },
  {
   "cell_type": "code",
   "execution_count": 3,
   "metadata": {
    "ExecuteTime": {
     "end_time": "2020-07-30T20:26:31.247443Z",
     "start_time": "2020-07-30T20:26:30.156400Z"
    }
   },
   "outputs": [
    {
     "data": {
      "text/html": [
       "<div>\n",
       "<style scoped>\n",
       "    .dataframe tbody tr th:only-of-type {\n",
       "        vertical-align: middle;\n",
       "    }\n",
       "\n",
       "    .dataframe tbody tr th {\n",
       "        vertical-align: top;\n",
       "    }\n",
       "\n",
       "    .dataframe thead th {\n",
       "        text-align: right;\n",
       "    }\n",
       "</style>\n",
       "<table border=\"1\" class=\"dataframe\">\n",
       "  <thead>\n",
       "    <tr style=\"text-align: right;\">\n",
       "      <th></th>\n",
       "      <th>index</th>\n",
       "      <th>id</th>\n",
       "      <th>clumpthickness</th>\n",
       "      <th>uniformcellsize</th>\n",
       "      <th>uniformcellshape</th>\n",
       "      <th>margadhesion</th>\n",
       "      <th>epithelial</th>\n",
       "      <th>barenuclei</th>\n",
       "      <th>blandchromatin</th>\n",
       "      <th>normalnucleoli</th>\n",
       "      <th>mitoses</th>\n",
       "      <th>benormal</th>\n",
       "    </tr>\n",
       "  </thead>\n",
       "  <tbody>\n",
       "    <tr>\n",
       "      <th>0</th>\n",
       "      <td>0</td>\n",
       "      <td>1000025</td>\n",
       "      <td>5</td>\n",
       "      <td>1</td>\n",
       "      <td>1</td>\n",
       "      <td>1</td>\n",
       "      <td>2</td>\n",
       "      <td>1</td>\n",
       "      <td>3</td>\n",
       "      <td>1</td>\n",
       "      <td>1</td>\n",
       "      <td>0</td>\n",
       "    </tr>\n",
       "    <tr>\n",
       "      <th>1</th>\n",
       "      <td>1</td>\n",
       "      <td>1002945</td>\n",
       "      <td>5</td>\n",
       "      <td>4</td>\n",
       "      <td>4</td>\n",
       "      <td>5</td>\n",
       "      <td>7</td>\n",
       "      <td>10</td>\n",
       "      <td>3</td>\n",
       "      <td>2</td>\n",
       "      <td>1</td>\n",
       "      <td>0</td>\n",
       "    </tr>\n",
       "    <tr>\n",
       "      <th>2</th>\n",
       "      <td>2</td>\n",
       "      <td>1015425</td>\n",
       "      <td>3</td>\n",
       "      <td>1</td>\n",
       "      <td>1</td>\n",
       "      <td>1</td>\n",
       "      <td>2</td>\n",
       "      <td>2</td>\n",
       "      <td>3</td>\n",
       "      <td>1</td>\n",
       "      <td>1</td>\n",
       "      <td>0</td>\n",
       "    </tr>\n",
       "    <tr>\n",
       "      <th>3</th>\n",
       "      <td>3</td>\n",
       "      <td>1016277</td>\n",
       "      <td>6</td>\n",
       "      <td>8</td>\n",
       "      <td>8</td>\n",
       "      <td>1</td>\n",
       "      <td>3</td>\n",
       "      <td>4</td>\n",
       "      <td>3</td>\n",
       "      <td>7</td>\n",
       "      <td>1</td>\n",
       "      <td>0</td>\n",
       "    </tr>\n",
       "    <tr>\n",
       "      <th>4</th>\n",
       "      <td>4</td>\n",
       "      <td>1017023</td>\n",
       "      <td>4</td>\n",
       "      <td>1</td>\n",
       "      <td>1</td>\n",
       "      <td>3</td>\n",
       "      <td>2</td>\n",
       "      <td>1</td>\n",
       "      <td>3</td>\n",
       "      <td>1</td>\n",
       "      <td>1</td>\n",
       "      <td>0</td>\n",
       "    </tr>\n",
       "  </tbody>\n",
       "</table>\n",
       "</div>"
      ],
      "text/plain": [
       "   index       id clumpthickness uniformcellsize uniformcellshape  \\\n",
       "0      0  1000025              5               1                1   \n",
       "1      1  1002945              5               4                4   \n",
       "2      2  1015425              3               1                1   \n",
       "3      3  1016277              6               8                8   \n",
       "4      4  1017023              4               1                1   \n",
       "\n",
       "  margadhesion epithelial barenuclei blandchromatin normalnucleoli mitoses  \\\n",
       "0            1          2          1              3              1       1   \n",
       "1            5          7         10              3              2       1   \n",
       "2            1          2          2              3              1       1   \n",
       "3            1          3          4              3              7       1   \n",
       "4            3          2          1              3              1       1   \n",
       "\n",
       "  benormal  \n",
       "0        0  \n",
       "1        0  \n",
       "2        0  \n",
       "3        0  \n",
       "4        0  "
      ]
     },
     "execution_count": 3,
     "metadata": {},
     "output_type": "execute_result"
    }
   ],
   "source": [
    "pd.read_sql_query('''SELECT * FROM dataset limit 20''', cnx).head()"
   ]
  },
  {
   "cell_type": "markdown",
   "metadata": {},
   "source": [
    "# Data Import, Clean, Check"
   ]
  },
  {
   "cell_type": "markdown",
   "metadata": {},
   "source": [
    "## Data Import"
   ]
  },
  {
   "cell_type": "code",
   "execution_count": 4,
   "metadata": {
    "ExecuteTime": {
     "end_time": "2020-07-30T20:26:31.417601Z",
     "start_time": "2020-07-30T20:26:31.255913Z"
    }
   },
   "outputs": [],
   "source": [
    "#import data from aws postgresql\n",
    "breastcancer = pd.DataFrame(pd.read_sql_query('''SELECT * FROM dataset''',\n",
    "                                              cnx))\n",
    "breastcancer = breastcancer.set_index('index')"
   ]
  },
  {
   "cell_type": "markdown",
   "metadata": {},
   "source": [
    "## Data Clean"
   ]
  },
  {
   "cell_type": "code",
   "execution_count": 5,
   "metadata": {
    "ExecuteTime": {
     "end_time": "2020-07-30T20:26:31.431241Z",
     "start_time": "2020-07-30T20:26:31.422705Z"
    }
   },
   "outputs": [],
   "source": [
    "X, y = breastcancer.drop(['id', 'benormal', 'uniformcellshape'],\n",
    "                         axis=1), breastcancer['benormal']"
   ]
  },
  {
   "cell_type": "code",
   "execution_count": 6,
   "metadata": {
    "ExecuteTime": {
     "end_time": "2020-07-30T20:26:32.187762Z",
     "start_time": "2020-07-30T20:26:31.436540Z"
    }
   },
   "outputs": [],
   "source": [
    "from sklearn.model_selection import train_test_split\n",
    "\n",
    "X_trainval, X_test, y_trainval, y_test = train_test_split(X,\n",
    "                                                          y,\n",
    "                                                          test_size=0.2,\n",
    "                                                          random_state=71)"
   ]
  },
  {
   "cell_type": "code",
   "execution_count": 7,
   "metadata": {
    "ExecuteTime": {
     "end_time": "2020-07-30T20:26:32.204083Z",
     "start_time": "2020-07-30T20:26:32.192191Z"
    }
   },
   "outputs": [
    {
     "data": {
      "text/plain": [
       "clumpthickness     False\n",
       "uniformcellsize    False\n",
       "margadhesion       False\n",
       "epithelial         False\n",
       "barenuclei          True\n",
       "blandchromatin     False\n",
       "normalnucleoli     False\n",
       "mitoses            False\n",
       "dtype: bool"
      ]
     },
     "execution_count": 7,
     "metadata": {},
     "output_type": "execute_result"
    }
   ],
   "source": [
    "#check for '?' values in X_trainval set\n",
    "X_trainval.isin(['?']).any()"
   ]
  },
  {
   "cell_type": "code",
   "execution_count": 8,
   "metadata": {
    "ExecuteTime": {
     "end_time": "2020-07-30T20:26:32.264966Z",
     "start_time": "2020-07-30T20:26:32.208503Z"
    },
    "scrolled": true
   },
   "outputs": [
    {
     "name": "stderr",
     "output_type": "stream",
     "text": [
      "/opt/anaconda3/lib/python3.7/site-packages/pandas/core/generic.py:6746: SettingWithCopyWarning: \n",
      "A value is trying to be set on a copy of a slice from a DataFrame\n",
      "\n",
      "See the caveats in the documentation: https://pandas.pydata.org/pandas-docs/stable/user_guide/indexing.html#returning-a-view-versus-a-copy\n",
      "  self._update_inplace(new_data)\n"
     ]
    }
   ],
   "source": [
    "#replace '?' with nan for cleaning\n",
    "X_trainval['barenuclei'].replace('?', np.nan, inplace=True)\n",
    "X_test['barenuclei'].replace('?', np.nan, inplace=True)\n",
    "\n",
    "#convert columns to int/float\n",
    "X_trainval = X_trainval.apply(pd.to_numeric)\n",
    "X_test = X_test.apply(pd.to_numeric)\n",
    "y_trainval = y_trainval.apply(pd.to_numeric)\n",
    "y_test = y_test.apply(pd.to_numeric)\n",
    "\n",
    "#replace '?' with the column mean\n",
    "X_trainval['barenuclei'].fillna(X_trainval['barenuclei'].mean(), inplace=True)\n",
    "X_test['barenuclei'].fillna(X_test['barenuclei'].mean(), inplace=True)"
   ]
  },
  {
   "cell_type": "markdown",
   "metadata": {},
   "source": [
    "## Data Check"
   ]
  },
  {
   "cell_type": "code",
   "execution_count": 9,
   "metadata": {
    "ExecuteTime": {
     "end_time": "2020-07-30T20:26:32.279724Z",
     "start_time": "2020-07-30T20:26:32.269238Z"
    },
    "scrolled": true
   },
   "outputs": [
    {
     "name": "stdout",
     "output_type": "stream",
     "text": [
      "<class 'pandas.core.frame.DataFrame'>\n",
      "Int64Index: 559 entries, 131 to 107\n",
      "Data columns (total 8 columns):\n",
      " #   Column           Non-Null Count  Dtype  \n",
      "---  ------           --------------  -----  \n",
      " 0   clumpthickness   559 non-null    int64  \n",
      " 1   uniformcellsize  559 non-null    int64  \n",
      " 2   margadhesion     559 non-null    int64  \n",
      " 3   epithelial       559 non-null    int64  \n",
      " 4   barenuclei       559 non-null    float64\n",
      " 5   blandchromatin   559 non-null    int64  \n",
      " 6   normalnucleoli   559 non-null    int64  \n",
      " 7   mitoses          559 non-null    int64  \n",
      "dtypes: float64(1), int64(7)\n",
      "memory usage: 39.3 KB\n"
     ]
    }
   ],
   "source": [
    "X_trainval.info()"
   ]
  },
  {
   "cell_type": "code",
   "execution_count": 10,
   "metadata": {
    "ExecuteTime": {
     "end_time": "2020-07-30T20:26:32.333513Z",
     "start_time": "2020-07-30T20:26:32.282692Z"
    },
    "scrolled": true
   },
   "outputs": [
    {
     "data": {
      "text/html": [
       "<div>\n",
       "<style scoped>\n",
       "    .dataframe tbody tr th:only-of-type {\n",
       "        vertical-align: middle;\n",
       "    }\n",
       "\n",
       "    .dataframe tbody tr th {\n",
       "        vertical-align: top;\n",
       "    }\n",
       "\n",
       "    .dataframe thead th {\n",
       "        text-align: right;\n",
       "    }\n",
       "</style>\n",
       "<table border=\"1\" class=\"dataframe\">\n",
       "  <thead>\n",
       "    <tr style=\"text-align: right;\">\n",
       "      <th></th>\n",
       "      <th>clumpthickness</th>\n",
       "      <th>uniformcellsize</th>\n",
       "      <th>margadhesion</th>\n",
       "      <th>epithelial</th>\n",
       "      <th>barenuclei</th>\n",
       "      <th>blandchromatin</th>\n",
       "      <th>normalnucleoli</th>\n",
       "      <th>mitoses</th>\n",
       "    </tr>\n",
       "  </thead>\n",
       "  <tbody>\n",
       "    <tr>\n",
       "      <th>count</th>\n",
       "      <td>559.000000</td>\n",
       "      <td>559.000000</td>\n",
       "      <td>559.000000</td>\n",
       "      <td>559.000000</td>\n",
       "      <td>559.000000</td>\n",
       "      <td>559.000000</td>\n",
       "      <td>559.000000</td>\n",
       "      <td>559.000000</td>\n",
       "    </tr>\n",
       "    <tr>\n",
       "      <th>mean</th>\n",
       "      <td>4.488372</td>\n",
       "      <td>3.159213</td>\n",
       "      <td>2.797853</td>\n",
       "      <td>3.202147</td>\n",
       "      <td>3.622263</td>\n",
       "      <td>3.457961</td>\n",
       "      <td>2.860465</td>\n",
       "      <td>1.543828</td>\n",
       "    </tr>\n",
       "    <tr>\n",
       "      <th>std</th>\n",
       "      <td>2.804782</td>\n",
       "      <td>3.013955</td>\n",
       "      <td>2.817685</td>\n",
       "      <td>2.167765</td>\n",
       "      <td>3.651191</td>\n",
       "      <td>2.400255</td>\n",
       "      <td>3.022946</td>\n",
       "      <td>1.642118</td>\n",
       "    </tr>\n",
       "    <tr>\n",
       "      <th>min</th>\n",
       "      <td>1.000000</td>\n",
       "      <td>1.000000</td>\n",
       "      <td>1.000000</td>\n",
       "      <td>1.000000</td>\n",
       "      <td>1.000000</td>\n",
       "      <td>1.000000</td>\n",
       "      <td>1.000000</td>\n",
       "      <td>1.000000</td>\n",
       "    </tr>\n",
       "    <tr>\n",
       "      <th>25%</th>\n",
       "      <td>2.000000</td>\n",
       "      <td>1.000000</td>\n",
       "      <td>1.000000</td>\n",
       "      <td>2.000000</td>\n",
       "      <td>1.000000</td>\n",
       "      <td>2.000000</td>\n",
       "      <td>1.000000</td>\n",
       "      <td>1.000000</td>\n",
       "    </tr>\n",
       "    <tr>\n",
       "      <th>50%</th>\n",
       "      <td>4.000000</td>\n",
       "      <td>1.000000</td>\n",
       "      <td>1.000000</td>\n",
       "      <td>2.000000</td>\n",
       "      <td>1.000000</td>\n",
       "      <td>3.000000</td>\n",
       "      <td>1.000000</td>\n",
       "      <td>1.000000</td>\n",
       "    </tr>\n",
       "    <tr>\n",
       "      <th>75%</th>\n",
       "      <td>6.000000</td>\n",
       "      <td>5.000000</td>\n",
       "      <td>4.000000</td>\n",
       "      <td>4.000000</td>\n",
       "      <td>7.000000</td>\n",
       "      <td>5.000000</td>\n",
       "      <td>4.000000</td>\n",
       "      <td>1.000000</td>\n",
       "    </tr>\n",
       "    <tr>\n",
       "      <th>max</th>\n",
       "      <td>10.000000</td>\n",
       "      <td>10.000000</td>\n",
       "      <td>10.000000</td>\n",
       "      <td>10.000000</td>\n",
       "      <td>10.000000</td>\n",
       "      <td>10.000000</td>\n",
       "      <td>10.000000</td>\n",
       "      <td>10.000000</td>\n",
       "    </tr>\n",
       "  </tbody>\n",
       "</table>\n",
       "</div>"
      ],
      "text/plain": [
       "       clumpthickness  uniformcellsize  margadhesion  epithelial  barenuclei  \\\n",
       "count      559.000000       559.000000    559.000000  559.000000  559.000000   \n",
       "mean         4.488372         3.159213      2.797853    3.202147    3.622263   \n",
       "std          2.804782         3.013955      2.817685    2.167765    3.651191   \n",
       "min          1.000000         1.000000      1.000000    1.000000    1.000000   \n",
       "25%          2.000000         1.000000      1.000000    2.000000    1.000000   \n",
       "50%          4.000000         1.000000      1.000000    2.000000    1.000000   \n",
       "75%          6.000000         5.000000      4.000000    4.000000    7.000000   \n",
       "max         10.000000        10.000000     10.000000   10.000000   10.000000   \n",
       "\n",
       "       blandchromatin  normalnucleoli     mitoses  \n",
       "count      559.000000      559.000000  559.000000  \n",
       "mean         3.457961        2.860465    1.543828  \n",
       "std          2.400255        3.022946    1.642118  \n",
       "min          1.000000        1.000000    1.000000  \n",
       "25%          2.000000        1.000000    1.000000  \n",
       "50%          3.000000        1.000000    1.000000  \n",
       "75%          5.000000        4.000000    1.000000  \n",
       "max         10.000000       10.000000   10.000000  "
      ]
     },
     "execution_count": 10,
     "metadata": {},
     "output_type": "execute_result"
    }
   ],
   "source": [
    "X_trainval.describe()"
   ]
  },
  {
   "cell_type": "code",
   "execution_count": 11,
   "metadata": {
    "ExecuteTime": {
     "end_time": "2020-07-30T20:26:32.345350Z",
     "start_time": "2020-07-30T20:26:32.336692Z"
    }
   },
   "outputs": [
    {
     "data": {
      "text/plain": [
       "0    361\n",
       "1    198\n",
       "Name: benormal, dtype: int64"
      ]
     },
     "execution_count": 11,
     "metadata": {},
     "output_type": "execute_result"
    }
   ],
   "source": [
    "#class distribution\n",
    "y_trainval.value_counts()"
   ]
  },
  {
   "cell_type": "markdown",
   "metadata": {},
   "source": [
    "## Data Visualization"
   ]
  },
  {
   "cell_type": "code",
   "execution_count": 12,
   "metadata": {
    "ExecuteTime": {
     "end_time": "2020-07-30T20:26:32.860319Z",
     "start_time": "2020-07-30T20:26:32.350111Z"
    }
   },
   "outputs": [],
   "source": [
    "import matplotlib.pyplot as plt\n",
    "import seaborn as sns\n",
    "plt.style.use('ggplot')\n",
    "%matplotlib inline"
   ]
  },
  {
   "cell_type": "code",
   "execution_count": 13,
   "metadata": {
    "ExecuteTime": {
     "end_time": "2020-07-30T20:26:32.877708Z",
     "start_time": "2020-07-30T20:26:32.863869Z"
    }
   },
   "outputs": [],
   "source": [
    "#testing a merge to better visualize correlation and pairplot\n",
    "test_df = pd.merge(X_trainval.reset_index(),\n",
    "                   y_trainval.reset_index(),\n",
    "                   on='index')\n",
    "test_df = test_df.set_index('index')"
   ]
  },
  {
   "cell_type": "code",
   "execution_count": 14,
   "metadata": {
    "ExecuteTime": {
     "end_time": "2020-07-30T20:26:33.492893Z",
     "start_time": "2020-07-30T20:26:32.880151Z"
    }
   },
   "outputs": [
    {
     "data": {
      "text/plain": [
       "<matplotlib.axes._subplots.AxesSubplot at 0x7ff97a0cbe90>"
      ]
     },
     "execution_count": 14,
     "metadata": {},
     "output_type": "execute_result"
    },
    {
     "data": {
      "image/png": "[encoded data removed]",
      "text/plain": [
       "<Figure size 432x288 with 2 Axes>"
      ]
     },
     "metadata": {
      "needs_background": "light"
     },
     "output_type": "display_data"
    }
   ],
   "source": [
    "#check for correlation\n",
    "sns.heatmap(test_df.corr(), cmap='seismic', annot=True, vmin=-1, vmax=1)\n",
    "\n",
    "#decided to drop uniformcellshape given its high correlation with uniformcellsize"
   ]
  },
  {
   "cell_type": "code",
   "execution_count": 15,
   "metadata": {
    "ExecuteTime": {
     "end_time": "2020-07-30T20:26:56.627126Z",
     "start_time": "2020-07-30T20:26:33.495348Z"
    }
   },
   "outputs": [
    {
     "data": {
      "text/plain": [
       "<seaborn.axisgrid.PairGrid at 0x7ff97a295f50>"
      ]
     },
     "execution_count": 15,
     "metadata": {},
     "output_type": "execute_result"
    },
    {
     "data": {
      "image/png": "[encoded data removed]",
      "text/plain": [
       "<Figure size 1092.17x691.2 with 72 Axes>"
      ]
     },
     "metadata": {
      "needs_background": "light"
     },
     "output_type": "display_data"
    }
   ],
   "source": [
    "#distribution of features\n",
    "sns.pairplot(test_df, height=1.2, aspect=1.5, hue='benormal', diag_kind='hist')"
   ]
  },
  {
   "cell_type": "markdown",
   "metadata": {},
   "source": [
    "# Modeling"
   ]
  },
  {
   "cell_type": "markdown",
   "metadata": {},
   "source": [
    "## Dummy Model"
   ]
  },
  {
   "cell_type": "code",
   "execution_count": 16,
   "metadata": {
    "ExecuteTime": {
     "end_time": "2020-07-30T20:26:56.638139Z",
     "start_time": "2020-07-30T20:26:56.629833Z"
    }
   },
   "outputs": [],
   "source": [
    "from sklearn.dummy import DummyClassifier\n",
    "from sklearn.metrics import (\n",
    "    accuracy_score,\n",
    "    precision_score,\n",
    "    recall_score,\n",
    "    f1_score,\n",
    "    roc_auc_score,\n",
    ")"
   ]
  },
  {
   "cell_type": "code",
   "execution_count": 17,
   "metadata": {
    "ExecuteTime": {
     "end_time": "2020-07-30T20:26:56.652898Z",
     "start_time": "2020-07-30T20:26:56.640964Z"
    }
   },
   "outputs": [
    {
     "data": {
      "text/plain": [
       "0.5714285714285714"
      ]
     },
     "execution_count": 17,
     "metadata": {},
     "output_type": "execute_result"
    }
   ],
   "source": [
    "#getting metrics for baseline reference\n",
    "dummy = DummyClassifier(strategy=\"stratified\", random_state=71)\n",
    "dummy.fit(X_trainval, y_trainval)\n",
    "dummy.score(X_test, y_test)"
   ]
  },
  {
   "cell_type": "code",
   "execution_count": 18,
   "metadata": {
    "ExecuteTime": {
     "end_time": "2020-07-30T20:26:56.751893Z",
     "start_time": "2020-07-30T20:26:56.743750Z"
    }
   },
   "outputs": [],
   "source": [
    "dummy_pred = dummy.predict(X_test)"
   ]
  },
  {
   "cell_type": "code",
   "execution_count": 19,
   "metadata": {
    "ExecuteTime": {
     "end_time": "2020-07-30T20:26:56.767776Z",
     "start_time": "2020-07-30T20:26:56.759413Z"
    }
   },
   "outputs": [
    {
     "data": {
      "text/plain": [
       "0.5714285714285714"
      ]
     },
     "execution_count": 19,
     "metadata": {},
     "output_type": "execute_result"
    }
   ],
   "source": [
    "dummy_accuracy = accuracy_score(y_test, dummy_pred)\n",
    "dummy_accuracy"
   ]
  },
  {
   "cell_type": "code",
   "execution_count": 20,
   "metadata": {
    "ExecuteTime": {
     "end_time": "2020-07-30T20:26:56.786625Z",
     "start_time": "2020-07-30T20:26:56.771777Z"
    }
   },
   "outputs": [
    {
     "data": {
      "text/plain": [
       "0.3508771929824561"
      ]
     },
     "execution_count": 20,
     "metadata": {},
     "output_type": "execute_result"
    }
   ],
   "source": [
    "dummy_precision = precision_score(y_test,\n",
    "                                  dummy_pred,\n",
    "                                  average='binary',\n",
    "                                  pos_label=1)\n",
    "dummy_precision"
   ]
  },
  {
   "cell_type": "code",
   "execution_count": 21,
   "metadata": {
    "ExecuteTime": {
     "end_time": "2020-07-30T20:26:56.804449Z",
     "start_time": "2020-07-30T20:26:56.791336Z"
    }
   },
   "outputs": [
    {
     "data": {
      "text/plain": [
       "0.46511627906976744"
      ]
     },
     "execution_count": 21,
     "metadata": {},
     "output_type": "execute_result"
    }
   ],
   "source": [
    "dummy_recall = recall_score(y_test, dummy_pred, average='binary', pos_label=1)\n",
    "dummy_recall"
   ]
  },
  {
   "cell_type": "code",
   "execution_count": 22,
   "metadata": {
    "ExecuteTime": {
     "end_time": "2020-07-30T20:26:56.821617Z",
     "start_time": "2020-07-30T20:26:56.808870Z"
    }
   },
   "outputs": [
    {
     "data": {
      "text/plain": [
       "0.4"
      ]
     },
     "execution_count": 22,
     "metadata": {},
     "output_type": "execute_result"
    }
   ],
   "source": [
    "dummy_f1 = f1_score(y_test, dummy_pred, average='binary', pos_label=1)\n",
    "dummy_f1"
   ]
  },
  {
   "cell_type": "code",
   "execution_count": 23,
   "metadata": {
    "ExecuteTime": {
     "end_time": "2020-07-30T20:26:56.839858Z",
     "start_time": "2020-07-30T20:26:56.828219Z"
    }
   },
   "outputs": [
    {
     "data": {
      "text/plain": [
       "0.5418364900503476"
      ]
     },
     "execution_count": 23,
     "metadata": {},
     "output_type": "execute_result"
    }
   ],
   "source": [
    "dummy_rocauc = roc_auc_score(y_test, dummy.predict_proba(X_test)[:, 1])\n",
    "dummy_rocauc"
   ]
  },
  {
   "cell_type": "markdown",
   "metadata": {},
   "source": [
    "## Cross Validation Metrics for Various Models"
   ]
  },
  {
   "cell_type": "code",
   "execution_count": 24,
   "metadata": {
    "ExecuteTime": {
     "end_time": "2020-07-30T20:26:57.072959Z",
     "start_time": "2020-07-30T20:26:56.845618Z"
    }
   },
   "outputs": [],
   "source": [
    "import sys\n",
    "sys.path.append(\"..\")\n",
    "\n",
    "from src.models.cv_models_train import crossval_knn_scores, crossval_logit_scores, crossval_rfc_scores, crossval_dtc_scores, crossval_svm_scores, crossval_gnb_scores"
   ]
  },
  {
   "cell_type": "code",
   "execution_count": 25,
   "metadata": {
    "ExecuteTime": {
     "end_time": "2020-07-30T20:26:57.180940Z",
     "start_time": "2020-07-30T20:26:57.077025Z"
    }
   },
   "outputs": [
    {
     "data": {
      "text/plain": [
       "[{'accuracy': 0.9624678249678249},\n",
       " {'precision': 0.9510488228074877},\n",
       " {'recall': 0.9446153846153846},\n",
       " {'f1': 0.9472558655103626},\n",
       " {'ROC/AUC': 0.992122141240292}]"
      ]
     },
     "execution_count": 25,
     "metadata": {},
     "output_type": "execute_result"
    }
   ],
   "source": [
    "#logistic regression model\n",
    "logit_scores = crossval_logit_scores(X_trainval, y_trainval)\n",
    "logit_scores"
   ]
  },
  {
   "cell_type": "code",
   "execution_count": 26,
   "metadata": {
    "ExecuteTime": {
     "end_time": "2020-07-30T20:26:57.250112Z",
     "start_time": "2020-07-30T20:26:57.185701Z"
    },
    "scrolled": false
   },
   "outputs": [
    {
     "data": {
      "text/plain": [
       "[{'accuracy': 0.9285392535392536},\n",
       " {'precision': 0.9224710424710425},\n",
       " {'recall': 0.8737179487179487},\n",
       " {'f1': 0.8966560080911814},\n",
       " {'ROC/AUC': 0.9161397962767825}]"
      ]
     },
     "execution_count": 26,
     "metadata": {},
     "output_type": "execute_result"
    }
   ],
   "source": [
    "#decision tree model\n",
    "dtc_scores = crossval_dtc_scores(X_trainval, y_trainval)\n",
    "dtc_scores"
   ]
  },
  {
   "cell_type": "code",
   "execution_count": 27,
   "metadata": {
    "ExecuteTime": {
     "end_time": "2020-07-30T20:26:58.396792Z",
     "start_time": "2020-07-30T20:26:57.254119Z"
    },
    "scrolled": true
   },
   "outputs": [
    {
     "data": {
      "text/plain": [
       "[{'accuracy': 0.9588803088803088},\n",
       " {'precision': 0.933526385894807},\n",
       " {'recall': 0.9546153846153846},\n",
       " {'f1': 0.9432331904974621},\n",
       " {'ROC/AUC': 0.9901289978730047}]"
      ]
     },
     "execution_count": 27,
     "metadata": {},
     "output_type": "execute_result"
    }
   ],
   "source": [
    "#random forest model\n",
    "rfc_scores = crossval_rfc_scores(X_trainval, y_trainval)\n",
    "rfc_scores"
   ]
  },
  {
   "cell_type": "code",
   "execution_count": 28,
   "metadata": {
    "ExecuteTime": {
     "end_time": "2020-07-30T20:26:58.520828Z",
     "start_time": "2020-07-30T20:26:58.400605Z"
    }
   },
   "outputs": [
    {
     "data": {
      "text/plain": [
       "[{'accuracy': 0.9588963963963965},\n",
       " {'precision': 0.9391324465008676},\n",
       " {'recall': 0.9497435897435897},\n",
       " {'f1': 0.9430875857323266},\n",
       " {'ROC/AUC': 0.9802951571829996}]"
      ]
     },
     "execution_count": 28,
     "metadata": {},
     "output_type": "execute_result"
    }
   ],
   "source": [
    "#k nearest neighbors model\n",
    "knn_scores = crossval_knn_scores(X_trainval, y_trainval)\n",
    "knn_scores"
   ]
  },
  {
   "cell_type": "code",
   "execution_count": 29,
   "metadata": {
    "ExecuteTime": {
     "end_time": "2020-07-30T20:26:58.583036Z",
     "start_time": "2020-07-30T20:26:58.524790Z"
    }
   },
   "outputs": [
    {
     "data": {
      "text/plain": [
       "[{'accuracy': 0.9553249678249678},\n",
       " {'precision': 0.9078603312394528},\n",
       " {'recall': 0.975},\n",
       " {'f1': 0.9396791598083711},\n",
       " {'ROC/AUC': 0.981070046930492}]"
      ]
     },
     "execution_count": 29,
     "metadata": {},
     "output_type": "execute_result"
    }
   ],
   "source": [
    "#gaussian naive bayes\n",
    "gnb_scores = crossval_gnb_scores(X_trainval, y_trainval)\n",
    "gnb_scores"
   ]
  },
  {
   "cell_type": "code",
   "execution_count": 30,
   "metadata": {
    "ExecuteTime": {
     "end_time": "2020-07-30T20:26:58.699356Z",
     "start_time": "2020-07-30T20:26:58.586749Z"
    }
   },
   "outputs": [
    {
     "data": {
      "text/plain": [
       "[{'accuracy': 0.9570945945945946},\n",
       " {'precision': 0.9243956043956043},\n",
       " {'recall': 0.959871794871795},\n",
       " {'f1': 0.9410122171746129},\n",
       " {'ROC/AUC': 0.9867691136869219}]"
      ]
     },
     "execution_count": 30,
     "metadata": {},
     "output_type": "execute_result"
    }
   ],
   "source": [
    "#support vector machine model\n",
    "svm_scores = crossval_svm_scores(X_trainval, y_trainval)\n",
    "svm_scores"
   ]
  },
  {
   "cell_type": "markdown",
   "metadata": {},
   "source": [
    "## Model Tuning - Adjusting Class Weights"
   ]
  },
  {
   "cell_type": "code",
   "execution_count": 31,
   "metadata": {
    "ExecuteTime": {
     "end_time": "2020-07-30T20:26:58.710027Z",
     "start_time": "2020-07-30T20:26:58.703543Z"
    }
   },
   "outputs": [],
   "source": [
    "from src.models.cv_models_weight_train import crossval_rfc_weight_scores, crossval_logit_weight_scores"
   ]
  },
  {
   "cell_type": "markdown",
   "metadata": {},
   "source": [
    "### Logistic Regression Model"
   ]
  },
  {
   "cell_type": "code",
   "execution_count": 32,
   "metadata": {
    "ExecuteTime": {
     "end_time": "2020-07-30T20:26:58.779851Z",
     "start_time": "2020-07-30T20:26:58.713450Z"
    },
    "scrolled": true
   },
   "outputs": [
    {
     "data": {
      "text/plain": [
       "[{'accuracy': 0.9570785070785071},\n",
       " {'precision': 0.9288529300157208},\n",
       " {'recall': 0.9547435897435899},\n",
       " {'f1': 0.940818776566832},\n",
       " {'ROC/AUC': 0.9923330601412795}]"
      ]
     },
     "execution_count": 32,
     "metadata": {},
     "output_type": "execute_result"
    }
   ],
   "source": [
    "logit_weight_scores = crossval_logit_weight_scores(X_trainval, y_trainval)\n",
    "logit_weight_scores"
   ]
  },
  {
   "cell_type": "markdown",
   "metadata": {},
   "source": [
    "### Random Forest Model"
   ]
  },
  {
   "cell_type": "code",
   "execution_count": 33,
   "metadata": {
    "ExecuteTime": {
     "end_time": "2020-07-30T20:26:59.864853Z",
     "start_time": "2020-07-30T20:26:58.785028Z"
    }
   },
   "outputs": [
    {
     "data": {
      "text/plain": [
       "[{'accuracy': 0.9588963963963965},\n",
       " {'precision': 0.9390660533683789},\n",
       " {'recall': 0.9496153846153847},\n",
       " {'f1': 0.943014889359214},\n",
       " {'ROC/AUC': 0.989636678960309}]"
      ]
     },
     "execution_count": 33,
     "metadata": {},
     "output_type": "execute_result"
    }
   ],
   "source": [
    "rfc_weight_scores = crossval_rfc_weight_scores(X_trainval, y_trainval)\n",
    "rfc_weight_scores"
   ]
  },
  {
   "cell_type": "markdown",
   "metadata": {},
   "source": [
    "## Model Selection / Testing"
   ]
  },
  {
   "cell_type": "code",
   "execution_count": 34,
   "metadata": {
    "ExecuteTime": {
     "end_time": "2020-07-30T20:26:59.878404Z",
     "start_time": "2020-07-30T20:26:59.869288Z"
    }
   },
   "outputs": [],
   "source": [
    "X2, y2 = breastcancer.drop(['id', 'benormal', 'uniformcellshape'],\n",
    "                           axis=1), breastcancer['benormal']"
   ]
  },
  {
   "cell_type": "code",
   "execution_count": 35,
   "metadata": {
    "ExecuteTime": {
     "end_time": "2020-07-30T20:26:59.927007Z",
     "start_time": "2020-07-30T20:26:59.881941Z"
    }
   },
   "outputs": [],
   "source": [
    "X2_train, X2_test, y2_train, y2_test = train_test_split(X2,\n",
    "                                                        y2,\n",
    "                                                        test_size=0.2,\n",
    "                                                        random_state=71)"
   ]
  },
  {
   "cell_type": "code",
   "execution_count": 36,
   "metadata": {
    "ExecuteTime": {
     "end_time": "2020-07-30T20:27:00.000231Z",
     "start_time": "2020-07-30T20:26:59.934099Z"
    }
   },
   "outputs": [
    {
     "name": "stderr",
     "output_type": "stream",
     "text": [
      "/opt/anaconda3/lib/python3.7/site-packages/pandas/core/generic.py:6746: SettingWithCopyWarning: \n",
      "A value is trying to be set on a copy of a slice from a DataFrame\n",
      "\n",
      "See the caveats in the documentation: https://pandas.pydata.org/pandas-docs/stable/user_guide/indexing.html#returning-a-view-versus-a-copy\n",
      "  self._update_inplace(new_data)\n"
     ]
    }
   ],
   "source": [
    "#replace '?' with nan for cleaning\n",
    "X2_train['barenuclei'].replace('?', np.nan, inplace=True)\n",
    "X2_test['barenuclei'].replace('?', np.nan, inplace=True)\n",
    "\n",
    "#convert columns to int/float\n",
    "X2_train = X2_train.apply(pd.to_numeric)\n",
    "X2_test = X2_test.apply(pd.to_numeric)\n",
    "y2_train = y2_train.apply(pd.to_numeric)\n",
    "y2_test = y2_test.apply(pd.to_numeric)\n",
    "\n",
    "#replace '?' with the column mean\n",
    "X2_train['barenuclei'].fillna(X2_train['barenuclei'].mean(), inplace=True)\n",
    "X2_test['barenuclei'].fillna(X2_test['barenuclei'].mean(), inplace=True)"
   ]
  },
  {
   "cell_type": "code",
   "execution_count": 37,
   "metadata": {
    "ExecuteTime": {
     "end_time": "2020-07-30T20:27:00.037453Z",
     "start_time": "2020-07-30T20:27:00.006520Z"
    }
   },
   "outputs": [],
   "source": [
    "from sklearn.preprocessing import StandardScaler\n",
    "from sklearn.linear_model import LogisticRegression\n",
    "\n",
    "#fit scaled features to logistic regression\n",
    "scaler = StandardScaler()\n",
    "X2_trainscaled = scaler.fit_transform(X2_train)\n",
    "X2_testscaled = scaler.transform(X2_test)\n",
    "\n",
    "logit = LogisticRegression(solver=\"liblinear\", class_weight={1: 2, 0: 1})\n",
    "logit.fit(X2_trainscaled, y2_train)\n",
    "y2_predict = logit.predict(X2_testscaled)"
   ]
  },
  {
   "cell_type": "markdown",
   "metadata": {},
   "source": [
    "# Interpreting Results"
   ]
  },
  {
   "cell_type": "markdown",
   "metadata": {},
   "source": [
    "## Confusion Matrix, Precision, Model Coefficients"
   ]
  },
  {
   "cell_type": "code",
   "execution_count": 38,
   "metadata": {
    "ExecuteTime": {
     "end_time": "2020-07-30T20:27:00.060227Z",
     "start_time": "2020-07-30T20:27:00.047815Z"
    }
   },
   "outputs": [],
   "source": [
    "#confusion matrix for logistic regression\n",
    "from sklearn.metrics import confusion_matrix\n",
    "\n",
    "logit_confusion = confusion_matrix(y2_test, y2_predict)"
   ]
  },
  {
   "cell_type": "code",
   "execution_count": 39,
   "metadata": {
    "ExecuteTime": {
     "end_time": "2020-07-30T20:27:00.271331Z",
     "start_time": "2020-07-30T20:27:00.068818Z"
    }
   },
   "outputs": [
    {
     "data": {
      "text/plain": [
       "(array([0.5, 1.5]), <a list of 2 Text major ticklabel objects>)"
      ]
     },
     "execution_count": 39,
     "metadata": {},
     "output_type": "execute_result"
    },
    {
     "data": {
      "image/png": "[encoded data removed]",
      "text/plain": [
       "<Figure size 720x360 with 1 Axes>"
      ]
     },
     "metadata": {},
     "output_type": "display_data"
    }
   ],
   "source": [
    "#print confusion matrix for logistic regression\n",
    "sns.set(font_scale=1.4)\n",
    "plt.figure(figsize=(10, 5))\n",
    "sns.heatmap(logit_confusion,\n",
    "            cmap=plt.cm.Blues,\n",
    "            cbar=False,\n",
    "            annot=True,\n",
    "            square=True,\n",
    "            fmt='d',\n",
    "            xticklabels=['Benign', 'Malignant'],\n",
    "            yticklabels=['Benign', 'Malignant'])\n",
    "plt.xlabel('Predicted', weight='bold')\n",
    "plt.ylabel('True', rotation=0, weight='bold')\n",
    "plt.yticks(rotation=0)\n",
    "#plt.savefig('confusion_matrix.png', dpi=600)"
   ]
  },
  {
   "cell_type": "code",
   "execution_count": 40,
   "metadata": {
    "ExecuteTime": {
     "end_time": "2020-07-30T20:27:00.286473Z",
     "start_time": "2020-07-30T20:27:00.274528Z"
    },
    "scrolled": true
   },
   "outputs": [
    {
     "name": "stdout",
     "output_type": "stream",
     "text": [
      "Logistic Regression F1 Score: 0.9767441860465116\n"
     ]
    }
   ],
   "source": [
    "#get f1, determined to be most important metric for this dataset\n",
    "logit_f1 = f1_score(y2_test,\n",
    "                                  y2_predict,\n",
    "                                  average='binary',\n",
    "                                  pos_label=1)\n",
    "print(f'Logistic Regression F1 Score: {logit_f1}')"
   ]
  },
  {
   "cell_type": "code",
   "execution_count": 41,
   "metadata": {
    "ExecuteTime": {
     "end_time": "2020-07-30T20:27:00.302515Z",
     "start_time": "2020-07-30T20:27:00.289566Z"
    }
   },
   "outputs": [
    {
     "data": {
      "text/plain": [
       "array([[1.37820472, 0.7452384 , 0.68637575, 0.30894935, 1.57828912,\n",
       "        0.88436614, 0.68386079, 0.82194361]])"
      ]
     },
     "execution_count": 41,
     "metadata": {},
     "output_type": "execute_result"
    }
   ],
   "source": [
    "#scaled coef of features (X2) in log odds\n",
    "logit.coef_"
   ]
  },
  {
   "cell_type": "code",
   "execution_count": 42,
   "metadata": {
    "ExecuteTime": {
     "end_time": "2020-07-30T20:27:00.315270Z",
     "start_time": "2020-07-30T20:27:00.306412Z"
    }
   },
   "outputs": [],
   "source": [
    "# unscaled coef of features?\n",
    "# unscaled_coef = np.true_divide(logit.coef_, scaler.scale_)\n",
    "# unscaled_coef"
   ]
  },
  {
   "cell_type": "code",
   "execution_count": 43,
   "metadata": {
    "ExecuteTime": {
     "end_time": "2020-07-30T20:27:00.337319Z",
     "start_time": "2020-07-30T20:27:00.321426Z"
    }
   },
   "outputs": [
    {
     "data": {
      "text/plain": [
       "array([[3.96777197, 2.10694368, 1.98650289, 1.36199339, 4.84665669,\n",
       "        2.42144904, 1.9815132 , 2.2749171 ]])"
      ]
     },
     "execution_count": 43,
     "metadata": {},
     "output_type": "execute_result"
    }
   ],
   "source": [
    "#getting rid of log: this is the increase in likelihood of positive class (malignant tumor) for unit std deviation increase in feature\n",
    "np.exp(logit.coef_)"
   ]
  },
  {
   "cell_type": "markdown",
   "metadata": {},
   "source": [
    "## Exporting Data for Visualization"
   ]
  },
  {
   "cell_type": "code",
   "execution_count": 47,
   "metadata": {
    "ExecuteTime": {
     "end_time": "2020-07-30T21:03:42.971165Z",
     "start_time": "2020-07-30T21:03:42.935044Z"
    }
   },
   "outputs": [],
   "source": [
    "#exporting feature coefficients\n",
    "columns = [\n",
    "    'Clump Thickness', 'Uniform Cellsize', 'Marginal Adhesion',\n",
    "    'Epithelial Size', 'Bare Nuclei', 'Bland Chromatin', 'Normal Nucleoli',\n",
    "    'Mitoses'\n",
    "]\n",
    "coefs = [\n",
    "    3.96777197, 2.10694368, 1.98650289, 1.36199339, 4.84665669, 2.42144904,\n",
    "    1.9815132, 2.2749171\n",
    "]\n",
    "coef_dic = {'Characteristic': columns, 'Coefficient': coefs}\n",
    "\n",
    "coefs_df = pd.DataFrame(coef_dic)\n",
    "#coefs_df.to_csv('breastcancer_coefs.csv')"
   ]
  },
  {
   "cell_type": "code",
   "execution_count": 48,
   "metadata": {
    "ExecuteTime": {
     "end_time": "2020-07-30T21:03:43.510304Z",
     "start_time": "2020-07-30T21:03:43.472472Z"
    }
   },
   "outputs": [],
   "source": [
    "from src.models.logit_test import logit_test\n",
    "\n",
    "logit_accuracy, logit_precision, logit_recall, logit_f1, logit_rocauc = logit_test(X2_train, X2_test, y2_train, y2_test)"
   ]
  },
  {
   "cell_type": "code",
   "execution_count": 49,
   "metadata": {
    "ExecuteTime": {
     "end_time": "2020-07-30T21:03:47.364609Z",
     "start_time": "2020-07-30T21:03:47.353807Z"
    }
   },
   "outputs": [],
   "source": [
    "#exporting logistic regression metrics\n",
    "metrics = [\n",
    "    'Accuracy', 'Precision', 'Recall', 'F1', 'ROC/AUC'\n",
    "]\n",
    "values = [\n",
    "    logit_accuracy, logit_precision, logit_recall, logit_f1, logit_rocauc\n",
    "]\n",
    "metric_dic = {'Metric': metrics, 'Score': values}\n",
    "\n",
    "metric_df = pd.DataFrame(metric_dic)\n",
    "#metric_df.to_csv('breastcancer_logit_metrics.csv')"
   ]
  },
  {
   "cell_type": "code",
   "execution_count": null,
   "metadata": {},
   "outputs": [],
   "source": []
  }
 ],
 "metadata": {
  "kernelspec": {
   "display_name": "Python 3",
   "language": "python",
   "name": "python3"
  },
  "language_info": {
   "codemirror_mode": {
    "name": "ipython",
    "version": 3
   },
   "file_extension": ".py",
   "mimetype": "text/x-python",
   "name": "python",
   "nbconvert_exporter": "python",
   "pygments_lexer": "ipython3",
   "version": "3.7.7"
  },
  "toc": {
   "base_numbering": 1,
   "nav_menu": {},
   "number_sections": true,
   "sideBar": true,
   "skip_h1_title": false,
   "title_cell": "Table of Contents",
   "title_sidebar": "Contents",
   "toc_cell": false,
   "toc_position": {
    "height": "calc(100% - 180px)",
    "left": "10px",
    "top": "150px",
    "width": "226.2px"
   },
   "toc_section_display": true,
   "toc_window_display": false
  },
  "varInspector": {
   "cols": {
    "lenName": 16,
    "lenType": 16,
    "lenVar": 40
   },
   "kernels_config": {
    "python": {
     "delete_cmd_postfix": "",
     "delete_cmd_prefix": "del ",
     "library": "var_list.py",
     "varRefreshCmd": "print(var_dic_list())"
    },
    "r": {
     "delete_cmd_postfix": ") ",
     "delete_cmd_prefix": "rm(",
     "library": "var_list.r",
     "varRefreshCmd": "cat(var_dic_list()) "
    }
   },
   "types_to_exclude": [
    "module",
    "function",
    "builtin_function_or_method",
    "instance",
    "_Feature"
   ],
   "window_display": false
  }
 },
 "nbformat": 4,
 "nbformat_minor": 4
}
