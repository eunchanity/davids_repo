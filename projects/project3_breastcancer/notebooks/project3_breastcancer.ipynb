{
 "cells": [
  {
   "cell_type": "markdown",
   "metadata": {},
   "source": [
    "```\n",
    "Topic:        Project 3\n",
    "Subject:      Determining Benign or Malignant Breast Cancer\n",
    "Date:         08/05/2020\n",
    "Name:         David Weon\n",
    "\n",
    "Notebook has been cleaned using nbextension 'Code prettify'\n",
    "```"
   ]
  },
  {
   "cell_type": "markdown",
   "metadata": {},
   "source": [
    "# Connecting to AWS Postgresql"
   ]
  },
  {
   "cell_type": "code",
   "execution_count": 1,
   "metadata": {
    "ExecuteTime": {
     "end_time": "2020-08-19T20:58:31.722384Z",
     "start_time": "2020-08-19T20:58:30.998490Z"
    }
   },
   "outputs": [],
   "source": [
    "from sqlalchemy import create_engine\n",
    "import psycopg2\n",
    "import pandas as pd\n",
    "import numpy as np"
   ]
  },
  {
   "cell_type": "code",
   "execution_count": 2,
   "metadata": {
    "ExecuteTime": {
     "end_time": "2020-08-19T20:58:31.772468Z",
     "start_time": "2020-08-19T20:58:31.741707Z"
    }
   },
   "outputs": [],
   "source": [
    "#connect to aws machine with elastic IP\n",
    "cnx = create_engine('postgresql://ubuntu@34.196.129.175:5432/breastcancer')"
   ]
  },
  {
   "cell_type": "code",
   "execution_count": 3,
   "metadata": {
    "ExecuteTime": {
     "end_time": "2020-08-19T20:58:33.294957Z",
     "start_time": "2020-08-19T20:58:32.172648Z"
    }
   },
   "outputs": [
    {
     "data": {
      "text/html": [
       "<div>\n",
       "<style scoped>\n",
       "    .dataframe tbody tr th:only-of-type {\n",
       "        vertical-align: middle;\n",
       "    }\n",
       "\n",
       "    .dataframe tbody tr th {\n",
       "        vertical-align: top;\n",
       "    }\n",
       "\n",
       "    .dataframe thead th {\n",
       "        text-align: right;\n",
       "    }\n",
       "</style>\n",
       "<table border=\"1\" class=\"dataframe\">\n",
       "  <thead>\n",
       "    <tr style=\"text-align: right;\">\n",
       "      <th></th>\n",
       "      <th>index</th>\n",
       "      <th>id</th>\n",
       "      <th>clumpthickness</th>\n",
       "      <th>uniformcellsize</th>\n",
       "      <th>uniformcellshape</th>\n",
       "      <th>margadhesion</th>\n",
       "      <th>epithelial</th>\n",
       "      <th>barenuclei</th>\n",
       "      <th>blandchromatin</th>\n",
       "      <th>normalnucleoli</th>\n",
       "      <th>mitoses</th>\n",
       "      <th>benormal</th>\n",
       "    </tr>\n",
       "  </thead>\n",
       "  <tbody>\n",
       "    <tr>\n",
       "      <th>0</th>\n",
       "      <td>0</td>\n",
       "      <td>1000025</td>\n",
       "      <td>5</td>\n",
       "      <td>1</td>\n",
       "      <td>1</td>\n",
       "      <td>1</td>\n",
       "      <td>2</td>\n",
       "      <td>1</td>\n",
       "      <td>3</td>\n",
       "      <td>1</td>\n",
       "      <td>1</td>\n",
       "      <td>0</td>\n",
       "    </tr>\n",
       "    <tr>\n",
       "      <th>1</th>\n",
       "      <td>1</td>\n",
       "      <td>1002945</td>\n",
       "      <td>5</td>\n",
       "      <td>4</td>\n",
       "      <td>4</td>\n",
       "      <td>5</td>\n",
       "      <td>7</td>\n",
       "      <td>10</td>\n",
       "      <td>3</td>\n",
       "      <td>2</td>\n",
       "      <td>1</td>\n",
       "      <td>0</td>\n",
       "    </tr>\n",
       "    <tr>\n",
       "      <th>2</th>\n",
       "      <td>2</td>\n",
       "      <td>1015425</td>\n",
       "      <td>3</td>\n",
       "      <td>1</td>\n",
       "      <td>1</td>\n",
       "      <td>1</td>\n",
       "      <td>2</td>\n",
       "      <td>2</td>\n",
       "      <td>3</td>\n",
       "      <td>1</td>\n",
       "      <td>1</td>\n",
       "      <td>0</td>\n",
       "    </tr>\n",
       "    <tr>\n",
       "      <th>3</th>\n",
       "      <td>3</td>\n",
       "      <td>1016277</td>\n",
       "      <td>6</td>\n",
       "      <td>8</td>\n",
       "      <td>8</td>\n",
       "      <td>1</td>\n",
       "      <td>3</td>\n",
       "      <td>4</td>\n",
       "      <td>3</td>\n",
       "      <td>7</td>\n",
       "      <td>1</td>\n",
       "      <td>0</td>\n",
       "    </tr>\n",
       "    <tr>\n",
       "      <th>4</th>\n",
       "      <td>4</td>\n",
       "      <td>1017023</td>\n",
       "      <td>4</td>\n",
       "      <td>1</td>\n",
       "      <td>1</td>\n",
       "      <td>3</td>\n",
       "      <td>2</td>\n",
       "      <td>1</td>\n",
       "      <td>3</td>\n",
       "      <td>1</td>\n",
       "      <td>1</td>\n",
       "      <td>0</td>\n",
       "    </tr>\n",
       "  </tbody>\n",
       "</table>\n",
       "</div>"
      ],
      "text/plain": [
       "   index       id clumpthickness uniformcellsize uniformcellshape  \\\n",
       "0      0  1000025              5               1                1   \n",
       "1      1  1002945              5               4                4   \n",
       "2      2  1015425              3               1                1   \n",
       "3      3  1016277              6               8                8   \n",
       "4      4  1017023              4               1                1   \n",
       "\n",
       "  margadhesion epithelial barenuclei blandchromatin normalnucleoli mitoses  \\\n",
       "0            1          2          1              3              1       1   \n",
       "1            5          7         10              3              2       1   \n",
       "2            1          2          2              3              1       1   \n",
       "3            1          3          4              3              7       1   \n",
       "4            3          2          1              3              1       1   \n",
       "\n",
       "  benormal  \n",
       "0        0  \n",
       "1        0  \n",
       "2        0  \n",
       "3        0  \n",
       "4        0  "
      ]
     },
     "execution_count": 3,
     "metadata": {},
     "output_type": "execute_result"
    }
   ],
   "source": [
    "pd.read_sql_query('''SELECT * FROM dataset limit 20''', cnx).head()"
   ]
  },
  {
   "cell_type": "markdown",
   "metadata": {},
   "source": [
    "# Data Import, Clean, Check"
   ]
  },
  {
   "cell_type": "markdown",
   "metadata": {},
   "source": [
    "## Data Import"
   ]
  },
  {
   "cell_type": "code",
   "execution_count": 4,
   "metadata": {
    "ExecuteTime": {
     "end_time": "2020-08-19T20:58:33.685509Z",
     "start_time": "2020-08-19T20:58:33.541085Z"
    }
   },
   "outputs": [],
   "source": [
    "#import data from aws postgresql\n",
    "breastcancer = pd.DataFrame(pd.read_sql_query('''SELECT * FROM dataset''',\n",
    "                                              cnx))\n",
    "breastcancer = breastcancer.set_index('index')"
   ]
  },
  {
   "cell_type": "markdown",
   "metadata": {},
   "source": [
    "## Data Clean"
   ]
  },
  {
   "cell_type": "code",
   "execution_count": 5,
   "metadata": {
    "ExecuteTime": {
     "end_time": "2020-08-19T20:58:35.517177Z",
     "start_time": "2020-08-19T20:58:35.507421Z"
    }
   },
   "outputs": [],
   "source": [
    "X, y = breastcancer.drop(['id', 'benormal', 'uniformcellshape'],\n",
    "                         axis=1), breastcancer['benormal']"
   ]
  },
  {
   "cell_type": "code",
   "execution_count": 6,
   "metadata": {
    "ExecuteTime": {
     "end_time": "2020-08-19T20:58:36.818465Z",
     "start_time": "2020-08-19T20:58:36.025505Z"
    }
   },
   "outputs": [],
   "source": [
    "from sklearn.model_selection import train_test_split\n",
    "\n",
    "X_trainval, X_test, y_trainval, y_test = train_test_split(X,\n",
    "                                                          y,\n",
    "                                                          test_size=0.2,\n",
    "                                                          random_state=71)"
   ]
  },
  {
   "cell_type": "code",
   "execution_count": 7,
   "metadata": {
    "ExecuteTime": {
     "end_time": "2020-08-19T20:58:36.910061Z",
     "start_time": "2020-08-19T20:58:36.902275Z"
    }
   },
   "outputs": [
    {
     "data": {
      "text/plain": [
       "clumpthickness     False\n",
       "uniformcellsize    False\n",
       "margadhesion       False\n",
       "epithelial         False\n",
       "barenuclei          True\n",
       "blandchromatin     False\n",
       "normalnucleoli     False\n",
       "mitoses            False\n",
       "dtype: bool"
      ]
     },
     "execution_count": 7,
     "metadata": {},
     "output_type": "execute_result"
    }
   ],
   "source": [
    "#check for '?' values in X_trainval set\n",
    "X_trainval.isin(['?']).any()"
   ]
  },
  {
   "cell_type": "code",
   "execution_count": 8,
   "metadata": {
    "ExecuteTime": {
     "end_time": "2020-08-19T20:58:37.260911Z",
     "start_time": "2020-08-19T20:58:37.194278Z"
    },
    "scrolled": true
   },
   "outputs": [
    {
     "name": "stderr",
     "output_type": "stream",
     "text": [
      "/opt/anaconda3/lib/python3.7/site-packages/pandas/core/generic.py:6746: SettingWithCopyWarning: \n",
      "A value is trying to be set on a copy of a slice from a DataFrame\n",
      "\n",
      "See the caveats in the documentation: https://pandas.pydata.org/pandas-docs/stable/user_guide/indexing.html#returning-a-view-versus-a-copy\n",
      "  self._update_inplace(new_data)\n"
     ]
    }
   ],
   "source": [
    "#replace '?' with nan for cleaning\n",
    "X_trainval['barenuclei'].replace('?', np.nan, inplace=True)\n",
    "X_test['barenuclei'].replace('?', np.nan, inplace=True)\n",
    "\n",
    "#convert columns to int/float\n",
    "X_trainval = X_trainval.apply(pd.to_numeric)\n",
    "X_test = X_test.apply(pd.to_numeric)\n",
    "y_trainval = y_trainval.apply(pd.to_numeric)\n",
    "y_test = y_test.apply(pd.to_numeric)\n",
    "\n",
    "#replace '?' with the column mean\n",
    "X_trainval['barenuclei'].fillna(X_trainval['barenuclei'].mean(), inplace=True)\n",
    "X_test['barenuclei'].fillna(X_test['barenuclei'].mean(), inplace=True)"
   ]
  },
  {
   "cell_type": "markdown",
   "metadata": {},
   "source": [
    "## Data Check"
   ]
  },
  {
   "cell_type": "code",
   "execution_count": 9,
   "metadata": {
    "ExecuteTime": {
     "end_time": "2020-08-19T20:58:38.830067Z",
     "start_time": "2020-08-19T20:58:38.815676Z"
    },
    "scrolled": true
   },
   "outputs": [
    {
     "name": "stdout",
     "output_type": "stream",
     "text": [
      "<class 'pandas.core.frame.DataFrame'>\n",
      "Int64Index: 559 entries, 131 to 107\n",
      "Data columns (total 8 columns):\n",
      " #   Column           Non-Null Count  Dtype  \n",
      "---  ------           --------------  -----  \n",
      " 0   clumpthickness   559 non-null    int64  \n",
      " 1   uniformcellsize  559 non-null    int64  \n",
      " 2   margadhesion     559 non-null    int64  \n",
      " 3   epithelial       559 non-null    int64  \n",
      " 4   barenuclei       559 non-null    float64\n",
      " 5   blandchromatin   559 non-null    int64  \n",
      " 6   normalnucleoli   559 non-null    int64  \n",
      " 7   mitoses          559 non-null    int64  \n",
      "dtypes: float64(1), int64(7)\n",
      "memory usage: 39.3 KB\n"
     ]
    }
   ],
   "source": [
    "X_trainval.info()"
   ]
  },
  {
   "cell_type": "code",
   "execution_count": 10,
   "metadata": {
    "ExecuteTime": {
     "end_time": "2020-08-19T20:58:39.402538Z",
     "start_time": "2020-08-19T20:58:39.345894Z"
    },
    "scrolled": true
   },
   "outputs": [
    {
     "data": {
      "text/html": [
       "<div>\n",
       "<style scoped>\n",
       "    .dataframe tbody tr th:only-of-type {\n",
       "        vertical-align: middle;\n",
       "    }\n",
       "\n",
       "    .dataframe tbody tr th {\n",
       "        vertical-align: top;\n",
       "    }\n",
       "\n",
       "    .dataframe thead th {\n",
       "        text-align: right;\n",
       "    }\n",
       "</style>\n",
       "<table border=\"1\" class=\"dataframe\">\n",
       "  <thead>\n",
       "    <tr style=\"text-align: right;\">\n",
       "      <th></th>\n",
       "      <th>clumpthickness</th>\n",
       "      <th>uniformcellsize</th>\n",
       "      <th>margadhesion</th>\n",
       "      <th>epithelial</th>\n",
       "      <th>barenuclei</th>\n",
       "      <th>blandchromatin</th>\n",
       "      <th>normalnucleoli</th>\n",
       "      <th>mitoses</th>\n",
       "    </tr>\n",
       "  </thead>\n",
       "  <tbody>\n",
       "    <tr>\n",
       "      <th>count</th>\n",
       "      <td>559.000000</td>\n",
       "      <td>559.000000</td>\n",
       "      <td>559.000000</td>\n",
       "      <td>559.000000</td>\n",
       "      <td>559.000000</td>\n",
       "      <td>559.000000</td>\n",
       "      <td>559.000000</td>\n",
       "      <td>559.000000</td>\n",
       "    </tr>\n",
       "    <tr>\n",
       "      <th>mean</th>\n",
       "      <td>4.488372</td>\n",
       "      <td>3.159213</td>\n",
       "      <td>2.797853</td>\n",
       "      <td>3.202147</td>\n",
       "      <td>3.622263</td>\n",
       "      <td>3.457961</td>\n",
       "      <td>2.860465</td>\n",
       "      <td>1.543828</td>\n",
       "    </tr>\n",
       "    <tr>\n",
       "      <th>std</th>\n",
       "      <td>2.804782</td>\n",
       "      <td>3.013955</td>\n",
       "      <td>2.817685</td>\n",
       "      <td>2.167765</td>\n",
       "      <td>3.651191</td>\n",
       "      <td>2.400255</td>\n",
       "      <td>3.022946</td>\n",
       "      <td>1.642118</td>\n",
       "    </tr>\n",
       "    <tr>\n",
       "      <th>min</th>\n",
       "      <td>1.000000</td>\n",
       "      <td>1.000000</td>\n",
       "      <td>1.000000</td>\n",
       "      <td>1.000000</td>\n",
       "      <td>1.000000</td>\n",
       "      <td>1.000000</td>\n",
       "      <td>1.000000</td>\n",
       "      <td>1.000000</td>\n",
       "    </tr>\n",
       "    <tr>\n",
       "      <th>25%</th>\n",
       "      <td>2.000000</td>\n",
       "      <td>1.000000</td>\n",
       "      <td>1.000000</td>\n",
       "      <td>2.000000</td>\n",
       "      <td>1.000000</td>\n",
       "      <td>2.000000</td>\n",
       "      <td>1.000000</td>\n",
       "      <td>1.000000</td>\n",
       "    </tr>\n",
       "    <tr>\n",
       "      <th>50%</th>\n",
       "      <td>4.000000</td>\n",
       "      <td>1.000000</td>\n",
       "      <td>1.000000</td>\n",
       "      <td>2.000000</td>\n",
       "      <td>1.000000</td>\n",
       "      <td>3.000000</td>\n",
       "      <td>1.000000</td>\n",
       "      <td>1.000000</td>\n",
       "    </tr>\n",
       "    <tr>\n",
       "      <th>75%</th>\n",
       "      <td>6.000000</td>\n",
       "      <td>5.000000</td>\n",
       "      <td>4.000000</td>\n",
       "      <td>4.000000</td>\n",
       "      <td>7.000000</td>\n",
       "      <td>5.000000</td>\n",
       "      <td>4.000000</td>\n",
       "      <td>1.000000</td>\n",
       "    </tr>\n",
       "    <tr>\n",
       "      <th>max</th>\n",
       "      <td>10.000000</td>\n",
       "      <td>10.000000</td>\n",
       "      <td>10.000000</td>\n",
       "      <td>10.000000</td>\n",
       "      <td>10.000000</td>\n",
       "      <td>10.000000</td>\n",
       "      <td>10.000000</td>\n",
       "      <td>10.000000</td>\n",
       "    </tr>\n",
       "  </tbody>\n",
       "</table>\n",
       "</div>"
      ],
      "text/plain": [
       "       clumpthickness  uniformcellsize  margadhesion  epithelial  barenuclei  \\\n",
       "count      559.000000       559.000000    559.000000  559.000000  559.000000   \n",
       "mean         4.488372         3.159213      2.797853    3.202147    3.622263   \n",
       "std          2.804782         3.013955      2.817685    2.167765    3.651191   \n",
       "min          1.000000         1.000000      1.000000    1.000000    1.000000   \n",
       "25%          2.000000         1.000000      1.000000    2.000000    1.000000   \n",
       "50%          4.000000         1.000000      1.000000    2.000000    1.000000   \n",
       "75%          6.000000         5.000000      4.000000    4.000000    7.000000   \n",
       "max         10.000000        10.000000     10.000000   10.000000   10.000000   \n",
       "\n",
       "       blandchromatin  normalnucleoli     mitoses  \n",
       "count      559.000000      559.000000  559.000000  \n",
       "mean         3.457961        2.860465    1.543828  \n",
       "std          2.400255        3.022946    1.642118  \n",
       "min          1.000000        1.000000    1.000000  \n",
       "25%          2.000000        1.000000    1.000000  \n",
       "50%          3.000000        1.000000    1.000000  \n",
       "75%          5.000000        4.000000    1.000000  \n",
       "max         10.000000       10.000000   10.000000  "
      ]
     },
     "execution_count": 10,
     "metadata": {},
     "output_type": "execute_result"
    }
   ],
   "source": [
    "X_trainval.describe()"
   ]
  },
  {
   "cell_type": "code",
   "execution_count": 11,
   "metadata": {
    "ExecuteTime": {
     "end_time": "2020-08-19T20:58:40.187046Z",
     "start_time": "2020-08-19T20:58:40.176937Z"
    }
   },
   "outputs": [
    {
     "data": {
      "text/plain": [
       "0    361\n",
       "1    198\n",
       "Name: benormal, dtype: int64"
      ]
     },
     "execution_count": 11,
     "metadata": {},
     "output_type": "execute_result"
    }
   ],
   "source": [
    "#class distribution\n",
    "y_trainval.value_counts()"
   ]
  },
  {
   "cell_type": "markdown",
   "metadata": {},
   "source": [
    "## Data Visualization"
   ]
  },
  {
   "cell_type": "code",
   "execution_count": 12,
   "metadata": {
    "ExecuteTime": {
     "end_time": "2020-08-19T20:58:43.125310Z",
     "start_time": "2020-08-19T20:58:42.613427Z"
    }
   },
   "outputs": [],
   "source": [
    "import matplotlib.pyplot as plt\n",
    "import seaborn as sns\n",
    "plt.style.use('ggplot')\n",
    "%matplotlib inline"
   ]
  },
  {
   "cell_type": "code",
   "execution_count": 13,
   "metadata": {
    "ExecuteTime": {
     "end_time": "2020-08-19T20:58:45.643720Z",
     "start_time": "2020-08-19T20:58:45.620962Z"
    }
   },
   "outputs": [],
   "source": [
    "#testing a merge to better visualize correlation and pairplot\n",
    "test_df = pd.merge(X_trainval.reset_index(),\n",
    "                   y_trainval.reset_index(),\n",
    "                   on='index')\n",
    "test_df = test_df.set_index('index')"
   ]
  },
  {
   "cell_type": "code",
   "execution_count": 14,
   "metadata": {
    "ExecuteTime": {
     "end_time": "2020-08-19T20:58:53.907177Z",
     "start_time": "2020-08-19T20:58:52.710351Z"
    }
   },
   "outputs": [
    {
     "data": {
      "image/png": "[encoded data removed]",
      "text/plain": [
       "<Figure size 432x288 with 2 Axes>"
      ]
     },
     "metadata": {
      "needs_background": "light"
     },
     "output_type": "display_data"
    }
   ],
   "source": [
    "#check for correlation\n",
    "sns.heatmap(test_df.corr(), cmap='seismic', annot=True, vmin=-1, vmax=1)\n",
    "plt.tight_layout()\n",
    "\n",
    "plt.savefig('breastcancer_heatmap.png', dpi=600)\n",
    "#decided to drop uniformcellshape given its high correlation with uniformcellsize"
   ]
  },
  {
   "cell_type": "code",
   "execution_count": 15,
   "metadata": {
    "ExecuteTime": {
     "end_time": "2020-08-03T20:36:03.910401Z",
     "start_time": "2020-08-03T20:35:37.149631Z"
    }
   },
   "outputs": [
    {
     "data": {
      "text/plain": [
       "<seaborn.axisgrid.PairGrid at 0x7f839fafded0>"
      ]
     },
     "execution_count": 15,
     "metadata": {},
     "output_type": "execute_result"
    },
    {
     "data": {
      "image/png": "[encoded data removed]",
      "text/plain": [
       "<Figure size 1092.17x691.2 with 72 Axes>"
      ]
     },
     "metadata": {
      "needs_background": "light"
     },
     "output_type": "display_data"
    }
   ],
   "source": [
    "#distribution of features\n",
    "sns.pairplot(test_df, height=1.2, aspect=1.5, hue='benormal', diag_kind='hist')"
   ]
  },
  {
   "cell_type": "markdown",
   "metadata": {},
   "source": [
    "# Modeling"
   ]
  },
  {
   "cell_type": "markdown",
   "metadata": {},
   "source": [
    "## Dummy Model"
   ]
  },
  {
   "cell_type": "code",
   "execution_count": 16,
   "metadata": {
    "ExecuteTime": {
     "end_time": "2020-08-03T20:36:04.580053Z",
     "start_time": "2020-08-03T20:36:04.572994Z"
    }
   },
   "outputs": [],
   "source": [
    "from sklearn.dummy import DummyClassifier\n",
    "from sklearn.metrics import (\n",
    "    accuracy_score,\n",
    "    precision_score,\n",
    "    recall_score,\n",
    "    f1_score,\n",
    "    roc_auc_score,\n",
    ")"
   ]
  },
  {
   "cell_type": "code",
   "execution_count": 17,
   "metadata": {
    "ExecuteTime": {
     "end_time": "2020-08-03T20:36:05.151343Z",
     "start_time": "2020-08-03T20:36:05.140118Z"
    }
   },
   "outputs": [
    {
     "data": {
      "text/plain": [
       "0.5714285714285714"
      ]
     },
     "execution_count": 17,
     "metadata": {},
     "output_type": "execute_result"
    }
   ],
   "source": [
    "#getting metrics for baseline reference\n",
    "dummy = DummyClassifier(strategy=\"stratified\", random_state=71)\n",
    "dummy.fit(X_trainval, y_trainval)\n",
    "dummy.score(X_test, y_test)"
   ]
  },
  {
   "cell_type": "code",
   "execution_count": 18,
   "metadata": {
    "ExecuteTime": {
     "end_time": "2020-08-03T20:36:05.712662Z",
     "start_time": "2020-08-03T20:36:05.703976Z"
    }
   },
   "outputs": [],
   "source": [
    "dummy_pred = dummy.predict(X_test)"
   ]
  },
  {
   "cell_type": "code",
   "execution_count": 19,
   "metadata": {
    "ExecuteTime": {
     "end_time": "2020-08-03T20:36:06.300186Z",
     "start_time": "2020-08-03T20:36:06.292348Z"
    }
   },
   "outputs": [
    {
     "data": {
      "text/plain": [
       "0.5714285714285714"
      ]
     },
     "execution_count": 19,
     "metadata": {},
     "output_type": "execute_result"
    }
   ],
   "source": [
    "dummy_accuracy = accuracy_score(y_test, dummy_pred)\n",
    "dummy_accuracy"
   ]
  },
  {
   "cell_type": "code",
   "execution_count": 20,
   "metadata": {
    "ExecuteTime": {
     "end_time": "2020-08-03T20:36:06.901231Z",
     "start_time": "2020-08-03T20:36:06.889963Z"
    }
   },
   "outputs": [
    {
     "data": {
      "text/plain": [
       "0.3508771929824561"
      ]
     },
     "execution_count": 20,
     "metadata": {},
     "output_type": "execute_result"
    }
   ],
   "source": [
    "dummy_precision = precision_score(y_test,\n",
    "                                  dummy_pred,\n",
    "                                  average='binary',\n",
    "                                  pos_label=1)\n",
    "dummy_precision"
   ]
  },
  {
   "cell_type": "code",
   "execution_count": 21,
   "metadata": {
    "ExecuteTime": {
     "end_time": "2020-08-03T20:36:07.435221Z",
     "start_time": "2020-08-03T20:36:07.424308Z"
    }
   },
   "outputs": [
    {
     "data": {
      "text/plain": [
       "0.46511627906976744"
      ]
     },
     "execution_count": 21,
     "metadata": {},
     "output_type": "execute_result"
    }
   ],
   "source": [
    "dummy_recall = recall_score(y_test, dummy_pred, average='binary', pos_label=1)\n",
    "dummy_recall"
   ]
  },
  {
   "cell_type": "code",
   "execution_count": 22,
   "metadata": {
    "ExecuteTime": {
     "end_time": "2020-08-03T20:36:07.990008Z",
     "start_time": "2020-08-03T20:36:07.979074Z"
    }
   },
   "outputs": [
    {
     "data": {
      "text/plain": [
       "0.4"
      ]
     },
     "execution_count": 22,
     "metadata": {},
     "output_type": "execute_result"
    }
   ],
   "source": [
    "dummy_f1 = f1_score(y_test, dummy_pred, average='binary', pos_label=1)\n",
    "dummy_f1"
   ]
  },
  {
   "cell_type": "code",
   "execution_count": 23,
   "metadata": {
    "ExecuteTime": {
     "end_time": "2020-08-03T20:36:08.599536Z",
     "start_time": "2020-08-03T20:36:08.585366Z"
    }
   },
   "outputs": [
    {
     "data": {
      "text/plain": [
       "0.5418364900503476"
      ]
     },
     "execution_count": 23,
     "metadata": {},
     "output_type": "execute_result"
    }
   ],
   "source": [
    "dummy_rocauc = roc_auc_score(y_test, dummy.predict_proba(X_test)[:, 1])\n",
    "dummy_rocauc"
   ]
  },
  {
   "cell_type": "markdown",
   "metadata": {},
   "source": [
    "## Cross Validation Metrics for Various Models"
   ]
  },
  {
   "cell_type": "code",
   "execution_count": 24,
   "metadata": {
    "ExecuteTime": {
     "end_time": "2020-08-03T20:36:09.330758Z",
     "start_time": "2020-08-03T20:36:09.223591Z"
    }
   },
   "outputs": [],
   "source": [
    "import sys\n",
    "sys.path.append(\"..\")\n",
    "\n",
    "from src.models.cv_models_train import crossval_knn_scores, crossval_logit_scores, crossval_rfc_scores, crossval_dtc_scores, crossval_svm_scores, crossval_gnb_scores"
   ]
  },
  {
   "cell_type": "code",
   "execution_count": 25,
   "metadata": {
    "ExecuteTime": {
     "end_time": "2020-08-03T20:36:10.020546Z",
     "start_time": "2020-08-03T20:36:09.936739Z"
    }
   },
   "outputs": [
    {
     "data": {
      "text/plain": [
       "[{'accuracy': 0.9624678249678249},\n",
       " {'precision': 0.9510488228074877},\n",
       " {'recall': 0.9446153846153846},\n",
       " {'f1': 0.9472558655103626},\n",
       " {'ROC/AUC': 0.992122141240292}]"
      ]
     },
     "execution_count": 25,
     "metadata": {},
     "output_type": "execute_result"
    }
   ],
   "source": [
    "#logistic regression model\n",
    "logit_scores = crossval_logit_scores(X_trainval, y_trainval)\n",
    "logit_scores"
   ]
  },
  {
   "cell_type": "code",
   "execution_count": 26,
   "metadata": {
    "ExecuteTime": {
     "end_time": "2020-08-03T20:36:10.632475Z",
     "start_time": "2020-08-03T20:36:10.593055Z"
    },
    "scrolled": false
   },
   "outputs": [
    {
     "data": {
      "text/plain": [
       "[{'accuracy': 0.941023166023166},\n",
       " {'precision': 0.930115418120314},\n",
       " {'recall': 0.9038461538461539},\n",
       " {'f1': 0.9160965836055054},\n",
       " {'ROC/AUC': 0.9325737618545837}]"
      ]
     },
     "execution_count": 26,
     "metadata": {},
     "output_type": "execute_result"
    }
   ],
   "source": [
    "#decision tree model\n",
    "dtc_scores = crossval_dtc_scores(X_trainval, y_trainval)\n",
    "dtc_scores"
   ]
  },
  {
   "cell_type": "code",
   "execution_count": 27,
   "metadata": {
    "ExecuteTime": {
     "end_time": "2020-08-03T20:36:12.167082Z",
     "start_time": "2020-08-03T20:36:11.225233Z"
    },
    "scrolled": true
   },
   "outputs": [
    {
     "data": {
      "text/plain": [
       "[{'accuracy': 0.9606981981981981},\n",
       " {'precision': 0.9386545910230121},\n",
       " {'recall': 0.9547435897435899},\n",
       " {'f1': 0.9457665221447179},\n",
       " {'ROC/AUC': 0.9899638386410645}]"
      ]
     },
     "execution_count": 27,
     "metadata": {},
     "output_type": "execute_result"
    }
   ],
   "source": [
    "#random forest model\n",
    "rfc_scores = crossval_rfc_scores(X_trainval, y_trainval)\n",
    "rfc_scores"
   ]
  },
  {
   "cell_type": "code",
   "execution_count": 28,
   "metadata": {
    "ExecuteTime": {
     "end_time": "2020-08-03T20:36:12.808316Z",
     "start_time": "2020-08-03T20:36:12.728678Z"
    }
   },
   "outputs": [
    {
     "data": {
      "text/plain": [
       "[{'accuracy': 0.9588963963963965},\n",
       " {'precision': 0.9391324465008676},\n",
       " {'recall': 0.9497435897435897},\n",
       " {'f1': 0.9430875857323266},\n",
       " {'ROC/AUC': 0.9802951571829996}]"
      ]
     },
     "execution_count": 28,
     "metadata": {},
     "output_type": "execute_result"
    }
   ],
   "source": [
    "#k nearest neighbors model\n",
    "knn_scores = crossval_knn_scores(X_trainval, y_trainval)\n",
    "knn_scores"
   ]
  },
  {
   "cell_type": "code",
   "execution_count": 29,
   "metadata": {
    "ExecuteTime": {
     "end_time": "2020-08-03T20:36:13.402792Z",
     "start_time": "2020-08-03T20:36:13.362731Z"
    }
   },
   "outputs": [
    {
     "data": {
      "text/plain": [
       "[{'accuracy': 0.9553249678249678},\n",
       " {'precision': 0.9078603312394528},\n",
       " {'recall': 0.975},\n",
       " {'f1': 0.9396791598083711},\n",
       " {'ROC/AUC': 0.981070046930492}]"
      ]
     },
     "execution_count": 29,
     "metadata": {},
     "output_type": "execute_result"
    }
   ],
   "source": [
    "#gaussian naive bayes\n",
    "gnb_scores = crossval_gnb_scores(X_trainval, y_trainval)\n",
    "gnb_scores"
   ]
  },
  {
   "cell_type": "code",
   "execution_count": 30,
   "metadata": {
    "ExecuteTime": {
     "end_time": "2020-08-03T20:36:14.132762Z",
     "start_time": "2020-08-03T20:36:14.039887Z"
    }
   },
   "outputs": [
    {
     "data": {
      "text/plain": [
       "[{'accuracy': 0.9570945945945946},\n",
       " {'precision': 0.9243956043956043},\n",
       " {'recall': 0.959871794871795},\n",
       " {'f1': 0.9410122171746129},\n",
       " {'ROC/AUC': 0.9867691136869219}]"
      ]
     },
     "execution_count": 30,
     "metadata": {},
     "output_type": "execute_result"
    }
   ],
   "source": [
    "#support vector machine model\n",
    "svm_scores = crossval_svm_scores(X_trainval, y_trainval)\n",
    "svm_scores"
   ]
  },
  {
   "cell_type": "markdown",
   "metadata": {},
   "source": [
    "# Model Tuning"
   ]
  },
  {
   "cell_type": "code",
   "execution_count": 31,
   "metadata": {
    "ExecuteTime": {
     "end_time": "2020-08-03T20:36:14.671560Z",
     "start_time": "2020-08-03T20:36:14.665441Z"
    }
   },
   "outputs": [],
   "source": [
    "from src.models.cv_models_tune_train import crossval_rfc_weight_scores, crossval_logit_weight_scores"
   ]
  },
  {
   "cell_type": "markdown",
   "metadata": {},
   "source": [
    "## Adjusting Class Weights"
   ]
  },
  {
   "cell_type": "markdown",
   "metadata": {},
   "source": [
    "### Logistic Regression Model"
   ]
  },
  {
   "cell_type": "code",
   "execution_count": 32,
   "metadata": {
    "ExecuteTime": {
     "end_time": "2020-08-03T20:36:15.363554Z",
     "start_time": "2020-08-03T20:36:15.317683Z"
    },
    "scrolled": true
   },
   "outputs": [
    {
     "data": {
      "text/plain": [
       "[{'accuracy': 0.9570785070785071},\n",
       " {'precision': 0.9288529300157208},\n",
       " {'recall': 0.9547435897435899},\n",
       " {'f1': 0.940818776566832},\n",
       " {'ROC/AUC': 0.9923330601412795}]"
      ]
     },
     "execution_count": 32,
     "metadata": {},
     "output_type": "execute_result"
    }
   ],
   "source": [
    "logit_weight_scores = crossval_logit_weight_scores(X_trainval, y_trainval)\n",
    "logit_weight_scores"
   ]
  },
  {
   "cell_type": "markdown",
   "metadata": {},
   "source": [
    "### Random Forest Model"
   ]
  },
  {
   "cell_type": "code",
   "execution_count": 33,
   "metadata": {
    "ExecuteTime": {
     "end_time": "2020-08-03T20:36:16.791648Z",
     "start_time": "2020-08-03T20:36:15.932600Z"
    },
    "scrolled": true
   },
   "outputs": [
    {
     "data": {
      "text/plain": [
       "[{'accuracy': 0.9552927927927929},\n",
       " {'precision': 0.9288096431119687},\n",
       " {'recall': 0.9496153846153847},\n",
       " {'f1': 0.9380216369975406},\n",
       " {'ROC/AUC': 0.9879375341490068}]"
      ]
     },
     "execution_count": 33,
     "metadata": {},
     "output_type": "execute_result"
    }
   ],
   "source": [
    "rfc_weight_scores = crossval_rfc_weight_scores(X_trainval, y_trainval)\n",
    "rfc_weight_scores"
   ]
  },
  {
   "cell_type": "markdown",
   "metadata": {},
   "source": [
    "## Hyperparameter Tuning"
   ]
  },
  {
   "cell_type": "markdown",
   "metadata": {},
   "source": [
    "### Logistic Regression Model"
   ]
  },
  {
   "cell_type": "code",
   "execution_count": 34,
   "metadata": {
    "ExecuteTime": {
     "end_time": "2020-08-03T20:35:03.259094Z",
     "start_time": "2020-08-03T20:34:45.181862Z"
    },
    "scrolled": true
   },
   "outputs": [
    {
     "name": "stderr",
     "output_type": "stream",
     "text": [
      "/opt/anaconda3/lib/python3.7/site-packages/tune_sklearn/tune_basesearch.py:249: UserWarning: Early stopping is not enabled. To enable early stopping, pass in a supported scheduler from Tune and ensure the estimator has `partial_fit`.\n",
      "  warnings.warn(\"Early stopping is not enabled. \"\n",
      "Redis failed to start, retrying now.\n",
      "/opt/anaconda3/lib/python3.7/site-packages/tune_sklearn/tune_basesearch.py:382: UserWarning: Hiding process output by default. To show process output, set verbose=2.\n",
      "  warnings.warn(\"Hiding process output by default. \"\n"
     ]
    },
    {
     "name": "stdout",
     "output_type": "stream",
     "text": [
      "Tune Fit Time: 16.756301164627075\n",
      "{'C': 60, 'solver': 'newton-cg', 'max_iter': 99}\n"
     ]
    }
   ],
   "source": [
    "import time\n",
    "from tune_sklearn import TuneSearchCV\n",
    "from sklearn.linear_model import LogisticRegression\n",
    "\n",
    "param_space = {\n",
    "    'C': (1,100),\n",
    "    'solver': (\"newton-cg\", \"lbfgs\", \"liblinear\"),\n",
    "    'max_iter': (1,200)\n",
    "}\n",
    "\n",
    "tune_search = TuneSearchCV(LogisticRegression(),\n",
    "   param_distributions = param_space,\n",
    "   n_iter = 2,\n",
    "   early_stopping = False,\n",
    "   max_iters = 100,\n",
    "   search_optimization=\"bayesian\"\n",
    ")\n",
    "\n",
    "start = time.time()\n",
    "tune_search.fit(X_trainval, y_trainval)\n",
    "end = time.time()\n",
    "\n",
    "print(\"Tune Fit Time:\", end - start)\n",
    "print(tune_search.best_params_)"
   ]
  },
  {
   "cell_type": "code",
   "execution_count": 35,
   "metadata": {
    "ExecuteTime": {
     "end_time": "2020-08-03T20:35:03.961145Z",
     "start_time": "2020-08-03T20:35:03.955840Z"
    }
   },
   "outputs": [],
   "source": [
    "from src.models.cv_models_tune_train import crossval_logit_tuned_scores"
   ]
  },
  {
   "cell_type": "code",
   "execution_count": 36,
   "metadata": {
    "ExecuteTime": {
     "end_time": "2020-08-03T20:35:04.553890Z",
     "start_time": "2020-08-03T20:35:04.493835Z"
    }
   },
   "outputs": [
    {
     "data": {
      "text/plain": [
       "[{'accuracy': 0.9570785070785071},\n",
       " {'precision': 0.9242250375829503},\n",
       " {'recall': 0.9597435897435898},\n",
       " {'f1': 0.9410063058682854},\n",
       " {'ROC/AUC': 0.9916360301291809}]"
      ]
     },
     "execution_count": 36,
     "metadata": {},
     "output_type": "execute_result"
    }
   ],
   "source": [
    "logit_tuned_scores = crossval_logit_tuned_scores(X_trainval, y_trainval)\n",
    "logit_tuned_scores"
   ]
  },
  {
   "cell_type": "markdown",
   "metadata": {},
   "source": [
    "### Random Forest Model"
   ]
  },
  {
   "cell_type": "code",
   "execution_count": 34,
   "metadata": {
    "ExecuteTime": {
     "end_time": "2020-08-03T20:36:40.979311Z",
     "start_time": "2020-08-03T20:36:21.669999Z"
    }
   },
   "outputs": [
    {
     "name": "stderr",
     "output_type": "stream",
     "text": [
      "/opt/anaconda3/lib/python3.7/site-packages/tune_sklearn/tune_basesearch.py:249: UserWarning: Early stopping is not enabled. To enable early stopping, pass in a supported scheduler from Tune and ensure the estimator has `partial_fit`.\n",
      "  warnings.warn(\"Early stopping is not enabled. \"\n",
      "Redis failed to start, retrying now.\n",
      "/opt/anaconda3/lib/python3.7/site-packages/tune_sklearn/tune_basesearch.py:382: UserWarning: Hiding process output by default. To show process output, set verbose=2.\n",
      "  warnings.warn(\"Hiding process output by default. \"\n"
     ]
    },
    {
     "name": "stdout",
     "output_type": "stream",
     "text": [
      "Tune Fit Time: 18.549920082092285\n",
      "{'max_depth': 7, 'max_features': 8, 'n_estimators': 31, 'criterion': 'entropy'}\n"
     ]
    }
   ],
   "source": [
    "import time\n",
    "from tune_sklearn import TuneSearchCV\n",
    "from sklearn.ensemble import RandomForestClassifier\n",
    "\n",
    "param_space = {\n",
    "    'max_depth': (1,20),\n",
    "    'max_features': (1,8),\n",
    "    'n_estimators': (1,40),\n",
    "    'criterion': (\"gini\", \"entropy\")\n",
    "}\n",
    "\n",
    "tune_search = TuneSearchCV(RandomForestClassifier(),\n",
    "   param_distributions = param_space,\n",
    "   n_iter = 2,\n",
    "   early_stopping = False,\n",
    "   max_iters = 100,\n",
    "   search_optimization=\"bayesian\"\n",
    ")\n",
    "\n",
    "start = time.time()\n",
    "tune_search.fit(X_trainval, y_trainval)\n",
    "end = time.time()\n",
    "\n",
    "print(\"Tune Fit Time:\", end - start)\n",
    "print(tune_search.best_params_)"
   ]
  },
  {
   "cell_type": "code",
   "execution_count": 35,
   "metadata": {
    "ExecuteTime": {
     "end_time": "2020-08-03T20:36:44.126973Z",
     "start_time": "2020-08-03T20:36:44.120842Z"
    }
   },
   "outputs": [],
   "source": [
    "from src.models.cv_models_tune_train import crossval_rfc_tuned_scores"
   ]
  },
  {
   "cell_type": "code",
   "execution_count": 36,
   "metadata": {
    "ExecuteTime": {
     "end_time": "2020-08-03T20:36:45.078465Z",
     "start_time": "2020-08-03T20:36:44.762644Z"
    }
   },
   "outputs": [
    {
     "data": {
      "text/plain": [
       "[{'accuracy': 0.949967824967825},\n",
       " {'precision': 0.9374546758836573},\n",
       " {'recall': 0.9246153846153845},\n",
       " {'f1': 0.9290255283819013},\n",
       " {'ROC/AUC': 0.9865385834992001}]"
      ]
     },
     "execution_count": 36,
     "metadata": {},
     "output_type": "execute_result"
    }
   ],
   "source": [
    "rfc_tuned_scores = crossval_rfc_tuned_scores(X_trainval, y_trainval)\n",
    "rfc_tuned_scores"
   ]
  },
  {
   "cell_type": "markdown",
   "metadata": {},
   "source": [
    "# Model Selection / Testing"
   ]
  },
  {
   "cell_type": "code",
   "execution_count": 37,
   "metadata": {
    "ExecuteTime": {
     "end_time": "2020-08-03T20:36:47.728633Z",
     "start_time": "2020-08-03T20:36:47.720345Z"
    }
   },
   "outputs": [],
   "source": [
    "X2, y2 = breastcancer.drop(['id', 'benormal', 'uniformcellshape'],\n",
    "                           axis=1), breastcancer['benormal']"
   ]
  },
  {
   "cell_type": "code",
   "execution_count": 38,
   "metadata": {
    "ExecuteTime": {
     "end_time": "2020-08-03T20:36:48.374423Z",
     "start_time": "2020-08-03T20:36:48.364738Z"
    }
   },
   "outputs": [],
   "source": [
    "X2_train, X2_test, y2_train, y2_test = train_test_split(X2,\n",
    "                                                        y2,\n",
    "                                                        test_size=0.2,\n",
    "                                                        random_state=71)"
   ]
  },
  {
   "cell_type": "code",
   "execution_count": 39,
   "metadata": {
    "ExecuteTime": {
     "end_time": "2020-08-03T20:36:49.168198Z",
     "start_time": "2020-08-03T20:36:49.122187Z"
    }
   },
   "outputs": [
    {
     "name": "stderr",
     "output_type": "stream",
     "text": [
      "/opt/anaconda3/lib/python3.7/site-packages/pandas/core/generic.py:6746: SettingWithCopyWarning: \n",
      "A value is trying to be set on a copy of a slice from a DataFrame\n",
      "\n",
      "See the caveats in the documentation: https://pandas.pydata.org/pandas-docs/stable/user_guide/indexing.html#returning-a-view-versus-a-copy\n",
      "  self._update_inplace(new_data)\n"
     ]
    }
   ],
   "source": [
    "#replace '?' with nan for cleaning\n",
    "X2_train['barenuclei'].replace('?', np.nan, inplace=True)\n",
    "X2_test['barenuclei'].replace('?', np.nan, inplace=True)\n",
    "\n",
    "#convert columns to int/float\n",
    "X2_train = X2_train.apply(pd.to_numeric)\n",
    "X2_test = X2_test.apply(pd.to_numeric)\n",
    "y2_train = y2_train.apply(pd.to_numeric)\n",
    "y2_test = y2_test.apply(pd.to_numeric)\n",
    "\n",
    "#replace '?' with the column mean\n",
    "X2_train['barenuclei'].fillna(X2_train['barenuclei'].mean(), inplace=True)\n",
    "X2_test['barenuclei'].fillna(X2_test['barenuclei'].mean(), inplace=True)"
   ]
  },
  {
   "cell_type": "code",
   "execution_count": 40,
   "metadata": {
    "ExecuteTime": {
     "end_time": "2020-08-03T20:36:50.327715Z",
     "start_time": "2020-08-03T20:36:50.287633Z"
    }
   },
   "outputs": [],
   "source": [
    "from sklearn.preprocessing import StandardScaler\n",
    "from sklearn.linear_model import LogisticRegression\n",
    "\n",
    "#fit scaled features to logistic regression\n",
    "scaler = StandardScaler()\n",
    "X2_trainscaled = scaler.fit_transform(X2_train)\n",
    "X2_testscaled = scaler.transform(X2_test)\n",
    "\n",
    "logit = LogisticRegression(C=46,\n",
    "                           solver=\"lbfgs\",\n",
    "                           class_weight={\n",
    "                               1: 2,\n",
    "                               0: 1\n",
    "                           },\n",
    "                           max_iter=31)\n",
    "logit.fit(X2_trainscaled, y2_train)\n",
    "y2_predict = logit.predict(X2_testscaled)"
   ]
  },
  {
   "cell_type": "code",
   "execution_count": 41,
   "metadata": {
    "ExecuteTime": {
     "end_time": "2020-08-03T20:36:53.280418Z",
     "start_time": "2020-08-03T20:36:53.274957Z"
    }
   },
   "outputs": [],
   "source": [
    "#pickle for flask\n",
    "import pickle\n",
    "\n",
    "#pickle.dump(logit, open('logit_pickled.p', 'wb'))\n",
    "#pickle.dump(scaler, open('scaler.p', 'wb'))"
   ]
  },
  {
   "cell_type": "markdown",
   "metadata": {},
   "source": [
    "# Interpreting Results"
   ]
  },
  {
   "cell_type": "markdown",
   "metadata": {},
   "source": [
    "## Confusion Matrix, Precision, Model Coefficients"
   ]
  },
  {
   "cell_type": "code",
   "execution_count": 42,
   "metadata": {
    "ExecuteTime": {
     "end_time": "2020-08-03T20:37:00.464400Z",
     "start_time": "2020-08-03T20:37:00.454780Z"
    }
   },
   "outputs": [],
   "source": [
    "#confusion matrix for logistic regression\n",
    "from sklearn.metrics import confusion_matrix\n",
    "\n",
    "logit_confusion = confusion_matrix(y2_test, y2_predict)"
   ]
  },
  {
   "cell_type": "code",
   "execution_count": 43,
   "metadata": {
    "ExecuteTime": {
     "end_time": "2020-08-03T20:37:01.299827Z",
     "start_time": "2020-08-03T20:37:01.143519Z"
    }
   },
   "outputs": [
    {
     "data": {
      "text/plain": [
       "(array([0.5, 1.5]), <a list of 2 Text major ticklabel objects>)"
      ]
     },
     "execution_count": 43,
     "metadata": {},
     "output_type": "execute_result"
    },
    {
     "data": {
      "image/png": "[encoded data removed]",
      "text/plain": [
       "<Figure size 720x360 with 1 Axes>"
      ]
     },
     "metadata": {},
     "output_type": "display_data"
    }
   ],
   "source": [
    "#print confusion matrix for logistic regression\n",
    "sns.set(font_scale=1.4)\n",
    "plt.figure(figsize=(10, 5))\n",
    "sns.heatmap(logit_confusion,\n",
    "            cmap=plt.cm.Blues,\n",
    "            cbar=False,\n",
    "            annot=True,\n",
    "            square=True,\n",
    "            fmt='d',\n",
    "            xticklabels=['Benign', 'Malignant'],\n",
    "            yticklabels=['Benign', 'Malignant'])\n",
    "plt.xlabel('Predicted', weight='bold')\n",
    "plt.ylabel('True', rotation=0, weight='bold')\n",
    "plt.yticks(rotation=0)\n",
    "#plt.savefig('confusion_matrix.png', dpi=600)"
   ]
  },
  {
   "cell_type": "code",
   "execution_count": 44,
   "metadata": {
    "ExecuteTime": {
     "end_time": "2020-08-03T20:37:02.036517Z",
     "start_time": "2020-08-03T20:37:02.028524Z"
    }
   },
   "outputs": [
    {
     "data": {
      "text/plain": [
       "array([[1.53240459, 0.70611871, 0.7739667 , 0.29564046, 1.70957923,\n",
       "        0.92813299, 0.72266259, 0.95312796]])"
      ]
     },
     "execution_count": 44,
     "metadata": {},
     "output_type": "execute_result"
    }
   ],
   "source": [
    "#scaled coef of features (X2) in log odds\n",
    "logit.coef_"
   ]
  },
  {
   "cell_type": "code",
   "execution_count": 45,
   "metadata": {
    "ExecuteTime": {
     "end_time": "2020-08-03T20:37:02.862990Z",
     "start_time": "2020-08-03T20:37:02.857589Z"
    }
   },
   "outputs": [],
   "source": [
    "# unscaled coef of features?\n",
    "# unscaled_coef = np.true_divide(logit.coef_, scaler.scale_)\n",
    "# unscaled_coef"
   ]
  },
  {
   "cell_type": "code",
   "execution_count": 46,
   "metadata": {
    "ExecuteTime": {
     "end_time": "2020-08-03T20:37:04.976647Z",
     "start_time": "2020-08-03T20:37:04.966624Z"
    }
   },
   "outputs": [
    {
     "data": {
      "text/plain": [
       "array([[4.62929499, 2.02611204, 2.16835042, 1.34398686, 5.52663556,\n",
       "        2.52978164, 2.0599106 , 2.59381031]])"
      ]
     },
     "execution_count": 46,
     "metadata": {},
     "output_type": "execute_result"
    }
   ],
   "source": [
    "#getting rid of log: this is the increase in likelihood of positive class (malignant tumor) for unit std deviation increase in feature\n",
    "np.exp(logit.coef_)"
   ]
  },
  {
   "cell_type": "markdown",
   "metadata": {},
   "source": [
    "## Exporting Data for Visualization"
   ]
  },
  {
   "cell_type": "code",
   "execution_count": 47,
   "metadata": {
    "ExecuteTime": {
     "end_time": "2020-08-03T20:40:02.958789Z",
     "start_time": "2020-08-03T20:40:02.941213Z"
    }
   },
   "outputs": [],
   "source": [
    "#exporting feature coefficients\n",
    "columns = [\n",
    "    'Clump Thickness', 'Uniform Cellsize', 'Marginal Adhesion',\n",
    "    'Epithelial Size', 'Bare Nuclei', 'Bland Chromatin', 'Normal Nucleoli',\n",
    "    'Mitoses'\n",
    "]\n",
    "perc_inc= [\n",
    "    362.929499, 102.611204, 116.835042, 34.398686, 452.663556,\n",
    "        152.978164, 105.99106 , 159.381031\n",
    "]\n",
    "coef_dic = {'Characteristic': columns, 'Coefficient': perc_inc}\n",
    "\n",
    "coefs_df = pd.DataFrame(coef_dic)\n",
    "#coefs_df.to_csv('breastcancer_coefs.csv')"
   ]
  },
  {
   "cell_type": "code",
   "execution_count": 48,
   "metadata": {
    "ExecuteTime": {
     "end_time": "2020-08-03T20:40:06.510592Z",
     "start_time": "2020-08-03T20:40:06.471180Z"
    }
   },
   "outputs": [],
   "source": [
    "from src.models.logit_test import logit_test\n",
    "\n",
    "logit_accuracy, logit_precision, logit_recall, logit_f1, logit_rocauc = logit_test(X2_train, X2_test, y2_train, y2_test)"
   ]
  },
  {
   "cell_type": "code",
   "execution_count": 49,
   "metadata": {
    "ExecuteTime": {
     "end_time": "2020-08-03T20:40:17.846077Z",
     "start_time": "2020-08-03T20:40:17.837926Z"
    }
   },
   "outputs": [],
   "source": [
    "#exporting logistic regression metrics\n",
    "metrics = [\n",
    "    'Accuracy', 'Precision', 'Recall', 'F1', 'ROC/AUC'\n",
    "]\n",
    "values = [\n",
    "    logit_accuracy, logit_precision, logit_recall, logit_f1, logit_rocauc\n",
    "]\n",
    "metric_dic = {'Metric': metrics, 'Score': values}\n",
    "\n",
    "metric_df = pd.DataFrame(metric_dic)\n",
    "#metric_df.to_csv('breastcancer_logit_metrics.csv')"
   ]
  },
  {
   "cell_type": "code",
   "execution_count": null,
   "metadata": {},
   "outputs": [],
   "source": []
  }
 ],
 "metadata": {
  "kernelspec": {
   "display_name": "Python 3",
   "language": "python",
   "name": "python3"
  },
  "language_info": {
   "codemirror_mode": {
    "name": "ipython",
    "version": 3
   },
   "file_extension": ".py",
   "mimetype": "text/x-python",
   "name": "python",
   "nbconvert_exporter": "python",
   "pygments_lexer": "ipython3",
   "version": "3.7.7"
  },
  "toc": {
   "base_numbering": 1,
   "nav_menu": {},
   "number_sections": true,
   "sideBar": true,
   "skip_h1_title": false,
   "title_cell": "Table of Contents",
   "title_sidebar": "Contents",
   "toc_cell": false,
   "toc_position": {
    "height": "calc(100% - 180px)",
    "left": "10px",
    "top": "150px",
    "width": "226.2px"
   },
   "toc_section_display": true,
   "toc_window_display": false
  },
  "varInspector": {
   "cols": {
    "lenName": 16,
    "lenType": 16,
    "lenVar": 40
   },
   "kernels_config": {
    "python": {
     "delete_cmd_postfix": "",
     "delete_cmd_prefix": "del ",
     "library": "var_list.py",
     "varRefreshCmd": "print(var_dic_list())"
    },
    "r": {
     "delete_cmd_postfix": ") ",
     "delete_cmd_prefix": "rm(",
     "library": "var_list.r",
     "varRefreshCmd": "cat(var_dic_list()) "
    }
   },
   "types_to_exclude": [
    "module",
    "function",
    "builtin_function_or_method",
    "instance",
    "_Feature"
   ],
   "window_display": false
  }
 },
 "nbformat": 4,
 "nbformat_minor": 4
}
