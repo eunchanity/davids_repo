{
 "cells": [
  {
   "cell_type": "code",
   "execution_count": 11,
   "metadata": {},
   "outputs": [],
   "source": [
    "import re\n",
    "from collections import Counter"
   ]
  },
  {
   "cell_type": "code",
   "execution_count": 20,
   "metadata": {},
   "outputs": [],
   "source": [
    "def calculate_beauty(s, high_value=26):\n",
    "    \"\"\"\n",
    "    Calculates a \"beauty score\" for a given string based on the number of occurences of each letter.\n",
    "    The highest letter gets 26 points for each occurence, 25 for the next, etc. Ignores uppercase and non-letters.\n",
    "    :return: Beauty score\n",
    "    :rtype: int\n",
    "    \"\"\"\n",
    "    # remove special characters and make lowercase\n",
    "    s_letters = re.sub(r'[^A-Za-z]', '', s.lower())\n",
    "    \n",
    "    # count occurences of each letter in word\n",
    "    count = Counter()\n",
    "    for letter in s_letters:\n",
    "        count[letter] += 1\n",
    "    \n",
    "    # create list of occurences in ranked (descending) order\n",
    "    occurences = list(count.values())\n",
    "    occurences.sort(reverse=True)\n",
    "    \n",
    "    return sum([num*(26 - idx) for idx, num in enumerate(occurences)])"
   ]
  },
  {
   "cell_type": "code",
   "execution_count": 21,
   "metadata": {},
   "outputs": [
    {
     "data": {
      "text/plain": [
       "491"
      ]
     },
     "execution_count": 21,
     "metadata": {},
     "output_type": "execute_result"
    }
   ],
   "source": [
    "calculate_beauty('Ignore punctuation, please 🙂')"
   ]
  },
  {
   "cell_type": "code",
   "execution_count": 24,
   "metadata": {},
   "outputs": [],
   "source": [
    "def calculate_beauty2(s):\n",
    "    '''\n",
    "    A more efficient version of caculate_beauty with same parameters\n",
    "    '''\n",
    "    s_letters = re.sub(r'[^A-Za-z]', '', s.lower())\n",
    "    count = Counter(s_letters).most_common()\n",
    "    \n",
    "    return sum([(26-i)*tup[1] for i,tup in enumerate(count)])\n",
    "    "
   ]
  },
  {
   "cell_type": "code",
   "execution_count": 25,
   "metadata": {},
   "outputs": [
    {
     "data": {
      "text/plain": [
       "491"
      ]
     },
     "execution_count": 25,
     "metadata": {},
     "output_type": "execute_result"
    }
   ],
   "source": [
    "calculate_beauty2('Ignore punctuation, please 🙂')"
   ]
  },
  {
   "cell_type": "code",
   "execution_count": null,
   "metadata": {},
   "outputs": [],
   "source": []
  }
 ],
 "metadata": {
  "kernelspec": {
   "display_name": "Python 3",
   "language": "python",
   "name": "python3"
  },
  "language_info": {
   "codemirror_mode": {
    "name": "ipython",
    "version": 3
   },
   "file_extension": ".py",
   "mimetype": "text/x-python",
   "name": "python",
   "nbconvert_exporter": "python",
   "pygments_lexer": "ipython3",
   "version": "3.7.7"
  }
 },
 "nbformat": 4,
 "nbformat_minor": 4
}
