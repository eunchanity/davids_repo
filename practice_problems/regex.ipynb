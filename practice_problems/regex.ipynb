{
 "cells": [
  {
   "cell_type": "code",
   "execution_count": 1,
   "metadata": {
    "ExecuteTime": {
     "end_time": "2020-07-08T14:25:48.675902Z",
     "start_time": "2020-07-08T14:25:48.672815Z"
    }
   },
   "outputs": [],
   "source": [
    "import re"
   ]
  },
  {
   "cell_type": "code",
   "execution_count": 14,
   "metadata": {
    "ExecuteTime": {
     "end_time": "2020-07-08T15:05:47.078166Z",
     "start_time": "2020-07-08T15:05:47.073639Z"
    }
   },
   "outputs": [],
   "source": [
    "'''\n",
    "Input an email to see if it a valid email\n",
    "'''\n",
    "def is_email(emails):\n",
    "    regex = re.compile('[A-Z0-9._%+-]+@[A-Z0-9.-]+\\.[A-Z]{2,}', re.IGNORECASE)\n",
    "    result = []\n",
    "    for email in emails:\n",
    "        result.append(bool(re.match(regex, email)))\n",
    "    return result"
   ]
  },
  {
   "cell_type": "code",
   "execution_count": 15,
   "metadata": {
    "ExecuteTime": {
     "end_time": "2020-07-08T15:05:47.519525Z",
     "start_time": "2020-07-08T15:05:47.514474Z"
    }
   },
   "outputs": [],
   "source": [
    "test_cases_pass = ['b@d.net','1@d.net','b@domain.net','bob123@alice123.com',\n",
    "              'very.common@example.com','niceandsimple@example.com',\n",
    "              'a.little.lengthy.but.fine@dept.example.com','disposable.style.email.with+156@example.com',\n",
    "              'disposable.style.email.with+symbol@example.com']"
   ]
  },
  {
   "cell_type": "code",
   "execution_count": 16,
   "metadata": {
    "ExecuteTime": {
     "end_time": "2020-07-08T15:05:48.804067Z",
     "start_time": "2020-07-08T15:05:48.799367Z"
    }
   },
   "outputs": [],
   "source": [
    "test_cases_fail = ['hfij#kjdfvkl','Abc.example.com','this is not true','<invalid>@foo.com',\n",
    "              'A@b@c@example.com','asterisk_domain@foo.*','just\"not\"right@example.com',\n",
    "              'this is\"not\\allowed@example.com',\n",
    "              'a\"b(c)d,e:f;g<h>i[j\\\\k]l@example.com','this\\ still\\\"not\\\\allowed@example.com']"
   ]
  },
  {
   "cell_type": "code",
   "execution_count": 17,
   "metadata": {
    "ExecuteTime": {
     "end_time": "2020-07-08T15:05:49.168097Z",
     "start_time": "2020-07-08T15:05:49.157188Z"
    }
   },
   "outputs": [
    {
     "data": {
      "text/plain": [
       "[True, True, True, True, True, True, True, True, True]"
      ]
     },
     "execution_count": 17,
     "metadata": {},
     "output_type": "execute_result"
    }
   ],
   "source": [
    "is_email(test_cases_pass)"
   ]
  },
  {
   "cell_type": "code",
   "execution_count": 18,
   "metadata": {
    "ExecuteTime": {
     "end_time": "2020-07-08T15:05:50.395543Z",
     "start_time": "2020-07-08T15:05:50.387622Z"
    }
   },
   "outputs": [
    {
     "data": {
      "text/plain": [
       "[False, False, False, False, False, False, False, False, False, False]"
      ]
     },
     "execution_count": 18,
     "metadata": {},
     "output_type": "execute_result"
    }
   ],
   "source": [
    "is_email(test_cases_fail)"
   ]
  },
  {
   "cell_type": "code",
   "execution_count": null,
   "metadata": {},
   "outputs": [],
   "source": []
  }
 ],
 "metadata": {
  "kernelspec": {
   "display_name": "Python 3",
   "language": "python",
   "name": "python3"
  },
  "language_info": {
   "codemirror_mode": {
    "name": "ipython",
    "version": 3
   },
   "file_extension": ".py",
   "mimetype": "text/x-python",
   "name": "python",
   "nbconvert_exporter": "python",
   "pygments_lexer": "ipython3",
   "version": "3.7.7"
  },
  "toc": {
   "base_numbering": 1,
   "nav_menu": {},
   "number_sections": true,
   "sideBar": true,
   "skip_h1_title": false,
   "title_cell": "Table of Contents",
   "title_sidebar": "Contents",
   "toc_cell": false,
   "toc_position": {},
   "toc_section_display": true,
   "toc_window_display": false
  }
 },
 "nbformat": 4,
 "nbformat_minor": 4
}
