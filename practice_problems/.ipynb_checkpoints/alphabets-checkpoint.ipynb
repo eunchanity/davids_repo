{
 "cells": [
  {
   "cell_type": "markdown",
   "metadata": {},
   "source": [
    "### Problem 1"
   ]
  },
  {
   "cell_type": "code",
   "execution_count": 10,
   "metadata": {},
   "outputs": [],
   "source": [
    "def reverseString(x):\n",
    "    '''\n",
    "    input: string\n",
    "    output: reverse of string\n",
    "    '''\n",
    "    if not type(x) == (str):\n",
    "        return 'Enter a string'\n",
    "    else:\n",
    "        return x[-1::-1]"
   ]
  },
  {
   "cell_type": "code",
   "execution_count": 13,
   "metadata": {},
   "outputs": [
    {
     "data": {
      "text/plain": [
       "'ih'"
      ]
     },
     "execution_count": 13,
     "metadata": {},
     "output_type": "execute_result"
    }
   ],
   "source": [
    "reverseString('hi')"
   ]
  },
  {
   "cell_type": "markdown",
   "metadata": {},
   "source": [
    "### Problem 2"
   ]
  },
  {
   "cell_type": "code",
   "execution_count": 3,
   "metadata": {},
   "outputs": [],
   "source": [
    "from collections import Counter\n",
    "def CanYouSpell(mylist, name):\n",
    "    '''\n",
    "    input: mylist(list) and name(str)\n",
    "    return: function returns True if name can be created from the elem in mylist\n",
    "            letters in mylist can only be used once\n",
    "    '''\n",
    "    mycounter = Counter()\n",
    "    for char in mylist:\n",
    "        mycounter[char]+=1\n",
    "    for char in name:\n",
    "        mycounter[char]-=1\n",
    "        if mycounter[char]<0:\n",
    "            return False\n",
    "    return True"
   ]
  },
  {
   "cell_type": "code",
   "execution_count": 6,
   "metadata": {},
   "outputs": [
    {
     "name": "stdout",
     "output_type": "stream",
     "text": [
      "True\n"
     ]
    }
   ],
   "source": [
    "print(CanYouSpell(['y','n','p','g','l','n'],'lynn'))"
   ]
  },
  {
   "cell_type": "code",
   "execution_count": null,
   "metadata": {},
   "outputs": [],
   "source": []
  }
 ],
 "metadata": {
  "kernelspec": {
   "display_name": "Python 3",
   "language": "python",
   "name": "python3"
  },
  "language_info": {
   "codemirror_mode": {
    "name": "ipython",
    "version": 3
   },
   "file_extension": ".py",
   "mimetype": "text/x-python",
   "name": "python",
   "nbconvert_exporter": "python",
   "pygments_lexer": "ipython3",
   "version": "3.8.3"
  }
 },
 "nbformat": 4,
 "nbformat_minor": 4
}
