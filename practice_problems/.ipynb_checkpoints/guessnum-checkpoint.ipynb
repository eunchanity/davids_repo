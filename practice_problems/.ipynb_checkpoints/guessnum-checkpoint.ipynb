{
 "cells": [
  {
   "cell_type": "code",
   "execution_count": 4,
   "metadata": {},
   "outputs": [
    {
     "data": {
      "text/plain": [
       "'I took 7 tries to guess!'"
      ]
     },
     "execution_count": 4,
     "metadata": {},
     "output_type": "execute_result"
    }
   ],
   "source": [
    "def guess(num):\n",
    "    '''\n",
    "    input: num (int) is a number between 1 and 100\n",
    "    output: function will return the number of tries it took to guess num\n",
    "    '''\n",
    "    low = 1\n",
    "    high = 100\n",
    "    counter = 0\n",
    "\n",
    "    for i in range(1, 101):\n",
    "        guess = (low + high) // 2\n",
    "        counter += 1\n",
    "        if guess == num:\n",
    "            return f\"I took {counter} tries to guess!\"\n",
    "        elif guess > num:\n",
    "            high = guess\n",
    "        else:\n",
    "            low = guess + 1\n",
    "\n",
    "\n",
    "guess(28)"
   ]
  },
  {
   "cell_type": "code",
   "execution_count": 51,
   "metadata": {},
   "outputs": [],
   "source": [
    "numberString = '''7316717653133062491922511967442657474235534919493496983520312774506326239578318016984801869478851843858615607891129494954595017379583319528532088055111254069874715852386305071569329096329522744304355766896648950445244523161731856403098711121722383113622298934233803081353362766142828064444866452387493035890729629049156044077239071381051585930796086670172427121883998797908792274921901699720888093776657273330010533678812202354218097512545405947522435258490771167055601360483958644670632441572215539753697817977846174064955149290862569321978468622482839722413756570560574902614079729686524145351004748216637048440319989000889524345065854122758866688116427171479924442928230863465674813919123162824586178664583591245665294765456828489128831426076900422421902267105562632111110937054421750694165896040807198403850962455444362981230987879927244284909188845801561660979191338754992005240636899125607176060588611646710940507754100225698315520005593572972571636269561882670428252483600823257530420752963450'''\n",
    "adjacentdigits = 13"
   ]
  },
  {
   "cell_type": "code",
   "execution_count": 72,
   "metadata": {},
   "outputs": [],
   "source": [
    "import numpy as np\n",
    "import collections\n",
    "import itertools\n",
    "\n",
    "\n",
    "def maxproduct(numberString, adjacentdigits):\n",
    "    '''\n",
    "    input:\n",
    "        :numberString(str) is a long string of numbers and \n",
    "        :adjacentdigits(int) is the number of digits next to each other to be multiplied\n",
    "    output: value of maxproduct(int) and the maxstring(str) of digits that have maxproduct\n",
    "    '''\n",
    "    max_product = 0\n",
    "    max_string = ''\n",
    "    for i in range(len(numberString) - adjacentdigits + 1):\n",
    "        prod = np.prod([int(v) for v in numberString[i:i + adjacentdigits]])\n",
    "        if prod > max_product:\n",
    "            max_product = prod\n",
    "            max_string = numberString[i:i + adjacentdigits]\n",
    "    return max_product, max_string"
   ]
  },
  {
   "cell_type": "code",
   "execution_count": 73,
   "metadata": {},
   "outputs": [
    {
     "data": {
      "text/plain": [
       "(23514624000, '5576689664895')"
      ]
     },
     "execution_count": 73,
     "metadata": {},
     "output_type": "execute_result"
    }
   ],
   "source": [
    "maxproduct(numberString, adjacentdigits)"
   ]
  },
  {
   "cell_type": "code",
   "execution_count": null,
   "metadata": {},
   "outputs": [],
   "source": []
  }
 ],
 "metadata": {
  "kernelspec": {
   "display_name": "Python 3",
   "language": "python",
   "name": "python3"
  },
  "language_info": {
   "codemirror_mode": {
    "name": "ipython",
    "version": 3
   },
   "file_extension": ".py",
   "mimetype": "text/x-python",
   "name": "python",
   "nbconvert_exporter": "python",
   "pygments_lexer": "ipython3",
   "version": "3.7.7"
  },
  "toc": {
   "base_numbering": 1,
   "nav_menu": {},
   "number_sections": true,
   "sideBar": true,
   "skip_h1_title": false,
   "title_cell": "Table of Contents",
   "title_sidebar": "Contents",
   "toc_cell": false,
   "toc_position": {},
   "toc_section_display": true,
   "toc_window_display": false
  }
 },
 "nbformat": 4,
 "nbformat_minor": 4
}
