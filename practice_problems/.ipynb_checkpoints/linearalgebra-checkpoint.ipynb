{
 "cells": [
  {
   "cell_type": "code",
   "execution_count": null,
   "metadata": {},
   "outputs": [],
   "source": [
    "'''\n",
    "solve for w such that the dot produt of x and w = y\n",
    "'''"
   ]
  },
  {
   "cell_type": "code",
   "execution_count": 23,
   "metadata": {
    "ExecuteTime": {
     "end_time": "2020-07-09T14:42:18.500471Z",
     "start_time": "2020-07-09T14:42:18.491471Z"
    }
   },
   "outputs": [],
   "source": [
    "#Problem A:\n",
    "x1 = [[2]]\n",
    "y1 = [8]\n",
    "w1 = [4]"
   ]
  },
  {
   "cell_type": "code",
   "execution_count": 24,
   "metadata": {
    "ExecuteTime": {
     "end_time": "2020-07-09T14:42:18.699086Z",
     "start_time": "2020-07-09T14:42:18.696394Z"
    }
   },
   "outputs": [],
   "source": [
    "#Problem B:\n",
    "x2 = [[0]]\n",
    "y2 = [8]\n",
    "# w2 = N/A"
   ]
  },
  {
   "cell_type": "code",
   "execution_count": 25,
   "metadata": {
    "ExecuteTime": {
     "end_time": "2020-07-09T14:42:18.890570Z",
     "start_time": "2020-07-09T14:42:18.882349Z"
    }
   },
   "outputs": [],
   "source": [
    "#Problem C:\n",
    "x3 = [[2, 4]]\n",
    "y3 = [8]\n",
    "# w3 = infinite solutions; multicollinearity"
   ]
  },
  {
   "cell_type": "code",
   "execution_count": 32,
   "metadata": {
    "ExecuteTime": {
     "end_time": "2020-07-09T14:45:39.923971Z",
     "start_time": "2020-07-09T14:45:39.914385Z"
    }
   },
   "outputs": [
    {
     "data": {
      "text/plain": [
       "array([28,  3])"
      ]
     },
     "execution_count": 32,
     "metadata": {},
     "output_type": "execute_result"
    }
   ],
   "source": [
    "#Problem D:\n",
    "\n",
    "x4 = [[2, 4], [0, 1]]\n",
    "y4 = [8, 3]"
   ]
  },
  {
   "cell_type": "code",
   "execution_count": 11,
   "metadata": {
    "ExecuteTime": {
     "end_time": "2020-07-09T15:16:03.686851Z",
     "start_time": "2020-07-09T15:16:03.675904Z"
    }
   },
   "outputs": [
    {
     "data": {
      "text/plain": [
       "array([-2.,  3.])"
      ]
     },
     "execution_count": 11,
     "metadata": {},
     "output_type": "execute_result"
    }
   ],
   "source": [
    "import numpy as np\n",
    "x4 = np.array([[2, 4], [0, 1]])\n",
    "y4 = np.array([8, 3])\n",
    "# w4 = np.array([-2, 3])\n",
    "# x4.dot(w4)               # confirm\n",
    "np.linalg.solve(x4, y4)  # find"
   ]
  },
  {
   "cell_type": "code",
   "execution_count": null,
   "metadata": {},
   "outputs": [],
   "source": []
  }
 ],
 "metadata": {
  "kernelspec": {
   "display_name": "Python 3",
   "language": "python",
   "name": "python3"
  },
  "language_info": {
   "codemirror_mode": {
    "name": "ipython",
    "version": 3
   },
   "file_extension": ".py",
   "mimetype": "text/x-python",
   "name": "python",
   "nbconvert_exporter": "python",
   "pygments_lexer": "ipython3",
   "version": "3.7.7"
  },
  "toc": {
   "base_numbering": 1,
   "nav_menu": {},
   "number_sections": true,
   "sideBar": true,
   "skip_h1_title": false,
   "title_cell": "Table of Contents",
   "title_sidebar": "Contents",
   "toc_cell": false,
   "toc_position": {},
   "toc_section_display": true,
   "toc_window_display": false
  }
 },
 "nbformat": 4,
 "nbformat_minor": 4
}
