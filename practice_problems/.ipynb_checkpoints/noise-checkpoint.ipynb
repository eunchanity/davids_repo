{
 "cells": [
  {
   "cell_type": "code",
   "execution_count": 4,
   "metadata": {
    "ExecuteTime": {
     "end_time": "2020-07-13T14:47:11.614208Z",
     "start_time": "2020-07-13T14:47:11.611340Z"
    }
   },
   "outputs": [],
   "source": [
    "import seaborn as sns\n",
    "import numpy as np\n",
    "import statsmodels.api as sm\n",
    "import matplotlib.pyplot as plt"
   ]
  },
  {
   "cell_type": "code",
   "execution_count": 5,
   "metadata": {
    "ExecuteTime": {
     "end_time": "2020-07-13T14:47:11.891250Z",
     "start_time": "2020-07-13T14:47:11.884539Z"
    }
   },
   "outputs": [],
   "source": [
    "def random_models(n_features, iterations):\n",
    "    rsqs = []\n",
    "    adj_rsqs = []\n",
    "    for i in range(1,iterations):\n",
    "        y = np.random.randint(1,1000, size=200)\n",
    "        X = np.random.randint(1,1000, size=(200,n_features))\n",
    "        model = sm.OLS(y, X)\n",
    "        fit = model.fit()\n",
    "        rsq = fit.rsquared\n",
    "        adj_rsq = fit.rsquared_adj\n",
    "        rsqs.append(rsq)\n",
    "        adj_rsqs.append(adj_rsq)\n",
    "    return np.mean(rsqs), np.mean(adj_rsqs)"
   ]
  },
  {
   "cell_type": "code",
   "execution_count": 6,
   "metadata": {
    "ExecuteTime": {
     "end_time": "2020-07-13T14:47:50.689616Z",
     "start_time": "2020-07-13T14:47:12.159569Z"
    }
   },
   "outputs": [],
   "source": [
    "xs = np.arange(1,100)\n",
    "yrsq, yadj_rsq = [], []\n",
    "for x in xs:\n",
    "    rsq, adj_rsq = random_models(x, 100)\n",
    "    yrsq.append(rsq)\n",
    "    yadj_rsq.append(adj_rsq)"
   ]
  },
  {
   "cell_type": "code",
   "execution_count": 7,
   "metadata": {
    "ExecuteTime": {
     "end_time": "2020-07-13T14:47:51.271591Z",
     "start_time": "2020-07-13T14:47:50.692846Z"
    }
   },
   "outputs": [
    {
     "data": {
      "image/png": "[encoded data removed]",
      "text/plain": [
       "<Figure size 432x288 with 1 Axes>"
      ]
     },
     "metadata": {
      "needs_background": "light"
     },
     "output_type": "display_data"
    }
   ],
   "source": [
    "sns.scatterplot(xs, yrsq, label='R Squared')\n",
    "sns.scatterplot(xs, yadj_rsq, label = 'Adj R Squared')\n",
    "plt.legend()\n",
    "plt.title('R sq and adj R Sq against Number of Features')\n",
    "plt.xlabel('Number of Features')\n",
    "plt.ylabel('Avg R of 100 iterations')\n",
    "plt.show()"
   ]
  },
  {
   "cell_type": "markdown",
   "metadata": {},
   "source": [
    "### Simpler solution"
   ]
  },
  {
   "cell_type": "code",
   "execution_count": 13,
   "metadata": {
    "ExecuteTime": {
     "end_time": "2020-07-13T15:05:34.361228Z",
     "start_time": "2020-07-13T15:05:34.347507Z"
    }
   },
   "outputs": [],
   "source": [
    "import pandas as pd\n",
    "import numpy as np\n",
    "import statsmodels.api as sm\n",
    "from sklearn.linear_model import LinearRegression\n",
    "import seaborn as sns\n",
    "import matplotlib.pyplot as plt\n",
    "%matplotlib inline"
   ]
  },
  {
   "cell_type": "code",
   "execution_count": 14,
   "metadata": {
    "ExecuteTime": {
     "end_time": "2020-07-13T15:05:34.631199Z",
     "start_time": "2020-07-13T15:05:34.591192Z"
    }
   },
   "outputs": [
    {
     "data": {
      "text/html": [
       "<table class=\"simpletable\">\n",
       "<caption>OLS Regression Results</caption>\n",
       "<tr>\n",
       "  <th>Dep. Variable:</th>            <td>y</td>        <th>  R-squared (uncentered):</th>      <td>   0.764</td>\n",
       "</tr>\n",
       "<tr>\n",
       "  <th>Model:</th>                   <td>OLS</td>       <th>  Adj. R-squared (uncentered):</th> <td>   0.737</td>\n",
       "</tr>\n",
       "<tr>\n",
       "  <th>Method:</th>             <td>Least Squares</td>  <th>  F-statistic:       </th>          <td>   29.06</td>\n",
       "</tr>\n",
       "<tr>\n",
       "  <th>Date:</th>             <td>Mon, 13 Jul 2020</td> <th>  Prob (F-statistic):</th>          <td>6.84e-46</td>\n",
       "</tr>\n",
       "<tr>\n",
       "  <th>Time:</th>                 <td>11:05:34</td>     <th>  Log-Likelihood:    </th>          <td> -1418.0</td>\n",
       "</tr>\n",
       "<tr>\n",
       "  <th>No. Observations:</th>      <td>   200</td>      <th>  AIC:               </th>          <td>   2876.</td>\n",
       "</tr>\n",
       "<tr>\n",
       "  <th>Df Residuals:</th>          <td>   180</td>      <th>  BIC:               </th>          <td>   2942.</td>\n",
       "</tr>\n",
       "<tr>\n",
       "  <th>Df Model:</th>              <td>    20</td>      <th>                     </th>              <td> </td>   \n",
       "</tr>\n",
       "<tr>\n",
       "  <th>Covariance Type:</th>      <td>nonrobust</td>    <th>                     </th>              <td> </td>   \n",
       "</tr>\n",
       "</table>\n",
       "<table class=\"simpletable\">\n",
       "<tr>\n",
       "   <td></td>      <th>coef</th>     <th>std err</th>      <th>t</th>      <th>P>|t|</th>  <th>[0.025</th>    <th>0.975]</th>  \n",
       "</tr>\n",
       "<tr>\n",
       "  <th>x1</th>  <td>   -0.1604</td> <td>    0.081</td> <td>   -1.969</td> <td> 0.051</td> <td>   -0.321</td> <td>    0.000</td>\n",
       "</tr>\n",
       "<tr>\n",
       "  <th>x2</th>  <td>    0.0783</td> <td>    0.076</td> <td>    1.024</td> <td> 0.307</td> <td>   -0.073</td> <td>    0.229</td>\n",
       "</tr>\n",
       "<tr>\n",
       "  <th>x3</th>  <td>    0.1427</td> <td>    0.078</td> <td>    1.836</td> <td> 0.068</td> <td>   -0.011</td> <td>    0.296</td>\n",
       "</tr>\n",
       "<tr>\n",
       "  <th>x4</th>  <td>    0.1126</td> <td>    0.081</td> <td>    1.394</td> <td> 0.165</td> <td>   -0.047</td> <td>    0.272</td>\n",
       "</tr>\n",
       "<tr>\n",
       "  <th>x5</th>  <td>   -0.0204</td> <td>    0.079</td> <td>   -0.257</td> <td> 0.797</td> <td>   -0.177</td> <td>    0.136</td>\n",
       "</tr>\n",
       "<tr>\n",
       "  <th>x6</th>  <td>   -0.0488</td> <td>    0.081</td> <td>   -0.601</td> <td> 0.549</td> <td>   -0.209</td> <td>    0.111</td>\n",
       "</tr>\n",
       "<tr>\n",
       "  <th>x7</th>  <td>   -0.0418</td> <td>    0.077</td> <td>   -0.540</td> <td> 0.590</td> <td>   -0.195</td> <td>    0.111</td>\n",
       "</tr>\n",
       "<tr>\n",
       "  <th>x8</th>  <td>    0.0554</td> <td>    0.078</td> <td>    0.706</td> <td> 0.481</td> <td>   -0.099</td> <td>    0.210</td>\n",
       "</tr>\n",
       "<tr>\n",
       "  <th>x9</th>  <td>    0.0273</td> <td>    0.077</td> <td>    0.356</td> <td> 0.722</td> <td>   -0.124</td> <td>    0.179</td>\n",
       "</tr>\n",
       "<tr>\n",
       "  <th>x10</th> <td>    0.0880</td> <td>    0.077</td> <td>    1.147</td> <td> 0.253</td> <td>   -0.063</td> <td>    0.239</td>\n",
       "</tr>\n",
       "<tr>\n",
       "  <th>x11</th> <td>   -0.0085</td> <td>    0.074</td> <td>   -0.115</td> <td> 0.909</td> <td>   -0.154</td> <td>    0.137</td>\n",
       "</tr>\n",
       "<tr>\n",
       "  <th>x12</th> <td>    0.0536</td> <td>    0.080</td> <td>    0.671</td> <td> 0.503</td> <td>   -0.104</td> <td>    0.211</td>\n",
       "</tr>\n",
       "<tr>\n",
       "  <th>x13</th> <td>   -0.0101</td> <td>    0.076</td> <td>   -0.133</td> <td> 0.894</td> <td>   -0.161</td> <td>    0.140</td>\n",
       "</tr>\n",
       "<tr>\n",
       "  <th>x14</th> <td>   -0.0167</td> <td>    0.082</td> <td>   -0.204</td> <td> 0.838</td> <td>   -0.178</td> <td>    0.145</td>\n",
       "</tr>\n",
       "<tr>\n",
       "  <th>x15</th> <td>    0.1215</td> <td>    0.076</td> <td>    1.607</td> <td> 0.110</td> <td>   -0.028</td> <td>    0.271</td>\n",
       "</tr>\n",
       "<tr>\n",
       "  <th>x16</th> <td>    0.1595</td> <td>    0.078</td> <td>    2.057</td> <td> 0.041</td> <td>    0.006</td> <td>    0.313</td>\n",
       "</tr>\n",
       "<tr>\n",
       "  <th>x17</th> <td>    0.2778</td> <td>    0.088</td> <td>    3.166</td> <td> 0.002</td> <td>    0.105</td> <td>    0.451</td>\n",
       "</tr>\n",
       "<tr>\n",
       "  <th>x18</th> <td>    0.0743</td> <td>    0.077</td> <td>    0.963</td> <td> 0.337</td> <td>   -0.078</td> <td>    0.226</td>\n",
       "</tr>\n",
       "<tr>\n",
       "  <th>x19</th> <td>    0.0978</td> <td>    0.078</td> <td>    1.254</td> <td> 0.211</td> <td>   -0.056</td> <td>    0.252</td>\n",
       "</tr>\n",
       "<tr>\n",
       "  <th>x20</th> <td>    0.0182</td> <td>    0.070</td> <td>    0.260</td> <td> 0.795</td> <td>   -0.119</td> <td>    0.156</td>\n",
       "</tr>\n",
       "</table>\n",
       "<table class=\"simpletable\">\n",
       "<tr>\n",
       "  <th>Omnibus:</th>       <td>29.167</td> <th>  Durbin-Watson:     </th> <td>   2.006</td>\n",
       "</tr>\n",
       "<tr>\n",
       "  <th>Prob(Omnibus):</th> <td> 0.000</td> <th>  Jarque-Bera (JB):  </th> <td>   8.068</td>\n",
       "</tr>\n",
       "<tr>\n",
       "  <th>Skew:</th>          <td>-0.099</td> <th>  Prob(JB):          </th> <td>  0.0177</td>\n",
       "</tr>\n",
       "<tr>\n",
       "  <th>Kurtosis:</th>      <td> 2.036</td> <th>  Cond. No.          </th> <td>    11.5</td>\n",
       "</tr>\n",
       "</table><br/><br/>Warnings:<br/>[1] Standard Errors assume that the covariance matrix of the errors is correctly specified."
      ],
      "text/plain": [
       "<class 'statsmodels.iolib.summary.Summary'>\n",
       "\"\"\"\n",
       "                                 OLS Regression Results                                \n",
       "=======================================================================================\n",
       "Dep. Variable:                      y   R-squared (uncentered):                   0.764\n",
       "Model:                            OLS   Adj. R-squared (uncentered):              0.737\n",
       "Method:                 Least Squares   F-statistic:                              29.06\n",
       "Date:                Mon, 13 Jul 2020   Prob (F-statistic):                    6.84e-46\n",
       "Time:                        11:05:34   Log-Likelihood:                         -1418.0\n",
       "No. Observations:                 200   AIC:                                      2876.\n",
       "Df Residuals:                     180   BIC:                                      2942.\n",
       "Df Model:                          20                                                  \n",
       "Covariance Type:            nonrobust                                                  \n",
       "==============================================================================\n",
       "                 coef    std err          t      P>|t|      [0.025      0.975]\n",
       "------------------------------------------------------------------------------\n",
       "x1            -0.1604      0.081     -1.969      0.051      -0.321       0.000\n",
       "x2             0.0783      0.076      1.024      0.307      -0.073       0.229\n",
       "x3             0.1427      0.078      1.836      0.068      -0.011       0.296\n",
       "x4             0.1126      0.081      1.394      0.165      -0.047       0.272\n",
       "x5            -0.0204      0.079     -0.257      0.797      -0.177       0.136\n",
       "x6            -0.0488      0.081     -0.601      0.549      -0.209       0.111\n",
       "x7            -0.0418      0.077     -0.540      0.590      -0.195       0.111\n",
       "x8             0.0554      0.078      0.706      0.481      -0.099       0.210\n",
       "x9             0.0273      0.077      0.356      0.722      -0.124       0.179\n",
       "x10            0.0880      0.077      1.147      0.253      -0.063       0.239\n",
       "x11           -0.0085      0.074     -0.115      0.909      -0.154       0.137\n",
       "x12            0.0536      0.080      0.671      0.503      -0.104       0.211\n",
       "x13           -0.0101      0.076     -0.133      0.894      -0.161       0.140\n",
       "x14           -0.0167      0.082     -0.204      0.838      -0.178       0.145\n",
       "x15            0.1215      0.076      1.607      0.110      -0.028       0.271\n",
       "x16            0.1595      0.078      2.057      0.041       0.006       0.313\n",
       "x17            0.2778      0.088      3.166      0.002       0.105       0.451\n",
       "x18            0.0743      0.077      0.963      0.337      -0.078       0.226\n",
       "x19            0.0978      0.078      1.254      0.211      -0.056       0.252\n",
       "x20            0.0182      0.070      0.260      0.795      -0.119       0.156\n",
       "==============================================================================\n",
       "Omnibus:                       29.167   Durbin-Watson:                   2.006\n",
       "Prob(Omnibus):                  0.000   Jarque-Bera (JB):                8.068\n",
       "Skew:                          -0.099   Prob(JB):                       0.0177\n",
       "Kurtosis:                       2.036   Cond. No.                         11.5\n",
       "==============================================================================\n",
       "\n",
       "Warnings:\n",
       "[1] Standard Errors assume that the covariance matrix of the errors is correctly specified.\n",
       "\"\"\""
      ]
     },
     "execution_count": 14,
     "metadata": {},
     "output_type": "execute_result"
    }
   ],
   "source": [
    "y = np.random.randint(1000,size=200)\n",
    "X = np.random.randint(1000, size=(200,20))\n",
    "beta = np.linalg.inv(X.transpose().dot(X)).dot(X.transpose()).dot(y)\n",
    "beta\n",
    "lr = sm.OLS(y, X)\n",
    "model = lr.fit()\n",
    "model.summary()"
   ]
  },
  {
   "cell_type": "code",
   "execution_count": 15,
   "metadata": {
    "ExecuteTime": {
     "end_time": "2020-07-13T15:05:34.810915Z",
     "start_time": "2020-07-13T15:05:34.776049Z"
    }
   },
   "outputs": [
    {
     "name": "stdout",
     "output_type": "stream",
     "text": [
      "40 0.7912577106064154 0.7390721382580192 0.05218557234839616\n",
      "60 0.8234754142147216 0.7478220203067452 0.07565339390797643\n",
      "80 0.8722766181764643 0.7871276969607738 0.08514892121569051\n",
      "100 0.8731367735306237 0.7462735470612474 0.1268632264693763\n"
     ]
    }
   ],
   "source": [
    "sample_size = [40, 60, 80, 100]\n",
    "for number in sample_size:\n",
    "    X = np.random.randint(1000, size=(200,number))\n",
    "    lr = sm.OLS(y, X)\n",
    "    model = lr.fit()\n",
    "    print(number, model.rsquared, model.rsquared_adj, model.rsquared-model.rsquared_adj)\n",
    "rsquare = []\n",
    "adjusted = []"
   ]
  },
  {
   "cell_type": "code",
   "execution_count": 16,
   "metadata": {
    "ExecuteTime": {
     "end_time": "2020-07-13T15:05:35.511743Z",
     "start_time": "2020-07-13T15:05:35.050209Z"
    }
   },
   "outputs": [
    {
     "data": {
      "image/png": "[encoded data removed]",
      "text/plain": [
       "<Figure size 432x288 with 1 Axes>"
      ]
     },
     "metadata": {
      "needs_background": "light"
     },
     "output_type": "display_data"
    }
   ],
   "source": [
    "for number in range(1,101):\n",
    "    X = np.random.randint(1000, size=(200,number))\n",
    "    lr = sm.OLS(y, X)\n",
    "    model = lr.fit()\n",
    "    rsquare.append(model.rsquared)\n",
    "    adjusted.append(model.rsquared_adj)\n",
    "plt.plot(range(1,101), rsquare, label='r2')\n",
    "plt.plot(range(1,101), adjusted, label = 'adj')\n",
    "plt.legend()\n",
    "plt.title('R2 vs adjusted r2');"
   ]
  },
  {
   "cell_type": "code",
   "execution_count": null,
   "metadata": {},
   "outputs": [],
   "source": []
  }
 ],
 "metadata": {
  "kernelspec": {
   "display_name": "Python 3",
   "language": "python",
   "name": "python3"
  },
  "language_info": {
   "codemirror_mode": {
    "name": "ipython",
    "version": 3
   },
   "file_extension": ".py",
   "mimetype": "text/x-python",
   "name": "python",
   "nbconvert_exporter": "python",
   "pygments_lexer": "ipython3",
   "version": "3.7.7"
  },
  "toc": {
   "base_numbering": 1,
   "nav_menu": {},
   "number_sections": true,
   "sideBar": true,
   "skip_h1_title": false,
   "title_cell": "Table of Contents",
   "title_sidebar": "Contents",
   "toc_cell": false,
   "toc_position": {},
   "toc_section_display": true,
   "toc_window_display": false
  }
 },
 "nbformat": 4,
 "nbformat_minor": 4
}
