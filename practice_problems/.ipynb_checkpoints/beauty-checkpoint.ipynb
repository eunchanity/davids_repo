{
 "cells": [
  {
   "cell_type": "code",
   "execution_count": 1,
   "metadata": {
    "ExecuteTime": {
     "end_time": "2020-07-02T17:41:29.148353Z",
     "start_time": "2020-07-02T17:41:29.143970Z"
    }
   },
   "outputs": [],
   "source": [
    "import re\n",
    "from collections import Counter"
   ]
  },
  {
   "cell_type": "code",
   "execution_count": 2,
   "metadata": {
    "ExecuteTime": {
     "end_time": "2020-07-02T17:41:29.791644Z",
     "start_time": "2020-07-02T17:41:29.782722Z"
    }
   },
   "outputs": [],
   "source": [
    "def calculate_beauty(s, high_value=26):\n",
    "    \"\"\"\n",
    "    Calculates a \"beauty score\" for a given string based on the number of occurences of each letter.\n",
    "    The highest letter gets 26 points for each occurence, 25 for the next, etc. Ignores uppercase and non-letters.\n",
    "    :return: Beauty score\n",
    "    :rtype: int\n",
    "    \"\"\"\n",
    "    # remove special characters and make lowercase\n",
    "    s_letters = re.sub(r'[^A-Za-z]', '', s.lower())\n",
    "    \n",
    "    # count occurences of each letter in word\n",
    "    count = Counter()\n",
    "    for letter in s_letters:\n",
    "        count[letter] += 1\n",
    "    \n",
    "    # create list of occurences in ranked (descending) order\n",
    "    occurences = list(count.values())\n",
    "    occurences.sort(reverse=True)\n",
    "    \n",
    "    return sum([num*(26 - idx) for idx, num in enumerate(occurences)])"
   ]
  },
  {
   "cell_type": "code",
   "execution_count": 3,
   "metadata": {},
   "outputs": [
    {
     "data": {
      "text/plain": [
       "491"
      ]
     },
     "execution_count": 3,
     "metadata": {},
     "output_type": "execute_result"
    }
   ],
   "source": [
    "calculate_beauty('Ignore punctuation, please 🙂')"
   ]
  },
  {
   "cell_type": "code",
   "execution_count": 4,
   "metadata": {},
   "outputs": [],
   "source": [
    "def calculate_beauty2(s):\n",
    "    '''\n",
    "    A more efficient version of caculate_beauty with same parameters\n",
    "    '''\n",
    "    s_letters = re.sub(r'[^A-Za-z]', '', s.lower())\n",
    "    count = Counter(s_letters).most_common()\n",
    "    \n",
    "    return sum([(26-i)*tup[1] for i,tup in enumerate(count)])\n",
    "    "
   ]
  },
  {
   "cell_type": "code",
   "execution_count": 5,
   "metadata": {},
   "outputs": [
    {
     "data": {
      "text/plain": [
       "491"
      ]
     },
     "execution_count": 5,
     "metadata": {},
     "output_type": "execute_result"
    }
   ],
   "source": [
    "calculate_beauty2('Ignore punctuation, please 🙂')"
   ]
  },
  {
   "cell_type": "code",
   "execution_count": null,
   "metadata": {},
   "outputs": [],
   "source": []
  }
 ],
 "metadata": {
  "kernelspec": {
   "display_name": "Python 3",
   "language": "python",
   "name": "python3"
  },
  "language_info": {
   "codemirror_mode": {
    "name": "ipython",
    "version": 3
   },
   "file_extension": ".py",
   "mimetype": "text/x-python",
   "name": "python",
   "nbconvert_exporter": "python",
   "pygments_lexer": "ipython3",
   "version": "3.7.7"
  },
  "toc": {
   "base_numbering": 1,
   "nav_menu": {},
   "number_sections": true,
   "sideBar": true,
   "skip_h1_title": false,
   "title_cell": "Table of Contents",
   "title_sidebar": "Contents",
   "toc_cell": false,
   "toc_position": {},
   "toc_section_display": true,
   "toc_window_display": false
  }
 },
 "nbformat": 4,
 "nbformat_minor": 4
}
