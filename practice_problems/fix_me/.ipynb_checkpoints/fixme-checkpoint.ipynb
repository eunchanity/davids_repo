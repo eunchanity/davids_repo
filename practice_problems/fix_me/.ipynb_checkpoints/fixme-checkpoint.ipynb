{
 "cells": [
  {
   "cell_type": "markdown",
   "metadata": {},
   "source": [
    "# Fix Me\n",
    "\n",
    "This code is broken, and when running produces an OK model (r2 of ~0.53)\n",
    "\n",
    "- Fix the code\n",
    "- Improve the model"
   ]
  },
  {
   "cell_type": "code",
   "execution_count": 1,
   "metadata": {
    "ExecuteTime": {
     "end_time": "2020-07-14T14:07:21.437015Z",
     "start_time": "2020-07-14T14:07:19.151357Z"
    }
   },
   "outputs": [],
   "source": [
    "import pandas as pd\n",
    "import numpy as np\n",
    "\n",
    "from sklearn.linear_model import LinearRegression, Lasso, Ridge\n",
    "from sklearn.model_selection import KFold, train_test_split\n",
    "from sklearn.metrics import r2_score, mean_squared_error\n",
    "from sklearn.preprocessing import StandardScaler\n",
    "\n",
    "%matplotlib inline"
   ]
  },
  {
   "cell_type": "code",
   "execution_count": 2,
   "metadata": {
    "ExecuteTime": {
     "end_time": "2020-07-14T14:07:21.510280Z",
     "start_time": "2020-07-14T14:07:21.465049Z"
    }
   },
   "outputs": [],
   "source": [
    "data = pd.read_csv('./data/rossman_reduced.csv')\n",
    "extra_data = pd.read_csv('./data/rossman-extra.csv')"
   ]
  },
  {
   "cell_type": "code",
   "execution_count": 3,
   "metadata": {
    "ExecuteTime": {
     "end_time": "2020-07-14T14:07:38.681210Z",
     "start_time": "2020-07-14T14:07:38.666944Z"
    }
   },
   "outputs": [
    {
     "data": {
      "text/html": [
       "<div>\n",
       "<style scoped>\n",
       "    .dataframe tbody tr th:only-of-type {\n",
       "        vertical-align: middle;\n",
       "    }\n",
       "\n",
       "    .dataframe tbody tr th {\n",
       "        vertical-align: top;\n",
       "    }\n",
       "\n",
       "    .dataframe thead th {\n",
       "        text-align: right;\n",
       "    }\n",
       "</style>\n",
       "<table border=\"1\" class=\"dataframe\">\n",
       "  <thead>\n",
       "    <tr style=\"text-align: right;\">\n",
       "      <th></th>\n",
       "      <th>Store</th>\n",
       "      <th>Dept</th>\n",
       "      <th>Date</th>\n",
       "      <th>Weekly_Sales</th>\n",
       "      <th>IsHoliday</th>\n",
       "    </tr>\n",
       "  </thead>\n",
       "  <tbody>\n",
       "    <tr>\n",
       "      <th>0</th>\n",
       "      <td>39</td>\n",
       "      <td>59</td>\n",
       "      <td>2012-07-27</td>\n",
       "      <td>202.76</td>\n",
       "      <td>False</td>\n",
       "    </tr>\n",
       "    <tr>\n",
       "      <th>1</th>\n",
       "      <td>23</td>\n",
       "      <td>71</td>\n",
       "      <td>2011-02-18</td>\n",
       "      <td>16482.00</td>\n",
       "      <td>False</td>\n",
       "    </tr>\n",
       "    <tr>\n",
       "      <th>2</th>\n",
       "      <td>17</td>\n",
       "      <td>40</td>\n",
       "      <td>2010-02-26</td>\n",
       "      <td>48167.29</td>\n",
       "      <td>False</td>\n",
       "    </tr>\n",
       "    <tr>\n",
       "      <th>3</th>\n",
       "      <td>6</td>\n",
       "      <td>79</td>\n",
       "      <td>2011-01-07</td>\n",
       "      <td>21581.64</td>\n",
       "      <td>False</td>\n",
       "    </tr>\n",
       "    <tr>\n",
       "      <th>4</th>\n",
       "      <td>39</td>\n",
       "      <td>58</td>\n",
       "      <td>2011-05-13</td>\n",
       "      <td>1315.00</td>\n",
       "      <td>False</td>\n",
       "    </tr>\n",
       "  </tbody>\n",
       "</table>\n",
       "</div>"
      ],
      "text/plain": [
       "   Store  Dept        Date  Weekly_Sales  IsHoliday\n",
       "0     39    59  2012-07-27        202.76      False\n",
       "1     23    71  2011-02-18      16482.00      False\n",
       "2     17    40  2010-02-26      48167.29      False\n",
       "3      6    79  2011-01-07      21581.64      False\n",
       "4     39    58  2011-05-13       1315.00      False"
      ]
     },
     "execution_count": 3,
     "metadata": {},
     "output_type": "execute_result"
    }
   ],
   "source": [
    "data.head()"
   ]
  },
  {
   "cell_type": "code",
   "execution_count": 4,
   "metadata": {
    "ExecuteTime": {
     "end_time": "2020-07-14T14:07:41.968107Z",
     "start_time": "2020-07-14T14:07:41.939932Z"
    }
   },
   "outputs": [],
   "source": [
    "extra_data.drop('IsHoliday',axis=1,inplace=True)  #pull\n",
    "data = data.merge(extra_data, on=['Store','Date'])\n"
   ]
  },
  {
   "cell_type": "code",
   "execution_count": 5,
   "metadata": {
    "ExecuteTime": {
     "end_time": "2020-07-14T14:07:45.300940Z",
     "start_time": "2020-07-14T14:07:45.296333Z"
    }
   },
   "outputs": [
    {
     "data": {
      "text/plain": [
       "(30000, 14)"
      ]
     },
     "execution_count": 5,
     "metadata": {},
     "output_type": "execute_result"
    }
   ],
   "source": [
    "data.shape"
   ]
  },
  {
   "cell_type": "code",
   "execution_count": 6,
   "metadata": {
    "ExecuteTime": {
     "end_time": "2020-07-14T14:07:45.793468Z",
     "start_time": "2020-07-14T14:07:45.755767Z"
    }
   },
   "outputs": [
    {
     "data": {
      "text/html": [
       "<div>\n",
       "<style scoped>\n",
       "    .dataframe tbody tr th:only-of-type {\n",
       "        vertical-align: middle;\n",
       "    }\n",
       "\n",
       "    .dataframe tbody tr th {\n",
       "        vertical-align: top;\n",
       "    }\n",
       "\n",
       "    .dataframe thead th {\n",
       "        text-align: right;\n",
       "    }\n",
       "</style>\n",
       "<table border=\"1\" class=\"dataframe\">\n",
       "  <thead>\n",
       "    <tr style=\"text-align: right;\">\n",
       "      <th></th>\n",
       "      <th>Store</th>\n",
       "      <th>Dept</th>\n",
       "      <th>Date</th>\n",
       "      <th>Weekly_Sales</th>\n",
       "      <th>IsHoliday</th>\n",
       "      <th>Temperature</th>\n",
       "      <th>Fuel_Price</th>\n",
       "      <th>MarkDown1</th>\n",
       "      <th>MarkDown2</th>\n",
       "      <th>MarkDown3</th>\n",
       "      <th>MarkDown4</th>\n",
       "      <th>MarkDown5</th>\n",
       "      <th>CPI</th>\n",
       "      <th>Unemployment</th>\n",
       "    </tr>\n",
       "  </thead>\n",
       "  <tbody>\n",
       "    <tr>\n",
       "      <th>0</th>\n",
       "      <td>39</td>\n",
       "      <td>59</td>\n",
       "      <td>2012-07-27</td>\n",
       "      <td>202.76</td>\n",
       "      <td>False</td>\n",
       "      <td>82.89</td>\n",
       "      <td>3.407</td>\n",
       "      <td>1476.42</td>\n",
       "      <td>77.44</td>\n",
       "      <td>7.24</td>\n",
       "      <td>1008.30</td>\n",
       "      <td>35419.19</td>\n",
       "      <td>220.623405</td>\n",
       "      <td>6.623</td>\n",
       "    </tr>\n",
       "    <tr>\n",
       "      <th>1</th>\n",
       "      <td>39</td>\n",
       "      <td>46</td>\n",
       "      <td>2012-07-27</td>\n",
       "      <td>35825.85</td>\n",
       "      <td>False</td>\n",
       "      <td>82.89</td>\n",
       "      <td>3.407</td>\n",
       "      <td>1476.42</td>\n",
       "      <td>77.44</td>\n",
       "      <td>7.24</td>\n",
       "      <td>1008.30</td>\n",
       "      <td>35419.19</td>\n",
       "      <td>220.623405</td>\n",
       "      <td>6.623</td>\n",
       "    </tr>\n",
       "    <tr>\n",
       "      <th>2</th>\n",
       "      <td>39</td>\n",
       "      <td>36</td>\n",
       "      <td>2012-07-27</td>\n",
       "      <td>2871.00</td>\n",
       "      <td>False</td>\n",
       "      <td>82.89</td>\n",
       "      <td>3.407</td>\n",
       "      <td>1476.42</td>\n",
       "      <td>77.44</td>\n",
       "      <td>7.24</td>\n",
       "      <td>1008.30</td>\n",
       "      <td>35419.19</td>\n",
       "      <td>220.623405</td>\n",
       "      <td>6.623</td>\n",
       "    </tr>\n",
       "    <tr>\n",
       "      <th>3</th>\n",
       "      <td>39</td>\n",
       "      <td>29</td>\n",
       "      <td>2012-07-27</td>\n",
       "      <td>6697.70</td>\n",
       "      <td>False</td>\n",
       "      <td>82.89</td>\n",
       "      <td>3.407</td>\n",
       "      <td>1476.42</td>\n",
       "      <td>77.44</td>\n",
       "      <td>7.24</td>\n",
       "      <td>1008.30</td>\n",
       "      <td>35419.19</td>\n",
       "      <td>220.623405</td>\n",
       "      <td>6.623</td>\n",
       "    </tr>\n",
       "    <tr>\n",
       "      <th>4</th>\n",
       "      <td>39</td>\n",
       "      <td>71</td>\n",
       "      <td>2012-07-27</td>\n",
       "      <td>9209.19</td>\n",
       "      <td>False</td>\n",
       "      <td>82.89</td>\n",
       "      <td>3.407</td>\n",
       "      <td>1476.42</td>\n",
       "      <td>77.44</td>\n",
       "      <td>7.24</td>\n",
       "      <td>1008.30</td>\n",
       "      <td>35419.19</td>\n",
       "      <td>220.623405</td>\n",
       "      <td>6.623</td>\n",
       "    </tr>\n",
       "    <tr>\n",
       "      <th>...</th>\n",
       "      <td>...</td>\n",
       "      <td>...</td>\n",
       "      <td>...</td>\n",
       "      <td>...</td>\n",
       "      <td>...</td>\n",
       "      <td>...</td>\n",
       "      <td>...</td>\n",
       "      <td>...</td>\n",
       "      <td>...</td>\n",
       "      <td>...</td>\n",
       "      <td>...</td>\n",
       "      <td>...</td>\n",
       "      <td>...</td>\n",
       "      <td>...</td>\n",
       "    </tr>\n",
       "    <tr>\n",
       "      <th>29995</th>\n",
       "      <td>37</td>\n",
       "      <td>85</td>\n",
       "      <td>2011-12-30</td>\n",
       "      <td>94.67</td>\n",
       "      <td>True</td>\n",
       "      <td>48.26</td>\n",
       "      <td>3.129</td>\n",
       "      <td>373.92</td>\n",
       "      <td>1057.77</td>\n",
       "      <td>1.50</td>\n",
       "      <td>10.08</td>\n",
       "      <td>741.34</td>\n",
       "      <td>218.230236</td>\n",
       "      <td>7.716</td>\n",
       "    </tr>\n",
       "    <tr>\n",
       "      <th>29996</th>\n",
       "      <td>30</td>\n",
       "      <td>98</td>\n",
       "      <td>2012-05-25</td>\n",
       "      <td>3177.32</td>\n",
       "      <td>False</td>\n",
       "      <td>79.49</td>\n",
       "      <td>3.561</td>\n",
       "      <td>175.64</td>\n",
       "      <td>0.00</td>\n",
       "      <td>0.00</td>\n",
       "      <td>0.00</td>\n",
       "      <td>2534.54</td>\n",
       "      <td>221.382803</td>\n",
       "      <td>6.891</td>\n",
       "    </tr>\n",
       "    <tr>\n",
       "      <th>29997</th>\n",
       "      <td>33</td>\n",
       "      <td>60</td>\n",
       "      <td>2010-03-12</td>\n",
       "      <td>149.60</td>\n",
       "      <td>False</td>\n",
       "      <td>55.61</td>\n",
       "      <td>3.034</td>\n",
       "      <td>0.00</td>\n",
       "      <td>0.00</td>\n",
       "      <td>0.00</td>\n",
       "      <td>0.00</td>\n",
       "      <td>0.00</td>\n",
       "      <td>126.604286</td>\n",
       "      <td>10.115</td>\n",
       "    </tr>\n",
       "    <tr>\n",
       "      <th>29998</th>\n",
       "      <td>16</td>\n",
       "      <td>20</td>\n",
       "      <td>2012-10-26</td>\n",
       "      <td>3310.61</td>\n",
       "      <td>False</td>\n",
       "      <td>40.99</td>\n",
       "      <td>3.686</td>\n",
       "      <td>2285.52</td>\n",
       "      <td>20.48</td>\n",
       "      <td>0.00</td>\n",
       "      <td>201.97</td>\n",
       "      <td>1237.41</td>\n",
       "      <td>199.219532</td>\n",
       "      <td>5.847</td>\n",
       "    </tr>\n",
       "    <tr>\n",
       "      <th>29999</th>\n",
       "      <td>9</td>\n",
       "      <td>72</td>\n",
       "      <td>2011-06-24</td>\n",
       "      <td>32804.42</td>\n",
       "      <td>False</td>\n",
       "      <td>86.74</td>\n",
       "      <td>3.594</td>\n",
       "      <td>0.00</td>\n",
       "      <td>0.00</td>\n",
       "      <td>0.00</td>\n",
       "      <td>0.00</td>\n",
       "      <td>0.00</td>\n",
       "      <td>218.683687</td>\n",
       "      <td>6.380</td>\n",
       "    </tr>\n",
       "  </tbody>\n",
       "</table>\n",
       "<p>30000 rows × 14 columns</p>\n",
       "</div>"
      ],
      "text/plain": [
       "       Store  Dept        Date  Weekly_Sales  IsHoliday  Temperature  \\\n",
       "0         39    59  2012-07-27        202.76      False        82.89   \n",
       "1         39    46  2012-07-27      35825.85      False        82.89   \n",
       "2         39    36  2012-07-27       2871.00      False        82.89   \n",
       "3         39    29  2012-07-27       6697.70      False        82.89   \n",
       "4         39    71  2012-07-27       9209.19      False        82.89   \n",
       "...      ...   ...         ...           ...        ...          ...   \n",
       "29995     37    85  2011-12-30         94.67       True        48.26   \n",
       "29996     30    98  2012-05-25       3177.32      False        79.49   \n",
       "29997     33    60  2010-03-12        149.60      False        55.61   \n",
       "29998     16    20  2012-10-26       3310.61      False        40.99   \n",
       "29999      9    72  2011-06-24      32804.42      False        86.74   \n",
       "\n",
       "       Fuel_Price  MarkDown1  MarkDown2  MarkDown3  MarkDown4  MarkDown5  \\\n",
       "0           3.407    1476.42      77.44       7.24    1008.30   35419.19   \n",
       "1           3.407    1476.42      77.44       7.24    1008.30   35419.19   \n",
       "2           3.407    1476.42      77.44       7.24    1008.30   35419.19   \n",
       "3           3.407    1476.42      77.44       7.24    1008.30   35419.19   \n",
       "4           3.407    1476.42      77.44       7.24    1008.30   35419.19   \n",
       "...           ...        ...        ...        ...        ...        ...   \n",
       "29995       3.129     373.92    1057.77       1.50      10.08     741.34   \n",
       "29996       3.561     175.64       0.00       0.00       0.00    2534.54   \n",
       "29997       3.034       0.00       0.00       0.00       0.00       0.00   \n",
       "29998       3.686    2285.52      20.48       0.00     201.97    1237.41   \n",
       "29999       3.594       0.00       0.00       0.00       0.00       0.00   \n",
       "\n",
       "              CPI  Unemployment  \n",
       "0      220.623405         6.623  \n",
       "1      220.623405         6.623  \n",
       "2      220.623405         6.623  \n",
       "3      220.623405         6.623  \n",
       "4      220.623405         6.623  \n",
       "...           ...           ...  \n",
       "29995  218.230236         7.716  \n",
       "29996  221.382803         6.891  \n",
       "29997  126.604286        10.115  \n",
       "29998  199.219532         5.847  \n",
       "29999  218.683687         6.380  \n",
       "\n",
       "[30000 rows x 14 columns]"
      ]
     },
     "execution_count": 6,
     "metadata": {},
     "output_type": "execute_result"
    }
   ],
   "source": [
    "data.fillna(0)"
   ]
  },
  {
   "cell_type": "code",
   "execution_count": 7,
   "metadata": {
    "ExecuteTime": {
     "end_time": "2020-07-14T14:08:23.984019Z",
     "start_time": "2020-07-14T14:08:23.954569Z"
    }
   },
   "outputs": [],
   "source": [
    "data = pd.get_dummies(data,prefix='dept',columns=['Dept'])"
   ]
  },
  {
   "cell_type": "code",
   "execution_count": 8,
   "metadata": {
    "ExecuteTime": {
     "end_time": "2020-07-14T14:08:26.566250Z",
     "start_time": "2020-07-14T14:08:26.551035Z"
    }
   },
   "outputs": [],
   "source": [
    "mdf = data.drop(['Date'],axis=1)"
   ]
  },
  {
   "cell_type": "code",
   "execution_count": 9,
   "metadata": {
    "ExecuteTime": {
     "end_time": "2020-07-14T14:08:54.823012Z",
     "start_time": "2020-07-14T14:08:54.794468Z"
    }
   },
   "outputs": [
    {
     "data": {
      "text/html": [
       "<div>\n",
       "<style scoped>\n",
       "    .dataframe tbody tr th:only-of-type {\n",
       "        vertical-align: middle;\n",
       "    }\n",
       "\n",
       "    .dataframe tbody tr th {\n",
       "        vertical-align: top;\n",
       "    }\n",
       "\n",
       "    .dataframe thead th {\n",
       "        text-align: right;\n",
       "    }\n",
       "</style>\n",
       "<table border=\"1\" class=\"dataframe\">\n",
       "  <thead>\n",
       "    <tr style=\"text-align: right;\">\n",
       "      <th></th>\n",
       "      <th>Store</th>\n",
       "      <th>Weekly_Sales</th>\n",
       "      <th>IsHoliday</th>\n",
       "      <th>Temperature</th>\n",
       "      <th>Fuel_Price</th>\n",
       "      <th>MarkDown1</th>\n",
       "      <th>MarkDown2</th>\n",
       "      <th>MarkDown3</th>\n",
       "      <th>MarkDown4</th>\n",
       "      <th>MarkDown5</th>\n",
       "      <th>...</th>\n",
       "      <th>dept_90</th>\n",
       "      <th>dept_91</th>\n",
       "      <th>dept_92</th>\n",
       "      <th>dept_93</th>\n",
       "      <th>dept_94</th>\n",
       "      <th>dept_95</th>\n",
       "      <th>dept_96</th>\n",
       "      <th>dept_97</th>\n",
       "      <th>dept_98</th>\n",
       "      <th>dept_99</th>\n",
       "    </tr>\n",
       "  </thead>\n",
       "  <tbody>\n",
       "    <tr>\n",
       "      <th>0</th>\n",
       "      <td>39</td>\n",
       "      <td>202.76</td>\n",
       "      <td>False</td>\n",
       "      <td>82.89</td>\n",
       "      <td>3.407</td>\n",
       "      <td>1476.42</td>\n",
       "      <td>77.44</td>\n",
       "      <td>7.24</td>\n",
       "      <td>1008.3</td>\n",
       "      <td>35419.19</td>\n",
       "      <td>...</td>\n",
       "      <td>0</td>\n",
       "      <td>0</td>\n",
       "      <td>0</td>\n",
       "      <td>0</td>\n",
       "      <td>0</td>\n",
       "      <td>0</td>\n",
       "      <td>0</td>\n",
       "      <td>0</td>\n",
       "      <td>0</td>\n",
       "      <td>0</td>\n",
       "    </tr>\n",
       "    <tr>\n",
       "      <th>1</th>\n",
       "      <td>39</td>\n",
       "      <td>35825.85</td>\n",
       "      <td>False</td>\n",
       "      <td>82.89</td>\n",
       "      <td>3.407</td>\n",
       "      <td>1476.42</td>\n",
       "      <td>77.44</td>\n",
       "      <td>7.24</td>\n",
       "      <td>1008.3</td>\n",
       "      <td>35419.19</td>\n",
       "      <td>...</td>\n",
       "      <td>0</td>\n",
       "      <td>0</td>\n",
       "      <td>0</td>\n",
       "      <td>0</td>\n",
       "      <td>0</td>\n",
       "      <td>0</td>\n",
       "      <td>0</td>\n",
       "      <td>0</td>\n",
       "      <td>0</td>\n",
       "      <td>0</td>\n",
       "    </tr>\n",
       "    <tr>\n",
       "      <th>2</th>\n",
       "      <td>39</td>\n",
       "      <td>2871.00</td>\n",
       "      <td>False</td>\n",
       "      <td>82.89</td>\n",
       "      <td>3.407</td>\n",
       "      <td>1476.42</td>\n",
       "      <td>77.44</td>\n",
       "      <td>7.24</td>\n",
       "      <td>1008.3</td>\n",
       "      <td>35419.19</td>\n",
       "      <td>...</td>\n",
       "      <td>0</td>\n",
       "      <td>0</td>\n",
       "      <td>0</td>\n",
       "      <td>0</td>\n",
       "      <td>0</td>\n",
       "      <td>0</td>\n",
       "      <td>0</td>\n",
       "      <td>0</td>\n",
       "      <td>0</td>\n",
       "      <td>0</td>\n",
       "    </tr>\n",
       "    <tr>\n",
       "      <th>3</th>\n",
       "      <td>39</td>\n",
       "      <td>6697.70</td>\n",
       "      <td>False</td>\n",
       "      <td>82.89</td>\n",
       "      <td>3.407</td>\n",
       "      <td>1476.42</td>\n",
       "      <td>77.44</td>\n",
       "      <td>7.24</td>\n",
       "      <td>1008.3</td>\n",
       "      <td>35419.19</td>\n",
       "      <td>...</td>\n",
       "      <td>0</td>\n",
       "      <td>0</td>\n",
       "      <td>0</td>\n",
       "      <td>0</td>\n",
       "      <td>0</td>\n",
       "      <td>0</td>\n",
       "      <td>0</td>\n",
       "      <td>0</td>\n",
       "      <td>0</td>\n",
       "      <td>0</td>\n",
       "    </tr>\n",
       "    <tr>\n",
       "      <th>4</th>\n",
       "      <td>39</td>\n",
       "      <td>9209.19</td>\n",
       "      <td>False</td>\n",
       "      <td>82.89</td>\n",
       "      <td>3.407</td>\n",
       "      <td>1476.42</td>\n",
       "      <td>77.44</td>\n",
       "      <td>7.24</td>\n",
       "      <td>1008.3</td>\n",
       "      <td>35419.19</td>\n",
       "      <td>...</td>\n",
       "      <td>0</td>\n",
       "      <td>0</td>\n",
       "      <td>0</td>\n",
       "      <td>0</td>\n",
       "      <td>0</td>\n",
       "      <td>0</td>\n",
       "      <td>0</td>\n",
       "      <td>0</td>\n",
       "      <td>0</td>\n",
       "      <td>0</td>\n",
       "    </tr>\n",
       "  </tbody>\n",
       "</table>\n",
       "<p>5 rows × 92 columns</p>\n",
       "</div>"
      ],
      "text/plain": [
       "   Store  Weekly_Sales  IsHoliday  Temperature  Fuel_Price  MarkDown1  \\\n",
       "0     39        202.76      False        82.89       3.407    1476.42   \n",
       "1     39      35825.85      False        82.89       3.407    1476.42   \n",
       "2     39       2871.00      False        82.89       3.407    1476.42   \n",
       "3     39       6697.70      False        82.89       3.407    1476.42   \n",
       "4     39       9209.19      False        82.89       3.407    1476.42   \n",
       "\n",
       "   MarkDown2  MarkDown3  MarkDown4  MarkDown5  ...  dept_90  dept_91  dept_92  \\\n",
       "0      77.44       7.24     1008.3   35419.19  ...        0        0        0   \n",
       "1      77.44       7.24     1008.3   35419.19  ...        0        0        0   \n",
       "2      77.44       7.24     1008.3   35419.19  ...        0        0        0   \n",
       "3      77.44       7.24     1008.3   35419.19  ...        0        0        0   \n",
       "4      77.44       7.24     1008.3   35419.19  ...        0        0        0   \n",
       "\n",
       "   dept_93  dept_94  dept_95  dept_96  dept_97  dept_98  dept_99  \n",
       "0        0        0        0        0        0        0        0  \n",
       "1        0        0        0        0        0        0        0  \n",
       "2        0        0        0        0        0        0        0  \n",
       "3        0        0        0        0        0        0        0  \n",
       "4        0        0        0        0        0        0        0  \n",
       "\n",
       "[5 rows x 92 columns]"
      ]
     },
     "execution_count": 9,
     "metadata": {},
     "output_type": "execute_result"
    }
   ],
   "source": [
    "mdf.head()"
   ]
  },
  {
   "cell_type": "code",
   "execution_count": 10,
   "metadata": {
    "ExecuteTime": {
     "end_time": "2020-07-14T14:09:11.563824Z",
     "start_time": "2020-07-14T14:09:11.546024Z"
    }
   },
   "outputs": [
    {
     "data": {
      "text/plain": [
       "(30000, 92)"
      ]
     },
     "execution_count": 10,
     "metadata": {},
     "output_type": "execute_result"
    }
   ],
   "source": [
    "mdf.shape"
   ]
  },
  {
   "cell_type": "code",
   "execution_count": 28,
   "metadata": {
    "ExecuteTime": {
     "end_time": "2020-07-14T14:23:48.767968Z",
     "start_time": "2020-07-14T14:23:48.694070Z"
    }
   },
   "outputs": [
    {
     "ename": "KeyError",
     "evalue": "'IsHoliday'",
     "output_type": "error",
     "traceback": [
      "\u001b[0;31m---------------------------------------------------------------------------\u001b[0m",
      "\u001b[0;31mKeyError\u001b[0m                                  Traceback (most recent call last)",
      "\u001b[0;32m/opt/anaconda3/lib/python3.7/site-packages/pandas/core/indexes/base.py\u001b[0m in \u001b[0;36mget_loc\u001b[0;34m(self, key, method, tolerance)\u001b[0m\n\u001b[1;32m   2645\u001b[0m             \u001b[0;32mtry\u001b[0m\u001b[0;34m:\u001b[0m\u001b[0;34m\u001b[0m\u001b[0;34m\u001b[0m\u001b[0m\n\u001b[0;32m-> 2646\u001b[0;31m                 \u001b[0;32mreturn\u001b[0m \u001b[0mself\u001b[0m\u001b[0;34m.\u001b[0m\u001b[0m_engine\u001b[0m\u001b[0;34m.\u001b[0m\u001b[0mget_loc\u001b[0m\u001b[0;34m(\u001b[0m\u001b[0mkey\u001b[0m\u001b[0;34m)\u001b[0m\u001b[0;34m\u001b[0m\u001b[0;34m\u001b[0m\u001b[0m\n\u001b[0m\u001b[1;32m   2647\u001b[0m             \u001b[0;32mexcept\u001b[0m \u001b[0mKeyError\u001b[0m\u001b[0;34m:\u001b[0m\u001b[0;34m\u001b[0m\u001b[0;34m\u001b[0m\u001b[0m\n",
      "\u001b[0;32mpandas/_libs/index.pyx\u001b[0m in \u001b[0;36mpandas._libs.index.IndexEngine.get_loc\u001b[0;34m()\u001b[0m\n",
      "\u001b[0;32mpandas/_libs/index.pyx\u001b[0m in \u001b[0;36mpandas._libs.index.IndexEngine.get_loc\u001b[0;34m()\u001b[0m\n",
      "\u001b[0;32mpandas/_libs/hashtable_class_helper.pxi\u001b[0m in \u001b[0;36mpandas._libs.hashtable.PyObjectHashTable.get_item\u001b[0;34m()\u001b[0m\n",
      "\u001b[0;32mpandas/_libs/hashtable_class_helper.pxi\u001b[0m in \u001b[0;36mpandas._libs.hashtable.PyObjectHashTable.get_item\u001b[0;34m()\u001b[0m\n",
      "\u001b[0;31mKeyError\u001b[0m: 'IsHoliday'",
      "\nDuring handling of the above exception, another exception occurred:\n",
      "\u001b[0;31mKeyError\u001b[0m                                  Traceback (most recent call last)",
      "\u001b[0;32m<ipython-input-28-7eb7c0157c98>\u001b[0m in \u001b[0;36m<module>\u001b[0;34m\u001b[0m\n\u001b[0;32m----> 1\u001b[0;31m \u001b[0mmdf\u001b[0m\u001b[0;34m[\u001b[0m\u001b[0;34m'IsHoliday'\u001b[0m\u001b[0;34m]\u001b[0m\u001b[0;34m.\u001b[0m\u001b[0mastype\u001b[0m\u001b[0;34m(\u001b[0m\u001b[0mint\u001b[0m\u001b[0;34m)\u001b[0m\u001b[0;34m\u001b[0m\u001b[0;34m\u001b[0m\u001b[0m\n\u001b[0m",
      "\u001b[0;32m/opt/anaconda3/lib/python3.7/site-packages/pandas/core/frame.py\u001b[0m in \u001b[0;36m__getitem__\u001b[0;34m(self, key)\u001b[0m\n\u001b[1;32m   2798\u001b[0m             \u001b[0;32mif\u001b[0m \u001b[0mself\u001b[0m\u001b[0;34m.\u001b[0m\u001b[0mcolumns\u001b[0m\u001b[0;34m.\u001b[0m\u001b[0mnlevels\u001b[0m \u001b[0;34m>\u001b[0m \u001b[0;36m1\u001b[0m\u001b[0;34m:\u001b[0m\u001b[0;34m\u001b[0m\u001b[0;34m\u001b[0m\u001b[0m\n\u001b[1;32m   2799\u001b[0m                 \u001b[0;32mreturn\u001b[0m \u001b[0mself\u001b[0m\u001b[0;34m.\u001b[0m\u001b[0m_getitem_multilevel\u001b[0m\u001b[0;34m(\u001b[0m\u001b[0mkey\u001b[0m\u001b[0;34m)\u001b[0m\u001b[0;34m\u001b[0m\u001b[0;34m\u001b[0m\u001b[0m\n\u001b[0;32m-> 2800\u001b[0;31m             \u001b[0mindexer\u001b[0m \u001b[0;34m=\u001b[0m \u001b[0mself\u001b[0m\u001b[0;34m.\u001b[0m\u001b[0mcolumns\u001b[0m\u001b[0;34m.\u001b[0m\u001b[0mget_loc\u001b[0m\u001b[0;34m(\u001b[0m\u001b[0mkey\u001b[0m\u001b[0;34m)\u001b[0m\u001b[0;34m\u001b[0m\u001b[0;34m\u001b[0m\u001b[0m\n\u001b[0m\u001b[1;32m   2801\u001b[0m             \u001b[0;32mif\u001b[0m \u001b[0mis_integer\u001b[0m\u001b[0;34m(\u001b[0m\u001b[0mindexer\u001b[0m\u001b[0;34m)\u001b[0m\u001b[0;34m:\u001b[0m\u001b[0;34m\u001b[0m\u001b[0;34m\u001b[0m\u001b[0m\n\u001b[1;32m   2802\u001b[0m                 \u001b[0mindexer\u001b[0m \u001b[0;34m=\u001b[0m \u001b[0;34m[\u001b[0m\u001b[0mindexer\u001b[0m\u001b[0;34m]\u001b[0m\u001b[0;34m\u001b[0m\u001b[0;34m\u001b[0m\u001b[0m\n",
      "\u001b[0;32m/opt/anaconda3/lib/python3.7/site-packages/pandas/core/indexes/base.py\u001b[0m in \u001b[0;36mget_loc\u001b[0;34m(self, key, method, tolerance)\u001b[0m\n\u001b[1;32m   2646\u001b[0m                 \u001b[0;32mreturn\u001b[0m \u001b[0mself\u001b[0m\u001b[0;34m.\u001b[0m\u001b[0m_engine\u001b[0m\u001b[0;34m.\u001b[0m\u001b[0mget_loc\u001b[0m\u001b[0;34m(\u001b[0m\u001b[0mkey\u001b[0m\u001b[0;34m)\u001b[0m\u001b[0;34m\u001b[0m\u001b[0;34m\u001b[0m\u001b[0m\n\u001b[1;32m   2647\u001b[0m             \u001b[0;32mexcept\u001b[0m \u001b[0mKeyError\u001b[0m\u001b[0;34m:\u001b[0m\u001b[0;34m\u001b[0m\u001b[0;34m\u001b[0m\u001b[0m\n\u001b[0;32m-> 2648\u001b[0;31m                 \u001b[0;32mreturn\u001b[0m \u001b[0mself\u001b[0m\u001b[0;34m.\u001b[0m\u001b[0m_engine\u001b[0m\u001b[0;34m.\u001b[0m\u001b[0mget_loc\u001b[0m\u001b[0;34m(\u001b[0m\u001b[0mself\u001b[0m\u001b[0;34m.\u001b[0m\u001b[0m_maybe_cast_indexer\u001b[0m\u001b[0;34m(\u001b[0m\u001b[0mkey\u001b[0m\u001b[0;34m)\u001b[0m\u001b[0;34m)\u001b[0m\u001b[0;34m\u001b[0m\u001b[0;34m\u001b[0m\u001b[0m\n\u001b[0m\u001b[1;32m   2649\u001b[0m         \u001b[0mindexer\u001b[0m \u001b[0;34m=\u001b[0m \u001b[0mself\u001b[0m\u001b[0;34m.\u001b[0m\u001b[0mget_indexer\u001b[0m\u001b[0;34m(\u001b[0m\u001b[0;34m[\u001b[0m\u001b[0mkey\u001b[0m\u001b[0;34m]\u001b[0m\u001b[0;34m,\u001b[0m \u001b[0mmethod\u001b[0m\u001b[0;34m=\u001b[0m\u001b[0mmethod\u001b[0m\u001b[0;34m,\u001b[0m \u001b[0mtolerance\u001b[0m\u001b[0;34m=\u001b[0m\u001b[0mtolerance\u001b[0m\u001b[0;34m)\u001b[0m\u001b[0;34m\u001b[0m\u001b[0;34m\u001b[0m\u001b[0m\n\u001b[1;32m   2650\u001b[0m         \u001b[0;32mif\u001b[0m \u001b[0mindexer\u001b[0m\u001b[0;34m.\u001b[0m\u001b[0mndim\u001b[0m \u001b[0;34m>\u001b[0m \u001b[0;36m1\u001b[0m \u001b[0;32mor\u001b[0m \u001b[0mindexer\u001b[0m\u001b[0;34m.\u001b[0m\u001b[0msize\u001b[0m \u001b[0;34m>\u001b[0m \u001b[0;36m1\u001b[0m\u001b[0;34m:\u001b[0m\u001b[0;34m\u001b[0m\u001b[0;34m\u001b[0m\u001b[0m\n",
      "\u001b[0;32mpandas/_libs/index.pyx\u001b[0m in \u001b[0;36mpandas._libs.index.IndexEngine.get_loc\u001b[0;34m()\u001b[0m\n",
      "\u001b[0;32mpandas/_libs/index.pyx\u001b[0m in \u001b[0;36mpandas._libs.index.IndexEngine.get_loc\u001b[0;34m()\u001b[0m\n",
      "\u001b[0;32mpandas/_libs/hashtable_class_helper.pxi\u001b[0m in \u001b[0;36mpandas._libs.hashtable.PyObjectHashTable.get_item\u001b[0;34m()\u001b[0m\n",
      "\u001b[0;32mpandas/_libs/hashtable_class_helper.pxi\u001b[0m in \u001b[0;36mpandas._libs.hashtable.PyObjectHashTable.get_item\u001b[0;34m()\u001b[0m\n",
      "\u001b[0;31mKeyError\u001b[0m: 'IsHoliday'"
     ]
    }
   ],
   "source": [
    "mdf['IsHoliday'].astype(int)"
   ]
  },
  {
   "cell_type": "code",
   "execution_count": 20,
   "metadata": {
    "ExecuteTime": {
     "end_time": "2020-07-14T14:16:47.912408Z",
     "start_time": "2020-07-14T14:16:47.901676Z"
    }
   },
   "outputs": [],
   "source": [
    "X = mdf.drop('Weekly_Sales',axis=1)\n",
    "y = mdf['Weekly_Sales']"
   ]
  },
  {
   "cell_type": "code",
   "execution_count": 21,
   "metadata": {
    "ExecuteTime": {
     "end_time": "2020-07-14T14:16:48.456260Z",
     "start_time": "2020-07-14T14:16:48.451286Z"
    }
   },
   "outputs": [],
   "source": [
    "kf = KFold(n_splits=4,shuffle=True)"
   ]
  },
  {
   "cell_type": "code",
   "execution_count": 25,
   "metadata": {
    "ExecuteTime": {
     "end_time": "2020-07-14T14:18:17.755771Z",
     "start_time": "2020-07-14T14:18:17.738356Z"
    }
   },
   "outputs": [
    {
     "data": {
      "text/plain": [
       "[(array([    0,     2,     3, ..., 29997, 29998, 29999]),\n",
       "  array([    1,     6,    17, ..., 29983, 29986, 29988])),\n",
       " (array([    1,     3,     4, ..., 29994, 29995, 29996]),\n",
       "  array([    0,     2,     5, ..., 29997, 29998, 29999])),\n",
       " (array([    0,     1,     2, ..., 29997, 29998, 29999]),\n",
       "  array([    4,     7,     8, ..., 29993, 29995, 29996])),\n",
       " (array([    0,     1,     2, ..., 29997, 29998, 29999]),\n",
       "  array([    3,    10,    12, ..., 29980, 29992, 29994]))]"
      ]
     },
     "execution_count": 25,
     "metadata": {},
     "output_type": "execute_result"
    }
   ],
   "source": [
    "list(kf.split(X,y))"
   ]
  },
  {
   "cell_type": "code",
   "execution_count": 23,
   "metadata": {
    "ExecuteTime": {
     "end_time": "2020-07-14T14:16:52.223000Z",
     "start_time": "2020-07-14T14:16:52.188910Z"
    }
   },
   "outputs": [
    {
     "ename": "KeyError",
     "evalue": "\"None of [Int64Index([    0,     1,     3,     6,     8,     9,    10,    12,    16,\\n               17,\\n            ...\\n            29989, 29991, 29992, 29993, 29994, 29995, 29996, 29997, 29998,\\n            29999],\\n           dtype='int64', length=22500)] are in the [columns]\"",
     "output_type": "error",
     "traceback": [
      "\u001b[0;31m---------------------------------------------------------------------------\u001b[0m",
      "\u001b[0;31mKeyError\u001b[0m                                  Traceback (most recent call last)",
      "\u001b[0;32m<ipython-input-23-4e8b77ff41f6>\u001b[0m in \u001b[0;36m<module>\u001b[0;34m\u001b[0m\n\u001b[1;32m     14\u001b[0m     \u001b[0ml2\u001b[0m \u001b[0;34m=\u001b[0m \u001b[0mRidge\u001b[0m\u001b[0;34m(\u001b[0m\u001b[0;34m)\u001b[0m\u001b[0;34m\u001b[0m\u001b[0;34m\u001b[0m\u001b[0m\n\u001b[1;32m     15\u001b[0m \u001b[0;34m\u001b[0m\u001b[0m\n\u001b[0;32m---> 16\u001b[0;31m     \u001b[0mX_tr\u001b[0m\u001b[0;34m,\u001b[0m\u001b[0mX_te\u001b[0m \u001b[0;34m=\u001b[0m \u001b[0mX\u001b[0m\u001b[0;34m[\u001b[0m\u001b[0mtr\u001b[0m\u001b[0;34m]\u001b[0m \u001b[0;34m,\u001b[0m\u001b[0mX\u001b[0m\u001b[0;34m[\u001b[0m\u001b[0mte\u001b[0m\u001b[0;34m]\u001b[0m\u001b[0;34m\u001b[0m\u001b[0;34m\u001b[0m\u001b[0m\n\u001b[0m\u001b[1;32m     17\u001b[0m     \u001b[0my_tr\u001b[0m\u001b[0;34m,\u001b[0m\u001b[0my_te\u001b[0m \u001b[0;34m=\u001b[0m \u001b[0my\u001b[0m\u001b[0;34m[\u001b[0m\u001b[0mtr\u001b[0m\u001b[0;34m]\u001b[0m \u001b[0;34m,\u001b[0m\u001b[0my\u001b[0m\u001b[0;34m[\u001b[0m\u001b[0mte\u001b[0m\u001b[0;34m]\u001b[0m\u001b[0;34m\u001b[0m\u001b[0;34m\u001b[0m\u001b[0m\n\u001b[1;32m     18\u001b[0m \u001b[0;34m\u001b[0m\u001b[0m\n",
      "\u001b[0;32m/opt/anaconda3/lib/python3.7/site-packages/pandas/core/frame.py\u001b[0m in \u001b[0;36m__getitem__\u001b[0;34m(self, key)\u001b[0m\n\u001b[1;32m   2804\u001b[0m             \u001b[0;32mif\u001b[0m \u001b[0mis_iterator\u001b[0m\u001b[0;34m(\u001b[0m\u001b[0mkey\u001b[0m\u001b[0;34m)\u001b[0m\u001b[0;34m:\u001b[0m\u001b[0;34m\u001b[0m\u001b[0;34m\u001b[0m\u001b[0m\n\u001b[1;32m   2805\u001b[0m                 \u001b[0mkey\u001b[0m \u001b[0;34m=\u001b[0m \u001b[0mlist\u001b[0m\u001b[0;34m(\u001b[0m\u001b[0mkey\u001b[0m\u001b[0;34m)\u001b[0m\u001b[0;34m\u001b[0m\u001b[0;34m\u001b[0m\u001b[0m\n\u001b[0;32m-> 2806\u001b[0;31m             \u001b[0mindexer\u001b[0m \u001b[0;34m=\u001b[0m \u001b[0mself\u001b[0m\u001b[0;34m.\u001b[0m\u001b[0mloc\u001b[0m\u001b[0;34m.\u001b[0m\u001b[0m_get_listlike_indexer\u001b[0m\u001b[0;34m(\u001b[0m\u001b[0mkey\u001b[0m\u001b[0;34m,\u001b[0m \u001b[0maxis\u001b[0m\u001b[0;34m=\u001b[0m\u001b[0;36m1\u001b[0m\u001b[0;34m,\u001b[0m \u001b[0mraise_missing\u001b[0m\u001b[0;34m=\u001b[0m\u001b[0;32mTrue\u001b[0m\u001b[0;34m)\u001b[0m\u001b[0;34m[\u001b[0m\u001b[0;36m1\u001b[0m\u001b[0;34m]\u001b[0m\u001b[0;34m\u001b[0m\u001b[0;34m\u001b[0m\u001b[0m\n\u001b[0m\u001b[1;32m   2807\u001b[0m \u001b[0;34m\u001b[0m\u001b[0m\n\u001b[1;32m   2808\u001b[0m         \u001b[0;31m# take() does not accept boolean indexers\u001b[0m\u001b[0;34m\u001b[0m\u001b[0;34m\u001b[0m\u001b[0;34m\u001b[0m\u001b[0m\n",
      "\u001b[0;32m/opt/anaconda3/lib/python3.7/site-packages/pandas/core/indexing.py\u001b[0m in \u001b[0;36m_get_listlike_indexer\u001b[0;34m(self, key, axis, raise_missing)\u001b[0m\n\u001b[1;32m   1551\u001b[0m \u001b[0;34m\u001b[0m\u001b[0m\n\u001b[1;32m   1552\u001b[0m         self._validate_read_indexer(\n\u001b[0;32m-> 1553\u001b[0;31m             \u001b[0mkeyarr\u001b[0m\u001b[0;34m,\u001b[0m \u001b[0mindexer\u001b[0m\u001b[0;34m,\u001b[0m \u001b[0mo\u001b[0m\u001b[0;34m.\u001b[0m\u001b[0m_get_axis_number\u001b[0m\u001b[0;34m(\u001b[0m\u001b[0maxis\u001b[0m\u001b[0;34m)\u001b[0m\u001b[0;34m,\u001b[0m \u001b[0mraise_missing\u001b[0m\u001b[0;34m=\u001b[0m\u001b[0mraise_missing\u001b[0m\u001b[0;34m\u001b[0m\u001b[0;34m\u001b[0m\u001b[0m\n\u001b[0m\u001b[1;32m   1554\u001b[0m         )\n\u001b[1;32m   1555\u001b[0m         \u001b[0;32mreturn\u001b[0m \u001b[0mkeyarr\u001b[0m\u001b[0;34m,\u001b[0m \u001b[0mindexer\u001b[0m\u001b[0;34m\u001b[0m\u001b[0;34m\u001b[0m\u001b[0m\n",
      "\u001b[0;32m/opt/anaconda3/lib/python3.7/site-packages/pandas/core/indexing.py\u001b[0m in \u001b[0;36m_validate_read_indexer\u001b[0;34m(self, key, indexer, axis, raise_missing)\u001b[0m\n\u001b[1;32m   1638\u001b[0m             \u001b[0;32mif\u001b[0m \u001b[0mmissing\u001b[0m \u001b[0;34m==\u001b[0m \u001b[0mlen\u001b[0m\u001b[0;34m(\u001b[0m\u001b[0mindexer\u001b[0m\u001b[0;34m)\u001b[0m\u001b[0;34m:\u001b[0m\u001b[0;34m\u001b[0m\u001b[0;34m\u001b[0m\u001b[0m\n\u001b[1;32m   1639\u001b[0m                 \u001b[0maxis_name\u001b[0m \u001b[0;34m=\u001b[0m \u001b[0mself\u001b[0m\u001b[0;34m.\u001b[0m\u001b[0mobj\u001b[0m\u001b[0;34m.\u001b[0m\u001b[0m_get_axis_name\u001b[0m\u001b[0;34m(\u001b[0m\u001b[0maxis\u001b[0m\u001b[0;34m)\u001b[0m\u001b[0;34m\u001b[0m\u001b[0;34m\u001b[0m\u001b[0m\n\u001b[0;32m-> 1640\u001b[0;31m                 \u001b[0;32mraise\u001b[0m \u001b[0mKeyError\u001b[0m\u001b[0;34m(\u001b[0m\u001b[0;34mf\"None of [{key}] are in the [{axis_name}]\"\u001b[0m\u001b[0;34m)\u001b[0m\u001b[0;34m\u001b[0m\u001b[0;34m\u001b[0m\u001b[0m\n\u001b[0m\u001b[1;32m   1641\u001b[0m \u001b[0;34m\u001b[0m\u001b[0m\n\u001b[1;32m   1642\u001b[0m             \u001b[0;31m# We (temporarily) allow for some missing keys with .loc, except in\u001b[0m\u001b[0;34m\u001b[0m\u001b[0;34m\u001b[0m\u001b[0;34m\u001b[0m\u001b[0m\n",
      "\u001b[0;31mKeyError\u001b[0m: \"None of [Int64Index([    0,     1,     3,     6,     8,     9,    10,    12,    16,\\n               17,\\n            ...\\n            29989, 29991, 29992, 29993, 29994, 29995, 29996, 29997, 29998,\\n            29999],\\n           dtype='int64', length=22500)] are in the [columns]\""
     ]
    }
   ],
   "source": [
    "lr_r2 = []\n",
    "l1_r2 = []\n",
    "l2_r2 = []\n",
    "\n",
    "lr_rmse = []\n",
    "l1_rmse = []\n",
    "l2_rmse = []\n",
    "\n",
    "for tr,te in kf.split(X,y):\n",
    "#     print(\"Fold\")\n",
    "    \n",
    "    lr = LinearRegression()\n",
    "    l1 = Lasso()\n",
    "    l2 = Ridge()\n",
    "    \n",
    "    X_tr,X_te = X[tr] ,X[te]\n",
    "    y_tr,y_te = y[tr] ,y[te]\n",
    "    \n",
    "    scale = StandardScaler()\n",
    "    scale.fit(X)\n",
    "    \n",
    "    X_tr = scale.fit_transform(X_tr)\n",
    "    X_te = scale.fit_transform(X_te)\n",
    "    \n",
    "#     lr.fit(X_tr,y_tr)\n",
    "#     print(\"L1\")\n",
    "    l1.fit(X_tr,y_tr)\n",
    "#     print(\"L2\")\n",
    "    l2.fit(X_tr,y_tr)\n",
    "    \n",
    "#     lr_r2.append(r2_score(y_te,lr.predict(X_te)))\n",
    "    l1_r2.append(r2_score(y_te,l1.predict(X_te)))\n",
    "    l2_r2.append(r2_score(y_te,l1.predict(X_te)))\n",
    "    \n",
    "    l1_rmse.append(np.sqrt(mean_squared_error(y_te,l1.predict(X_te))))\n",
    "    \n",
    "    \n",
    "    \n",
    "    \n",
    "    \n",
    "    "
   ]
  },
  {
   "cell_type": "code",
   "execution_count": null,
   "metadata": {
    "collapsed": true
   },
   "outputs": [],
   "source": []
  }
 ],
 "metadata": {
  "anaconda-cloud": {},
  "kernelspec": {
   "display_name": "Python 3",
   "language": "python",
   "name": "python3"
  },
  "language_info": {
   "codemirror_mode": {
    "name": "ipython",
    "version": 3
   },
   "file_extension": ".py",
   "mimetype": "text/x-python",
   "name": "python",
   "nbconvert_exporter": "python",
   "pygments_lexer": "ipython3",
   "version": "3.7.7"
  },
  "toc": {
   "base_numbering": 1,
   "nav_menu": {},
   "number_sections": true,
   "sideBar": true,
   "skip_h1_title": false,
   "title_cell": "Table of Contents",
   "title_sidebar": "Contents",
   "toc_cell": false,
   "toc_position": {},
   "toc_section_display": true,
   "toc_window_display": false
  },
  "varInspector": {
   "cols": {
    "lenName": 16,
    "lenType": 16,
    "lenVar": 40
   },
   "kernels_config": {
    "python": {
     "delete_cmd_postfix": "",
     "delete_cmd_prefix": "del ",
     "library": "var_list.py",
     "varRefreshCmd": "print(var_dic_list())"
    },
    "r": {
     "delete_cmd_postfix": ") ",
     "delete_cmd_prefix": "rm(",
     "library": "var_list.r",
     "varRefreshCmd": "cat(var_dic_list()) "
    }
   },
   "types_to_exclude": [
    "module",
    "function",
    "builtin_function_or_method",
    "instance",
    "_Feature"
   ],
   "window_display": false
  }
 },
 "nbformat": 4,
 "nbformat_minor": 1
}
