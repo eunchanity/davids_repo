{
 "cells": [
  {
   "cell_type": "markdown",
   "metadata": {},
   "source": [
    "```\n",
    "Topic:        Challenge Set 1\n",
    "Subject:      Explore MTA turnstile data\n",
    "Date:         07/06/2020\n",
    "Name:         David Weon\n",
    "Worked with:  Adam Rauckhorst, Dyllan Usher\n",
    "```"
   ]
  },
  {
   "cell_type": "markdown",
   "metadata": {},
   "source": [
    "### Challenge 1"
   ]
  },
  {
   "cell_type": "code",
   "execution_count": 1,
   "metadata": {
    "scrolled": true
   },
   "outputs": [
    {
     "data": {
      "text/html": [
       "<div>\n",
       "<style scoped>\n",
       "    .dataframe tbody tr th:only-of-type {\n",
       "        vertical-align: middle;\n",
       "    }\n",
       "\n",
       "    .dataframe tbody tr th {\n",
       "        vertical-align: top;\n",
       "    }\n",
       "\n",
       "    .dataframe thead th {\n",
       "        text-align: right;\n",
       "    }\n",
       "</style>\n",
       "<table border=\"1\" class=\"dataframe\">\n",
       "  <thead>\n",
       "    <tr style=\"text-align: right;\">\n",
       "      <th></th>\n",
       "      <th>C/A</th>\n",
       "      <th>UNIT</th>\n",
       "      <th>SCP</th>\n",
       "      <th>STATION</th>\n",
       "      <th>LINENAME</th>\n",
       "      <th>DIVISION</th>\n",
       "      <th>DATE</th>\n",
       "      <th>TIME</th>\n",
       "      <th>DESC</th>\n",
       "      <th>ENTRIES</th>\n",
       "      <th>EXITS</th>\n",
       "    </tr>\n",
       "  </thead>\n",
       "  <tbody>\n",
       "    <tr>\n",
       "      <th>0</th>\n",
       "      <td>A002</td>\n",
       "      <td>R051</td>\n",
       "      <td>02-00-00</td>\n",
       "      <td>59 ST</td>\n",
       "      <td>NQR456W</td>\n",
       "      <td>BMT</td>\n",
       "      <td>05/30/2020</td>\n",
       "      <td>00:00:00</td>\n",
       "      <td>REGULAR</td>\n",
       "      <td>7419887</td>\n",
       "      <td>2520505</td>\n",
       "    </tr>\n",
       "    <tr>\n",
       "      <th>1</th>\n",
       "      <td>A002</td>\n",
       "      <td>R051</td>\n",
       "      <td>02-00-00</td>\n",
       "      <td>59 ST</td>\n",
       "      <td>NQR456W</td>\n",
       "      <td>BMT</td>\n",
       "      <td>05/30/2020</td>\n",
       "      <td>04:00:00</td>\n",
       "      <td>REGULAR</td>\n",
       "      <td>7419888</td>\n",
       "      <td>2520505</td>\n",
       "    </tr>\n",
       "    <tr>\n",
       "      <th>2</th>\n",
       "      <td>A002</td>\n",
       "      <td>R051</td>\n",
       "      <td>02-00-00</td>\n",
       "      <td>59 ST</td>\n",
       "      <td>NQR456W</td>\n",
       "      <td>BMT</td>\n",
       "      <td>05/30/2020</td>\n",
       "      <td>08:00:00</td>\n",
       "      <td>REGULAR</td>\n",
       "      <td>7419895</td>\n",
       "      <td>2520514</td>\n",
       "    </tr>\n",
       "    <tr>\n",
       "      <th>3</th>\n",
       "      <td>A002</td>\n",
       "      <td>R051</td>\n",
       "      <td>02-00-00</td>\n",
       "      <td>59 ST</td>\n",
       "      <td>NQR456W</td>\n",
       "      <td>BMT</td>\n",
       "      <td>05/30/2020</td>\n",
       "      <td>12:00:00</td>\n",
       "      <td>REGULAR</td>\n",
       "      <td>7419911</td>\n",
       "      <td>2520531</td>\n",
       "    </tr>\n",
       "    <tr>\n",
       "      <th>4</th>\n",
       "      <td>A002</td>\n",
       "      <td>R051</td>\n",
       "      <td>02-00-00</td>\n",
       "      <td>59 ST</td>\n",
       "      <td>NQR456W</td>\n",
       "      <td>BMT</td>\n",
       "      <td>05/30/2020</td>\n",
       "      <td>16:00:00</td>\n",
       "      <td>REGULAR</td>\n",
       "      <td>7419940</td>\n",
       "      <td>2520553</td>\n",
       "    </tr>\n",
       "    <tr>\n",
       "      <th>...</th>\n",
       "      <td>...</td>\n",
       "      <td>...</td>\n",
       "      <td>...</td>\n",
       "      <td>...</td>\n",
       "      <td>...</td>\n",
       "      <td>...</td>\n",
       "      <td>...</td>\n",
       "      <td>...</td>\n",
       "      <td>...</td>\n",
       "      <td>...</td>\n",
       "      <td>...</td>\n",
       "    </tr>\n",
       "    <tr>\n",
       "      <th>206657</th>\n",
       "      <td>TRAM2</td>\n",
       "      <td>R469</td>\n",
       "      <td>00-05-01</td>\n",
       "      <td>RIT-ROOSEVELT</td>\n",
       "      <td>R</td>\n",
       "      <td>RIT</td>\n",
       "      <td>06/12/2020</td>\n",
       "      <td>05:00:00</td>\n",
       "      <td>REGULAR</td>\n",
       "      <td>5554</td>\n",
       "      <td>514</td>\n",
       "    </tr>\n",
       "    <tr>\n",
       "      <th>206658</th>\n",
       "      <td>TRAM2</td>\n",
       "      <td>R469</td>\n",
       "      <td>00-05-01</td>\n",
       "      <td>RIT-ROOSEVELT</td>\n",
       "      <td>R</td>\n",
       "      <td>RIT</td>\n",
       "      <td>06/12/2020</td>\n",
       "      <td>09:00:00</td>\n",
       "      <td>REGULAR</td>\n",
       "      <td>5554</td>\n",
       "      <td>514</td>\n",
       "    </tr>\n",
       "    <tr>\n",
       "      <th>206659</th>\n",
       "      <td>TRAM2</td>\n",
       "      <td>R469</td>\n",
       "      <td>00-05-01</td>\n",
       "      <td>RIT-ROOSEVELT</td>\n",
       "      <td>R</td>\n",
       "      <td>RIT</td>\n",
       "      <td>06/12/2020</td>\n",
       "      <td>13:00:00</td>\n",
       "      <td>REGULAR</td>\n",
       "      <td>5554</td>\n",
       "      <td>514</td>\n",
       "    </tr>\n",
       "    <tr>\n",
       "      <th>206660</th>\n",
       "      <td>TRAM2</td>\n",
       "      <td>R469</td>\n",
       "      <td>00-05-01</td>\n",
       "      <td>RIT-ROOSEVELT</td>\n",
       "      <td>R</td>\n",
       "      <td>RIT</td>\n",
       "      <td>06/12/2020</td>\n",
       "      <td>17:00:00</td>\n",
       "      <td>REGULAR</td>\n",
       "      <td>5554</td>\n",
       "      <td>514</td>\n",
       "    </tr>\n",
       "    <tr>\n",
       "      <th>206661</th>\n",
       "      <td>TRAM2</td>\n",
       "      <td>R469</td>\n",
       "      <td>00-05-01</td>\n",
       "      <td>RIT-ROOSEVELT</td>\n",
       "      <td>R</td>\n",
       "      <td>RIT</td>\n",
       "      <td>06/12/2020</td>\n",
       "      <td>21:00:00</td>\n",
       "      <td>REGULAR</td>\n",
       "      <td>5554</td>\n",
       "      <td>514</td>\n",
       "    </tr>\n",
       "  </tbody>\n",
       "</table>\n",
       "<p>414554 rows × 11 columns</p>\n",
       "</div>"
      ],
      "text/plain": [
       "          C/A  UNIT       SCP        STATION LINENAME DIVISION        DATE  \\\n",
       "0        A002  R051  02-00-00          59 ST  NQR456W      BMT  05/30/2020   \n",
       "1        A002  R051  02-00-00          59 ST  NQR456W      BMT  05/30/2020   \n",
       "2        A002  R051  02-00-00          59 ST  NQR456W      BMT  05/30/2020   \n",
       "3        A002  R051  02-00-00          59 ST  NQR456W      BMT  05/30/2020   \n",
       "4        A002  R051  02-00-00          59 ST  NQR456W      BMT  05/30/2020   \n",
       "...       ...   ...       ...            ...      ...      ...         ...   \n",
       "206657  TRAM2  R469  00-05-01  RIT-ROOSEVELT        R      RIT  06/12/2020   \n",
       "206658  TRAM2  R469  00-05-01  RIT-ROOSEVELT        R      RIT  06/12/2020   \n",
       "206659  TRAM2  R469  00-05-01  RIT-ROOSEVELT        R      RIT  06/12/2020   \n",
       "206660  TRAM2  R469  00-05-01  RIT-ROOSEVELT        R      RIT  06/12/2020   \n",
       "206661  TRAM2  R469  00-05-01  RIT-ROOSEVELT        R      RIT  06/12/2020   \n",
       "\n",
       "            TIME     DESC  ENTRIES  \\\n",
       "0       00:00:00  REGULAR  7419887   \n",
       "1       04:00:00  REGULAR  7419888   \n",
       "2       08:00:00  REGULAR  7419895   \n",
       "3       12:00:00  REGULAR  7419911   \n",
       "4       16:00:00  REGULAR  7419940   \n",
       "...          ...      ...      ...   \n",
       "206657  05:00:00  REGULAR     5554   \n",
       "206658  09:00:00  REGULAR     5554   \n",
       "206659  13:00:00  REGULAR     5554   \n",
       "206660  17:00:00  REGULAR     5554   \n",
       "206661  21:00:00  REGULAR     5554   \n",
       "\n",
       "        EXITS                                                                 \n",
       "0                                                 2520505                     \n",
       "1                                                 2520505                     \n",
       "2                                                 2520514                     \n",
       "3                                                 2520531                     \n",
       "4                                                 2520553                     \n",
       "...                                                   ...                     \n",
       "206657                                                514                     \n",
       "206658                                                514                     \n",
       "206659                                                514                     \n",
       "206660                                                514                     \n",
       "206661                                                514                     \n",
       "\n",
       "[414554 rows x 11 columns]"
      ]
     },
     "execution_count": 1,
     "metadata": {},
     "output_type": "execute_result"
    }
   ],
   "source": [
    "import pandas as pd\n",
    "df1 = pd.read_csv('turnstile_200606.txt')\n",
    "df2 = pd.read_csv('turnstile_200613.txt')\n",
    "df3 = pd.concat([df1,df2])\n",
    "df3"
   ]
  },
  {
   "cell_type": "code",
   "execution_count": 2,
   "metadata": {},
   "outputs": [],
   "source": [
    "df3.reset_index(inplace=True)"
   ]
  },
  {
   "cell_type": "markdown",
   "metadata": {},
   "source": [
    "### Challenge 2"
   ]
  },
  {
   "cell_type": "code",
   "execution_count": 3,
   "metadata": {},
   "outputs": [
    {
     "data": {
      "text/plain": [
       "pandas.core.series.Series"
      ]
     },
     "execution_count": 3,
     "metadata": {},
     "output_type": "execute_result"
    }
   ],
   "source": [
    "type(df3['DATE'])"
   ]
  },
  {
   "cell_type": "code",
   "execution_count": 4,
   "metadata": {},
   "outputs": [
    {
     "data": {
      "text/plain": [
       "pandas.core.series.Series"
      ]
     },
     "execution_count": 4,
     "metadata": {},
     "output_type": "execute_result"
    }
   ],
   "source": [
    "type(df3['TIME'])"
   ]
  },
  {
   "cell_type": "code",
   "execution_count": 5,
   "metadata": {},
   "outputs": [
    {
     "data": {
      "text/plain": [
       "0        2020-05-30 00:00:00\n",
       "1        2020-05-30 04:00:00\n",
       "2        2020-05-30 08:00:00\n",
       "3        2020-05-30 12:00:00\n",
       "4        2020-05-30 16:00:00\n",
       "                 ...        \n",
       "414549   2020-06-12 05:00:00\n",
       "414550   2020-06-12 09:00:00\n",
       "414551   2020-06-12 13:00:00\n",
       "414552   2020-06-12 17:00:00\n",
       "414553   2020-06-12 21:00:00\n",
       "Length: 414554, dtype: datetime64[ns]"
      ]
     },
     "execution_count": 5,
     "metadata": {},
     "output_type": "execute_result"
    }
   ],
   "source": [
    "pd.to_datetime(df3['DATE'] + ' ' + df3['TIME'])"
   ]
  },
  {
   "cell_type": "code",
   "execution_count": 6,
   "metadata": {},
   "outputs": [
    {
     "data": {
      "text/html": [
       "<div>\n",
       "<style scoped>\n",
       "    .dataframe tbody tr th:only-of-type {\n",
       "        vertical-align: middle;\n",
       "    }\n",
       "\n",
       "    .dataframe tbody tr th {\n",
       "        vertical-align: top;\n",
       "    }\n",
       "\n",
       "    .dataframe thead th {\n",
       "        text-align: right;\n",
       "    }\n",
       "</style>\n",
       "<table border=\"1\" class=\"dataframe\">\n",
       "  <thead>\n",
       "    <tr style=\"text-align: right;\">\n",
       "      <th></th>\n",
       "      <th>index</th>\n",
       "      <th>C/A</th>\n",
       "      <th>UNIT</th>\n",
       "      <th>SCP</th>\n",
       "      <th>STATION</th>\n",
       "      <th>LINENAME</th>\n",
       "      <th>DIVISION</th>\n",
       "      <th>DATE</th>\n",
       "      <th>TIME</th>\n",
       "      <th>DESC</th>\n",
       "      <th>ENTRIES</th>\n",
       "      <th>EXITS</th>\n",
       "      <th>DATETIME</th>\n",
       "    </tr>\n",
       "  </thead>\n",
       "  <tbody>\n",
       "    <tr>\n",
       "      <th>0</th>\n",
       "      <td>0</td>\n",
       "      <td>A002</td>\n",
       "      <td>R051</td>\n",
       "      <td>02-00-00</td>\n",
       "      <td>59 ST</td>\n",
       "      <td>NQR456W</td>\n",
       "      <td>BMT</td>\n",
       "      <td>05/30/2020</td>\n",
       "      <td>00:00:00</td>\n",
       "      <td>REGULAR</td>\n",
       "      <td>7419887</td>\n",
       "      <td>2520505</td>\n",
       "      <td>2020-05-30 00:00:00</td>\n",
       "    </tr>\n",
       "    <tr>\n",
       "      <th>1</th>\n",
       "      <td>1</td>\n",
       "      <td>A002</td>\n",
       "      <td>R051</td>\n",
       "      <td>02-00-00</td>\n",
       "      <td>59 ST</td>\n",
       "      <td>NQR456W</td>\n",
       "      <td>BMT</td>\n",
       "      <td>05/30/2020</td>\n",
       "      <td>04:00:00</td>\n",
       "      <td>REGULAR</td>\n",
       "      <td>7419888</td>\n",
       "      <td>2520505</td>\n",
       "      <td>2020-05-30 04:00:00</td>\n",
       "    </tr>\n",
       "    <tr>\n",
       "      <th>2</th>\n",
       "      <td>2</td>\n",
       "      <td>A002</td>\n",
       "      <td>R051</td>\n",
       "      <td>02-00-00</td>\n",
       "      <td>59 ST</td>\n",
       "      <td>NQR456W</td>\n",
       "      <td>BMT</td>\n",
       "      <td>05/30/2020</td>\n",
       "      <td>08:00:00</td>\n",
       "      <td>REGULAR</td>\n",
       "      <td>7419895</td>\n",
       "      <td>2520514</td>\n",
       "      <td>2020-05-30 08:00:00</td>\n",
       "    </tr>\n",
       "    <tr>\n",
       "      <th>3</th>\n",
       "      <td>3</td>\n",
       "      <td>A002</td>\n",
       "      <td>R051</td>\n",
       "      <td>02-00-00</td>\n",
       "      <td>59 ST</td>\n",
       "      <td>NQR456W</td>\n",
       "      <td>BMT</td>\n",
       "      <td>05/30/2020</td>\n",
       "      <td>12:00:00</td>\n",
       "      <td>REGULAR</td>\n",
       "      <td>7419911</td>\n",
       "      <td>2520531</td>\n",
       "      <td>2020-05-30 12:00:00</td>\n",
       "    </tr>\n",
       "    <tr>\n",
       "      <th>4</th>\n",
       "      <td>4</td>\n",
       "      <td>A002</td>\n",
       "      <td>R051</td>\n",
       "      <td>02-00-00</td>\n",
       "      <td>59 ST</td>\n",
       "      <td>NQR456W</td>\n",
       "      <td>BMT</td>\n",
       "      <td>05/30/2020</td>\n",
       "      <td>16:00:00</td>\n",
       "      <td>REGULAR</td>\n",
       "      <td>7419940</td>\n",
       "      <td>2520553</td>\n",
       "      <td>2020-05-30 16:00:00</td>\n",
       "    </tr>\n",
       "    <tr>\n",
       "      <th>...</th>\n",
       "      <td>...</td>\n",
       "      <td>...</td>\n",
       "      <td>...</td>\n",
       "      <td>...</td>\n",
       "      <td>...</td>\n",
       "      <td>...</td>\n",
       "      <td>...</td>\n",
       "      <td>...</td>\n",
       "      <td>...</td>\n",
       "      <td>...</td>\n",
       "      <td>...</td>\n",
       "      <td>...</td>\n",
       "      <td>...</td>\n",
       "    </tr>\n",
       "    <tr>\n",
       "      <th>414549</th>\n",
       "      <td>206657</td>\n",
       "      <td>TRAM2</td>\n",
       "      <td>R469</td>\n",
       "      <td>00-05-01</td>\n",
       "      <td>RIT-ROOSEVELT</td>\n",
       "      <td>R</td>\n",
       "      <td>RIT</td>\n",
       "      <td>06/12/2020</td>\n",
       "      <td>05:00:00</td>\n",
       "      <td>REGULAR</td>\n",
       "      <td>5554</td>\n",
       "      <td>514</td>\n",
       "      <td>2020-06-12 05:00:00</td>\n",
       "    </tr>\n",
       "    <tr>\n",
       "      <th>414550</th>\n",
       "      <td>206658</td>\n",
       "      <td>TRAM2</td>\n",
       "      <td>R469</td>\n",
       "      <td>00-05-01</td>\n",
       "      <td>RIT-ROOSEVELT</td>\n",
       "      <td>R</td>\n",
       "      <td>RIT</td>\n",
       "      <td>06/12/2020</td>\n",
       "      <td>09:00:00</td>\n",
       "      <td>REGULAR</td>\n",
       "      <td>5554</td>\n",
       "      <td>514</td>\n",
       "      <td>2020-06-12 09:00:00</td>\n",
       "    </tr>\n",
       "    <tr>\n",
       "      <th>414551</th>\n",
       "      <td>206659</td>\n",
       "      <td>TRAM2</td>\n",
       "      <td>R469</td>\n",
       "      <td>00-05-01</td>\n",
       "      <td>RIT-ROOSEVELT</td>\n",
       "      <td>R</td>\n",
       "      <td>RIT</td>\n",
       "      <td>06/12/2020</td>\n",
       "      <td>13:00:00</td>\n",
       "      <td>REGULAR</td>\n",
       "      <td>5554</td>\n",
       "      <td>514</td>\n",
       "      <td>2020-06-12 13:00:00</td>\n",
       "    </tr>\n",
       "    <tr>\n",
       "      <th>414552</th>\n",
       "      <td>206660</td>\n",
       "      <td>TRAM2</td>\n",
       "      <td>R469</td>\n",
       "      <td>00-05-01</td>\n",
       "      <td>RIT-ROOSEVELT</td>\n",
       "      <td>R</td>\n",
       "      <td>RIT</td>\n",
       "      <td>06/12/2020</td>\n",
       "      <td>17:00:00</td>\n",
       "      <td>REGULAR</td>\n",
       "      <td>5554</td>\n",
       "      <td>514</td>\n",
       "      <td>2020-06-12 17:00:00</td>\n",
       "    </tr>\n",
       "    <tr>\n",
       "      <th>414553</th>\n",
       "      <td>206661</td>\n",
       "      <td>TRAM2</td>\n",
       "      <td>R469</td>\n",
       "      <td>00-05-01</td>\n",
       "      <td>RIT-ROOSEVELT</td>\n",
       "      <td>R</td>\n",
       "      <td>RIT</td>\n",
       "      <td>06/12/2020</td>\n",
       "      <td>21:00:00</td>\n",
       "      <td>REGULAR</td>\n",
       "      <td>5554</td>\n",
       "      <td>514</td>\n",
       "      <td>2020-06-12 21:00:00</td>\n",
       "    </tr>\n",
       "  </tbody>\n",
       "</table>\n",
       "<p>414554 rows × 13 columns</p>\n",
       "</div>"
      ],
      "text/plain": [
       "         index    C/A  UNIT       SCP        STATION LINENAME DIVISION  \\\n",
       "0            0   A002  R051  02-00-00          59 ST  NQR456W      BMT   \n",
       "1            1   A002  R051  02-00-00          59 ST  NQR456W      BMT   \n",
       "2            2   A002  R051  02-00-00          59 ST  NQR456W      BMT   \n",
       "3            3   A002  R051  02-00-00          59 ST  NQR456W      BMT   \n",
       "4            4   A002  R051  02-00-00          59 ST  NQR456W      BMT   \n",
       "...        ...    ...   ...       ...            ...      ...      ...   \n",
       "414549  206657  TRAM2  R469  00-05-01  RIT-ROOSEVELT        R      RIT   \n",
       "414550  206658  TRAM2  R469  00-05-01  RIT-ROOSEVELT        R      RIT   \n",
       "414551  206659  TRAM2  R469  00-05-01  RIT-ROOSEVELT        R      RIT   \n",
       "414552  206660  TRAM2  R469  00-05-01  RIT-ROOSEVELT        R      RIT   \n",
       "414553  206661  TRAM2  R469  00-05-01  RIT-ROOSEVELT        R      RIT   \n",
       "\n",
       "              DATE      TIME     DESC  ENTRIES  \\\n",
       "0       05/30/2020  00:00:00  REGULAR  7419887   \n",
       "1       05/30/2020  04:00:00  REGULAR  7419888   \n",
       "2       05/30/2020  08:00:00  REGULAR  7419895   \n",
       "3       05/30/2020  12:00:00  REGULAR  7419911   \n",
       "4       05/30/2020  16:00:00  REGULAR  7419940   \n",
       "...            ...       ...      ...      ...   \n",
       "414549  06/12/2020  05:00:00  REGULAR     5554   \n",
       "414550  06/12/2020  09:00:00  REGULAR     5554   \n",
       "414551  06/12/2020  13:00:00  REGULAR     5554   \n",
       "414552  06/12/2020  17:00:00  REGULAR     5554   \n",
       "414553  06/12/2020  21:00:00  REGULAR     5554   \n",
       "\n",
       "        EXITS                                                                 \\\n",
       "0                                                 2520505                      \n",
       "1                                                 2520505                      \n",
       "2                                                 2520514                      \n",
       "3                                                 2520531                      \n",
       "4                                                 2520553                      \n",
       "...                                                   ...                      \n",
       "414549                                                514                      \n",
       "414550                                                514                      \n",
       "414551                                                514                      \n",
       "414552                                                514                      \n",
       "414553                                                514                      \n",
       "\n",
       "                  DATETIME  \n",
       "0      2020-05-30 00:00:00  \n",
       "1      2020-05-30 04:00:00  \n",
       "2      2020-05-30 08:00:00  \n",
       "3      2020-05-30 12:00:00  \n",
       "4      2020-05-30 16:00:00  \n",
       "...                    ...  \n",
       "414549 2020-06-12 05:00:00  \n",
       "414550 2020-06-12 09:00:00  \n",
       "414551 2020-06-12 13:00:00  \n",
       "414552 2020-06-12 17:00:00  \n",
       "414553 2020-06-12 21:00:00  \n",
       "\n",
       "[414554 rows x 13 columns]"
      ]
     },
     "execution_count": 6,
     "metadata": {},
     "output_type": "execute_result"
    }
   ],
   "source": [
    "df3['DATETIME'] = pd.to_datetime(df3['DATE'] + ' ' + df3['TIME'])\n",
    "df3"
   ]
  },
  {
   "cell_type": "markdown",
   "metadata": {},
   "source": [
    "### Challenge 3"
   ]
  },
  {
   "cell_type": "code",
   "execution_count": 7,
   "metadata": {},
   "outputs": [
    {
     "data": {
      "text/plain": [
       "C/A    UNIT  SCP       STATION        DATE      \n",
       "A002   R051  02-00-00  59 ST          05/30/2020    7419977\n",
       "                                      05/31/2020    7420073\n",
       "                                      06/01/2020    7420235\n",
       "                                      06/02/2020    7420410\n",
       "                                      06/03/2020    7420573\n",
       "                                                     ...   \n",
       "TRAM2  R469  00-05-01  RIT-ROOSEVELT  06/08/2020       5554\n",
       "                                      06/09/2020       5554\n",
       "                                      06/10/2020       5554\n",
       "                                      06/11/2020       5554\n",
       "                                      06/12/2020       5554\n",
       "Name: MAX, Length: 69090, dtype: int64"
      ]
     },
     "execution_count": 7,
     "metadata": {},
     "output_type": "execute_result"
    }
   ],
   "source": [
    "turnstile_count = df3.groupby(['C/A','UNIT','SCP','STATION','DATE']).ENTRIES\n",
    "min_count = turnstile_count.min()\n",
    "min_count.rename('MIN', inplace=True)\n",
    "max_count = turnstile_count.max()\n",
    "max_count.rename('MAX', inplace=True)"
   ]
  },
  {
   "cell_type": "code",
   "execution_count": 8,
   "metadata": {},
   "outputs": [],
   "source": [
    "max_min = pd.concat([max_count,min_count], axis=1)"
   ]
  },
  {
   "cell_type": "code",
   "execution_count": 9,
   "metadata": {},
   "outputs": [],
   "source": [
    "max_min['NET_ENTRIES'] = max_count - min_count"
   ]
  },
  {
   "cell_type": "code",
   "execution_count": 11,
   "metadata": {},
   "outputs": [
    {
     "data": {
      "text/html": [
       "<div>\n",
       "<style scoped>\n",
       "    .dataframe tbody tr th:only-of-type {\n",
       "        vertical-align: middle;\n",
       "    }\n",
       "\n",
       "    .dataframe tbody tr th {\n",
       "        vertical-align: top;\n",
       "    }\n",
       "\n",
       "    .dataframe thead th {\n",
       "        text-align: right;\n",
       "    }\n",
       "</style>\n",
       "<table border=\"1\" class=\"dataframe\">\n",
       "  <thead>\n",
       "    <tr style=\"text-align: right;\">\n",
       "      <th></th>\n",
       "      <th>C/A</th>\n",
       "      <th>UNIT</th>\n",
       "      <th>SCP</th>\n",
       "      <th>STATION</th>\n",
       "      <th>DATE</th>\n",
       "      <th>MAX</th>\n",
       "      <th>MIN</th>\n",
       "      <th>NET_ENTRIES</th>\n",
       "    </tr>\n",
       "  </thead>\n",
       "  <tbody>\n",
       "    <tr>\n",
       "      <th>0</th>\n",
       "      <td>A002</td>\n",
       "      <td>R051</td>\n",
       "      <td>02-00-00</td>\n",
       "      <td>59 ST</td>\n",
       "      <td>05/30/2020</td>\n",
       "      <td>7419977</td>\n",
       "      <td>7419887</td>\n",
       "      <td>90</td>\n",
       "    </tr>\n",
       "    <tr>\n",
       "      <th>1</th>\n",
       "      <td>A002</td>\n",
       "      <td>R051</td>\n",
       "      <td>02-00-00</td>\n",
       "      <td>59 ST</td>\n",
       "      <td>05/31/2020</td>\n",
       "      <td>7420073</td>\n",
       "      <td>7420000</td>\n",
       "      <td>73</td>\n",
       "    </tr>\n",
       "    <tr>\n",
       "      <th>2</th>\n",
       "      <td>A002</td>\n",
       "      <td>R051</td>\n",
       "      <td>02-00-00</td>\n",
       "      <td>59 ST</td>\n",
       "      <td>06/01/2020</td>\n",
       "      <td>7420235</td>\n",
       "      <td>7420099</td>\n",
       "      <td>136</td>\n",
       "    </tr>\n",
       "    <tr>\n",
       "      <th>3</th>\n",
       "      <td>A002</td>\n",
       "      <td>R051</td>\n",
       "      <td>02-00-00</td>\n",
       "      <td>59 ST</td>\n",
       "      <td>06/02/2020</td>\n",
       "      <td>7420410</td>\n",
       "      <td>7420257</td>\n",
       "      <td>153</td>\n",
       "    </tr>\n",
       "    <tr>\n",
       "      <th>4</th>\n",
       "      <td>A002</td>\n",
       "      <td>R051</td>\n",
       "      <td>02-00-00</td>\n",
       "      <td>59 ST</td>\n",
       "      <td>06/03/2020</td>\n",
       "      <td>7420573</td>\n",
       "      <td>7420420</td>\n",
       "      <td>153</td>\n",
       "    </tr>\n",
       "    <tr>\n",
       "      <th>...</th>\n",
       "      <td>...</td>\n",
       "      <td>...</td>\n",
       "      <td>...</td>\n",
       "      <td>...</td>\n",
       "      <td>...</td>\n",
       "      <td>...</td>\n",
       "      <td>...</td>\n",
       "      <td>...</td>\n",
       "    </tr>\n",
       "    <tr>\n",
       "      <th>69085</th>\n",
       "      <td>TRAM2</td>\n",
       "      <td>R469</td>\n",
       "      <td>00-05-01</td>\n",
       "      <td>RIT-ROOSEVELT</td>\n",
       "      <td>06/08/2020</td>\n",
       "      <td>5554</td>\n",
       "      <td>5554</td>\n",
       "      <td>0</td>\n",
       "    </tr>\n",
       "    <tr>\n",
       "      <th>69086</th>\n",
       "      <td>TRAM2</td>\n",
       "      <td>R469</td>\n",
       "      <td>00-05-01</td>\n",
       "      <td>RIT-ROOSEVELT</td>\n",
       "      <td>06/09/2020</td>\n",
       "      <td>5554</td>\n",
       "      <td>5554</td>\n",
       "      <td>0</td>\n",
       "    </tr>\n",
       "    <tr>\n",
       "      <th>69087</th>\n",
       "      <td>TRAM2</td>\n",
       "      <td>R469</td>\n",
       "      <td>00-05-01</td>\n",
       "      <td>RIT-ROOSEVELT</td>\n",
       "      <td>06/10/2020</td>\n",
       "      <td>5554</td>\n",
       "      <td>5554</td>\n",
       "      <td>0</td>\n",
       "    </tr>\n",
       "    <tr>\n",
       "      <th>69088</th>\n",
       "      <td>TRAM2</td>\n",
       "      <td>R469</td>\n",
       "      <td>00-05-01</td>\n",
       "      <td>RIT-ROOSEVELT</td>\n",
       "      <td>06/11/2020</td>\n",
       "      <td>5554</td>\n",
       "      <td>5554</td>\n",
       "      <td>0</td>\n",
       "    </tr>\n",
       "    <tr>\n",
       "      <th>69089</th>\n",
       "      <td>TRAM2</td>\n",
       "      <td>R469</td>\n",
       "      <td>00-05-01</td>\n",
       "      <td>RIT-ROOSEVELT</td>\n",
       "      <td>06/12/2020</td>\n",
       "      <td>5554</td>\n",
       "      <td>5554</td>\n",
       "      <td>0</td>\n",
       "    </tr>\n",
       "  </tbody>\n",
       "</table>\n",
       "<p>69090 rows × 8 columns</p>\n",
       "</div>"
      ],
      "text/plain": [
       "         C/A  UNIT       SCP        STATION        DATE      MAX      MIN  \\\n",
       "0       A002  R051  02-00-00          59 ST  05/30/2020  7419977  7419887   \n",
       "1       A002  R051  02-00-00          59 ST  05/31/2020  7420073  7420000   \n",
       "2       A002  R051  02-00-00          59 ST  06/01/2020  7420235  7420099   \n",
       "3       A002  R051  02-00-00          59 ST  06/02/2020  7420410  7420257   \n",
       "4       A002  R051  02-00-00          59 ST  06/03/2020  7420573  7420420   \n",
       "...      ...   ...       ...            ...         ...      ...      ...   \n",
       "69085  TRAM2  R469  00-05-01  RIT-ROOSEVELT  06/08/2020     5554     5554   \n",
       "69086  TRAM2  R469  00-05-01  RIT-ROOSEVELT  06/09/2020     5554     5554   \n",
       "69087  TRAM2  R469  00-05-01  RIT-ROOSEVELT  06/10/2020     5554     5554   \n",
       "69088  TRAM2  R469  00-05-01  RIT-ROOSEVELT  06/11/2020     5554     5554   \n",
       "69089  TRAM2  R469  00-05-01  RIT-ROOSEVELT  06/12/2020     5554     5554   \n",
       "\n",
       "       NET_ENTRIES  \n",
       "0               90  \n",
       "1               73  \n",
       "2              136  \n",
       "3              153  \n",
       "4              153  \n",
       "...            ...  \n",
       "69085            0  \n",
       "69086            0  \n",
       "69087            0  \n",
       "69088            0  \n",
       "69089            0  \n",
       "\n",
       "[69090 rows x 8 columns]"
      ]
     },
     "execution_count": 11,
     "metadata": {},
     "output_type": "execute_result"
    }
   ],
   "source": [
    "max_min.reset_index(inplace=True)\n",
    "max_min"
   ]
  },
  {
   "cell_type": "markdown",
   "metadata": {},
   "source": [
    "## Challenge 4"
   ]
  },
  {
   "cell_type": "code",
   "execution_count": 12,
   "metadata": {},
   "outputs": [],
   "source": [
    "%matplotlib inline\n",
    "import matplotlib.pyplot as plt"
   ]
  },
  {
   "cell_type": "code",
   "execution_count": 13,
   "metadata": {},
   "outputs": [],
   "source": [
    "#selecting one turnstile\n",
    "filt = (max_min['C/A']=='A002')&(max_min['UNIT']=='R051')&(max_min['SCP']=='02-00-00')&(max_min['STATION']=='59 ST')"
   ]
  },
  {
   "cell_type": "code",
   "execution_count": 14,
   "metadata": {},
   "outputs": [
    {
     "data": {
      "text/html": [
       "<div>\n",
       "<style scoped>\n",
       "    .dataframe tbody tr th:only-of-type {\n",
       "        vertical-align: middle;\n",
       "    }\n",
       "\n",
       "    .dataframe tbody tr th {\n",
       "        vertical-align: top;\n",
       "    }\n",
       "\n",
       "    .dataframe thead th {\n",
       "        text-align: right;\n",
       "    }\n",
       "</style>\n",
       "<table border=\"1\" class=\"dataframe\">\n",
       "  <thead>\n",
       "    <tr style=\"text-align: right;\">\n",
       "      <th></th>\n",
       "      <th>C/A</th>\n",
       "      <th>UNIT</th>\n",
       "      <th>SCP</th>\n",
       "      <th>STATION</th>\n",
       "      <th>DATE</th>\n",
       "      <th>MAX</th>\n",
       "      <th>MIN</th>\n",
       "      <th>NET_ENTRIES</th>\n",
       "    </tr>\n",
       "  </thead>\n",
       "  <tbody>\n",
       "    <tr>\n",
       "      <th>0</th>\n",
       "      <td>A002</td>\n",
       "      <td>R051</td>\n",
       "      <td>02-00-00</td>\n",
       "      <td>59 ST</td>\n",
       "      <td>05/30/2020</td>\n",
       "      <td>7419977</td>\n",
       "      <td>7419887</td>\n",
       "      <td>90</td>\n",
       "    </tr>\n",
       "    <tr>\n",
       "      <th>1</th>\n",
       "      <td>A002</td>\n",
       "      <td>R051</td>\n",
       "      <td>02-00-00</td>\n",
       "      <td>59 ST</td>\n",
       "      <td>05/31/2020</td>\n",
       "      <td>7420073</td>\n",
       "      <td>7420000</td>\n",
       "      <td>73</td>\n",
       "    </tr>\n",
       "    <tr>\n",
       "      <th>2</th>\n",
       "      <td>A002</td>\n",
       "      <td>R051</td>\n",
       "      <td>02-00-00</td>\n",
       "      <td>59 ST</td>\n",
       "      <td>06/01/2020</td>\n",
       "      <td>7420235</td>\n",
       "      <td>7420099</td>\n",
       "      <td>136</td>\n",
       "    </tr>\n",
       "    <tr>\n",
       "      <th>3</th>\n",
       "      <td>A002</td>\n",
       "      <td>R051</td>\n",
       "      <td>02-00-00</td>\n",
       "      <td>59 ST</td>\n",
       "      <td>06/02/2020</td>\n",
       "      <td>7420410</td>\n",
       "      <td>7420257</td>\n",
       "      <td>153</td>\n",
       "    </tr>\n",
       "    <tr>\n",
       "      <th>4</th>\n",
       "      <td>A002</td>\n",
       "      <td>R051</td>\n",
       "      <td>02-00-00</td>\n",
       "      <td>59 ST</td>\n",
       "      <td>06/03/2020</td>\n",
       "      <td>7420573</td>\n",
       "      <td>7420420</td>\n",
       "      <td>153</td>\n",
       "    </tr>\n",
       "    <tr>\n",
       "      <th>5</th>\n",
       "      <td>A002</td>\n",
       "      <td>R051</td>\n",
       "      <td>02-00-00</td>\n",
       "      <td>59 ST</td>\n",
       "      <td>06/04/2020</td>\n",
       "      <td>7420736</td>\n",
       "      <td>7420584</td>\n",
       "      <td>152</td>\n",
       "    </tr>\n",
       "    <tr>\n",
       "      <th>6</th>\n",
       "      <td>A002</td>\n",
       "      <td>R051</td>\n",
       "      <td>02-00-00</td>\n",
       "      <td>59 ST</td>\n",
       "      <td>06/05/2020</td>\n",
       "      <td>7420901</td>\n",
       "      <td>7420744</td>\n",
       "      <td>157</td>\n",
       "    </tr>\n",
       "    <tr>\n",
       "      <th>7</th>\n",
       "      <td>A002</td>\n",
       "      <td>R051</td>\n",
       "      <td>02-00-00</td>\n",
       "      <td>59 ST</td>\n",
       "      <td>06/06/2020</td>\n",
       "      <td>7421007</td>\n",
       "      <td>7420920</td>\n",
       "      <td>87</td>\n",
       "    </tr>\n",
       "    <tr>\n",
       "      <th>8</th>\n",
       "      <td>A002</td>\n",
       "      <td>R051</td>\n",
       "      <td>02-00-00</td>\n",
       "      <td>59 ST</td>\n",
       "      <td>06/07/2020</td>\n",
       "      <td>7421094</td>\n",
       "      <td>7421025</td>\n",
       "      <td>69</td>\n",
       "    </tr>\n",
       "    <tr>\n",
       "      <th>9</th>\n",
       "      <td>A002</td>\n",
       "      <td>R051</td>\n",
       "      <td>02-00-00</td>\n",
       "      <td>59 ST</td>\n",
       "      <td>06/08/2020</td>\n",
       "      <td>7421360</td>\n",
       "      <td>7421148</td>\n",
       "      <td>212</td>\n",
       "    </tr>\n",
       "    <tr>\n",
       "      <th>10</th>\n",
       "      <td>A002</td>\n",
       "      <td>R051</td>\n",
       "      <td>02-00-00</td>\n",
       "      <td>59 ST</td>\n",
       "      <td>06/09/2020</td>\n",
       "      <td>7421606</td>\n",
       "      <td>7421389</td>\n",
       "      <td>217</td>\n",
       "    </tr>\n",
       "    <tr>\n",
       "      <th>11</th>\n",
       "      <td>A002</td>\n",
       "      <td>R051</td>\n",
       "      <td>02-00-00</td>\n",
       "      <td>59 ST</td>\n",
       "      <td>06/10/2020</td>\n",
       "      <td>7421864</td>\n",
       "      <td>7421639</td>\n",
       "      <td>225</td>\n",
       "    </tr>\n",
       "    <tr>\n",
       "      <th>12</th>\n",
       "      <td>A002</td>\n",
       "      <td>R051</td>\n",
       "      <td>02-00-00</td>\n",
       "      <td>59 ST</td>\n",
       "      <td>06/11/2020</td>\n",
       "      <td>7422095</td>\n",
       "      <td>7421889</td>\n",
       "      <td>206</td>\n",
       "    </tr>\n",
       "    <tr>\n",
       "      <th>13</th>\n",
       "      <td>A002</td>\n",
       "      <td>R051</td>\n",
       "      <td>02-00-00</td>\n",
       "      <td>59 ST</td>\n",
       "      <td>06/12/2020</td>\n",
       "      <td>7422345</td>\n",
       "      <td>7422124</td>\n",
       "      <td>221</td>\n",
       "    </tr>\n",
       "  </tbody>\n",
       "</table>\n",
       "</div>"
      ],
      "text/plain": [
       "     C/A  UNIT       SCP STATION        DATE      MAX      MIN  NET_ENTRIES\n",
       "0   A002  R051  02-00-00   59 ST  05/30/2020  7419977  7419887           90\n",
       "1   A002  R051  02-00-00   59 ST  05/31/2020  7420073  7420000           73\n",
       "2   A002  R051  02-00-00   59 ST  06/01/2020  7420235  7420099          136\n",
       "3   A002  R051  02-00-00   59 ST  06/02/2020  7420410  7420257          153\n",
       "4   A002  R051  02-00-00   59 ST  06/03/2020  7420573  7420420          153\n",
       "5   A002  R051  02-00-00   59 ST  06/04/2020  7420736  7420584          152\n",
       "6   A002  R051  02-00-00   59 ST  06/05/2020  7420901  7420744          157\n",
       "7   A002  R051  02-00-00   59 ST  06/06/2020  7421007  7420920           87\n",
       "8   A002  R051  02-00-00   59 ST  06/07/2020  7421094  7421025           69\n",
       "9   A002  R051  02-00-00   59 ST  06/08/2020  7421360  7421148          212\n",
       "10  A002  R051  02-00-00   59 ST  06/09/2020  7421606  7421389          217\n",
       "11  A002  R051  02-00-00   59 ST  06/10/2020  7421864  7421639          225\n",
       "12  A002  R051  02-00-00   59 ST  06/11/2020  7422095  7421889          206\n",
       "13  A002  R051  02-00-00   59 ST  06/12/2020  7422345  7422124          221"
      ]
     },
     "execution_count": 14,
     "metadata": {},
     "output_type": "execute_result"
    }
   ],
   "source": [
    "max_min[filt]"
   ]
  },
  {
   "cell_type": "code",
   "execution_count": 15,
   "metadata": {},
   "outputs": [
    {
     "data": {
      "text/plain": [
       "Text(0, 0.5, 'Daily Entries')"
      ]
     },
     "execution_count": 15,
     "metadata": {},
     "output_type": "execute_result"
    },
    {
     "data": {
      "image/png": "[encoded data removed]",
      "text/plain": [
       "<Figure size 720x360 with 1 Axes>"
      ]
     },
     "metadata": {
      "needs_background": "light"
     },
     "output_type": "display_data"
    }
   ],
   "source": [
    "max_min[filt].plot(x='DATE', y='NET_ENTRIES',kind='line',figsize=(10,5),legend=False, title='Daily Entries at Turnstile A002/R051/02-00-00 59 ST')\n",
    "plt.xlabel('Date')\n",
    "plt.ylabel('Daily Entries')"
   ]
  },
  {
   "cell_type": "markdown",
   "metadata": {},
   "source": [
    "### Challenge 5"
   ]
  },
  {
   "cell_type": "code",
   "execution_count": 16,
   "metadata": {},
   "outputs": [
    {
     "data": {
      "text/plain": [
       "C/A    UNIT  STATION        DATE      \n",
       "A002   R051  59 ST          05/30/2020     776\n",
       "                            05/31/2020     572\n",
       "                            06/01/2020    1298\n",
       "                            06/02/2020    1530\n",
       "                            06/03/2020    1386\n",
       "                                          ... \n",
       "TRAM2  R469  RIT-ROOSEVELT  06/08/2020     894\n",
       "                            06/09/2020     911\n",
       "                            06/10/2020     914\n",
       "                            06/11/2020     774\n",
       "                            06/12/2020     978\n",
       "Name: NET_ENTRIES, Length: 10477, dtype: int64"
      ]
     },
     "execution_count": 16,
     "metadata": {},
     "output_type": "execute_result"
    }
   ],
   "source": [
    "max_min.groupby(['C/A','UNIT','STATION','DATE']).NET_ENTRIES.sum()"
   ]
  },
  {
   "cell_type": "markdown",
   "metadata": {},
   "source": [
    "### Challenge 6"
   ]
  },
  {
   "cell_type": "code",
   "execution_count": 17,
   "metadata": {},
   "outputs": [
    {
     "data": {
      "text/plain": [
       "STATION    DATE      \n",
       "1 AV       05/30/2020    1053\n",
       "           05/31/2020     864\n",
       "           06/01/2020    2002\n",
       "           06/02/2020    2190\n",
       "           06/03/2020    2134\n",
       "                         ... \n",
       "ZEREGA AV  06/08/2020     583\n",
       "           06/09/2020     530\n",
       "           06/10/2020     525\n",
       "           06/11/2020     522\n",
       "           06/12/2020     565\n",
       "Name: NET_ENTRIES, Length: 5303, dtype: int64"
      ]
     },
     "execution_count": 17,
     "metadata": {},
     "output_type": "execute_result"
    }
   ],
   "source": [
    "max_min.groupby(['STATION','DATE']).NET_ENTRIES.sum()"
   ]
  },
  {
   "cell_type": "markdown",
   "metadata": {},
   "source": [
    "### Challenge 7"
   ]
  },
  {
   "cell_type": "code",
   "execution_count": 18,
   "metadata": {},
   "outputs": [],
   "source": [
    "stations = max_min.groupby(['STATION','DATE']).NET_ENTRIES.sum().reset_index()"
   ]
  },
  {
   "cell_type": "code",
   "execution_count": 19,
   "metadata": {},
   "outputs": [],
   "source": [
    "filt2 = (stations['STATION'] == '1 AV')"
   ]
  },
  {
   "cell_type": "code",
   "execution_count": 20,
   "metadata": {},
   "outputs": [
    {
     "data": {
      "text/plain": [
       "Text(0, 0.5, 'Daily Entries')"
      ]
     },
     "execution_count": 20,
     "metadata": {},
     "output_type": "execute_result"
    },
    {
     "data": {
      "image/png": "[encoded data removed]",
      "text/plain": [
       "<Figure size 720x360 with 1 Axes>"
      ]
     },
     "metadata": {
      "needs_background": "light"
     },
     "output_type": "display_data"
    }
   ],
   "source": [
    "stations[filt2].plot(x='DATE', y='NET_ENTRIES',kind='line',figsize=(10,5),legend=False, title='Daily Entries at 1 AV Station')\n",
    "plt.xlabel('Date')\n",
    "plt.ylabel('Daily Entries')"
   ]
  },
  {
   "cell_type": "markdown",
   "metadata": {},
   "source": [
    "### Challenge 8"
   ]
  },
  {
   "cell_type": "code",
   "execution_count": 21,
   "metadata": {},
   "outputs": [],
   "source": [
    "stations['DATE'] = pd.to_datetime(stations['DATE'])"
   ]
  },
  {
   "cell_type": "code",
   "execution_count": 22,
   "metadata": {},
   "outputs": [],
   "source": [
    "stations['DAY'] = stations['DATE'].dt.dayofweek"
   ]
  },
  {
   "cell_type": "code",
   "execution_count": 23,
   "metadata": {},
   "outputs": [],
   "source": [
    "first_av = stations[filt2]"
   ]
  },
  {
   "cell_type": "code",
   "execution_count": 24,
   "metadata": {},
   "outputs": [],
   "source": [
    "week1_start = '2020-05-30'\n",
    "week1_end = '2020-06-05'\n",
    "week1 = (first_av['DATE']>=week1_start) & (first_av['DATE']<=week1_end)\n",
    "week1_df = first_av.loc[week1]"
   ]
  },
  {
   "cell_type": "code",
   "execution_count": 25,
   "metadata": {},
   "outputs": [
    {
     "data": {
      "text/plain": [
       "[1053, 864, 2002, 2190, 2134, 2229, 2151]"
      ]
     },
     "execution_count": 25,
     "metadata": {},
     "output_type": "execute_result"
    }
   ],
   "source": [
    "week1_count_list = []\n",
    "for elem in week1_df['NET_ENTRIES']:\n",
    "    week1_count_list.append(elem)\n",
    "\n",
    "week1_count_list"
   ]
  },
  {
   "cell_type": "code",
   "execution_count": 26,
   "metadata": {},
   "outputs": [],
   "source": [
    "week2_start = '2020-06-06'\n",
    "week2_end = '2020-06-12'\n",
    "week2 = (first_av['DATE']>=week2_start) & (first_av['DATE']<=week2_end)\n",
    "week2_df = first_av.loc[week2]"
   ]
  },
  {
   "cell_type": "code",
   "execution_count": 27,
   "metadata": {},
   "outputs": [
    {
     "data": {
      "text/plain": [
       "[1451, 1095, 2349, 2503, 2609, 2493, 2674]"
      ]
     },
     "execution_count": 27,
     "metadata": {},
     "output_type": "execute_result"
    }
   ],
   "source": [
    "week2_count_list = []\n",
    "for elem in week2_df['NET_ENTRIES']:\n",
    "    week2_count_list.append(elem)\n",
    "\n",
    "week2_count_list"
   ]
  },
  {
   "cell_type": "code",
   "execution_count": 28,
   "metadata": {},
   "outputs": [
    {
     "data": {
      "text/plain": [
       "<Figure size 720x360 with 0 Axes>"
      ]
     },
     "execution_count": 28,
     "metadata": {},
     "output_type": "execute_result"
    },
    {
     "data": {
      "image/png": "[encoded data removed]",
      "text/plain": [
       "<Figure size 432x288 with 1 Axes>"
      ]
     },
     "metadata": {
      "needs_background": "light"
     },
     "output_type": "display_data"
    },
    {
     "data": {
      "text/plain": [
       "<Figure size 720x360 with 0 Axes>"
      ]
     },
     "metadata": {},
     "output_type": "display_data"
    }
   ],
   "source": [
    "plt.plot(week1_count_list, label='week1 2020-05-30:2020-06-05')\n",
    "plt.plot(week2_count_list, label='week2 2020-06-06:2020-06-12')\n",
    "plt.xlabel('Days')\n",
    "plt.ylabel('Daily Entries')\n",
    "plt.title('Daily Entries at 1 AV Station by Week')\n",
    "plt.legend(loc='lower right')\n",
    "plt.figure(figsize=(10,5))"
   ]
  },
  {
   "cell_type": "markdown",
   "metadata": {},
   "source": [
    "### Challenge 9"
   ]
  },
  {
   "cell_type": "code",
   "execution_count": null,
   "metadata": {},
   "outputs": [],
   "source": []
  }
 ],
 "metadata": {
  "kernelspec": {
   "display_name": "Python 3",
   "language": "python",
   "name": "python3"
  },
  "language_info": {
   "codemirror_mode": {
    "name": "ipython",
    "version": 3
   },
   "file_extension": ".py",
   "mimetype": "text/x-python",
   "name": "python",
   "nbconvert_exporter": "python",
   "pygments_lexer": "ipython3",
   "version": "3.8.3"
  }
 },
 "nbformat": 4,
 "nbformat_minor": 4
}
