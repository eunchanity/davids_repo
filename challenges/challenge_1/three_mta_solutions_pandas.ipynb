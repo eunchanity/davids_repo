{
 "cells": [
  {
   "cell_type": "markdown",
   "metadata": {
    "colab_type": "text",
    "id": "pd32KLqLG34t"
   },
   "source": [
    "# EDA Continued: Challenge Set 1 Review, Data Checking & Cleaning with Pandas and Viz Tools\n",
    "\n",
    "Aka, learning how to always expect your data to have more problems.\n",
    "\n",
    "**Learning Goals**:\n",
    "\n",
    "1. Review core pandas methods and understand their application to challenge set 1\n",
    "2. Understand basic methods for data quality checking and cleaning \n",
    "3. See examples of how to use visualization as an aid in exploring data quality "
   ]
  },
  {
   "cell_type": "code",
   "execution_count": 1,
   "metadata": {},
   "outputs": [
    {
     "name": "stdout",
     "output_type": "stream",
     "text": [
      "hello\n"
     ]
    }
   ],
   "source": [
    "print(\"hello\")"
   ]
  },
  {
   "cell_type": "code",
   "execution_count": 2,
   "metadata": {
    "colab": {},
    "colab_type": "code",
    "id": "Ox8-mRWkG34x"
   },
   "outputs": [],
   "source": [
    "from __future__ import print_function, division"
   ]
  },
  {
   "cell_type": "code",
   "execution_count": 3,
   "metadata": {
    "colab": {},
    "colab_type": "code",
    "id": "R5Vzalp-G343"
   },
   "outputs": [],
   "source": [
    "import pandas as pd\n",
    "import numpy as np\n",
    "import matplotlib.pyplot as plt\n",
    "\n",
    "%matplotlib inline"
   ]
  },
  {
   "cell_type": "code",
   "execution_count": 4,
   "metadata": {
    "colab": {},
    "colab_type": "code",
    "id": "HbQkTaoOG347"
   },
   "outputs": [],
   "source": [
    "import datetime"
   ]
  },
  {
   "cell_type": "markdown",
   "metadata": {
    "colab_type": "text",
    "id": "FZ7Xn2TvG35A"
   },
   "source": [
    "#### Exercise 1.1\n",
    "\n",
    "- Open up a new IPython notebook\n",
    "- Download a few MTA turnstile data files\n",
    "- Read them into a pandas dataframe (pd.read_csv()), format the columns nicely, and display the first few rows."
   ]
  },
  {
   "cell_type": "code",
   "execution_count": 5,
   "metadata": {
    "colab": {},
    "colab_type": "code",
    "id": "l35mmdK7G35B"
   },
   "outputs": [],
   "source": [
    "# Source: http://web.mta.info/developers/turnstile.html\n",
    "def get_data(week_nums):\n",
    "    url = \"http://web.mta.info/developers/data/nyct/turnstile/turnstile_{}.txt\"\n",
    "    dfs = []\n",
    "    for week_num in week_nums:\n",
    "        file_url = url.format(week_num)\n",
    "        dfs.append(pd.read_csv(file_url))\n",
    "    return pd.concat(dfs)\n",
    "        \n",
    "week_nums = [160903, 160910, 160917]\n",
    "turnstiles_df = get_data(week_nums)"
   ]
  },
  {
   "cell_type": "code",
   "execution_count": 6,
   "metadata": {
    "colab": {},
    "colab_type": "code",
    "id": "Z_KniFNhG35F",
    "outputId": "db9eeef3-f73c-4656-f2c2-498be961a031"
   },
   "outputs": [
    {
     "data": {
      "text/html": [
       "<div>\n",
       "<style scoped>\n",
       "    .dataframe tbody tr th:only-of-type {\n",
       "        vertical-align: middle;\n",
       "    }\n",
       "\n",
       "    .dataframe tbody tr th {\n",
       "        vertical-align: top;\n",
       "    }\n",
       "\n",
       "    .dataframe thead th {\n",
       "        text-align: right;\n",
       "    }\n",
       "</style>\n",
       "<table border=\"1\" class=\"dataframe\">\n",
       "  <thead>\n",
       "    <tr style=\"text-align: right;\">\n",
       "      <th></th>\n",
       "      <th>C/A</th>\n",
       "      <th>UNIT</th>\n",
       "      <th>SCP</th>\n",
       "      <th>STATION</th>\n",
       "      <th>LINENAME</th>\n",
       "      <th>DIVISION</th>\n",
       "      <th>DATE</th>\n",
       "      <th>TIME</th>\n",
       "      <th>DESC</th>\n",
       "      <th>ENTRIES</th>\n",
       "      <th>EXITS</th>\n",
       "    </tr>\n",
       "  </thead>\n",
       "  <tbody>\n",
       "    <tr>\n",
       "      <th>0</th>\n",
       "      <td>A002</td>\n",
       "      <td>R051</td>\n",
       "      <td>02-00-00</td>\n",
       "      <td>59 ST</td>\n",
       "      <td>NQR456</td>\n",
       "      <td>BMT</td>\n",
       "      <td>08/27/2016</td>\n",
       "      <td>00:00:00</td>\n",
       "      <td>REGULAR</td>\n",
       "      <td>5799442</td>\n",
       "      <td>1966041</td>\n",
       "    </tr>\n",
       "    <tr>\n",
       "      <th>1</th>\n",
       "      <td>A002</td>\n",
       "      <td>R051</td>\n",
       "      <td>02-00-00</td>\n",
       "      <td>59 ST</td>\n",
       "      <td>NQR456</td>\n",
       "      <td>BMT</td>\n",
       "      <td>08/27/2016</td>\n",
       "      <td>04:00:00</td>\n",
       "      <td>REGULAR</td>\n",
       "      <td>5799463</td>\n",
       "      <td>1966044</td>\n",
       "    </tr>\n",
       "    <tr>\n",
       "      <th>2</th>\n",
       "      <td>A002</td>\n",
       "      <td>R051</td>\n",
       "      <td>02-00-00</td>\n",
       "      <td>59 ST</td>\n",
       "      <td>NQR456</td>\n",
       "      <td>BMT</td>\n",
       "      <td>08/27/2016</td>\n",
       "      <td>08:00:00</td>\n",
       "      <td>REGULAR</td>\n",
       "      <td>5799492</td>\n",
       "      <td>1966079</td>\n",
       "    </tr>\n",
       "    <tr>\n",
       "      <th>3</th>\n",
       "      <td>A002</td>\n",
       "      <td>R051</td>\n",
       "      <td>02-00-00</td>\n",
       "      <td>59 ST</td>\n",
       "      <td>NQR456</td>\n",
       "      <td>BMT</td>\n",
       "      <td>08/27/2016</td>\n",
       "      <td>12:00:00</td>\n",
       "      <td>REGULAR</td>\n",
       "      <td>5799610</td>\n",
       "      <td>1966155</td>\n",
       "    </tr>\n",
       "    <tr>\n",
       "      <th>4</th>\n",
       "      <td>A002</td>\n",
       "      <td>R051</td>\n",
       "      <td>02-00-00</td>\n",
       "      <td>59 ST</td>\n",
       "      <td>NQR456</td>\n",
       "      <td>BMT</td>\n",
       "      <td>08/27/2016</td>\n",
       "      <td>16:00:00</td>\n",
       "      <td>REGULAR</td>\n",
       "      <td>5799833</td>\n",
       "      <td>1966214</td>\n",
       "    </tr>\n",
       "  </tbody>\n",
       "</table>\n",
       "</div>"
      ],
      "text/plain": [
       "    C/A  UNIT       SCP STATION LINENAME DIVISION        DATE      TIME  \\\n",
       "0  A002  R051  02-00-00   59 ST   NQR456      BMT  08/27/2016  00:00:00   \n",
       "1  A002  R051  02-00-00   59 ST   NQR456      BMT  08/27/2016  04:00:00   \n",
       "2  A002  R051  02-00-00   59 ST   NQR456      BMT  08/27/2016  08:00:00   \n",
       "3  A002  R051  02-00-00   59 ST   NQR456      BMT  08/27/2016  12:00:00   \n",
       "4  A002  R051  02-00-00   59 ST   NQR456      BMT  08/27/2016  16:00:00   \n",
       "\n",
       "      DESC  ENTRIES  \\\n",
       "0  REGULAR  5799442   \n",
       "1  REGULAR  5799463   \n",
       "2  REGULAR  5799492   \n",
       "3  REGULAR  5799610   \n",
       "4  REGULAR  5799833   \n",
       "\n",
       "   EXITS                                                                 \n",
       "0                                            1966041                     \n",
       "1                                            1966044                     \n",
       "2                                            1966079                     \n",
       "3                                            1966155                     \n",
       "4                                            1966214                     "
      ]
     },
     "execution_count": 6,
     "metadata": {},
     "output_type": "execute_result"
    }
   ],
   "source": [
    "turnstiles_df.head()"
   ]
  },
  {
   "cell_type": "code",
   "execution_count": 7,
   "metadata": {
    "colab": {},
    "colab_type": "code",
    "id": "b3YwXLDZG35K",
    "outputId": "24dbf7b6-6676-4a2e-e830-1c13b7888c8c"
   },
   "outputs": [
    {
     "data": {
      "text/plain": [
       "Index(['C/A', 'UNIT', 'SCP', 'STATION', 'LINENAME', 'DIVISION', 'DATE', 'TIME',\n",
       "       'DESC', 'ENTRIES',\n",
       "       'EXITS                                                               '],\n",
       "      dtype='object')"
      ]
     },
     "execution_count": 7,
     "metadata": {},
     "output_type": "execute_result"
    }
   ],
   "source": [
    "turnstiles_df.columns"
   ]
  },
  {
   "cell_type": "code",
   "execution_count": 8,
   "metadata": {
    "colab": {},
    "colab_type": "code",
    "id": "2SKnF_vRG35O"
   },
   "outputs": [],
   "source": [
    "turnstiles_df.columns = [column.strip() for column in turnstiles_df.columns]"
   ]
  },
  {
   "cell_type": "code",
   "execution_count": 9,
   "metadata": {
    "colab": {},
    "colab_type": "code",
    "id": "fQUXcpSPG35R",
    "outputId": "0f9bb420-4995-4fbe-93a4-aa59c60df8c6"
   },
   "outputs": [
    {
     "data": {
      "text/plain": [
       "Index(['C/A', 'UNIT', 'SCP', 'STATION', 'LINENAME', 'DIVISION', 'DATE', 'TIME',\n",
       "       'DESC', 'ENTRIES', 'EXITS'],\n",
       "      dtype='object')"
      ]
     },
     "execution_count": 9,
     "metadata": {},
     "output_type": "execute_result"
    }
   ],
   "source": [
    "turnstiles_df.columns"
   ]
  },
  {
   "cell_type": "code",
   "execution_count": 10,
   "metadata": {
    "colab": {},
    "colab_type": "code",
    "id": "9QYJgOeIG35V",
    "outputId": "da2a5573-bc92-45a1-a836-8001b7b8df65"
   },
   "outputs": [
    {
     "data": {
      "text/html": [
       "<div>\n",
       "<style scoped>\n",
       "    .dataframe tbody tr th:only-of-type {\n",
       "        vertical-align: middle;\n",
       "    }\n",
       "\n",
       "    .dataframe tbody tr th {\n",
       "        vertical-align: top;\n",
       "    }\n",
       "\n",
       "    .dataframe thead th {\n",
       "        text-align: right;\n",
       "    }\n",
       "</style>\n",
       "<table border=\"1\" class=\"dataframe\">\n",
       "  <thead>\n",
       "    <tr style=\"text-align: right;\">\n",
       "      <th></th>\n",
       "      <th>C/A</th>\n",
       "      <th>UNIT</th>\n",
       "      <th>SCP</th>\n",
       "      <th>STATION</th>\n",
       "      <th>LINENAME</th>\n",
       "      <th>DIVISION</th>\n",
       "      <th>DATE</th>\n",
       "      <th>TIME</th>\n",
       "      <th>DESC</th>\n",
       "      <th>ENTRIES</th>\n",
       "      <th>EXITS</th>\n",
       "    </tr>\n",
       "  </thead>\n",
       "  <tbody>\n",
       "    <tr>\n",
       "      <th>0</th>\n",
       "      <td>A002</td>\n",
       "      <td>R051</td>\n",
       "      <td>02-00-00</td>\n",
       "      <td>59 ST</td>\n",
       "      <td>NQR456</td>\n",
       "      <td>BMT</td>\n",
       "      <td>08/27/2016</td>\n",
       "      <td>00:00:00</td>\n",
       "      <td>REGULAR</td>\n",
       "      <td>5799442</td>\n",
       "      <td>1966041</td>\n",
       "    </tr>\n",
       "    <tr>\n",
       "      <th>1</th>\n",
       "      <td>A002</td>\n",
       "      <td>R051</td>\n",
       "      <td>02-00-00</td>\n",
       "      <td>59 ST</td>\n",
       "      <td>NQR456</td>\n",
       "      <td>BMT</td>\n",
       "      <td>08/27/2016</td>\n",
       "      <td>04:00:00</td>\n",
       "      <td>REGULAR</td>\n",
       "      <td>5799463</td>\n",
       "      <td>1966044</td>\n",
       "    </tr>\n",
       "    <tr>\n",
       "      <th>2</th>\n",
       "      <td>A002</td>\n",
       "      <td>R051</td>\n",
       "      <td>02-00-00</td>\n",
       "      <td>59 ST</td>\n",
       "      <td>NQR456</td>\n",
       "      <td>BMT</td>\n",
       "      <td>08/27/2016</td>\n",
       "      <td>08:00:00</td>\n",
       "      <td>REGULAR</td>\n",
       "      <td>5799492</td>\n",
       "      <td>1966079</td>\n",
       "    </tr>\n",
       "    <tr>\n",
       "      <th>3</th>\n",
       "      <td>A002</td>\n",
       "      <td>R051</td>\n",
       "      <td>02-00-00</td>\n",
       "      <td>59 ST</td>\n",
       "      <td>NQR456</td>\n",
       "      <td>BMT</td>\n",
       "      <td>08/27/2016</td>\n",
       "      <td>12:00:00</td>\n",
       "      <td>REGULAR</td>\n",
       "      <td>5799610</td>\n",
       "      <td>1966155</td>\n",
       "    </tr>\n",
       "    <tr>\n",
       "      <th>4</th>\n",
       "      <td>A002</td>\n",
       "      <td>R051</td>\n",
       "      <td>02-00-00</td>\n",
       "      <td>59 ST</td>\n",
       "      <td>NQR456</td>\n",
       "      <td>BMT</td>\n",
       "      <td>08/27/2016</td>\n",
       "      <td>16:00:00</td>\n",
       "      <td>REGULAR</td>\n",
       "      <td>5799833</td>\n",
       "      <td>1966214</td>\n",
       "    </tr>\n",
       "  </tbody>\n",
       "</table>\n",
       "</div>"
      ],
      "text/plain": [
       "    C/A  UNIT       SCP STATION LINENAME DIVISION        DATE      TIME  \\\n",
       "0  A002  R051  02-00-00   59 ST   NQR456      BMT  08/27/2016  00:00:00   \n",
       "1  A002  R051  02-00-00   59 ST   NQR456      BMT  08/27/2016  04:00:00   \n",
       "2  A002  R051  02-00-00   59 ST   NQR456      BMT  08/27/2016  08:00:00   \n",
       "3  A002  R051  02-00-00   59 ST   NQR456      BMT  08/27/2016  12:00:00   \n",
       "4  A002  R051  02-00-00   59 ST   NQR456      BMT  08/27/2016  16:00:00   \n",
       "\n",
       "      DESC  ENTRIES    EXITS  \n",
       "0  REGULAR  5799442  1966041  \n",
       "1  REGULAR  5799463  1966044  \n",
       "2  REGULAR  5799492  1966079  \n",
       "3  REGULAR  5799610  1966155  \n",
       "4  REGULAR  5799833  1966214  "
      ]
     },
     "execution_count": 10,
     "metadata": {},
     "output_type": "execute_result"
    }
   ],
   "source": [
    "turnstiles_df.head()"
   ]
  },
  {
   "cell_type": "code",
   "execution_count": 11,
   "metadata": {
    "colab": {},
    "colab_type": "code",
    "id": "e0VmQRZGG35Z",
    "outputId": "e9f5c296-9dc6-4116-954b-da86b21ddb5f"
   },
   "outputs": [
    {
     "data": {
      "text/html": [
       "<div>\n",
       "<style scoped>\n",
       "    .dataframe tbody tr th:only-of-type {\n",
       "        vertical-align: middle;\n",
       "    }\n",
       "\n",
       "    .dataframe tbody tr th {\n",
       "        vertical-align: top;\n",
       "    }\n",
       "\n",
       "    .dataframe thead th {\n",
       "        text-align: right;\n",
       "    }\n",
       "</style>\n",
       "<table border=\"1\" class=\"dataframe\">\n",
       "  <thead>\n",
       "    <tr style=\"text-align: right;\">\n",
       "      <th></th>\n",
       "      <th>C/A</th>\n",
       "      <th>UNIT</th>\n",
       "      <th>SCP</th>\n",
       "      <th>STATION</th>\n",
       "      <th>LINENAME</th>\n",
       "      <th>DIVISION</th>\n",
       "      <th>DATE</th>\n",
       "      <th>TIME</th>\n",
       "      <th>DESC</th>\n",
       "      <th>ENTRIES</th>\n",
       "      <th>EXITS</th>\n",
       "    </tr>\n",
       "  </thead>\n",
       "  <tbody>\n",
       "    <tr>\n",
       "      <th>192873</th>\n",
       "      <td>TRAM2</td>\n",
       "      <td>R469</td>\n",
       "      <td>00-05-01</td>\n",
       "      <td>RIT-ROOSEVELT</td>\n",
       "      <td>R</td>\n",
       "      <td>RIT</td>\n",
       "      <td>09/16/2016</td>\n",
       "      <td>05:00:00</td>\n",
       "      <td>REGULAR</td>\n",
       "      <td>5554</td>\n",
       "      <td>271</td>\n",
       "    </tr>\n",
       "    <tr>\n",
       "      <th>192874</th>\n",
       "      <td>TRAM2</td>\n",
       "      <td>R469</td>\n",
       "      <td>00-05-01</td>\n",
       "      <td>RIT-ROOSEVELT</td>\n",
       "      <td>R</td>\n",
       "      <td>RIT</td>\n",
       "      <td>09/16/2016</td>\n",
       "      <td>09:00:00</td>\n",
       "      <td>REGULAR</td>\n",
       "      <td>5554</td>\n",
       "      <td>271</td>\n",
       "    </tr>\n",
       "    <tr>\n",
       "      <th>192875</th>\n",
       "      <td>TRAM2</td>\n",
       "      <td>R469</td>\n",
       "      <td>00-05-01</td>\n",
       "      <td>RIT-ROOSEVELT</td>\n",
       "      <td>R</td>\n",
       "      <td>RIT</td>\n",
       "      <td>09/16/2016</td>\n",
       "      <td>13:00:00</td>\n",
       "      <td>REGULAR</td>\n",
       "      <td>5554</td>\n",
       "      <td>271</td>\n",
       "    </tr>\n",
       "    <tr>\n",
       "      <th>192876</th>\n",
       "      <td>TRAM2</td>\n",
       "      <td>R469</td>\n",
       "      <td>00-05-01</td>\n",
       "      <td>RIT-ROOSEVELT</td>\n",
       "      <td>R</td>\n",
       "      <td>RIT</td>\n",
       "      <td>09/16/2016</td>\n",
       "      <td>17:00:00</td>\n",
       "      <td>REGULAR</td>\n",
       "      <td>5554</td>\n",
       "      <td>271</td>\n",
       "    </tr>\n",
       "    <tr>\n",
       "      <th>192877</th>\n",
       "      <td>TRAM2</td>\n",
       "      <td>R469</td>\n",
       "      <td>00-05-01</td>\n",
       "      <td>RIT-ROOSEVELT</td>\n",
       "      <td>R</td>\n",
       "      <td>RIT</td>\n",
       "      <td>09/16/2016</td>\n",
       "      <td>21:00:00</td>\n",
       "      <td>REGULAR</td>\n",
       "      <td>5554</td>\n",
       "      <td>271</td>\n",
       "    </tr>\n",
       "  </tbody>\n",
       "</table>\n",
       "</div>"
      ],
      "text/plain": [
       "          C/A  UNIT       SCP        STATION LINENAME DIVISION        DATE  \\\n",
       "192873  TRAM2  R469  00-05-01  RIT-ROOSEVELT        R      RIT  09/16/2016   \n",
       "192874  TRAM2  R469  00-05-01  RIT-ROOSEVELT        R      RIT  09/16/2016   \n",
       "192875  TRAM2  R469  00-05-01  RIT-ROOSEVELT        R      RIT  09/16/2016   \n",
       "192876  TRAM2  R469  00-05-01  RIT-ROOSEVELT        R      RIT  09/16/2016   \n",
       "192877  TRAM2  R469  00-05-01  RIT-ROOSEVELT        R      RIT  09/16/2016   \n",
       "\n",
       "            TIME     DESC  ENTRIES  EXITS  \n",
       "192873  05:00:00  REGULAR     5554    271  \n",
       "192874  09:00:00  REGULAR     5554    271  \n",
       "192875  13:00:00  REGULAR     5554    271  \n",
       "192876  17:00:00  REGULAR     5554    271  \n",
       "192877  21:00:00  REGULAR     5554    271  "
      ]
     },
     "execution_count": 11,
     "metadata": {},
     "output_type": "execute_result"
    }
   ],
   "source": [
    "turnstiles_df.tail()"
   ]
  },
  {
   "cell_type": "code",
   "execution_count": 12,
   "metadata": {
    "colab": {},
    "colab_type": "code",
    "id": "sa1b2feDG35d",
    "outputId": "db67baa6-6ffd-4b7d-d4c1-f9837883d7bb"
   },
   "outputs": [
    {
     "data": {
      "text/plain": [
       "08/27/2016    27290\n",
       "08/28/2016    27300\n",
       "08/29/2016    27828\n",
       "08/30/2016    27775\n",
       "08/31/2016    27352\n",
       "09/01/2016    28116\n",
       "09/02/2016    27478\n",
       "09/03/2016    27353\n",
       "09/04/2016    27304\n",
       "09/05/2016    27325\n",
       "09/06/2016    28826\n",
       "09/07/2016    27977\n",
       "09/08/2016    28137\n",
       "09/09/2016    27956\n",
       "09/10/2016    27325\n",
       "09/11/2016    27334\n",
       "09/12/2016    28074\n",
       "09/13/2016    27343\n",
       "09/14/2016    27359\n",
       "09/15/2016    27283\n",
       "09/16/2016    28160\n",
       "Name: DATE, dtype: int64"
      ]
     },
     "execution_count": 12,
     "metadata": {},
     "output_type": "execute_result"
    }
   ],
   "source": [
    "# Three weeks of Data\n",
    "turnstiles_df.DATE.value_counts().sort_index()"
   ]
  },
  {
   "cell_type": "markdown",
   "metadata": {
    "colab_type": "text",
    "id": "9EA65TzWG35g"
   },
   "source": [
    "\n",
    "#### Exercise 1.2\n",
    "\n",
    "- Let's turn this into a time series. Create a new column that stores the date and time as a single pandas datetime object."
   ]
  },
  {
   "cell_type": "code",
   "execution_count": 13,
   "metadata": {
    "colab": {},
    "colab_type": "code",
    "id": "wYzuSwfGG35h",
    "outputId": "a8c99bb2-5194-4e25-eda8-4b9112c67186"
   },
   "outputs": [
    {
     "data": {
      "text/plain": [
       "Index(['C/A', 'UNIT', 'SCP', 'STATION', 'LINENAME', 'DIVISION', 'DATE', 'TIME',\n",
       "       'DESC', 'ENTRIES', 'EXITS'],\n",
       "      dtype='object')"
      ]
     },
     "execution_count": 13,
     "metadata": {},
     "output_type": "execute_result"
    }
   ],
   "source": [
    "turnstiles_df.columns"
   ]
  },
  {
   "cell_type": "code",
   "execution_count": 14,
   "metadata": {
    "colab": {},
    "colab_type": "code",
    "id": "7WeI6mMqG35l"
   },
   "outputs": [],
   "source": [
    "from datetime import datetime as dt"
   ]
  },
  {
   "cell_type": "code",
   "execution_count": 15,
   "metadata": {
    "colab": {},
    "colab_type": "code",
    "id": "cm4s0832G35p"
   },
   "outputs": [],
   "source": [
    "# Take the date and time fields into a single datetime column\n",
    "turnstiles_df[\"DATE_TIME\"] = pd.to_datetime(turnstiles_df.DATE + \" \" + turnstiles_df.TIME, \n",
    "                                            format=\"%m/%d/%Y %H:%M:%S\")"
   ]
  },
  {
   "cell_type": "code",
   "execution_count": 16,
   "metadata": {
    "colab": {},
    "colab_type": "code",
    "id": "dZlrQFR0G35t",
    "outputId": "d127b988-4d51-419a-99f4-38ef2fcdc286",
    "scrolled": true
   },
   "outputs": [
    {
     "data": {
      "text/html": [
       "<div>\n",
       "<style scoped>\n",
       "    .dataframe tbody tr th:only-of-type {\n",
       "        vertical-align: middle;\n",
       "    }\n",
       "\n",
       "    .dataframe tbody tr th {\n",
       "        vertical-align: top;\n",
       "    }\n",
       "\n",
       "    .dataframe thead th {\n",
       "        text-align: right;\n",
       "    }\n",
       "</style>\n",
       "<table border=\"1\" class=\"dataframe\">\n",
       "  <thead>\n",
       "    <tr style=\"text-align: right;\">\n",
       "      <th></th>\n",
       "      <th>C/A</th>\n",
       "      <th>UNIT</th>\n",
       "      <th>SCP</th>\n",
       "      <th>STATION</th>\n",
       "      <th>LINENAME</th>\n",
       "      <th>DIVISION</th>\n",
       "      <th>DATE</th>\n",
       "      <th>TIME</th>\n",
       "      <th>DESC</th>\n",
       "      <th>ENTRIES</th>\n",
       "      <th>EXITS</th>\n",
       "      <th>DATE_TIME</th>\n",
       "    </tr>\n",
       "  </thead>\n",
       "  <tbody>\n",
       "    <tr>\n",
       "      <th>0</th>\n",
       "      <td>A002</td>\n",
       "      <td>R051</td>\n",
       "      <td>02-00-00</td>\n",
       "      <td>59 ST</td>\n",
       "      <td>NQR456</td>\n",
       "      <td>BMT</td>\n",
       "      <td>08/27/2016</td>\n",
       "      <td>00:00:00</td>\n",
       "      <td>REGULAR</td>\n",
       "      <td>5799442</td>\n",
       "      <td>1966041</td>\n",
       "      <td>2016-08-27 00:00:00</td>\n",
       "    </tr>\n",
       "    <tr>\n",
       "      <th>1</th>\n",
       "      <td>A002</td>\n",
       "      <td>R051</td>\n",
       "      <td>02-00-00</td>\n",
       "      <td>59 ST</td>\n",
       "      <td>NQR456</td>\n",
       "      <td>BMT</td>\n",
       "      <td>08/27/2016</td>\n",
       "      <td>04:00:00</td>\n",
       "      <td>REGULAR</td>\n",
       "      <td>5799463</td>\n",
       "      <td>1966044</td>\n",
       "      <td>2016-08-27 04:00:00</td>\n",
       "    </tr>\n",
       "    <tr>\n",
       "      <th>2</th>\n",
       "      <td>A002</td>\n",
       "      <td>R051</td>\n",
       "      <td>02-00-00</td>\n",
       "      <td>59 ST</td>\n",
       "      <td>NQR456</td>\n",
       "      <td>BMT</td>\n",
       "      <td>08/27/2016</td>\n",
       "      <td>08:00:00</td>\n",
       "      <td>REGULAR</td>\n",
       "      <td>5799492</td>\n",
       "      <td>1966079</td>\n",
       "      <td>2016-08-27 08:00:00</td>\n",
       "    </tr>\n",
       "    <tr>\n",
       "      <th>3</th>\n",
       "      <td>A002</td>\n",
       "      <td>R051</td>\n",
       "      <td>02-00-00</td>\n",
       "      <td>59 ST</td>\n",
       "      <td>NQR456</td>\n",
       "      <td>BMT</td>\n",
       "      <td>08/27/2016</td>\n",
       "      <td>12:00:00</td>\n",
       "      <td>REGULAR</td>\n",
       "      <td>5799610</td>\n",
       "      <td>1966155</td>\n",
       "      <td>2016-08-27 12:00:00</td>\n",
       "    </tr>\n",
       "    <tr>\n",
       "      <th>4</th>\n",
       "      <td>A002</td>\n",
       "      <td>R051</td>\n",
       "      <td>02-00-00</td>\n",
       "      <td>59 ST</td>\n",
       "      <td>NQR456</td>\n",
       "      <td>BMT</td>\n",
       "      <td>08/27/2016</td>\n",
       "      <td>16:00:00</td>\n",
       "      <td>REGULAR</td>\n",
       "      <td>5799833</td>\n",
       "      <td>1966214</td>\n",
       "      <td>2016-08-27 16:00:00</td>\n",
       "    </tr>\n",
       "  </tbody>\n",
       "</table>\n",
       "</div>"
      ],
      "text/plain": [
       "    C/A  UNIT       SCP STATION LINENAME DIVISION        DATE      TIME  \\\n",
       "0  A002  R051  02-00-00   59 ST   NQR456      BMT  08/27/2016  00:00:00   \n",
       "1  A002  R051  02-00-00   59 ST   NQR456      BMT  08/27/2016  04:00:00   \n",
       "2  A002  R051  02-00-00   59 ST   NQR456      BMT  08/27/2016  08:00:00   \n",
       "3  A002  R051  02-00-00   59 ST   NQR456      BMT  08/27/2016  12:00:00   \n",
       "4  A002  R051  02-00-00   59 ST   NQR456      BMT  08/27/2016  16:00:00   \n",
       "\n",
       "      DESC  ENTRIES    EXITS           DATE_TIME  \n",
       "0  REGULAR  5799442  1966041 2016-08-27 00:00:00  \n",
       "1  REGULAR  5799463  1966044 2016-08-27 04:00:00  \n",
       "2  REGULAR  5799492  1966079 2016-08-27 08:00:00  \n",
       "3  REGULAR  5799610  1966155 2016-08-27 12:00:00  \n",
       "4  REGULAR  5799833  1966214 2016-08-27 16:00:00  "
      ]
     },
     "execution_count": 16,
     "metadata": {},
     "output_type": "execute_result"
    }
   ],
   "source": [
    "turnstiles_df.head()"
   ]
  },
  {
   "cell_type": "markdown",
   "metadata": {
    "colab_type": "text",
    "id": "Vvv3ywmtG35y"
   },
   "source": [
    "Alternatively, pandas is so good that it can even automatically parse datetimes as you load in data if you tell it to, as below."
   ]
  },
  {
   "cell_type": "code",
   "execution_count": 17,
   "metadata": {
    "colab": {},
    "colab_type": "code",
    "id": "RlEpNm7NG35z",
    "outputId": "08eca67d-adcc-4972-8168-5895f6e9ce58"
   },
   "outputs": [
    {
     "data": {
      "text/html": [
       "<div>\n",
       "<style scoped>\n",
       "    .dataframe tbody tr th:only-of-type {\n",
       "        vertical-align: middle;\n",
       "    }\n",
       "\n",
       "    .dataframe tbody tr th {\n",
       "        vertical-align: top;\n",
       "    }\n",
       "\n",
       "    .dataframe thead th {\n",
       "        text-align: right;\n",
       "    }\n",
       "</style>\n",
       "<table border=\"1\" class=\"dataframe\">\n",
       "  <thead>\n",
       "    <tr style=\"text-align: right;\">\n",
       "      <th></th>\n",
       "      <th>DATE_TIME</th>\n",
       "      <th>C/A</th>\n",
       "      <th>UNIT</th>\n",
       "      <th>SCP</th>\n",
       "      <th>STATION</th>\n",
       "      <th>LINENAME</th>\n",
       "      <th>DIVISION</th>\n",
       "      <th>DATE</th>\n",
       "      <th>TIME</th>\n",
       "      <th>DESC</th>\n",
       "      <th>ENTRIES</th>\n",
       "      <th>EXITS</th>\n",
       "    </tr>\n",
       "  </thead>\n",
       "  <tbody>\n",
       "    <tr>\n",
       "      <th>0</th>\n",
       "      <td>2016-08-27 00:00:00</td>\n",
       "      <td>A002</td>\n",
       "      <td>R051</td>\n",
       "      <td>02-00-00</td>\n",
       "      <td>59 ST</td>\n",
       "      <td>NQR456</td>\n",
       "      <td>BMT</td>\n",
       "      <td>08/27/2016</td>\n",
       "      <td>00:00:00</td>\n",
       "      <td>REGULAR</td>\n",
       "      <td>5799442</td>\n",
       "      <td>1966041</td>\n",
       "    </tr>\n",
       "    <tr>\n",
       "      <th>1</th>\n",
       "      <td>2016-08-27 04:00:00</td>\n",
       "      <td>A002</td>\n",
       "      <td>R051</td>\n",
       "      <td>02-00-00</td>\n",
       "      <td>59 ST</td>\n",
       "      <td>NQR456</td>\n",
       "      <td>BMT</td>\n",
       "      <td>08/27/2016</td>\n",
       "      <td>04:00:00</td>\n",
       "      <td>REGULAR</td>\n",
       "      <td>5799463</td>\n",
       "      <td>1966044</td>\n",
       "    </tr>\n",
       "    <tr>\n",
       "      <th>2</th>\n",
       "      <td>2016-08-27 08:00:00</td>\n",
       "      <td>A002</td>\n",
       "      <td>R051</td>\n",
       "      <td>02-00-00</td>\n",
       "      <td>59 ST</td>\n",
       "      <td>NQR456</td>\n",
       "      <td>BMT</td>\n",
       "      <td>08/27/2016</td>\n",
       "      <td>08:00:00</td>\n",
       "      <td>REGULAR</td>\n",
       "      <td>5799492</td>\n",
       "      <td>1966079</td>\n",
       "    </tr>\n",
       "    <tr>\n",
       "      <th>3</th>\n",
       "      <td>2016-08-27 12:00:00</td>\n",
       "      <td>A002</td>\n",
       "      <td>R051</td>\n",
       "      <td>02-00-00</td>\n",
       "      <td>59 ST</td>\n",
       "      <td>NQR456</td>\n",
       "      <td>BMT</td>\n",
       "      <td>08/27/2016</td>\n",
       "      <td>12:00:00</td>\n",
       "      <td>REGULAR</td>\n",
       "      <td>5799610</td>\n",
       "      <td>1966155</td>\n",
       "    </tr>\n",
       "    <tr>\n",
       "      <th>4</th>\n",
       "      <td>2016-08-27 16:00:00</td>\n",
       "      <td>A002</td>\n",
       "      <td>R051</td>\n",
       "      <td>02-00-00</td>\n",
       "      <td>59 ST</td>\n",
       "      <td>NQR456</td>\n",
       "      <td>BMT</td>\n",
       "      <td>08/27/2016</td>\n",
       "      <td>16:00:00</td>\n",
       "      <td>REGULAR</td>\n",
       "      <td>5799833</td>\n",
       "      <td>1966214</td>\n",
       "    </tr>\n",
       "  </tbody>\n",
       "</table>\n",
       "</div>"
      ],
      "text/plain": [
       "            DATE_TIME   C/A  UNIT       SCP STATION LINENAME DIVISION  \\\n",
       "0 2016-08-27 00:00:00  A002  R051  02-00-00   59 ST   NQR456      BMT   \n",
       "1 2016-08-27 04:00:00  A002  R051  02-00-00   59 ST   NQR456      BMT   \n",
       "2 2016-08-27 08:00:00  A002  R051  02-00-00   59 ST   NQR456      BMT   \n",
       "3 2016-08-27 12:00:00  A002  R051  02-00-00   59 ST   NQR456      BMT   \n",
       "4 2016-08-27 16:00:00  A002  R051  02-00-00   59 ST   NQR456      BMT   \n",
       "\n",
       "         DATE      TIME     DESC  ENTRIES  \\\n",
       "0  08/27/2016  00:00:00  REGULAR  5799442   \n",
       "1  08/27/2016  04:00:00  REGULAR  5799463   \n",
       "2  08/27/2016  08:00:00  REGULAR  5799492   \n",
       "3  08/27/2016  12:00:00  REGULAR  5799610   \n",
       "4  08/27/2016  16:00:00  REGULAR  5799833   \n",
       "\n",
       "   EXITS                                                                 \n",
       "0                                            1966041                     \n",
       "1                                            1966044                     \n",
       "2                                            1966079                     \n",
       "3                                            1966155                     \n",
       "4                                            1966214                     "
      ]
     },
     "execution_count": 17,
     "metadata": {},
     "output_type": "execute_result"
    }
   ],
   "source": [
    "# Source: http://web.mta.info/developers/turnstile.html\n",
    "def get_data_parse_dt(week_nums):\n",
    "    url = \"http://web.mta.info/developers/data/nyct/turnstile/turnstile_{}.txt\"\n",
    "    dfs = []\n",
    "    for week_num in week_nums:\n",
    "        file_url = url.format(week_num)\n",
    "        dfs.append(pd.read_csv(file_url, parse_dates=[['DATE','TIME']], keep_date_col=True))\n",
    "    return pd.concat(dfs)\n",
    "        \n",
    "week_nums = [160903, 160910, 160917]\n",
    "turnstiles_df_2 = get_data_parse_dt(week_nums)\n",
    "turnstiles_df_2.head()"
   ]
  },
  {
   "cell_type": "markdown",
   "metadata": {
    "colab_type": "text",
    "id": "hL-7wkPTG353"
   },
   "source": [
    "### Now let's run some diagnostics on the data and see approaches to cleaning before tackling exercise 3"
   ]
  },
  {
   "cell_type": "markdown",
   "metadata": {
    "colab_type": "text",
    "id": "bw3hpESUG354"
   },
   "source": [
    "We can isolate specific turnstiles by creating boolean series masks, then using them to index into the dataframe: "
   ]
  },
  {
   "cell_type": "code",
   "execution_count": 18,
   "metadata": {
    "colab": {},
    "colab_type": "code",
    "id": "B3YfJriVG355",
    "outputId": "15bb6c34-5694-40a6-cdf4-c1edf4be54a9"
   },
   "outputs": [
    {
     "data": {
      "text/html": [
       "<div>\n",
       "<style scoped>\n",
       "    .dataframe tbody tr th:only-of-type {\n",
       "        vertical-align: middle;\n",
       "    }\n",
       "\n",
       "    .dataframe tbody tr th {\n",
       "        vertical-align: top;\n",
       "    }\n",
       "\n",
       "    .dataframe thead th {\n",
       "        text-align: right;\n",
       "    }\n",
       "</style>\n",
       "<table border=\"1\" class=\"dataframe\">\n",
       "  <thead>\n",
       "    <tr style=\"text-align: right;\">\n",
       "      <th></th>\n",
       "      <th>C/A</th>\n",
       "      <th>UNIT</th>\n",
       "      <th>SCP</th>\n",
       "      <th>STATION</th>\n",
       "      <th>LINENAME</th>\n",
       "      <th>DIVISION</th>\n",
       "      <th>DATE</th>\n",
       "      <th>TIME</th>\n",
       "      <th>DESC</th>\n",
       "      <th>ENTRIES</th>\n",
       "      <th>EXITS</th>\n",
       "      <th>DATE_TIME</th>\n",
       "    </tr>\n",
       "  </thead>\n",
       "  <tbody>\n",
       "    <tr>\n",
       "      <th>0</th>\n",
       "      <td>A002</td>\n",
       "      <td>R051</td>\n",
       "      <td>02-00-00</td>\n",
       "      <td>59 ST</td>\n",
       "      <td>NQR456</td>\n",
       "      <td>BMT</td>\n",
       "      <td>08/27/2016</td>\n",
       "      <td>00:00:00</td>\n",
       "      <td>REGULAR</td>\n",
       "      <td>5799442</td>\n",
       "      <td>1966041</td>\n",
       "      <td>2016-08-27 00:00:00</td>\n",
       "    </tr>\n",
       "    <tr>\n",
       "      <th>1</th>\n",
       "      <td>A002</td>\n",
       "      <td>R051</td>\n",
       "      <td>02-00-00</td>\n",
       "      <td>59 ST</td>\n",
       "      <td>NQR456</td>\n",
       "      <td>BMT</td>\n",
       "      <td>08/27/2016</td>\n",
       "      <td>04:00:00</td>\n",
       "      <td>REGULAR</td>\n",
       "      <td>5799463</td>\n",
       "      <td>1966044</td>\n",
       "      <td>2016-08-27 04:00:00</td>\n",
       "    </tr>\n",
       "    <tr>\n",
       "      <th>2</th>\n",
       "      <td>A002</td>\n",
       "      <td>R051</td>\n",
       "      <td>02-00-00</td>\n",
       "      <td>59 ST</td>\n",
       "      <td>NQR456</td>\n",
       "      <td>BMT</td>\n",
       "      <td>08/27/2016</td>\n",
       "      <td>08:00:00</td>\n",
       "      <td>REGULAR</td>\n",
       "      <td>5799492</td>\n",
       "      <td>1966079</td>\n",
       "      <td>2016-08-27 08:00:00</td>\n",
       "    </tr>\n",
       "    <tr>\n",
       "      <th>3</th>\n",
       "      <td>A002</td>\n",
       "      <td>R051</td>\n",
       "      <td>02-00-00</td>\n",
       "      <td>59 ST</td>\n",
       "      <td>NQR456</td>\n",
       "      <td>BMT</td>\n",
       "      <td>08/27/2016</td>\n",
       "      <td>12:00:00</td>\n",
       "      <td>REGULAR</td>\n",
       "      <td>5799610</td>\n",
       "      <td>1966155</td>\n",
       "      <td>2016-08-27 12:00:00</td>\n",
       "    </tr>\n",
       "    <tr>\n",
       "      <th>4</th>\n",
       "      <td>A002</td>\n",
       "      <td>R051</td>\n",
       "      <td>02-00-00</td>\n",
       "      <td>59 ST</td>\n",
       "      <td>NQR456</td>\n",
       "      <td>BMT</td>\n",
       "      <td>08/27/2016</td>\n",
       "      <td>16:00:00</td>\n",
       "      <td>REGULAR</td>\n",
       "      <td>5799833</td>\n",
       "      <td>1966214</td>\n",
       "      <td>2016-08-27 16:00:00</td>\n",
       "    </tr>\n",
       "  </tbody>\n",
       "</table>\n",
       "</div>"
      ],
      "text/plain": [
       "    C/A  UNIT       SCP STATION LINENAME DIVISION        DATE      TIME  \\\n",
       "0  A002  R051  02-00-00   59 ST   NQR456      BMT  08/27/2016  00:00:00   \n",
       "1  A002  R051  02-00-00   59 ST   NQR456      BMT  08/27/2016  04:00:00   \n",
       "2  A002  R051  02-00-00   59 ST   NQR456      BMT  08/27/2016  08:00:00   \n",
       "3  A002  R051  02-00-00   59 ST   NQR456      BMT  08/27/2016  12:00:00   \n",
       "4  A002  R051  02-00-00   59 ST   NQR456      BMT  08/27/2016  16:00:00   \n",
       "\n",
       "      DESC  ENTRIES    EXITS           DATE_TIME  \n",
       "0  REGULAR  5799442  1966041 2016-08-27 00:00:00  \n",
       "1  REGULAR  5799463  1966044 2016-08-27 04:00:00  \n",
       "2  REGULAR  5799492  1966079 2016-08-27 08:00:00  \n",
       "3  REGULAR  5799610  1966155 2016-08-27 12:00:00  \n",
       "4  REGULAR  5799833  1966214 2016-08-27 16:00:00  "
      ]
     },
     "execution_count": 18,
     "metadata": {},
     "output_type": "execute_result"
    }
   ],
   "source": [
    "mask = ((turnstiles_df[\"C/A\"] == \"A002\") &\n",
    "        (turnstiles_df[\"UNIT\"] == \"R051\") & \n",
    "        (turnstiles_df[\"SCP\"] == \"02-00-00\") & \n",
    "        (turnstiles_df[\"STATION\"] == \"59 ST\"))\n",
    "turnstiles_df[mask].head()"
   ]
  },
  {
   "cell_type": "code",
   "execution_count": 19,
   "metadata": {
    "colab": {},
    "colab_type": "code",
    "id": "fdYTh2S9G359",
    "outputId": "5faf3cb3-704f-4858-adb2-ba9248e3bbd0"
   },
   "outputs": [
    {
     "data": {
      "text/html": [
       "<div>\n",
       "<style scoped>\n",
       "    .dataframe tbody tr th:only-of-type {\n",
       "        vertical-align: middle;\n",
       "    }\n",
       "\n",
       "    .dataframe tbody tr th {\n",
       "        vertical-align: top;\n",
       "    }\n",
       "\n",
       "    .dataframe thead th {\n",
       "        text-align: right;\n",
       "    }\n",
       "</style>\n",
       "<table border=\"1\" class=\"dataframe\">\n",
       "  <thead>\n",
       "    <tr style=\"text-align: right;\">\n",
       "      <th></th>\n",
       "      <th>C/A</th>\n",
       "      <th>UNIT</th>\n",
       "      <th>SCP</th>\n",
       "      <th>STATION</th>\n",
       "      <th>LINENAME</th>\n",
       "      <th>DIVISION</th>\n",
       "      <th>DATE</th>\n",
       "      <th>TIME</th>\n",
       "      <th>DESC</th>\n",
       "      <th>ENTRIES</th>\n",
       "      <th>EXITS</th>\n",
       "      <th>DATE_TIME</th>\n",
       "    </tr>\n",
       "  </thead>\n",
       "  <tbody>\n",
       "    <tr>\n",
       "      <th>186607</th>\n",
       "      <td>R626</td>\n",
       "      <td>R062</td>\n",
       "      <td>00-00-00</td>\n",
       "      <td>CROWN HTS-UTICA</td>\n",
       "      <td>34</td>\n",
       "      <td>IRT</td>\n",
       "      <td>08/27/2016</td>\n",
       "      <td>00:00:00</td>\n",
       "      <td>REGULAR</td>\n",
       "      <td>12079591</td>\n",
       "      <td>2684445</td>\n",
       "      <td>2016-08-27 00:00:00</td>\n",
       "    </tr>\n",
       "    <tr>\n",
       "      <th>186608</th>\n",
       "      <td>R626</td>\n",
       "      <td>R062</td>\n",
       "      <td>00-00-00</td>\n",
       "      <td>CROWN HTS-UTICA</td>\n",
       "      <td>34</td>\n",
       "      <td>IRT</td>\n",
       "      <td>08/27/2016</td>\n",
       "      <td>04:00:00</td>\n",
       "      <td>REGULAR</td>\n",
       "      <td>12079636</td>\n",
       "      <td>2684479</td>\n",
       "      <td>2016-08-27 04:00:00</td>\n",
       "    </tr>\n",
       "    <tr>\n",
       "      <th>186609</th>\n",
       "      <td>R626</td>\n",
       "      <td>R062</td>\n",
       "      <td>00-00-00</td>\n",
       "      <td>CROWN HTS-UTICA</td>\n",
       "      <td>34</td>\n",
       "      <td>IRT</td>\n",
       "      <td>08/27/2016</td>\n",
       "      <td>08:00:00</td>\n",
       "      <td>REGULAR</td>\n",
       "      <td>12079894</td>\n",
       "      <td>2684489</td>\n",
       "      <td>2016-08-27 08:00:00</td>\n",
       "    </tr>\n",
       "    <tr>\n",
       "      <th>186610</th>\n",
       "      <td>R626</td>\n",
       "      <td>R062</td>\n",
       "      <td>00-00-00</td>\n",
       "      <td>CROWN HTS-UTICA</td>\n",
       "      <td>34</td>\n",
       "      <td>IRT</td>\n",
       "      <td>08/27/2016</td>\n",
       "      <td>12:00:00</td>\n",
       "      <td>REGULAR</td>\n",
       "      <td>12080369</td>\n",
       "      <td>2684533</td>\n",
       "      <td>2016-08-27 12:00:00</td>\n",
       "    </tr>\n",
       "    <tr>\n",
       "      <th>186611</th>\n",
       "      <td>R626</td>\n",
       "      <td>R062</td>\n",
       "      <td>00-00-00</td>\n",
       "      <td>CROWN HTS-UTICA</td>\n",
       "      <td>34</td>\n",
       "      <td>IRT</td>\n",
       "      <td>08/27/2016</td>\n",
       "      <td>16:00:00</td>\n",
       "      <td>REGULAR</td>\n",
       "      <td>12080831</td>\n",
       "      <td>2684606</td>\n",
       "      <td>2016-08-27 16:00:00</td>\n",
       "    </tr>\n",
       "  </tbody>\n",
       "</table>\n",
       "</div>"
      ],
      "text/plain": [
       "         C/A  UNIT       SCP          STATION LINENAME DIVISION        DATE  \\\n",
       "186607  R626  R062  00-00-00  CROWN HTS-UTICA       34      IRT  08/27/2016   \n",
       "186608  R626  R062  00-00-00  CROWN HTS-UTICA       34      IRT  08/27/2016   \n",
       "186609  R626  R062  00-00-00  CROWN HTS-UTICA       34      IRT  08/27/2016   \n",
       "186610  R626  R062  00-00-00  CROWN HTS-UTICA       34      IRT  08/27/2016   \n",
       "186611  R626  R062  00-00-00  CROWN HTS-UTICA       34      IRT  08/27/2016   \n",
       "\n",
       "            TIME     DESC   ENTRIES    EXITS           DATE_TIME  \n",
       "186607  00:00:00  REGULAR  12079591  2684445 2016-08-27 00:00:00  \n",
       "186608  04:00:00  REGULAR  12079636  2684479 2016-08-27 04:00:00  \n",
       "186609  08:00:00  REGULAR  12079894  2684489 2016-08-27 08:00:00  \n",
       "186610  12:00:00  REGULAR  12080369  2684533 2016-08-27 12:00:00  \n",
       "186611  16:00:00  REGULAR  12080831  2684606 2016-08-27 16:00:00  "
      ]
     },
     "execution_count": 19,
     "metadata": {},
     "output_type": "execute_result"
    }
   ],
   "source": [
    "mask = ((turnstiles_df[\"C/A\"] == \"R626\") & \n",
    "(turnstiles_df[\"UNIT\"] == \"R062\") & \n",
    "(turnstiles_df[\"SCP\"] == \"00-00-00\") & \n",
    "(turnstiles_df[\"STATION\"] == \"CROWN HTS-UTICA\"))\n",
    "turnstiles_df[mask].head()"
   ]
  },
  {
   "cell_type": "code",
   "execution_count": 20,
   "metadata": {
    "colab": {},
    "colab_type": "code",
    "id": "rnyDrnbjG36C",
    "outputId": "e91abcc8-0eca-4a12-9505-141ceb245fb4"
   },
   "outputs": [
    {
     "data": {
      "text/html": [
       "<div>\n",
       "<style scoped>\n",
       "    .dataframe tbody tr th:only-of-type {\n",
       "        vertical-align: middle;\n",
       "    }\n",
       "\n",
       "    .dataframe tbody tr th {\n",
       "        vertical-align: top;\n",
       "    }\n",
       "\n",
       "    .dataframe thead th {\n",
       "        text-align: right;\n",
       "    }\n",
       "</style>\n",
       "<table border=\"1\" class=\"dataframe\">\n",
       "  <thead>\n",
       "    <tr style=\"text-align: right;\">\n",
       "      <th></th>\n",
       "      <th>C/A</th>\n",
       "      <th>UNIT</th>\n",
       "      <th>SCP</th>\n",
       "      <th>STATION</th>\n",
       "      <th>DATE_TIME</th>\n",
       "      <th>ENTRIES</th>\n",
       "    </tr>\n",
       "  </thead>\n",
       "  <tbody>\n",
       "    <tr>\n",
       "      <th>513722</th>\n",
       "      <td>R504</td>\n",
       "      <td>R276</td>\n",
       "      <td>00-00-01</td>\n",
       "      <td>VERNON-JACKSON</td>\n",
       "      <td>2016-09-16 08:00:00</td>\n",
       "      <td>2</td>\n",
       "    </tr>\n",
       "    <tr>\n",
       "      <th>0</th>\n",
       "      <td>A002</td>\n",
       "      <td>R051</td>\n",
       "      <td>02-00-00</td>\n",
       "      <td>59 ST</td>\n",
       "      <td>2016-08-27 00:00:00</td>\n",
       "      <td>1</td>\n",
       "    </tr>\n",
       "    <tr>\n",
       "      <th>387264</th>\n",
       "      <td>R155</td>\n",
       "      <td>R116</td>\n",
       "      <td>01-00-03</td>\n",
       "      <td>50 ST</td>\n",
       "      <td>2016-09-15 20:00:00</td>\n",
       "      <td>1</td>\n",
       "    </tr>\n",
       "    <tr>\n",
       "      <th>387259</th>\n",
       "      <td>R155</td>\n",
       "      <td>R116</td>\n",
       "      <td>01-00-03</td>\n",
       "      <td>50 ST</td>\n",
       "      <td>2016-09-15 00:00:00</td>\n",
       "      <td>1</td>\n",
       "    </tr>\n",
       "    <tr>\n",
       "      <th>387260</th>\n",
       "      <td>R155</td>\n",
       "      <td>R116</td>\n",
       "      <td>01-00-03</td>\n",
       "      <td>50 ST</td>\n",
       "      <td>2016-09-15 04:00:00</td>\n",
       "      <td>1</td>\n",
       "    </tr>\n",
       "  </tbody>\n",
       "</table>\n",
       "</div>"
      ],
      "text/plain": [
       "         C/A  UNIT       SCP         STATION           DATE_TIME  ENTRIES\n",
       "513722  R504  R276  00-00-01  VERNON-JACKSON 2016-09-16 08:00:00        2\n",
       "0       A002  R051  02-00-00           59 ST 2016-08-27 00:00:00        1\n",
       "387264  R155  R116  01-00-03           50 ST 2016-09-15 20:00:00        1\n",
       "387259  R155  R116  01-00-03           50 ST 2016-09-15 00:00:00        1\n",
       "387260  R155  R116  01-00-03           50 ST 2016-09-15 04:00:00        1"
      ]
     },
     "execution_count": 20,
     "metadata": {},
     "output_type": "execute_result"
    }
   ],
   "source": [
    "# Sanity Check to verify that \"C/A\", \"UNIT\", \"SCP\", \"STATION\", \"DATE_TIME\" is unique\n",
    "(turnstiles_df\n",
    " .groupby([\"C/A\", \"UNIT\", \"SCP\", \"STATION\", \"DATE_TIME\"])\n",
    " .ENTRIES.count()\n",
    " .reset_index()\n",
    " .sort_values(\"ENTRIES\", ascending=False)).head(5)"
   ]
  },
  {
   "cell_type": "code",
   "execution_count": 21,
   "metadata": {
    "colab": {},
    "colab_type": "code",
    "id": "q2ABp9FEG36F",
    "outputId": "fd5dd1a3-1e39-4780-c949-fb8c04d2e558"
   },
   "outputs": [
    {
     "data": {
      "text/html": [
       "<div>\n",
       "<style scoped>\n",
       "    .dataframe tbody tr th:only-of-type {\n",
       "        vertical-align: middle;\n",
       "    }\n",
       "\n",
       "    .dataframe tbody tr th {\n",
       "        vertical-align: top;\n",
       "    }\n",
       "\n",
       "    .dataframe thead th {\n",
       "        text-align: right;\n",
       "    }\n",
       "</style>\n",
       "<table border=\"1\" class=\"dataframe\">\n",
       "  <thead>\n",
       "    <tr style=\"text-align: right;\">\n",
       "      <th></th>\n",
       "      <th>C/A</th>\n",
       "      <th>UNIT</th>\n",
       "      <th>SCP</th>\n",
       "      <th>STATION</th>\n",
       "      <th>LINENAME</th>\n",
       "      <th>DIVISION</th>\n",
       "      <th>DATE</th>\n",
       "      <th>TIME</th>\n",
       "      <th>DESC</th>\n",
       "      <th>ENTRIES</th>\n",
       "      <th>EXITS</th>\n",
       "      <th>DATE_TIME</th>\n",
       "    </tr>\n",
       "  </thead>\n",
       "  <tbody>\n",
       "    <tr>\n",
       "      <th>170562</th>\n",
       "      <td>R504</td>\n",
       "      <td>R276</td>\n",
       "      <td>00-00-01</td>\n",
       "      <td>VERNON-JACKSON</td>\n",
       "      <td>7</td>\n",
       "      <td>IRT</td>\n",
       "      <td>09/16/2016</td>\n",
       "      <td>00:00:00</td>\n",
       "      <td>REGULAR</td>\n",
       "      <td>8137913</td>\n",
       "      <td>1333972</td>\n",
       "      <td>2016-09-16 00:00:00</td>\n",
       "    </tr>\n",
       "    <tr>\n",
       "      <th>170563</th>\n",
       "      <td>R504</td>\n",
       "      <td>R276</td>\n",
       "      <td>00-00-01</td>\n",
       "      <td>VERNON-JACKSON</td>\n",
       "      <td>7</td>\n",
       "      <td>IRT</td>\n",
       "      <td>09/16/2016</td>\n",
       "      <td>04:00:00</td>\n",
       "      <td>REGULAR</td>\n",
       "      <td>8137913</td>\n",
       "      <td>1333975</td>\n",
       "      <td>2016-09-16 04:00:00</td>\n",
       "    </tr>\n",
       "    <tr>\n",
       "      <th>170564</th>\n",
       "      <td>R504</td>\n",
       "      <td>R276</td>\n",
       "      <td>00-00-01</td>\n",
       "      <td>VERNON-JACKSON</td>\n",
       "      <td>7</td>\n",
       "      <td>IRT</td>\n",
       "      <td>09/16/2016</td>\n",
       "      <td>08:00:00</td>\n",
       "      <td>REGULAR</td>\n",
       "      <td>8138271</td>\n",
       "      <td>1334066</td>\n",
       "      <td>2016-09-16 08:00:00</td>\n",
       "    </tr>\n",
       "    <tr>\n",
       "      <th>170565</th>\n",
       "      <td>R504</td>\n",
       "      <td>R276</td>\n",
       "      <td>00-00-01</td>\n",
       "      <td>VERNON-JACKSON</td>\n",
       "      <td>7</td>\n",
       "      <td>IRT</td>\n",
       "      <td>09/16/2016</td>\n",
       "      <td>08:00:00</td>\n",
       "      <td>RECOVR AUD</td>\n",
       "      <td>8138271</td>\n",
       "      <td>16735026</td>\n",
       "      <td>2016-09-16 08:00:00</td>\n",
       "    </tr>\n",
       "    <tr>\n",
       "      <th>170566</th>\n",
       "      <td>R504</td>\n",
       "      <td>R276</td>\n",
       "      <td>00-00-01</td>\n",
       "      <td>VERNON-JACKSON</td>\n",
       "      <td>7</td>\n",
       "      <td>IRT</td>\n",
       "      <td>09/16/2016</td>\n",
       "      <td>12:00:00</td>\n",
       "      <td>REGULAR</td>\n",
       "      <td>8139437</td>\n",
       "      <td>1334196</td>\n",
       "      <td>2016-09-16 12:00:00</td>\n",
       "    </tr>\n",
       "  </tbody>\n",
       "</table>\n",
       "</div>"
      ],
      "text/plain": [
       "         C/A  UNIT       SCP         STATION LINENAME DIVISION        DATE  \\\n",
       "170562  R504  R276  00-00-01  VERNON-JACKSON        7      IRT  09/16/2016   \n",
       "170563  R504  R276  00-00-01  VERNON-JACKSON        7      IRT  09/16/2016   \n",
       "170564  R504  R276  00-00-01  VERNON-JACKSON        7      IRT  09/16/2016   \n",
       "170565  R504  R276  00-00-01  VERNON-JACKSON        7      IRT  09/16/2016   \n",
       "170566  R504  R276  00-00-01  VERNON-JACKSON        7      IRT  09/16/2016   \n",
       "\n",
       "            TIME        DESC  ENTRIES     EXITS           DATE_TIME  \n",
       "170562  00:00:00     REGULAR  8137913   1333972 2016-09-16 00:00:00  \n",
       "170563  04:00:00     REGULAR  8137913   1333975 2016-09-16 04:00:00  \n",
       "170564  08:00:00     REGULAR  8138271   1334066 2016-09-16 08:00:00  \n",
       "170565  08:00:00  RECOVR AUD  8138271  16735026 2016-09-16 08:00:00  \n",
       "170566  12:00:00     REGULAR  8139437   1334196 2016-09-16 12:00:00  "
      ]
     },
     "execution_count": 21,
     "metadata": {},
     "output_type": "execute_result"
    }
   ],
   "source": [
    "# On 9/16, we seem to have two entries for same time.  Let's take a look\n",
    "mask = ((turnstiles_df[\"C/A\"] == \"R504\") & \n",
    "(turnstiles_df[\"UNIT\"] == \"R276\") & \n",
    "(turnstiles_df[\"SCP\"] == \"00-00-01\") & \n",
    "(turnstiles_df[\"STATION\"] == \"VERNON-JACKSON\") &\n",
    "(turnstiles_df[\"DATE_TIME\"].dt.date == datetime.datetime(2016, 9, 16).date()))\n",
    "turnstiles_df[mask].head()"
   ]
  },
  {
   "cell_type": "markdown",
   "metadata": {
    "colab_type": "text",
    "id": "NVnsn_YJG36I"
   },
   "source": [
    "* Looks to be a incorrect AUD entry.  May be we should just select the Regular One."
   ]
  },
  {
   "cell_type": "code",
   "execution_count": 22,
   "metadata": {
    "colab": {},
    "colab_type": "code",
    "id": "1SRk1wCSG36J",
    "outputId": "09777e3c-4357-4432-f490-63c9ff54ba9f"
   },
   "outputs": [
    {
     "data": {
      "text/plain": [
       "REGULAR       579109\n",
       "RECOVR AUD      1786\n",
       "Name: DESC, dtype: int64"
      ]
     },
     "execution_count": 22,
     "metadata": {},
     "output_type": "execute_result"
    }
   ],
   "source": [
    "turnstiles_df.DESC.value_counts()"
   ]
  },
  {
   "cell_type": "markdown",
   "metadata": {
    "colab_type": "text",
    "id": "MSTjJmu5G36N"
   },
   "source": [
    "* Since we are only interested in Entries, we might be OK."
   ]
  },
  {
   "cell_type": "code",
   "execution_count": 23,
   "metadata": {
    "colab": {},
    "colab_type": "code",
    "id": "xrmUE6NWG36O"
   },
   "outputs": [],
   "source": [
    "# Get rid of the duplicate entry\n",
    "turnstiles_df.sort_values([\"C/A\", \"UNIT\", \"SCP\", \"STATION\", \"DATE_TIME\"], \n",
    "                          inplace=True, ascending=False)\n",
    "turnstiles_df.drop_duplicates(subset=[\"C/A\", \"UNIT\", \"SCP\", \"STATION\", \"DATE_TIME\"], inplace=True)"
   ]
  },
  {
   "cell_type": "code",
   "execution_count": 24,
   "metadata": {
    "colab": {},
    "colab_type": "code",
    "id": "uxXBlRMtG36S",
    "outputId": "57a93b4f-2326-41a1-a5a8-43ad3c05ebf4"
   },
   "outputs": [
    {
     "data": {
      "text/html": [
       "<div>\n",
       "<style scoped>\n",
       "    .dataframe tbody tr th:only-of-type {\n",
       "        vertical-align: middle;\n",
       "    }\n",
       "\n",
       "    .dataframe tbody tr th {\n",
       "        vertical-align: top;\n",
       "    }\n",
       "\n",
       "    .dataframe thead th {\n",
       "        text-align: right;\n",
       "    }\n",
       "</style>\n",
       "<table border=\"1\" class=\"dataframe\">\n",
       "  <thead>\n",
       "    <tr style=\"text-align: right;\">\n",
       "      <th></th>\n",
       "      <th>C/A</th>\n",
       "      <th>UNIT</th>\n",
       "      <th>SCP</th>\n",
       "      <th>STATION</th>\n",
       "      <th>DATE_TIME</th>\n",
       "      <th>ENTRIES</th>\n",
       "    </tr>\n",
       "  </thead>\n",
       "  <tbody>\n",
       "    <tr>\n",
       "      <th>0</th>\n",
       "      <td>A002</td>\n",
       "      <td>R051</td>\n",
       "      <td>02-00-00</td>\n",
       "      <td>59 ST</td>\n",
       "      <td>2016-08-27 00:00:00</td>\n",
       "      <td>1</td>\n",
       "    </tr>\n",
       "    <tr>\n",
       "      <th>387266</th>\n",
       "      <td>R155</td>\n",
       "      <td>R116</td>\n",
       "      <td>01-00-03</td>\n",
       "      <td>50 ST</td>\n",
       "      <td>2016-09-16 04:00:00</td>\n",
       "      <td>1</td>\n",
       "    </tr>\n",
       "    <tr>\n",
       "      <th>387260</th>\n",
       "      <td>R155</td>\n",
       "      <td>R116</td>\n",
       "      <td>01-00-03</td>\n",
       "      <td>50 ST</td>\n",
       "      <td>2016-09-15 04:00:00</td>\n",
       "      <td>1</td>\n",
       "    </tr>\n",
       "    <tr>\n",
       "      <th>387261</th>\n",
       "      <td>R155</td>\n",
       "      <td>R116</td>\n",
       "      <td>01-00-03</td>\n",
       "      <td>50 ST</td>\n",
       "      <td>2016-09-15 08:00:00</td>\n",
       "      <td>1</td>\n",
       "    </tr>\n",
       "    <tr>\n",
       "      <th>387262</th>\n",
       "      <td>R155</td>\n",
       "      <td>R116</td>\n",
       "      <td>01-00-03</td>\n",
       "      <td>50 ST</td>\n",
       "      <td>2016-09-15 12:00:00</td>\n",
       "      <td>1</td>\n",
       "    </tr>\n",
       "  </tbody>\n",
       "</table>\n",
       "</div>"
      ],
      "text/plain": [
       "         C/A  UNIT       SCP STATION           DATE_TIME  ENTRIES\n",
       "0       A002  R051  02-00-00   59 ST 2016-08-27 00:00:00        1\n",
       "387266  R155  R116  01-00-03   50 ST 2016-09-16 04:00:00        1\n",
       "387260  R155  R116  01-00-03   50 ST 2016-09-15 04:00:00        1\n",
       "387261  R155  R116  01-00-03   50 ST 2016-09-15 08:00:00        1\n",
       "387262  R155  R116  01-00-03   50 ST 2016-09-15 12:00:00        1"
      ]
     },
     "execution_count": 24,
     "metadata": {},
     "output_type": "execute_result"
    }
   ],
   "source": [
    "# Sanity Check to verify that \"C/A\", \"UNIT\", \"SCP\", \"STATION\", \"DATE_TIME\" is unique\n",
    "(turnstiles_df\n",
    " .groupby([\"C/A\", \"UNIT\", \"SCP\", \"STATION\", \"DATE_TIME\"])\n",
    " .ENTRIES.count()\n",
    " .reset_index()\n",
    " .sort_values(\"ENTRIES\", ascending=False)).head(5)"
   ]
  },
  {
   "cell_type": "markdown",
   "metadata": {
    "colab_type": "text",
    "id": "HfOuMYrzG36W"
   },
   "source": [
    "* No more duplicate Entries"
   ]
  },
  {
   "cell_type": "code",
   "execution_count": 25,
   "metadata": {
    "colab": {},
    "colab_type": "code",
    "id": "vUMhPFNhG36X"
   },
   "outputs": [],
   "source": [
    "# Drop Exits and Desc Column.  To prevent errors in multiple run of cell, errors on drop is ignored\n",
    "turnstiles_df = turnstiles_df.drop([\"EXITS\", \"DESC\"], axis=1, errors=\"ignore\")"
   ]
  },
  {
   "cell_type": "markdown",
   "metadata": {
    "colab_type": "text",
    "id": "RuuH9SUnG36a"
   },
   "source": [
    "#### Exercise 1.3\n",
    "\n",
    "- These counts are for every n hours (What is n?). Also, there's something odd about these \"counts\", what is it? Do they actually represent total entries for a time period, or something else? We want total daily entries, create a new dataframe with one row per turnstile/day and a column that gives total daily entries."
   ]
  },
  {
   "cell_type": "code",
   "execution_count": 26,
   "metadata": {
    "colab": {},
    "colab_type": "code",
    "id": "Y_3ZfAA0G36b"
   },
   "outputs": [],
   "source": [
    "turnstiles_daily = (turnstiles_df\n",
    "                        .groupby([\"C/A\", \"UNIT\", \"SCP\", \"STATION\", \"DATE\"],as_index=False)\n",
    "                        .ENTRIES.first())"
   ]
  },
  {
   "cell_type": "code",
   "execution_count": 27,
   "metadata": {
    "colab": {},
    "colab_type": "code",
    "id": "dG_c1f06G36f",
    "outputId": "def7d2e7-4d07-48d8-fc27-b98309a861e0",
    "scrolled": true
   },
   "outputs": [
    {
     "data": {
      "text/html": [
       "<div>\n",
       "<style scoped>\n",
       "    .dataframe tbody tr th:only-of-type {\n",
       "        vertical-align: middle;\n",
       "    }\n",
       "\n",
       "    .dataframe tbody tr th {\n",
       "        vertical-align: top;\n",
       "    }\n",
       "\n",
       "    .dataframe thead th {\n",
       "        text-align: right;\n",
       "    }\n",
       "</style>\n",
       "<table border=\"1\" class=\"dataframe\">\n",
       "  <thead>\n",
       "    <tr style=\"text-align: right;\">\n",
       "      <th></th>\n",
       "      <th>C/A</th>\n",
       "      <th>UNIT</th>\n",
       "      <th>SCP</th>\n",
       "      <th>STATION</th>\n",
       "      <th>DATE</th>\n",
       "      <th>ENTRIES</th>\n",
       "    </tr>\n",
       "  </thead>\n",
       "  <tbody>\n",
       "    <tr>\n",
       "      <th>0</th>\n",
       "      <td>A002</td>\n",
       "      <td>R051</td>\n",
       "      <td>02-00-00</td>\n",
       "      <td>59 ST</td>\n",
       "      <td>08/27/2016</td>\n",
       "      <td>5800121</td>\n",
       "    </tr>\n",
       "    <tr>\n",
       "      <th>1</th>\n",
       "      <td>A002</td>\n",
       "      <td>R051</td>\n",
       "      <td>02-00-00</td>\n",
       "      <td>59 ST</td>\n",
       "      <td>08/28/2016</td>\n",
       "      <td>5800798</td>\n",
       "    </tr>\n",
       "    <tr>\n",
       "      <th>2</th>\n",
       "      <td>A002</td>\n",
       "      <td>R051</td>\n",
       "      <td>02-00-00</td>\n",
       "      <td>59 ST</td>\n",
       "      <td>08/29/2016</td>\n",
       "      <td>5802336</td>\n",
       "    </tr>\n",
       "    <tr>\n",
       "      <th>3</th>\n",
       "      <td>A002</td>\n",
       "      <td>R051</td>\n",
       "      <td>02-00-00</td>\n",
       "      <td>59 ST</td>\n",
       "      <td>08/30/2016</td>\n",
       "      <td>5803875</td>\n",
       "    </tr>\n",
       "    <tr>\n",
       "      <th>4</th>\n",
       "      <td>A002</td>\n",
       "      <td>R051</td>\n",
       "      <td>02-00-00</td>\n",
       "      <td>59 ST</td>\n",
       "      <td>08/31/2016</td>\n",
       "      <td>5805383</td>\n",
       "    </tr>\n",
       "  </tbody>\n",
       "</table>\n",
       "</div>"
      ],
      "text/plain": [
       "    C/A  UNIT       SCP STATION        DATE  ENTRIES\n",
       "0  A002  R051  02-00-00   59 ST  08/27/2016  5800121\n",
       "1  A002  R051  02-00-00   59 ST  08/28/2016  5800798\n",
       "2  A002  R051  02-00-00   59 ST  08/29/2016  5802336\n",
       "3  A002  R051  02-00-00   59 ST  08/30/2016  5803875\n",
       "4  A002  R051  02-00-00   59 ST  08/31/2016  5805383"
      ]
     },
     "execution_count": 27,
     "metadata": {},
     "output_type": "execute_result"
    }
   ],
   "source": [
    "turnstiles_daily.head()"
   ]
  },
  {
   "cell_type": "code",
   "execution_count": 28,
   "metadata": {
    "colab": {},
    "colab_type": "code",
    "id": "cg8RtfZLG36j"
   },
   "outputs": [
    {
     "name": "stderr",
     "output_type": "stream",
     "text": [
      "/opt/anaconda3/lib/python3.7/site-packages/ipykernel_launcher.py:2: FutureWarning: Indexing with multiple keys (implicitly converted to a tuple of keys) will be deprecated, use a list instead.\n",
      "  \n"
     ]
    }
   ],
   "source": [
    "turnstiles_daily[[\"PREV_DATE\", \"PREV_ENTRIES\"]] = (turnstiles_daily\n",
    "                                                       .groupby([\"C/A\", \"UNIT\", \"SCP\", \"STATION\"])[\"DATE\", \"ENTRIES\"]\n",
    "                                                       .apply(lambda grp: grp.shift(1)))"
   ]
  },
  {
   "cell_type": "code",
   "execution_count": 29,
   "metadata": {
    "colab": {},
    "colab_type": "code",
    "id": "HEzUNsNVG36n",
    "outputId": "acd0b8b4-6e30-445d-ffee-fbf704951223"
   },
   "outputs": [
    {
     "data": {
      "text/html": [
       "<div>\n",
       "<style scoped>\n",
       "    .dataframe tbody tr th:only-of-type {\n",
       "        vertical-align: middle;\n",
       "    }\n",
       "\n",
       "    .dataframe tbody tr th {\n",
       "        vertical-align: top;\n",
       "    }\n",
       "\n",
       "    .dataframe thead th {\n",
       "        text-align: right;\n",
       "    }\n",
       "</style>\n",
       "<table border=\"1\" class=\"dataframe\">\n",
       "  <thead>\n",
       "    <tr style=\"text-align: right;\">\n",
       "      <th></th>\n",
       "      <th>C/A</th>\n",
       "      <th>UNIT</th>\n",
       "      <th>SCP</th>\n",
       "      <th>STATION</th>\n",
       "      <th>DATE</th>\n",
       "      <th>ENTRIES</th>\n",
       "      <th>PREV_DATE</th>\n",
       "      <th>PREV_ENTRIES</th>\n",
       "    </tr>\n",
       "  </thead>\n",
       "  <tbody>\n",
       "    <tr>\n",
       "      <th>0</th>\n",
       "      <td>A002</td>\n",
       "      <td>R051</td>\n",
       "      <td>02-00-00</td>\n",
       "      <td>59 ST</td>\n",
       "      <td>08/27/2016</td>\n",
       "      <td>5800121</td>\n",
       "      <td>NaN</td>\n",
       "      <td>NaN</td>\n",
       "    </tr>\n",
       "    <tr>\n",
       "      <th>1</th>\n",
       "      <td>A002</td>\n",
       "      <td>R051</td>\n",
       "      <td>02-00-00</td>\n",
       "      <td>59 ST</td>\n",
       "      <td>08/28/2016</td>\n",
       "      <td>5800798</td>\n",
       "      <td>08/27/2016</td>\n",
       "      <td>5800121.0</td>\n",
       "    </tr>\n",
       "    <tr>\n",
       "      <th>2</th>\n",
       "      <td>A002</td>\n",
       "      <td>R051</td>\n",
       "      <td>02-00-00</td>\n",
       "      <td>59 ST</td>\n",
       "      <td>08/29/2016</td>\n",
       "      <td>5802336</td>\n",
       "      <td>08/28/2016</td>\n",
       "      <td>5800798.0</td>\n",
       "    </tr>\n",
       "    <tr>\n",
       "      <th>3</th>\n",
       "      <td>A002</td>\n",
       "      <td>R051</td>\n",
       "      <td>02-00-00</td>\n",
       "      <td>59 ST</td>\n",
       "      <td>08/30/2016</td>\n",
       "      <td>5803875</td>\n",
       "      <td>08/29/2016</td>\n",
       "      <td>5802336.0</td>\n",
       "    </tr>\n",
       "    <tr>\n",
       "      <th>4</th>\n",
       "      <td>A002</td>\n",
       "      <td>R051</td>\n",
       "      <td>02-00-00</td>\n",
       "      <td>59 ST</td>\n",
       "      <td>08/31/2016</td>\n",
       "      <td>5805383</td>\n",
       "      <td>08/30/2016</td>\n",
       "      <td>5803875.0</td>\n",
       "    </tr>\n",
       "  </tbody>\n",
       "</table>\n",
       "</div>"
      ],
      "text/plain": [
       "    C/A  UNIT       SCP STATION        DATE  ENTRIES   PREV_DATE  PREV_ENTRIES\n",
       "0  A002  R051  02-00-00   59 ST  08/27/2016  5800121         NaN           NaN\n",
       "1  A002  R051  02-00-00   59 ST  08/28/2016  5800798  08/27/2016     5800121.0\n",
       "2  A002  R051  02-00-00   59 ST  08/29/2016  5802336  08/28/2016     5800798.0\n",
       "3  A002  R051  02-00-00   59 ST  08/30/2016  5803875  08/29/2016     5802336.0\n",
       "4  A002  R051  02-00-00   59 ST  08/31/2016  5805383  08/30/2016     5803875.0"
      ]
     },
     "execution_count": 29,
     "metadata": {},
     "output_type": "execute_result"
    }
   ],
   "source": [
    "turnstiles_daily.head()"
   ]
  },
  {
   "cell_type": "code",
   "execution_count": 30,
   "metadata": {
    "colab": {},
    "colab_type": "code",
    "id": "IHaAmjhZG36s",
    "outputId": "04382b92-3353-47d3-d57b-6b5604b00698"
   },
   "outputs": [
    {
     "data": {
      "text/html": [
       "<div>\n",
       "<style scoped>\n",
       "    .dataframe tbody tr th:only-of-type {\n",
       "        vertical-align: middle;\n",
       "    }\n",
       "\n",
       "    .dataframe tbody tr th {\n",
       "        vertical-align: top;\n",
       "    }\n",
       "\n",
       "    .dataframe thead th {\n",
       "        text-align: right;\n",
       "    }\n",
       "</style>\n",
       "<table border=\"1\" class=\"dataframe\">\n",
       "  <thead>\n",
       "    <tr style=\"text-align: right;\">\n",
       "      <th></th>\n",
       "      <th>C/A</th>\n",
       "      <th>UNIT</th>\n",
       "      <th>SCP</th>\n",
       "      <th>STATION</th>\n",
       "      <th>DATE</th>\n",
       "      <th>ENTRIES</th>\n",
       "      <th>PREV_DATE</th>\n",
       "      <th>PREV_ENTRIES</th>\n",
       "    </tr>\n",
       "  </thead>\n",
       "  <tbody>\n",
       "    <tr>\n",
       "      <th>95997</th>\n",
       "      <td>TRAM2</td>\n",
       "      <td>R469</td>\n",
       "      <td>00-05-01</td>\n",
       "      <td>RIT-ROOSEVELT</td>\n",
       "      <td>09/12/2016</td>\n",
       "      <td>5554</td>\n",
       "      <td>09/11/2016</td>\n",
       "      <td>5554.0</td>\n",
       "    </tr>\n",
       "    <tr>\n",
       "      <th>95998</th>\n",
       "      <td>TRAM2</td>\n",
       "      <td>R469</td>\n",
       "      <td>00-05-01</td>\n",
       "      <td>RIT-ROOSEVELT</td>\n",
       "      <td>09/13/2016</td>\n",
       "      <td>5554</td>\n",
       "      <td>09/12/2016</td>\n",
       "      <td>5554.0</td>\n",
       "    </tr>\n",
       "    <tr>\n",
       "      <th>95999</th>\n",
       "      <td>TRAM2</td>\n",
       "      <td>R469</td>\n",
       "      <td>00-05-01</td>\n",
       "      <td>RIT-ROOSEVELT</td>\n",
       "      <td>09/14/2016</td>\n",
       "      <td>5554</td>\n",
       "      <td>09/13/2016</td>\n",
       "      <td>5554.0</td>\n",
       "    </tr>\n",
       "    <tr>\n",
       "      <th>96000</th>\n",
       "      <td>TRAM2</td>\n",
       "      <td>R469</td>\n",
       "      <td>00-05-01</td>\n",
       "      <td>RIT-ROOSEVELT</td>\n",
       "      <td>09/15/2016</td>\n",
       "      <td>5554</td>\n",
       "      <td>09/14/2016</td>\n",
       "      <td>5554.0</td>\n",
       "    </tr>\n",
       "    <tr>\n",
       "      <th>96001</th>\n",
       "      <td>TRAM2</td>\n",
       "      <td>R469</td>\n",
       "      <td>00-05-01</td>\n",
       "      <td>RIT-ROOSEVELT</td>\n",
       "      <td>09/16/2016</td>\n",
       "      <td>5554</td>\n",
       "      <td>09/15/2016</td>\n",
       "      <td>5554.0</td>\n",
       "    </tr>\n",
       "  </tbody>\n",
       "</table>\n",
       "</div>"
      ],
      "text/plain": [
       "         C/A  UNIT       SCP        STATION        DATE  ENTRIES   PREV_DATE  \\\n",
       "95997  TRAM2  R469  00-05-01  RIT-ROOSEVELT  09/12/2016     5554  09/11/2016   \n",
       "95998  TRAM2  R469  00-05-01  RIT-ROOSEVELT  09/13/2016     5554  09/12/2016   \n",
       "95999  TRAM2  R469  00-05-01  RIT-ROOSEVELT  09/14/2016     5554  09/13/2016   \n",
       "96000  TRAM2  R469  00-05-01  RIT-ROOSEVELT  09/15/2016     5554  09/14/2016   \n",
       "96001  TRAM2  R469  00-05-01  RIT-ROOSEVELT  09/16/2016     5554  09/15/2016   \n",
       "\n",
       "       PREV_ENTRIES  \n",
       "95997        5554.0  \n",
       "95998        5554.0  \n",
       "95999        5554.0  \n",
       "96000        5554.0  \n",
       "96001        5554.0  "
      ]
     },
     "execution_count": 30,
     "metadata": {},
     "output_type": "execute_result"
    }
   ],
   "source": [
    "turnstiles_daily.tail()"
   ]
  },
  {
   "cell_type": "code",
   "execution_count": 31,
   "metadata": {
    "colab": {},
    "colab_type": "code",
    "id": "jxS3lJ6nG36x"
   },
   "outputs": [],
   "source": [
    "# Drop the rows for the earliest date in the df\n",
    "turnstiles_daily.dropna(subset=[\"PREV_DATE\"], axis=0, inplace=True)"
   ]
  },
  {
   "cell_type": "markdown",
   "metadata": {
    "colab_type": "text",
    "id": "5IDEKSRgG361"
   },
   "source": [
    "### Next, let's look at some more weirdness in the data and think about handling it before we finalize our daily count column"
   ]
  },
  {
   "cell_type": "code",
   "execution_count": 32,
   "metadata": {
    "colab": {},
    "colab_type": "code",
    "id": "Lv-VA714G362",
    "outputId": "d66e798b-4275-4dec-e6d0-48f9d155e5ce"
   },
   "outputs": [
    {
     "data": {
      "text/html": [
       "<div>\n",
       "<style scoped>\n",
       "    .dataframe tbody tr th:only-of-type {\n",
       "        vertical-align: middle;\n",
       "    }\n",
       "\n",
       "    .dataframe tbody tr th {\n",
       "        vertical-align: top;\n",
       "    }\n",
       "\n",
       "    .dataframe thead th {\n",
       "        text-align: right;\n",
       "    }\n",
       "</style>\n",
       "<table border=\"1\" class=\"dataframe\">\n",
       "  <thead>\n",
       "    <tr style=\"text-align: right;\">\n",
       "      <th></th>\n",
       "      <th>C/A</th>\n",
       "      <th>UNIT</th>\n",
       "      <th>SCP</th>\n",
       "      <th>STATION</th>\n",
       "      <th>DATE</th>\n",
       "      <th>ENTRIES</th>\n",
       "      <th>PREV_DATE</th>\n",
       "      <th>PREV_ENTRIES</th>\n",
       "    </tr>\n",
       "  </thead>\n",
       "  <tbody>\n",
       "    <tr>\n",
       "      <th>715</th>\n",
       "      <td>A011</td>\n",
       "      <td>R080</td>\n",
       "      <td>01-00-00</td>\n",
       "      <td>57 ST-7 AV</td>\n",
       "      <td>08/28/2016</td>\n",
       "      <td>887688133</td>\n",
       "      <td>08/27/2016</td>\n",
       "      <td>887689608.0</td>\n",
       "    </tr>\n",
       "    <tr>\n",
       "      <th>716</th>\n",
       "      <td>A011</td>\n",
       "      <td>R080</td>\n",
       "      <td>01-00-00</td>\n",
       "      <td>57 ST-7 AV</td>\n",
       "      <td>08/29/2016</td>\n",
       "      <td>887685714</td>\n",
       "      <td>08/28/2016</td>\n",
       "      <td>887688133.0</td>\n",
       "    </tr>\n",
       "    <tr>\n",
       "      <th>717</th>\n",
       "      <td>A011</td>\n",
       "      <td>R080</td>\n",
       "      <td>01-00-00</td>\n",
       "      <td>57 ST-7 AV</td>\n",
       "      <td>08/30/2016</td>\n",
       "      <td>887683207</td>\n",
       "      <td>08/29/2016</td>\n",
       "      <td>887685714.0</td>\n",
       "    </tr>\n",
       "    <tr>\n",
       "      <th>718</th>\n",
       "      <td>A011</td>\n",
       "      <td>R080</td>\n",
       "      <td>01-00-00</td>\n",
       "      <td>57 ST-7 AV</td>\n",
       "      <td>08/31/2016</td>\n",
       "      <td>887680260</td>\n",
       "      <td>08/30/2016</td>\n",
       "      <td>887683207.0</td>\n",
       "    </tr>\n",
       "    <tr>\n",
       "      <th>719</th>\n",
       "      <td>A011</td>\n",
       "      <td>R080</td>\n",
       "      <td>01-00-00</td>\n",
       "      <td>57 ST-7 AV</td>\n",
       "      <td>09/01/2016</td>\n",
       "      <td>887677354</td>\n",
       "      <td>08/31/2016</td>\n",
       "      <td>887680260.0</td>\n",
       "    </tr>\n",
       "  </tbody>\n",
       "</table>\n",
       "</div>"
      ],
      "text/plain": [
       "      C/A  UNIT       SCP     STATION        DATE    ENTRIES   PREV_DATE  \\\n",
       "715  A011  R080  01-00-00  57 ST-7 AV  08/28/2016  887688133  08/27/2016   \n",
       "716  A011  R080  01-00-00  57 ST-7 AV  08/29/2016  887685714  08/28/2016   \n",
       "717  A011  R080  01-00-00  57 ST-7 AV  08/30/2016  887683207  08/29/2016   \n",
       "718  A011  R080  01-00-00  57 ST-7 AV  08/31/2016  887680260  08/30/2016   \n",
       "719  A011  R080  01-00-00  57 ST-7 AV  09/01/2016  887677354  08/31/2016   \n",
       "\n",
       "     PREV_ENTRIES  \n",
       "715   887689608.0  \n",
       "716   887688133.0  \n",
       "717   887685714.0  \n",
       "718   887683207.0  \n",
       "719   887680260.0  "
      ]
     },
     "execution_count": 32,
     "metadata": {},
     "output_type": "execute_result"
    }
   ],
   "source": [
    "turnstiles_daily[turnstiles_daily[\"ENTRIES\"] < turnstiles_daily[\"PREV_ENTRIES\"]].head()"
   ]
  },
  {
   "cell_type": "code",
   "execution_count": 33,
   "metadata": {
    "colab": {},
    "colab_type": "code",
    "id": "6BH1MsiAG368",
    "outputId": "1c2f4341-9ab1-4359-e483-897fa7019240"
   },
   "outputs": [
    {
     "data": {
      "text/html": [
       "<div>\n",
       "<style scoped>\n",
       "    .dataframe tbody tr th:only-of-type {\n",
       "        vertical-align: middle;\n",
       "    }\n",
       "\n",
       "    .dataframe tbody tr th {\n",
       "        vertical-align: top;\n",
       "    }\n",
       "\n",
       "    .dataframe thead th {\n",
       "        text-align: right;\n",
       "    }\n",
       "</style>\n",
       "<table border=\"1\" class=\"dataframe\">\n",
       "  <thead>\n",
       "    <tr style=\"text-align: right;\">\n",
       "      <th></th>\n",
       "      <th>C/A</th>\n",
       "      <th>UNIT</th>\n",
       "      <th>SCP</th>\n",
       "      <th>STATION</th>\n",
       "      <th>LINENAME</th>\n",
       "      <th>DIVISION</th>\n",
       "      <th>DATE</th>\n",
       "      <th>TIME</th>\n",
       "      <th>ENTRIES</th>\n",
       "      <th>DATE_TIME</th>\n",
       "    </tr>\n",
       "  </thead>\n",
       "  <tbody>\n",
       "    <tr>\n",
       "      <th>1446</th>\n",
       "      <td>A011</td>\n",
       "      <td>R080</td>\n",
       "      <td>01-00-00</td>\n",
       "      <td>57 ST-7 AV</td>\n",
       "      <td>NQR</td>\n",
       "      <td>BMT</td>\n",
       "      <td>08/27/2016</td>\n",
       "      <td>20:00:00</td>\n",
       "      <td>887689608</td>\n",
       "      <td>2016-08-27 20:00:00</td>\n",
       "    </tr>\n",
       "    <tr>\n",
       "      <th>1445</th>\n",
       "      <td>A011</td>\n",
       "      <td>R080</td>\n",
       "      <td>01-00-00</td>\n",
       "      <td>57 ST-7 AV</td>\n",
       "      <td>NQR</td>\n",
       "      <td>BMT</td>\n",
       "      <td>08/27/2016</td>\n",
       "      <td>16:00:00</td>\n",
       "      <td>887690085</td>\n",
       "      <td>2016-08-27 16:00:00</td>\n",
       "    </tr>\n",
       "    <tr>\n",
       "      <th>1444</th>\n",
       "      <td>A011</td>\n",
       "      <td>R080</td>\n",
       "      <td>01-00-00</td>\n",
       "      <td>57 ST-7 AV</td>\n",
       "      <td>NQR</td>\n",
       "      <td>BMT</td>\n",
       "      <td>08/27/2016</td>\n",
       "      <td>12:00:00</td>\n",
       "      <td>887690472</td>\n",
       "      <td>2016-08-27 12:00:00</td>\n",
       "    </tr>\n",
       "    <tr>\n",
       "      <th>1443</th>\n",
       "      <td>A011</td>\n",
       "      <td>R080</td>\n",
       "      <td>01-00-00</td>\n",
       "      <td>57 ST-7 AV</td>\n",
       "      <td>NQR</td>\n",
       "      <td>BMT</td>\n",
       "      <td>08/27/2016</td>\n",
       "      <td>08:00:00</td>\n",
       "      <td>887690738</td>\n",
       "      <td>2016-08-27 08:00:00</td>\n",
       "    </tr>\n",
       "    <tr>\n",
       "      <th>1442</th>\n",
       "      <td>A011</td>\n",
       "      <td>R080</td>\n",
       "      <td>01-00-00</td>\n",
       "      <td>57 ST-7 AV</td>\n",
       "      <td>NQR</td>\n",
       "      <td>BMT</td>\n",
       "      <td>08/27/2016</td>\n",
       "      <td>04:00:00</td>\n",
       "      <td>887690800</td>\n",
       "      <td>2016-08-27 04:00:00</td>\n",
       "    </tr>\n",
       "  </tbody>\n",
       "</table>\n",
       "</div>"
      ],
      "text/plain": [
       "       C/A  UNIT       SCP     STATION LINENAME DIVISION        DATE  \\\n",
       "1446  A011  R080  01-00-00  57 ST-7 AV      NQR      BMT  08/27/2016   \n",
       "1445  A011  R080  01-00-00  57 ST-7 AV      NQR      BMT  08/27/2016   \n",
       "1444  A011  R080  01-00-00  57 ST-7 AV      NQR      BMT  08/27/2016   \n",
       "1443  A011  R080  01-00-00  57 ST-7 AV      NQR      BMT  08/27/2016   \n",
       "1442  A011  R080  01-00-00  57 ST-7 AV      NQR      BMT  08/27/2016   \n",
       "\n",
       "          TIME    ENTRIES           DATE_TIME  \n",
       "1446  20:00:00  887689608 2016-08-27 20:00:00  \n",
       "1445  16:00:00  887690085 2016-08-27 16:00:00  \n",
       "1444  12:00:00  887690472 2016-08-27 12:00:00  \n",
       "1443  08:00:00  887690738 2016-08-27 08:00:00  \n",
       "1442  04:00:00  887690800 2016-08-27 04:00:00  "
      ]
     },
     "execution_count": 33,
     "metadata": {},
     "output_type": "execute_result"
    }
   ],
   "source": [
    "# What's the deal with counter being in reverse\n",
    "mask = ((turnstiles_df[\"C/A\"] == \"A011\") & \n",
    "(turnstiles_df[\"UNIT\"] == \"R080\") & \n",
    "(turnstiles_df[\"SCP\"] == \"01-00-00\") & \n",
    "(turnstiles_df[\"STATION\"] == \"57 ST-7 AV\") &\n",
    "(turnstiles_df[\"DATE_TIME\"].dt.date == datetime.datetime(2016, 8, 27).date()))\n",
    "turnstiles_df[mask].head()"
   ]
  },
  {
   "cell_type": "markdown",
   "metadata": {
    "colab_type": "text",
    "id": "lOurOv3PG36_"
   },
   "source": [
    "* Counter working in Reverse??? - WHHHAT"
   ]
  },
  {
   "cell_type": "code",
   "execution_count": 34,
   "metadata": {
    "colab": {},
    "colab_type": "code",
    "id": "GF12jlKRG37A",
    "outputId": "bd1c57b6-9fe5-4592-c871-58a6efd32840"
   },
   "outputs": [
    {
     "data": {
      "text/plain": [
       "C/A   UNIT  SCP       STATION        \n",
       "A011  R080  01-00-00  57 ST-7 AV         20\n",
       "            01-00-04  57 ST-7 AV         17\n",
       "            01-00-05  57 ST-7 AV         20\n",
       "A016  R081  03-06-01  49 ST               1\n",
       "A025  R023  01-03-02  34 ST-HERALD SQ    20\n",
       "                                         ..\n",
       "R550  R072  00-03-0A  34 ST-HUDSON YD     2\n",
       "R622  R123  00-00-00  FRANKLIN AV        20\n",
       "R629  R065  00-03-02  ROCKAWAY AV         1\n",
       "R632  R067  00-00-02  PENNSYLVANIA AV     1\n",
       "R646  R110  01-00-01  FLATBUSH AV-B.C    20\n",
       "Length: 83, dtype: int64"
      ]
     },
     "execution_count": 34,
     "metadata": {},
     "output_type": "execute_result"
    }
   ],
   "source": [
    "# Let's see how many stations have this problem\n",
    "\n",
    "(turnstiles_daily[turnstiles_daily[\"ENTRIES\"] < turnstiles_daily[\"PREV_ENTRIES\"]]\n",
    "    .groupby([\"C/A\", \"UNIT\", \"SCP\", \"STATION\"])\n",
    "    .size())"
   ]
  },
  {
   "cell_type": "code",
   "execution_count": 35,
   "metadata": {
    "colab": {},
    "colab_type": "code",
    "id": "u0jdi6plG37K",
    "outputId": "ef78b1a9-21b5-4b25-eaf2-7f2fb26a5e8a",
    "scrolled": false
   },
   "outputs": [
    {
     "name": "stdout",
     "output_type": "stream",
     "text": [
      "194 1894869683.0\n",
      "262183 67111299.0\n",
      "63 1054429.0\n",
      "2862 2044694.0\n",
      "1912607049 7509132.0\n",
      "285 1494569141.0\n",
      "2542 14129479.0\n",
      "67108864 0.0\n",
      "335600216 1374824.0\n",
      "36 3252790.0\n",
      "1117 3665497.0\n",
      "262269 10823938.0\n",
      "1452 1460387.0\n",
      "1154413610 8957775.0\n",
      "100665773 35655801.0\n",
      "1443 1014193.0\n",
      "186916568 604712476.0\n",
      "874 6130902.0\n",
      "598 11078528.0\n",
      "1160 74672293.0\n",
      "0 117440532.0\n",
      "100663296 1299.0\n",
      "117440514 100663296.0\n",
      "2123 9170483.0\n",
      "428 2336204.0\n",
      "1024 12498870.0\n"
     ]
    }
   ],
   "source": [
    "def get_daily_counts(row, max_counter):\n",
    "    counter = row[\"ENTRIES\"] - row[\"PREV_ENTRIES\"]\n",
    "    if counter < 0:\n",
    "        counter = -counter\n",
    "    if counter > max_counter:\n",
    "        print(row[\"ENTRIES\"], row[\"PREV_ENTRIES\"])\n",
    "        return 0\n",
    "    return counter\n",
    "\n",
    "# If counter is > 1Million, then the counter might have been reset.  \n",
    "# Just set it to zero as different counters have different cycle limits\n",
    "_ = turnstiles_daily.apply(get_daily_counts, axis=1, max_counter=1000000)"
   ]
  },
  {
   "cell_type": "code",
   "execution_count": 36,
   "metadata": {
    "colab": {},
    "colab_type": "code",
    "id": "hXcZXN01G37N",
    "outputId": "77e890e0-1fc7-4e04-b66b-1d88f0818da9"
   },
   "outputs": [
    {
     "name": "stdout",
     "output_type": "stream",
     "text": [
      "194 1894869683.0\n",
      "262183 67111299.0\n",
      "63 1054429.0\n",
      "2862 2044694.0\n",
      "1912607049 7509132.0\n",
      "285 1494569141.0\n",
      "2542 14129479.0\n",
      "67108864 0.0\n",
      "335600216 1374824.0\n",
      "36 3252790.0\n",
      "1117 3665497.0\n",
      "262269 10823938.0\n",
      "1452 1460387.0\n",
      "1154413610 8957775.0\n",
      "100665773 35655801.0\n",
      "1443 1014193.0\n",
      "186916568 604712476.0\n",
      "874 6130902.0\n",
      "598 11078528.0\n",
      "1160 74672293.0\n",
      "0 117440532.0\n",
      "100663296 1299.0\n",
      "117440514 100663296.0\n",
      "2123 9170483.0\n",
      "428 2336204.0\n",
      "1024 12498870.0\n"
     ]
    }
   ],
   "source": [
    "def get_daily_counts(row, max_counter):\n",
    "    counter = row[\"ENTRIES\"] - row[\"PREV_ENTRIES\"]\n",
    "    if counter < 0:\n",
    "        # Maybe counter is reversed?\n",
    "        counter = -counter\n",
    "    if counter > max_counter:\n",
    "        # Maybe counter was reset to 0? \n",
    "        print(row[\"ENTRIES\"], row[\"PREV_ENTRIES\"])\n",
    "        counter = min(row[\"ENTRIES\"], row[\"PREV_ENTRIES\"])\n",
    "    if counter > max_counter:\n",
    "        # Check it again to make sure we're not still giving a counter that's too big\n",
    "        return 0\n",
    "    return counter\n",
    "\n",
    "# If counter is > 1Million, then the counter might have been reset.  \n",
    "# Just set it to zero as different counters have different cycle limits\n",
    "# It'd probably be a good idea to use a number even significantly smaller than 1 million as the limit!\n",
    "turnstiles_daily[\"DAILY_ENTRIES\"] = turnstiles_daily.apply(get_daily_counts, axis=1, max_counter=1000000)"
   ]
  },
  {
   "cell_type": "code",
   "execution_count": 37,
   "metadata": {
    "colab": {},
    "colab_type": "code",
    "id": "nnL7k1dgG37Q",
    "outputId": "75df1787-bc82-48bd-befd-fd3c90836f1b"
   },
   "outputs": [
    {
     "data": {
      "text/html": [
       "<div>\n",
       "<style scoped>\n",
       "    .dataframe tbody tr th:only-of-type {\n",
       "        vertical-align: middle;\n",
       "    }\n",
       "\n",
       "    .dataframe tbody tr th {\n",
       "        vertical-align: top;\n",
       "    }\n",
       "\n",
       "    .dataframe thead th {\n",
       "        text-align: right;\n",
       "    }\n",
       "</style>\n",
       "<table border=\"1\" class=\"dataframe\">\n",
       "  <thead>\n",
       "    <tr style=\"text-align: right;\">\n",
       "      <th></th>\n",
       "      <th>C/A</th>\n",
       "      <th>UNIT</th>\n",
       "      <th>SCP</th>\n",
       "      <th>STATION</th>\n",
       "      <th>DATE</th>\n",
       "      <th>ENTRIES</th>\n",
       "      <th>PREV_DATE</th>\n",
       "      <th>PREV_ENTRIES</th>\n",
       "      <th>DAILY_ENTRIES</th>\n",
       "    </tr>\n",
       "  </thead>\n",
       "  <tbody>\n",
       "    <tr>\n",
       "      <th>1</th>\n",
       "      <td>A002</td>\n",
       "      <td>R051</td>\n",
       "      <td>02-00-00</td>\n",
       "      <td>59 ST</td>\n",
       "      <td>08/28/2016</td>\n",
       "      <td>5800798</td>\n",
       "      <td>08/27/2016</td>\n",
       "      <td>5800121.0</td>\n",
       "      <td>677.0</td>\n",
       "    </tr>\n",
       "    <tr>\n",
       "      <th>2</th>\n",
       "      <td>A002</td>\n",
       "      <td>R051</td>\n",
       "      <td>02-00-00</td>\n",
       "      <td>59 ST</td>\n",
       "      <td>08/29/2016</td>\n",
       "      <td>5802336</td>\n",
       "      <td>08/28/2016</td>\n",
       "      <td>5800798.0</td>\n",
       "      <td>1538.0</td>\n",
       "    </tr>\n",
       "    <tr>\n",
       "      <th>3</th>\n",
       "      <td>A002</td>\n",
       "      <td>R051</td>\n",
       "      <td>02-00-00</td>\n",
       "      <td>59 ST</td>\n",
       "      <td>08/30/2016</td>\n",
       "      <td>5803875</td>\n",
       "      <td>08/29/2016</td>\n",
       "      <td>5802336.0</td>\n",
       "      <td>1539.0</td>\n",
       "    </tr>\n",
       "    <tr>\n",
       "      <th>4</th>\n",
       "      <td>A002</td>\n",
       "      <td>R051</td>\n",
       "      <td>02-00-00</td>\n",
       "      <td>59 ST</td>\n",
       "      <td>08/31/2016</td>\n",
       "      <td>5805383</td>\n",
       "      <td>08/30/2016</td>\n",
       "      <td>5803875.0</td>\n",
       "      <td>1508.0</td>\n",
       "    </tr>\n",
       "    <tr>\n",
       "      <th>5</th>\n",
       "      <td>A002</td>\n",
       "      <td>R051</td>\n",
       "      <td>02-00-00</td>\n",
       "      <td>59 ST</td>\n",
       "      <td>09/01/2016</td>\n",
       "      <td>5806990</td>\n",
       "      <td>08/31/2016</td>\n",
       "      <td>5805383.0</td>\n",
       "      <td>1607.0</td>\n",
       "    </tr>\n",
       "  </tbody>\n",
       "</table>\n",
       "</div>"
      ],
      "text/plain": [
       "    C/A  UNIT       SCP STATION        DATE  ENTRIES   PREV_DATE  \\\n",
       "1  A002  R051  02-00-00   59 ST  08/28/2016  5800798  08/27/2016   \n",
       "2  A002  R051  02-00-00   59 ST  08/29/2016  5802336  08/28/2016   \n",
       "3  A002  R051  02-00-00   59 ST  08/30/2016  5803875  08/29/2016   \n",
       "4  A002  R051  02-00-00   59 ST  08/31/2016  5805383  08/30/2016   \n",
       "5  A002  R051  02-00-00   59 ST  09/01/2016  5806990  08/31/2016   \n",
       "\n",
       "   PREV_ENTRIES  DAILY_ENTRIES  \n",
       "1     5800121.0          677.0  \n",
       "2     5800798.0         1538.0  \n",
       "3     5802336.0         1539.0  \n",
       "4     5803875.0         1508.0  \n",
       "5     5805383.0         1607.0  "
      ]
     },
     "execution_count": 37,
     "metadata": {},
     "output_type": "execute_result"
    }
   ],
   "source": [
    "turnstiles_daily.head()"
   ]
  },
  {
   "cell_type": "markdown",
   "metadata": {
    "colab_type": "text",
    "id": "9n0AiDalG37b"
   },
   "source": [
    "## Bonus: EDA Visualizations & Viz Review"
   ]
  },
  {
   "cell_type": "markdown",
   "metadata": {
    "colab_type": "text",
    "id": "asLbUnoxG37c"
   },
   "source": [
    "So we've gotten the data into a cleaner state, but are all the issues really resolved? It's a good idea to do some sanity checking at the turnstile level, but also at the **station level**. Here we'll see a couple of good/standard EDA approaches applied to this data, that leverage plots to better understand what we're working with.\n",
    "\n",
    "Do we get results we'd expect based on our domain knowledge of NYC, and can we detect anything else that's clearly an anomaly?\n",
    "\n",
    "First, let's look at the distribution of daily entries for turnstiles to check that it's sensible. What type of plot can we use? "
   ]
  },
  {
   "cell_type": "code",
   "execution_count": 38,
   "metadata": {
    "colab": {},
    "colab_type": "code",
    "id": "m8tty0_pG37d"
   },
   "outputs": [],
   "source": [
    "## EX: Fill in the standard plotting imports (matplotlib and seaborn)\n",
    "\n",
    "\n",
    "\n"
   ]
  },
  {
   "cell_type": "code",
   "execution_count": 39,
   "metadata": {
    "colab": {},
    "colab_type": "code",
    "id": "9XpSHgY_G37j"
   },
   "outputs": [],
   "source": [
    "## EX: Generate a plot that visualizes the distribution \n",
    "## of daily turnstile entries. \n",
    "\n",
    "## How would you characterize this distribution?\n",
    "\n",
    "\n"
   ]
  },
  {
   "cell_type": "code",
   "execution_count": 40,
   "metadata": {
    "colab": {},
    "colab_type": "code",
    "id": "LjW5K6BaG37m"
   },
   "outputs": [],
   "source": [
    "## EX: Generate a plot that compares the distributions of daily traffic \n",
    "## by station, for the top 10 stations by volume. What insights can we\n",
    "## gain from this plot?\n",
    "\n",
    "## Hint: break this down into steps: we need to go from daily entries \n",
    "## for turnstiles to stations, find the top 10 stations, and filter\n",
    "## the station-level data down to the top 10.\n",
    "\n",
    "\n",
    "\n"
   ]
  },
  {
   "cell_type": "markdown",
   "metadata": {
    "colab_type": "text",
    "id": "EpmMAm1aG37v"
   },
   "source": [
    "## Bonus Solutions"
   ]
  },
  {
   "cell_type": "code",
   "execution_count": 41,
   "metadata": {
    "colab": {},
    "colab_type": "code",
    "id": "uWI8ds1fG37w"
   },
   "outputs": [],
   "source": [
    "import matplotlib.pyplot as plt\n",
    "import seaborn as sns\n",
    "sns.set()\n",
    "\n",
    "%matplotlib inline"
   ]
  },
  {
   "cell_type": "markdown",
   "metadata": {
    "colab_type": "text",
    "id": "RBPAy16-G370"
   },
   "source": [
    "### Distribution of turnstile daily entries"
   ]
  },
  {
   "cell_type": "code",
   "execution_count": 42,
   "metadata": {
    "colab": {},
    "colab_type": "code",
    "id": "FtGOrYzCG377",
    "outputId": "c0dd508a-836b-4851-9dff-35df827818b7"
   },
   "outputs": [
    {
     "data": {
      "text/plain": [
       "<matplotlib.axes._subplots.AxesSubplot at 0x7fdbca65b6d0>"
      ]
     },
     "execution_count": 42,
     "metadata": {},
     "output_type": "execute_result"
    },
    {
     "data": {
      "image/png": "[encoded data removed]",
      "text/plain": [
       "<Figure size 432x288 with 1 Axes>"
      ]
     },
     "metadata": {
      "needs_background": "light"
     },
     "output_type": "display_data"
    }
   ],
   "source": [
    "sns.distplot(turnstiles_daily['DAILY_ENTRIES']\n",
    "             [turnstiles_daily['DAILY_ENTRIES'] < 50000])"
   ]
  },
  {
   "cell_type": "markdown",
   "metadata": {
    "colab_type": "text",
    "id": "ldoJ9ULGG38C"
   },
   "source": [
    "This is a right-skewed distribution (the mean is to the right of the median). It's good that there are no values less than 0 now, but it seems there are still entry values that are likely too extreme to be sensible. "
   ]
  },
  {
   "cell_type": "markdown",
   "metadata": {
    "colab_type": "text",
    "id": "QF6zWwFqG38D"
   },
   "source": [
    "### Distribution of daily entries by station, for top 10 stations by volume"
   ]
  },
  {
   "cell_type": "code",
   "execution_count": 43,
   "metadata": {
    "colab": {},
    "colab_type": "code",
    "id": "879m35Y5G38F",
    "outputId": "b26c65ca-1881-4c78-d4e5-62e402241b89"
   },
   "outputs": [
    {
     "data": {
      "text/html": [
       "<div>\n",
       "<style scoped>\n",
       "    .dataframe tbody tr th:only-of-type {\n",
       "        vertical-align: middle;\n",
       "    }\n",
       "\n",
       "    .dataframe tbody tr th {\n",
       "        vertical-align: top;\n",
       "    }\n",
       "\n",
       "    .dataframe thead th {\n",
       "        text-align: right;\n",
       "    }\n",
       "</style>\n",
       "<table border=\"1\" class=\"dataframe\">\n",
       "  <thead>\n",
       "    <tr style=\"text-align: right;\">\n",
       "      <th></th>\n",
       "      <th>STATION</th>\n",
       "      <th>DATE</th>\n",
       "      <th>DAILY_ENTRIES</th>\n",
       "    </tr>\n",
       "  </thead>\n",
       "  <tbody>\n",
       "    <tr>\n",
       "      <th>0</th>\n",
       "      <td>1 AV</td>\n",
       "      <td>08/28/2016</td>\n",
       "      <td>13871.0</td>\n",
       "    </tr>\n",
       "    <tr>\n",
       "      <th>1</th>\n",
       "      <td>1 AV</td>\n",
       "      <td>08/29/2016</td>\n",
       "      <td>18064.0</td>\n",
       "    </tr>\n",
       "    <tr>\n",
       "      <th>2</th>\n",
       "      <td>1 AV</td>\n",
       "      <td>08/30/2016</td>\n",
       "      <td>19182.0</td>\n",
       "    </tr>\n",
       "    <tr>\n",
       "      <th>3</th>\n",
       "      <td>1 AV</td>\n",
       "      <td>08/31/2016</td>\n",
       "      <td>19616.0</td>\n",
       "    </tr>\n",
       "    <tr>\n",
       "      <th>4</th>\n",
       "      <td>1 AV</td>\n",
       "      <td>09/01/2016</td>\n",
       "      <td>20170.0</td>\n",
       "    </tr>\n",
       "  </tbody>\n",
       "</table>\n",
       "</div>"
      ],
      "text/plain": [
       "  STATION        DATE  DAILY_ENTRIES\n",
       "0    1 AV  08/28/2016        13871.0\n",
       "1    1 AV  08/29/2016        18064.0\n",
       "2    1 AV  08/30/2016        19182.0\n",
       "3    1 AV  08/31/2016        19616.0\n",
       "4    1 AV  09/01/2016        20170.0"
      ]
     },
     "execution_count": 43,
     "metadata": {},
     "output_type": "execute_result"
    }
   ],
   "source": [
    "# first get daily entries by station\n",
    "stations_daily = \\\n",
    "(turnstiles_daily.groupby(['STATION','DATE'])['DAILY_ENTRIES'].sum()\n",
    "                 .reset_index())\n",
    "\n",
    "stations_daily.head()"
   ]
  },
  {
   "cell_type": "code",
   "execution_count": 44,
   "metadata": {
    "colab": {},
    "colab_type": "code",
    "id": "MX_cJKTPG38M",
    "outputId": "44852cee-c97d-4499-b611-405114843811"
   },
   "outputs": [
    {
     "data": {
      "text/plain": [
       "61      34 ST-PENN STA\n",
       "230    GRD CNTRL-42 ST\n",
       "59     34 ST-HERALD SQ\n",
       "46               23 ST\n",
       "170           CANAL ST\n",
       "14      14 ST-UNION SQ\n",
       "109              86 ST\n",
       "68     42 ST-PORT AUTH\n",
       "348     TIMES SQ-42 ST\n",
       "223          FULTON ST\n",
       "Name: STATION, dtype: object"
      ]
     },
     "execution_count": 44,
     "metadata": {},
     "output_type": "execute_result"
    }
   ],
   "source": [
    "# then get top 10 stations by daily volume \n",
    "# (sum across all days is a reasonable way to define this)\n",
    "top10_stations = \\\n",
    "    (stations_daily.groupby(['STATION'])['DAILY_ENTRIES'].sum()\n",
    "                   .reset_index()\n",
    "                   .sort_values(by='DAILY_ENTRIES',ascending=False) \n",
    "                   .STATION.head(10))\n",
    "\n",
    "top10_stations"
   ]
  },
  {
   "cell_type": "code",
   "execution_count": 45,
   "metadata": {
    "colab": {},
    "colab_type": "code",
    "id": "JFC-vsRwG38P"
   },
   "outputs": [],
   "source": [
    "# next create a new df that filters the stations daily data down\n",
    "# to the top 10 stations\n",
    "stations_daily_top10 = \\\n",
    "    stations_daily[stations_daily['STATION'].isin(top10_stations)]"
   ]
  },
  {
   "cell_type": "code",
   "execution_count": 46,
   "metadata": {},
   "outputs": [
    {
     "data": {
      "text/html": [
       "<div>\n",
       "<style scoped>\n",
       "    .dataframe tbody tr th:only-of-type {\n",
       "        vertical-align: middle;\n",
       "    }\n",
       "\n",
       "    .dataframe tbody tr th {\n",
       "        vertical-align: top;\n",
       "    }\n",
       "\n",
       "    .dataframe thead th {\n",
       "        text-align: right;\n",
       "    }\n",
       "</style>\n",
       "<table border=\"1\" class=\"dataframe\">\n",
       "  <thead>\n",
       "    <tr style=\"text-align: right;\">\n",
       "      <th></th>\n",
       "      <th>STATION</th>\n",
       "      <th>DATE</th>\n",
       "      <th>DAILY_ENTRIES</th>\n",
       "    </tr>\n",
       "  </thead>\n",
       "  <tbody>\n",
       "    <tr>\n",
       "      <th>280</th>\n",
       "      <td>14 ST-UNION SQ</td>\n",
       "      <td>08/28/2016</td>\n",
       "      <td>54869.0</td>\n",
       "    </tr>\n",
       "    <tr>\n",
       "      <th>281</th>\n",
       "      <td>14 ST-UNION SQ</td>\n",
       "      <td>08/29/2016</td>\n",
       "      <td>93064.0</td>\n",
       "    </tr>\n",
       "    <tr>\n",
       "      <th>282</th>\n",
       "      <td>14 ST-UNION SQ</td>\n",
       "      <td>08/30/2016</td>\n",
       "      <td>98147.0</td>\n",
       "    </tr>\n",
       "    <tr>\n",
       "      <th>283</th>\n",
       "      <td>14 ST-UNION SQ</td>\n",
       "      <td>08/31/2016</td>\n",
       "      <td>101070.0</td>\n",
       "    </tr>\n",
       "    <tr>\n",
       "      <th>284</th>\n",
       "      <td>14 ST-UNION SQ</td>\n",
       "      <td>09/01/2016</td>\n",
       "      <td>97482.0</td>\n",
       "    </tr>\n",
       "    <tr>\n",
       "      <th>...</th>\n",
       "      <td>...</td>\n",
       "      <td>...</td>\n",
       "      <td>...</td>\n",
       "    </tr>\n",
       "    <tr>\n",
       "      <th>6973</th>\n",
       "      <td>TIMES SQ-42 ST</td>\n",
       "      <td>09/12/2016</td>\n",
       "      <td>93668.0</td>\n",
       "    </tr>\n",
       "    <tr>\n",
       "      <th>6974</th>\n",
       "      <td>TIMES SQ-42 ST</td>\n",
       "      <td>09/13/2016</td>\n",
       "      <td>99438.0</td>\n",
       "    </tr>\n",
       "    <tr>\n",
       "      <th>6975</th>\n",
       "      <td>TIMES SQ-42 ST</td>\n",
       "      <td>09/14/2016</td>\n",
       "      <td>104283.0</td>\n",
       "    </tr>\n",
       "    <tr>\n",
       "      <th>6976</th>\n",
       "      <td>TIMES SQ-42 ST</td>\n",
       "      <td>09/15/2016</td>\n",
       "      <td>102487.0</td>\n",
       "    </tr>\n",
       "    <tr>\n",
       "      <th>6977</th>\n",
       "      <td>TIMES SQ-42 ST</td>\n",
       "      <td>09/16/2016</td>\n",
       "      <td>103385.0</td>\n",
       "    </tr>\n",
       "  </tbody>\n",
       "</table>\n",
       "<p>200 rows × 3 columns</p>\n",
       "</div>"
      ],
      "text/plain": [
       "             STATION        DATE  DAILY_ENTRIES\n",
       "280   14 ST-UNION SQ  08/28/2016        54869.0\n",
       "281   14 ST-UNION SQ  08/29/2016        93064.0\n",
       "282   14 ST-UNION SQ  08/30/2016        98147.0\n",
       "283   14 ST-UNION SQ  08/31/2016       101070.0\n",
       "284   14 ST-UNION SQ  09/01/2016        97482.0\n",
       "...              ...         ...            ...\n",
       "6973  TIMES SQ-42 ST  09/12/2016        93668.0\n",
       "6974  TIMES SQ-42 ST  09/13/2016        99438.0\n",
       "6975  TIMES SQ-42 ST  09/14/2016       104283.0\n",
       "6976  TIMES SQ-42 ST  09/15/2016       102487.0\n",
       "6977  TIMES SQ-42 ST  09/16/2016       103385.0\n",
       "\n",
       "[200 rows x 3 columns]"
      ]
     },
     "execution_count": 46,
     "metadata": {},
     "output_type": "execute_result"
    }
   ],
   "source": [
    "stations_daily_top10"
   ]
  },
  {
   "cell_type": "code",
   "execution_count": 47,
   "metadata": {
    "colab": {},
    "colab_type": "code",
    "id": "4cQg8HXtG38b",
    "outputId": "e647af95-1f2c-4433-c87b-0009e0660df4"
   },
   "outputs": [
    {
     "data": {
      "text/plain": [
       "<matplotlib.axes._subplots.AxesSubplot at 0x7fdbcae49550>"
      ]
     },
     "execution_count": 47,
     "metadata": {},
     "output_type": "execute_result"
    },
    {
     "data": {
      "image/png": "[encoded data removed]",
      "text/plain": [
       "<Figure size 432x288 with 1 Axes>"
      ]
     },
     "metadata": {
      "needs_background": "light"
     },
     "output_type": "display_data"
    }
   ],
   "source": [
    "# use seaborn to create a boxplot by station\n",
    "sns.boxplot('DAILY_ENTRIES', 'STATION', data=stations_daily_top10)"
   ]
  },
  {
   "cell_type": "markdown",
   "metadata": {
    "colab_type": "text",
    "id": "LMu7YvAUG38i"
   },
   "source": [
    "Two key things we should notice from these quick EDA steps:\n",
    "\n",
    "- Using our knowledge of NYC, it **doesn't seem right that these are the top 10 stations**. Some are reasonable like grand central and times square, but is 23rd street really that popular? A next step here would be to dig into turnstiles in \"23 ST\" (hint: check the line names for different instances of 23 ST, is it really one station?) \n",
    "\n",
    "\n",
    "- There's still a **clear outlier in daily traffic for Canal St**, we should be able to figure out what's causing this by digging into it. Maybe our cleaning process is not quite enough yet (1 million is too large a cutoff!)"
   ]
  },
  {
   "cell_type": "code",
   "execution_count": null,
   "metadata": {
    "colab": {},
    "colab_type": "code",
    "id": "Zf4NQKk8G38j"
   },
   "outputs": [],
   "source": []
  }
 ],
 "metadata": {
  "anaconda-cloud": {},
  "colab": {
   "name": "three_Benson_solutions_pandas.ipynb",
   "provenance": []
  },
  "kernelspec": {
   "display_name": "Python 3",
   "language": "python",
   "name": "python3"
  },
  "language_info": {
   "codemirror_mode": {
    "name": "ipython",
    "version": 3
   },
   "file_extension": ".py",
   "mimetype": "text/x-python",
   "name": "python",
   "nbconvert_exporter": "python",
   "pygments_lexer": "ipython3",
   "version": "3.7.7"
  },
  "toc": {
   "nav_menu": {},
   "number_sections": true,
   "sideBar": true,
   "skip_h1_title": false,
   "toc_cell": false,
   "toc_position": {},
   "toc_section_display": "block",
   "toc_window_display": false
  },
  "varInspector": {
   "cols": {
    "lenName": 16,
    "lenType": 16,
    "lenVar": 40
   },
   "kernels_config": {
    "python": {
     "delete_cmd_postfix": "",
     "delete_cmd_prefix": "del ",
     "library": "var_list.py",
     "varRefreshCmd": "print(var_dic_list())"
    },
    "r": {
     "delete_cmd_postfix": ") ",
     "delete_cmd_prefix": "rm(",
     "library": "var_list.r",
     "varRefreshCmd": "cat(var_dic_list()) "
    }
   },
   "types_to_exclude": [
    "module",
    "function",
    "builtin_function_or_method",
    "instance",
    "_Feature"
   ],
   "window_display": false
  }
 },
 "nbformat": 4,
 "nbformat_minor": 1
}
