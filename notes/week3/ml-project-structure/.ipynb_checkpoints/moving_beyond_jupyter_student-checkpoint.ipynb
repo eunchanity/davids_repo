{
 "cells": [
  {
   "cell_type": "markdown",
   "metadata": {},
   "source": [
    "**Learning Objectives**\n",
    "- Recognize the benefits of using an IDE or text editor\n",
    "- Understand the concept of Python modules\n",
    "- Know how to set up projects using Cookiecutter Data Science structure"
   ]
  },
  {
   "cell_type": "markdown",
   "metadata": {},
   "source": [
    "# Tricky Jupyter\n",
    "Let's see some examples of Jupyter being tricky, using code snippets from the cross validation notebook."
   ]
  },
  {
   "cell_type": "code",
   "execution_count": 17,
   "metadata": {
    "ExecuteTime": {
     "end_time": "2020-07-16T00:01:26.085999Z",
     "start_time": "2020-07-16T00:01:25.668665Z"
    }
   },
   "outputs": [],
   "source": [
    "#Data loading: cars data set (using car characteristics to predict the price)\n",
    "import pandas as pd\n",
    "import numpy as np\n",
    "from sklearn.model_selection import train_test_split\n",
    "from sklearn.model_selection import KFold\n",
    "from sklearn.linear_model import LinearRegression, Ridge \n",
    "from sklearn.preprocessing import StandardScaler\n",
    "\n",
    "\n",
    "df=pd.read_csv('http://archive.ics.uci.edu/ml/machine-learning-databases/autos/imports-85.data', header=None)\n",
    "\n",
    "columns= ['symboling','normalized-losses','make','fuel-type',\n",
    "          'aspiration','num-of-doors','body-style','drive-wheels',\n",
    "          'engine-location','wheel-base','length','width','height',\n",
    "          'curb-weight','engine-type','num-of-cylinders','engine-size',\n",
    "          'fuel-system','bore','stroke','compression-ratio','horsepower',\n",
    "          'peak-rpm','city-mpg','highway-mpg','price']\n",
    "df.columns=columns"
   ]
  },
  {
   "cell_type": "markdown",
   "metadata": {},
   "source": [
    "**Simple cleaning**"
   ]
  },
  {
   "cell_type": "code",
   "execution_count": 18,
   "metadata": {
    "ExecuteTime": {
     "end_time": "2020-07-16T00:01:26.874374Z",
     "start_time": "2020-07-16T00:01:26.834416Z"
    }
   },
   "outputs": [],
   "source": [
    "df_cleaned = df.replace('?', np.NaN).dropna().reset_index()\n",
    "df_cleaned['price'] = df_cleaned['price'].astype(float)\n",
    "\n",
    "cars = df_cleaned.select_dtypes(exclude=['object']).copy()"
   ]
  },
  {
   "cell_type": "code",
   "execution_count": 19,
   "metadata": {
    "ExecuteTime": {
     "end_time": "2020-07-16T00:01:28.121498Z",
     "start_time": "2020-07-16T00:01:28.080180Z"
    },
    "scrolled": true
   },
   "outputs": [
    {
     "data": {
      "text/html": [
       "<div>\n",
       "<style scoped>\n",
       "    .dataframe tbody tr th:only-of-type {\n",
       "        vertical-align: middle;\n",
       "    }\n",
       "\n",
       "    .dataframe tbody tr th {\n",
       "        vertical-align: top;\n",
       "    }\n",
       "\n",
       "    .dataframe thead th {\n",
       "        text-align: right;\n",
       "    }\n",
       "</style>\n",
       "<table border=\"1\" class=\"dataframe\">\n",
       "  <thead>\n",
       "    <tr style=\"text-align: right;\">\n",
       "      <th></th>\n",
       "      <th>index</th>\n",
       "      <th>symboling</th>\n",
       "      <th>wheel-base</th>\n",
       "      <th>length</th>\n",
       "      <th>width</th>\n",
       "      <th>height</th>\n",
       "      <th>curb-weight</th>\n",
       "      <th>engine-size</th>\n",
       "      <th>compression-ratio</th>\n",
       "      <th>city-mpg</th>\n",
       "      <th>highway-mpg</th>\n",
       "      <th>price</th>\n",
       "    </tr>\n",
       "  </thead>\n",
       "  <tbody>\n",
       "    <tr>\n",
       "      <th>0</th>\n",
       "      <td>3</td>\n",
       "      <td>2</td>\n",
       "      <td>99.8</td>\n",
       "      <td>176.6</td>\n",
       "      <td>66.2</td>\n",
       "      <td>54.3</td>\n",
       "      <td>2337</td>\n",
       "      <td>109</td>\n",
       "      <td>10.0</td>\n",
       "      <td>24</td>\n",
       "      <td>30</td>\n",
       "      <td>13950.0</td>\n",
       "    </tr>\n",
       "    <tr>\n",
       "      <th>1</th>\n",
       "      <td>4</td>\n",
       "      <td>2</td>\n",
       "      <td>99.4</td>\n",
       "      <td>176.6</td>\n",
       "      <td>66.4</td>\n",
       "      <td>54.3</td>\n",
       "      <td>2824</td>\n",
       "      <td>136</td>\n",
       "      <td>8.0</td>\n",
       "      <td>18</td>\n",
       "      <td>22</td>\n",
       "      <td>17450.0</td>\n",
       "    </tr>\n",
       "    <tr>\n",
       "      <th>2</th>\n",
       "      <td>6</td>\n",
       "      <td>1</td>\n",
       "      <td>105.8</td>\n",
       "      <td>192.7</td>\n",
       "      <td>71.4</td>\n",
       "      <td>55.7</td>\n",
       "      <td>2844</td>\n",
       "      <td>136</td>\n",
       "      <td>8.5</td>\n",
       "      <td>19</td>\n",
       "      <td>25</td>\n",
       "      <td>17710.0</td>\n",
       "    </tr>\n",
       "    <tr>\n",
       "      <th>3</th>\n",
       "      <td>8</td>\n",
       "      <td>1</td>\n",
       "      <td>105.8</td>\n",
       "      <td>192.7</td>\n",
       "      <td>71.4</td>\n",
       "      <td>55.9</td>\n",
       "      <td>3086</td>\n",
       "      <td>131</td>\n",
       "      <td>8.3</td>\n",
       "      <td>17</td>\n",
       "      <td>20</td>\n",
       "      <td>23875.0</td>\n",
       "    </tr>\n",
       "    <tr>\n",
       "      <th>4</th>\n",
       "      <td>10</td>\n",
       "      <td>2</td>\n",
       "      <td>101.2</td>\n",
       "      <td>176.8</td>\n",
       "      <td>64.8</td>\n",
       "      <td>54.3</td>\n",
       "      <td>2395</td>\n",
       "      <td>108</td>\n",
       "      <td>8.8</td>\n",
       "      <td>23</td>\n",
       "      <td>29</td>\n",
       "      <td>16430.0</td>\n",
       "    </tr>\n",
       "  </tbody>\n",
       "</table>\n",
       "</div>"
      ],
      "text/plain": [
       "   index  symboling  wheel-base  length  width  height  curb-weight  \\\n",
       "0      3          2        99.8   176.6   66.2    54.3         2337   \n",
       "1      4          2        99.4   176.6   66.4    54.3         2824   \n",
       "2      6          1       105.8   192.7   71.4    55.7         2844   \n",
       "3      8          1       105.8   192.7   71.4    55.9         3086   \n",
       "4     10          2       101.2   176.8   64.8    54.3         2395   \n",
       "\n",
       "   engine-size  compression-ratio  city-mpg  highway-mpg    price  \n",
       "0          109               10.0        24           30  13950.0  \n",
       "1          136                8.0        18           22  17450.0  \n",
       "2          136                8.5        19           25  17710.0  \n",
       "3          131                8.3        17           20  23875.0  \n",
       "4          108                8.8        23           29  16430.0  "
      ]
     },
     "execution_count": 19,
     "metadata": {},
     "output_type": "execute_result"
    }
   ],
   "source": [
    "cars.head()"
   ]
  },
  {
   "cell_type": "markdown",
   "metadata": {},
   "source": [
    "**Prepare X and y and split into train and test**"
   ]
  },
  {
   "cell_type": "code",
   "execution_count": 25,
   "metadata": {
    "ExecuteTime": {
     "end_time": "2020-07-16T00:01:42.253777Z",
     "start_time": "2020-07-16T00:01:42.223634Z"
    }
   },
   "outputs": [],
   "source": [
    "X, y = cars.drop('price',axis=1), df_cleaned['price']"
   ]
  },
  {
   "cell_type": "code",
   "execution_count": 26,
   "metadata": {
    "ExecuteTime": {
     "end_time": "2020-07-16T00:01:42.928600Z",
     "start_time": "2020-07-16T00:01:42.898717Z"
    }
   },
   "outputs": [
    {
     "data": {
      "text/plain": [
       "(159, 11)"
      ]
     },
     "execution_count": 26,
     "metadata": {},
     "output_type": "execute_result"
    }
   ],
   "source": [
    "X.shape"
   ]
  },
  {
   "cell_type": "markdown",
   "metadata": {},
   "source": [
    "What happens to X if I run this cell below twice?"
   ]
  },
  {
   "cell_type": "code",
   "execution_count": 27,
   "metadata": {
    "ExecuteTime": {
     "end_time": "2020-07-16T00:01:44.294085Z",
     "start_time": "2020-07-16T00:01:44.265785Z"
    }
   },
   "outputs": [],
   "source": [
    "X, X_test, y, y_test = train_test_split(X, y, test_size=.2, random_state=10)"
   ]
  },
  {
   "cell_type": "code",
   "execution_count": 28,
   "metadata": {
    "ExecuteTime": {
     "end_time": "2020-07-16T00:01:45.929247Z",
     "start_time": "2020-07-16T00:01:45.898550Z"
    }
   },
   "outputs": [
    {
     "data": {
      "text/plain": [
       "(127, 11)"
      ]
     },
     "execution_count": 28,
     "metadata": {},
     "output_type": "execute_result"
    }
   ],
   "source": [
    "X.shape"
   ]
  },
  {
   "cell_type": "markdown",
   "metadata": {},
   "source": [
    "**Do cross validation**"
   ]
  },
  {
   "cell_type": "code",
   "execution_count": 29,
   "metadata": {
    "ExecuteTime": {
     "end_time": "2020-07-16T00:01:51.912176Z",
     "start_time": "2020-07-16T00:01:51.884910Z"
    }
   },
   "outputs": [],
   "source": [
    "kf = KFold(n_splits=5, shuffle=True, random_state = 71)\n",
    "cv_lm_r2s, cv_lm_reg_r2s = [], [] #collect the validation results for both models"
   ]
  },
  {
   "cell_type": "markdown",
   "metadata": {},
   "source": [
    "What happens to cv_lm_r2s if I run this cell below twice?"
   ]
  },
  {
   "cell_type": "code",
   "execution_count": 30,
   "metadata": {
    "ExecuteTime": {
     "end_time": "2020-07-16T00:01:53.312823Z",
     "start_time": "2020-07-16T00:01:53.263573Z"
    }
   },
   "outputs": [],
   "source": [
    "#this helps with the way kf will generate indices below\n",
    "X, y = np.array(X), np.array(y)\n",
    "for train_ind, val_ind in kf.split(X,y):\n",
    "    \n",
    "    X_train, y_train = X[train_ind], y[train_ind]\n",
    "    X_val, y_val = X[val_ind], y[val_ind] \n",
    "    \n",
    "    #simple linear regression\n",
    "    lm = LinearRegression()\n",
    "    lm_reg = Ridge(alpha=1)\n",
    "\n",
    "    lm.fit(X_train, y_train)\n",
    "    cv_lm_r2s.append(lm.score(X_val, y_val))\n",
    "    \n",
    "    #ridge with feature scaling\n",
    "    scaler = StandardScaler()\n",
    "    X_train_scaled = scaler.fit_transform(X_train)\n",
    "    X_val_scaled = scaler.transform(X_val)\n",
    "    \n",
    "    lm_reg.fit(X_train_scaled, y_train)\n",
    "    cv_lm_reg_r2s.append(lm_reg.score(X_val_scaled, y_val))"
   ]
  },
  {
   "cell_type": "code",
   "execution_count": 31,
   "metadata": {
    "ExecuteTime": {
     "end_time": "2020-07-16T00:01:57.990087Z",
     "start_time": "2020-07-16T00:01:57.945430Z"
    },
    "scrolled": true
   },
   "outputs": [
    {
     "data": {
      "text/plain": [
       "[0.821236288914905,\n",
       " 0.7034914527402574,\n",
       " 0.8844247203259455,\n",
       " 0.7616388470757506,\n",
       " 0.7300561885585927]"
      ]
     },
     "execution_count": 31,
     "metadata": {},
     "output_type": "execute_result"
    }
   ],
   "source": [
    "cv_lm_r2s"
   ]
  },
  {
   "cell_type": "markdown",
   "metadata": {},
   "source": [
    "What does lm refer to at this point?"
   ]
  },
  {
   "cell_type": "code",
   "execution_count": 10,
   "metadata": {
    "ExecuteTime": {
     "end_time": "2020-07-15T23:48:37.850950Z",
     "start_time": "2020-07-15T23:48:37.844737Z"
    }
   },
   "outputs": [
    {
     "data": {
      "text/plain": [
       "array([-17.48436162, 315.14686238,  15.54203019,  -7.11751391,\n",
       "       503.76892701,   4.87336583,   6.79210618,  42.12944193,\n",
       "        18.18710716,  46.50504417, -73.19890995])"
      ]
     },
     "execution_count": 10,
     "metadata": {},
     "output_type": "execute_result"
    }
   ],
   "source": [
    "lm.coef_"
   ]
  },
  {
   "cell_type": "markdown",
   "metadata": {},
   "source": [
    "**Jupyter is not always best**  \n",
    "\n",
    "Jupyter is great for some things, such as:\n",
    "- Exploration\n",
    "- Visualizations\n",
    "- Integration of code, commentary, and visualizations\n",
    "\n",
    "But it's not always the best choice because:\n",
    "- Out of order execution can cause confusion, as shown above\n",
    "- Hard to version control and collaborate with others\n",
    "- No help within code cells (function parameters, syntax highlighting, linting)\n",
    "- Cannot reuse code without repeating yourself\n",
    "- No [modularity](https://en.wikipedia.org/wiki/Modular_programming) -- important for larger scale projects"
   ]
  },
  {
   "cell_type": "markdown",
   "metadata": {},
   "source": [
    "# Try an IDE"
   ]
  },
  {
   "cell_type": "markdown",
   "metadata": {},
   "source": [
    "Instead of doing all your work in Jupyter, try an IDE like [PyCharm](https://www.jetbrains.com/pycharm/).  \n",
    "\n",
    "****Demo Time**"
   ]
  },
  {
   "cell_type": "markdown",
   "metadata": {},
   "source": [
    "# Work with Modules\n",
    "\n",
    "Python [modules](https://docs.python.org/3/tutorial/modules.html) allow you to package your code into reusable functions and reference them from other modules or from jupyter noteboooks. A module is simply a .py file containing Python definitions and statements."
   ]
  },
  {
   "cell_type": "markdown",
   "metadata": {},
   "source": [
    "### Exercise: Write a Module\n",
    "1) In a module called model_selection.py, write a function that: \n",
    "- Takes X and y as inputs, both of which are numpy arrays\n",
    "- Runs a manual k-fold cross validation loop to fit LinearRegression, Ridge, and Lasso\n",
    "- Return 3 lists of CV R2 scores for LinearRegression, Ridge, and Lasso (in that order)\n",
    "\n",
    "If time permits, you can also accept other input parameters that the user might want to specify, such as n_splits (for number of k-fold splits), random_state, alpha (regularization parameter for Ridge and Lasso), etc.\n",
    "\n",
    "Hint: Most of the code is in the for loop in section 1 of this notebook. \n",
    "\n",
    "2) Place the module in the same directory as this notebook.  \n",
    "3) Import the function and run the function on X and y (defined in section 1)"
   ]
  },
  {
   "cell_type": "code",
   "execution_count": 11,
   "metadata": {
    "ExecuteTime": {
     "end_time": "2020-07-15T23:48:37.895683Z",
     "start_time": "2020-07-15T23:48:37.853024Z"
    }
   },
   "outputs": [],
   "source": [
    "# The autoreload Ipython extension will reload your modules before executing. So any updates \n",
    "# to your python files will be reloaded into Jupyter when you call a function.\n",
    "%load_ext autoreload\n",
    "%autoreload 2"
   ]
  },
  {
   "cell_type": "code",
   "execution_count": null,
   "metadata": {},
   "outputs": [],
   "source": [
    "# IMPORT AND RUN YOUR FUNCTION HERE"
   ]
  },
  {
   "cell_type": "code",
   "execution_count": null,
   "metadata": {},
   "outputs": [],
   "source": []
  },
  {
   "cell_type": "code",
   "execution_count": null,
   "metadata": {
    "scrolled": true
   },
   "outputs": [],
   "source": []
  },
  {
   "cell_type": "markdown",
   "metadata": {},
   "source": [
    "# Cookiecutter Data Science\n",
    "\n",
    "[Cookiecutter Data Science](https://drivendata.github.io/cookiecutter-data-science/) is a project structure that will help to organize and present your projects.\n",
    "\n",
    "Run the following to install Cookiecutter and start up a new project using its structure:\n",
    "```\n",
    "pip install cookiecutter\n",
    "cookiecutter https://github.com/drivendata/cookiecutter-data-science\n",
    "```\n",
    "\n",
    "You will be prompted to enter some information about your project name and details. A new project directory will be created containing all the Cookiecutter subfolders and files.\n",
    "\n",
    "****Walkthrough time**"
   ]
  },
  {
   "cell_type": "markdown",
   "metadata": {},
   "source": [
    "# Takeaways\n",
    "- Jupyter is not always the best tool\n",
    "- Practice coding outside Jupyter, in an IDE or text editor, to prepare for life outside Metis\n",
    "- Write functions in modules to develop reusable, organized code \n",
    "- Try Cookiecutter for a flexible yet standardized structure for future data science projects"
   ]
  }
 ],
 "metadata": {
  "kernelspec": {
   "display_name": "Python 3",
   "language": "python",
   "name": "python3"
  },
  "language_info": {
   "codemirror_mode": {
    "name": "ipython",
    "version": 3
   },
   "file_extension": ".py",
   "mimetype": "text/x-python",
   "name": "python",
   "nbconvert_exporter": "python",
   "pygments_lexer": "ipython3",
   "version": "3.7.7"
  },
  "toc": {
   "base_numbering": 1,
   "nav_menu": {},
   "number_sections": true,
   "sideBar": true,
   "skip_h1_title": false,
   "title_cell": "Table of Contents",
   "title_sidebar": "Contents",
   "toc_cell": false,
   "toc_position": {},
   "toc_section_display": true,
   "toc_window_display": true
  },
  "varInspector": {
   "cols": {
    "lenName": 16,
    "lenType": 16,
    "lenVar": 40
   },
   "kernels_config": {
    "python": {
     "delete_cmd_postfix": "",
     "delete_cmd_prefix": "del ",
     "library": "var_list.py",
     "varRefreshCmd": "print(var_dic_list())"
    },
    "r": {
     "delete_cmd_postfix": ") ",
     "delete_cmd_prefix": "rm(",
     "library": "var_list.r",
     "varRefreshCmd": "cat(var_dic_list()) "
    }
   },
   "types_to_exclude": [
    "module",
    "function",
    "builtin_function_or_method",
    "instance",
    "_Feature"
   ],
   "window_display": false
  }
 },
 "nbformat": 4,
 "nbformat_minor": 4
}
