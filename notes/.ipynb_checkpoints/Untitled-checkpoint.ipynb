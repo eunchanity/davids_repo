{
 "cells": [
  {
   "cell_type": "code",
   "execution_count": null,
   "metadata": {
    "ExecuteTime": {
     "end_time": "2020-07-02T18:31:05.820307Z",
     "start_time": "2020-07-02T18:31:05.813936Z"
    }
   },
   "outputs": [],
   "source": [
    "# %load ugly_copy.py\n",
    "\"\"\"\n",
    "Contains get_beauty_score function\n",
    "\"\"\"\n",
    "from collections import defaultdict\n",
    "import re\n",
    "\n",
    "\n",
    "def get_beauty_score(text):\n",
    "    \"\"\"\n",
    "    Calculates beauty score for input text\n",
    "    26 for most frequent, 25 for next frequent, etc.\n",
    "    :return: Beauty score\n",
    "    :rtype: int\n",
    "    \"\"\"\n",
    "    text = text.lower()\n",
    "    text = re.sub(\"[^a-z]\", \"\", text)\n",
    "    count_dict = defaultdict(int)\n",
    "    for character in text:\n",
    "        count_dict[character] += 1\n",
    "    counts = sorted([v for k, v in count_dict.items()], reverse=True)\n",
    "    scores = range(26, 0, -1)\n",
    "    return sum([i * j for i, j in zip(counts, scores)])\n"
   ]
  },
  {
   "cell_type": "code",
   "execution_count": 3,
   "metadata": {
    "ExecuteTime": {
     "end_time": "2020-07-02T18:31:23.128923Z",
     "start_time": "2020-07-02T18:31:23.122841Z"
    }
   },
   "outputs": [
    {
     "ename": "SyntaxError",
     "evalue": "invalid syntax (<ipython-input-3-8a5841d3d345>, line 1)",
     "output_type": "error",
     "traceback": [
      "\u001b[0;36m  File \u001b[0;32m\"<ipython-input-3-8a5841d3d345>\"\u001b[0;36m, line \u001b[0;32m1\u001b[0m\n\u001b[0;31m    pylint ugly_copy.py\u001b[0m\n\u001b[0m           ^\u001b[0m\n\u001b[0;31mSyntaxError\u001b[0m\u001b[0;31m:\u001b[0m invalid syntax\n"
     ]
    }
   ],
   "source": [
    "pylint ugly_copy.py"
   ]
  }
 ],
 "metadata": {
  "kernelspec": {
   "display_name": "Python [conda env:metis] *",
   "language": "python",
   "name": "conda-env-metis-py"
  },
  "language_info": {
   "codemirror_mode": {
    "name": "ipython",
    "version": 3
   },
   "file_extension": ".py",
   "mimetype": "text/x-python",
   "name": "python",
   "nbconvert_exporter": "python",
   "pygments_lexer": "ipython3",
   "version": "3.8.3"
  },
  "toc": {
   "base_numbering": 1,
   "nav_menu": {},
   "number_sections": true,
   "sideBar": true,
   "skip_h1_title": false,
   "title_cell": "Table of Contents",
   "title_sidebar": "Contents",
   "toc_cell": false,
   "toc_position": {},
   "toc_section_display": true,
   "toc_window_display": false
  }
 },
 "nbformat": 4,
 "nbformat_minor": 4
}
