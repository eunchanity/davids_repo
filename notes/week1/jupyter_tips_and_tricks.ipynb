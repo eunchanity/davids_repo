{
 "cells": [
  {
   "cell_type": "markdown",
   "metadata": {
    "heading_collapsed": true
   },
   "source": [
    "# Jupyter Notebook Tips and Tricks"
   ]
  },
  {
   "cell_type": "markdown",
   "metadata": {
    "hidden": true
   },
   "source": [
    "**Why Jupyter Notebook?**\n",
    "\n",
    "* Saves time, faster development\n",
    "* Combine code and documentation, or code from different languages in a unified version\n",
    "* Extremely powerful and incredibly useful for learning and experimentation"
   ]
  },
  {
   "cell_type": "markdown",
   "metadata": {},
   "source": [
    "# Cell Types"
   ]
  },
  {
   "cell_type": "markdown",
   "metadata": {},
   "source": [
    "Jupyter notebooks are made up of cells. The most common ones you will use are two cell types: \n",
    "* Code cells - running code blocks\n",
    "* Markdown cells - titles, headings, documentation, report\n",
    "\n",
    "Combining markdown with code allows you to turn your code into a work book, a report, or a presentation easily"
   ]
  },
  {
   "cell_type": "markdown",
   "metadata": {},
   "source": [
    "## **This is a Markdown Cell**\n",
    "\n",
    "### Title 3\n",
    "#### Title 4\n",
    "##### Title 5\n",
    "\n",
    "Lists:\n",
    "\n",
    "  * list 1\n",
    "  * list 2\n",
    "  * list 3\n",
    "  \n",
    "Numbered list:\n",
    "  1.  one\n",
    "  1.  two\n",
    "  1.  three"
   ]
  },
  {
   "cell_type": "markdown",
   "metadata": {},
   "source": [
    "# Jupyter Notebook Shortcuts"
   ]
  },
  {
   "cell_type": "markdown",
   "metadata": {},
   "source": [
    "* Run cell: **`Shift Return`**\n",
    "\n",
    "\n",
    "* Go from command mode to edit mode: **`Enter`**\n",
    "    * cmd + / : comment, uncomment code \n",
    "    * cmd + ] : block indent\n",
    "    * cmd + [ : block unindent\n",
    "    \n",
    "\n",
    "* Go from edit mode to command mode: **`Esc`**\n",
    "    * Move up and down cells: **up and down arrows**\n",
    "    * Insert cell above: **`a`**\n",
    "    * Insert cell below: **`b`**\n",
    "    * Delete cell: **`dd`**\n",
    "    * Turn cell into a markdown cell: **`m`**\n",
    "    * Turn cell into a code cell: **`y`**\n",
    "    \n",
    "    \n",
    "    \n",
    "* Shortcut help\n",
    "\n",
    "    * h : keyboard shortcuts\n",
    "    * cmd + shift + P : control pallette\n",
    "    \n",
    "\n",
    "Don't forget to save from time to time."
   ]
  },
  {
   "cell_type": "markdown",
   "metadata": {},
   "source": [
    "### Use tab to auto complete"
   ]
  },
  {
   "cell_type": "code",
   "execution_count": 4,
   "metadata": {},
   "outputs": [],
   "source": [
    "this_is_my_favorite_number_ever = 42"
   ]
  },
  {
   "cell_type": "code",
   "execution_count": 6,
   "metadata": {},
   "outputs": [
    {
     "data": {
      "text/plain": [
       "42"
      ]
     },
     "execution_count": 6,
     "metadata": {},
     "output_type": "execute_result"
    }
   ],
   "source": [
    "# tab complete for variable name\n",
    "this_is_my_favorite_number_ever"
   ]
  },
  {
   "cell_type": "code",
   "execution_count": 7,
   "metadata": {},
   "outputs": [
    {
     "name": "stdout",
     "output_type": "stream",
     "text": [
      "42\n"
     ]
    }
   ],
   "source": [
    "# tab complete to print\n",
    "print(this_is_my_favorite_number_ever)"
   ]
  },
  {
   "cell_type": "markdown",
   "metadata": {},
   "source": [
    "# Other Programming Languages"
   ]
  },
  {
   "cell_type": "markdown",
   "metadata": {},
   "source": [
    "## Command line in markdown\n",
    "\n",
    "### **Use the Bang syntax (!)**"
   ]
  },
  {
   "cell_type": "code",
   "execution_count": 8,
   "metadata": {},
   "outputs": [
    {
     "name": "stdout",
     "output_type": "stream",
     "text": [
      "/Users/davidweon/davids_repo/notes\r\n"
     ]
    }
   ],
   "source": [
    "!pwd"
   ]
  },
  {
   "cell_type": "code",
   "execution_count": 9,
   "metadata": {},
   "outputs": [
    {
     "name": "stdout",
     "output_type": "stream",
     "text": [
      "/Users/davidweon/davids_repo/notes\r\n"
     ]
    }
   ],
   "source": [
    "!pwd"
   ]
  },
  {
   "cell_type": "code",
   "execution_count": 10,
   "metadata": {},
   "outputs": [
    {
     "name": "stdout",
     "output_type": "stream",
     "text": [
      "Intro-to-seaborn.ipynb        intro_to_numpy.ipynb\r\n",
      "Jupyter_Tips_and_Tricks.ipynb pandas_study_guide.ipynb\r\n",
      "intro-to-matplotlib.ipynb     testplot.png\r\n"
     ]
    }
   ],
   "source": [
    "!ls"
   ]
  },
  {
   "cell_type": "code",
   "execution_count": null,
   "metadata": {},
   "outputs": [],
   "source": [
    "!pip3 install seaborn"
   ]
  },
  {
   "cell_type": "markdown",
   "metadata": {},
   "source": [
    "## Latex in markdown"
   ]
  },
  {
   "cell_type": "markdown",
   "metadata": {
    "collapsed": true
   },
   "source": [
    "inline $ \\LaTeX $ formula like  \n",
    "$ x^2 + y^2 = z^2 $ or $ y=\\beta_1 x + \\beta_0 $ \n",
    "\n",
    "block $ \\LaTeX $ formula like\n",
    "$$ P(A \\mid B) = \\frac{P(B \\mid A)\\, P(A)}{P(B)} $$"
   ]
  },
  {
   "cell_type": "markdown",
   "metadata": {},
   "source": [
    "## HTML in markdown\n",
    "<div> \n",
    "<h3> An H3 title </h3>\n",
    "<p> this is the first paragraph  </p>\n",
    "click this to <a href=\"http://www.google.com/\">Search the web </a>\n",
    "</div>"
   ]
  },
  {
   "cell_type": "markdown",
   "metadata": {},
   "source": [
    "# Big title\n",
    "## Smaller one\n",
    "### Even smaller\n",
    "[Go to Google!](www.google.com)\n",
    "\n"
   ]
  },
  {
   "cell_type": "markdown",
   "metadata": {},
   "source": [
    "# More Useful Things (Optional)"
   ]
  },
  {
   "cell_type": "markdown",
   "metadata": {},
   "source": [
    "## Displaying Multiple Outputs"
   ]
  },
  {
   "cell_type": "code",
   "execution_count": 11,
   "metadata": {},
   "outputs": [
    {
     "data": {
      "text/plain": [
       "2"
      ]
     },
     "execution_count": 11,
     "metadata": {},
     "output_type": "execute_result"
    }
   ],
   "source": [
    "a = 1\n",
    "b = 2\n",
    "\n",
    "a\n",
    "b"
   ]
  },
  {
   "cell_type": "code",
   "execution_count": 12,
   "metadata": {},
   "outputs": [],
   "source": [
    "from IPython.core.interactiveshell import InteractiveShell\n",
    "InteractiveShell.ast_node_interactivity = \"all\""
   ]
  },
  {
   "cell_type": "code",
   "execution_count": 13,
   "metadata": {},
   "outputs": [
    {
     "data": {
      "text/plain": [
       "1"
      ]
     },
     "execution_count": 13,
     "metadata": {},
     "output_type": "execute_result"
    },
    {
     "data": {
      "text/plain": [
       "2"
      ]
     },
     "execution_count": 13,
     "metadata": {},
     "output_type": "execute_result"
    }
   ],
   "source": [
    "a = 1\n",
    "b = 2\n",
    "\n",
    "a\n",
    "b"
   ]
  },
  {
   "cell_type": "markdown",
   "metadata": {},
   "source": [
    "## Jupyter Notebook Extensions"
   ]
  },
  {
   "cell_type": "markdown",
   "metadata": {},
   "source": [
    "Gives you some cool features like these collapsible headings you see here.\n",
    "\n",
    "Install instructions here: http://jcb91-jupyter-contrib-nbextensions.readthedocs.io/en/d2/install.html"
   ]
  },
  {
   "cell_type": "markdown",
   "metadata": {
    "collapsed": true
   },
   "source": [
    "## Bash Aliases"
   ]
  },
  {
   "cell_type": "markdown",
   "metadata": {},
   "source": [
    "These are shortcuts you can use in the command line.\n",
    "\n",
    "For example, if you don't want to type 'jupyter notebook' everytime to launch Jupyter Notebook, you can create a shortcut like 'jn'. Then, everytime you type 'jn', Jupyter Notebook will launch."
   ]
  },
  {
   "cell_type": "markdown",
   "metadata": {},
   "source": [
    "* **Step 1:** Find the .bash_profile file on your computer.\n",
    "    * On my Mac, it's a hidden file located in my home directory  **`/home/alice/.bash_profile`**\n",
    "    * To see the file, I went to my home directory, and then typed  **`ls -a`**\n",
    "    * If the file doesn't exist, create one using the text editor of your choice: vim, TextEdit, Notepad, Atom, Sublime, etc.\n",
    "    \n",
    "    \n",
    "* **Step 2:** Add the following line to the .bash_profile file  **`alias jn=\"jupyter notebook\"`** Save and close the file.\n",
    "    \n",
    "    \n",
    "* **Step 3:** Run the file by typing  **`source .bash_profile`** You should now be able to launch Jupyter Notebook just by typing in 'jn'."
   ]
  },
  {
   "cell_type": "code",
   "execution_count": null,
   "metadata": {},
   "outputs": [],
   "source": []
  }
 ],
 "metadata": {
  "kernelspec": {
   "display_name": "Python 3",
   "language": "python",
   "name": "python3"
  },
  "language_info": {
   "codemirror_mode": {
    "name": "ipython",
    "version": 3
   },
   "file_extension": ".py",
   "mimetype": "text/x-python",
   "name": "python",
   "nbconvert_exporter": "python",
   "pygments_lexer": "ipython3",
   "version": "3.7.7"
  },
  "toc": {
   "base_numbering": 1,
   "nav_menu": {
    "height": "361px",
    "width": "214px"
   },
   "number_sections": true,
   "sideBar": true,
   "skip_h1_title": false,
   "title_cell": "Table of Contents",
   "title_sidebar": "Contents",
   "toc_cell": false,
   "toc_position": {
    "height": "calc(100% - 180px)",
    "left": "10px",
    "top": "150px",
    "width": "219px"
   },
   "toc_section_display": "block",
   "toc_window_display": true
  },
  "varInspector": {
   "cols": {
    "lenName": 16,
    "lenType": 16,
    "lenVar": 40
   },
   "kernels_config": {
    "python": {
     "delete_cmd_postfix": "",
     "delete_cmd_prefix": "del ",
     "library": "var_list.py",
     "varRefreshCmd": "print(var_dic_list())"
    },
    "r": {
     "delete_cmd_postfix": ") ",
     "delete_cmd_prefix": "rm(",
     "library": "var_list.r",
     "varRefreshCmd": "cat(var_dic_list()) "
    }
   },
   "types_to_exclude": [
    "module",
    "function",
    "builtin_function_or_method",
    "instance",
    "_Feature"
   ],
   "window_display": false
  }
 },
 "nbformat": 4,
 "nbformat_minor": 1
}
