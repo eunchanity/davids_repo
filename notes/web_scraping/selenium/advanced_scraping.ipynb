{
 "cells": [
  {
   "cell_type": "markdown",
   "metadata": {},
   "source": [
    "# Advanced Scraping\n",
    "\n",
    "_Tips and tricks for scraping the unscrapable._\n",
    "\n",
    "### Installation\n",
    "\n",
    "If you'd like to create a random user agent when scraping, install `fake_useragent`:\n",
    "\n",
    "With pip<br>\n",
    "`pip install fake_useragent`\n",
    "\n",
    "Or with conda<br>\n",
    "`conda install -c mlgill fake-useragent`"
   ]
  },
  {
   "cell_type": "markdown",
   "metadata": {},
   "source": [
    "## How much is too much?\n",
    "\n",
    "Sites have `robots.txt` pages that give guidelines about what they want to allow webcrawlers to access."
   ]
  },
  {
   "cell_type": "code",
   "execution_count": 1,
   "metadata": {
    "ExecuteTime": {
     "end_time": "2020-07-08T21:04:25.669966Z",
     "start_time": "2020-07-08T21:04:25.158204Z"
    }
   },
   "outputs": [
    {
     "name": "stdout",
     "output_type": "stream",
     "text": [
      "# If you would like to crawl GitHub contact us at support@github.com.\n",
      "# We also provide an extensive API: https://developer.github.com/\n",
      "\n",
      "User-agent: baidu\n",
      "crawl-delay: 1\n",
      "\n",
      "\n",
      "User-agent: *\n",
      "\n",
      "Disallow: */pulse\n",
      "Disallow: */tree/\n",
      "Disallow: */blob/\n",
      "Disallow: */wiki/\n",
      "Disallow: /gist/\n",
      "Disallow: */forks\n",
      "Disallow: */stars\n",
      "Disallow: */download\n",
      "Disallow: */revisions\n",
      "Disallow: */issues/new\n",
      "Disallow: */issues/search\n",
      "Disallow: */commits/\n",
      "Disallow: */commits/*?author\n",
      "Disallow: */commits/*?path\n",
      "Disallow: */branches\n",
      "Disallow: */tags\n",
      "Disallow: */contributors\n",
      "Disallow: */comments\n",
      "Disallow: */stargazers\n",
      "Disallow: */archive/\n",
      "Disallow: */followers\n",
      "Disallow: */following\n",
      "Disallow: */blame/\n",
      "Disallow: */watchers\n",
      "Disallow: */network\n",
      "Disallow: */graphs\n",
      "Disallow: */raw/\n",
      "Disallow: */compare/\n",
      "Disallow: */cache/\n",
      "Disallow: /.git/\n",
      "Disallow: */.git/\n",
      "Disallow: /*.git$\n",
      "Disallow: /search/advanced\n",
      "Disallow: /search\n",
      "Disallow: */search\n",
      "Disallow: /*q=\n",
      "Disallow: /*.atom\n",
      "\n",
      "Disallow: /ekansa/Open-Context-Data\n",
      "Disallow: /ekansa/opencontext-*\n",
      "Disallow: */tarball/\n",
      "Disallow: */zipball/\n",
      "\n",
      "Disallow: /account-login\n",
      "Disallow: /Explodingstuff/\n",
      "\n"
     ]
    }
   ],
   "source": [
    "import requests\n",
    "\n",
    "url = 'http://www.github.com/robots.txt'\n",
    "response  = requests.get(url)\n",
    "print(response.text)"
   ]
  },
  {
   "cell_type": "markdown",
   "metadata": {},
   "source": [
    "At the very end of this file, you will see:\n",
    "> `User-agent: *` <br>\n",
    "> `Disallow: /`\n",
    "\n",
    "This means disallow everything to all user-agents not previously covered... that's us!\n",
    "\n",
    "Boxofficemojo is much more accepting:"
   ]
  },
  {
   "cell_type": "code",
   "execution_count": 2,
   "metadata": {
    "ExecuteTime": {
     "end_time": "2020-07-08T21:04:28.334521Z",
     "start_time": "2020-07-08T21:04:28.038354Z"
    }
   },
   "outputs": [
    {
     "name": "stdout",
     "output_type": "stream",
     "text": [
      "# robots.txt for BoxOfficeMojo\n",
      "User-agent: *\n",
      "Allow: /\n",
      "\n"
     ]
    }
   ],
   "source": [
    "url = 'http://www.boxofficemojo.com/robots.txt'\n",
    "response  = requests.get(url)\n",
    "print(response.text)"
   ]
  },
  {
   "cell_type": "markdown",
   "metadata": {},
   "source": [
    "## How often is too often?\n",
    "\n",
    "It is very common for sites to block you if you send too many requests in a certain time period. Sometimes you can get around this by adding well-designed pauses in your scraping. \n",
    "\n",
    "Options include:\n",
    "* pause after every request\n",
    "* pause after each `n` requests\n",
    "* pause at random intervals"
   ]
  },
  {
   "cell_type": "markdown",
   "metadata": {},
   "source": [
    "#### Short pause after every request"
   ]
  },
  {
   "cell_type": "code",
   "execution_count": 3,
   "metadata": {
    "ExecuteTime": {
     "end_time": "2020-07-08T21:04:35.466322Z",
     "start_time": "2020-07-08T21:04:29.448578Z"
    }
   },
   "outputs": [
    {
     "name": "stdout",
     "output_type": "stream",
     "text": [
      "page1\n",
      "page2\n",
      "page3\n"
     ]
    }
   ],
   "source": [
    "#every request\n",
    "import time\n",
    "\n",
    "page_list = ['page1','page2','page3']\n",
    "\n",
    "for page in page_list:\n",
    "    ### scrape a website\n",
    "    ### ...\n",
    "    print(page)\n",
    "    \n",
    "    time.sleep(2)"
   ]
  },
  {
   "cell_type": "markdown",
   "metadata": {},
   "source": [
    "#### Longer pause after 200 requests"
   ]
  },
  {
   "cell_type": "code",
   "execution_count": 4,
   "metadata": {
    "ExecuteTime": {
     "end_time": "2020-07-08T21:04:35.485260Z",
     "start_time": "2020-07-08T21:04:35.471394Z"
    }
   },
   "outputs": [
    {
     "name": "stdout",
     "output_type": "stream",
     "text": [
      "page1\n",
      "page2\n",
      "page3\n",
      "page4\n",
      "page5\n",
      "page6\n"
     ]
    }
   ],
   "source": [
    "import time\n",
    "\n",
    "page_list = ['page1','page2','page3','page4','page5','page6']\n",
    "\n",
    "for i, page in enumerate(page_list):\n",
    "    ### scrape a website\n",
    "    ### ...\n",
    "    print(page)\n",
    "    \n",
    "    if (i+1 % 200 == 0):\n",
    "        time.sleep(320)"
   ]
  },
  {
   "cell_type": "markdown",
   "metadata": {},
   "source": [
    "#### Random pause after each page (more human-like)"
   ]
  },
  {
   "cell_type": "code",
   "execution_count": 5,
   "metadata": {
    "ExecuteTime": {
     "end_time": "2020-07-08T21:04:45.264231Z",
     "start_time": "2020-07-08T21:04:35.492352Z"
    }
   },
   "outputs": [
    {
     "name": "stdout",
     "output_type": "stream",
     "text": [
      "page1\n",
      "page2\n",
      "page3\n",
      "page4\n",
      "page5\n",
      "page6\n"
     ]
    }
   ],
   "source": [
    "import random\n",
    "\n",
    "for page in page_list:\n",
    "    ### scrape a website\n",
    "    ### ...\n",
    "    print(page)\n",
    "    \n",
    "    time.sleep(.5+2*random.random())"
   ]
  },
  {
   "cell_type": "markdown",
   "metadata": {},
   "source": [
    "## How do I make requests look like a real browser?\n",
    "\n",
    "In a human controlled browser, user agent information lets the web server know your browser specifications so the server can match to your software's capabilities.  \n",
    "\n",
    "When making an automated request, you can specify your user agent to make your request look more authentic. "
   ]
  },
  {
   "cell_type": "code",
   "execution_count": 6,
   "metadata": {
    "ExecuteTime": {
     "end_time": "2020-07-08T21:04:46.870554Z",
     "start_time": "2020-07-08T21:04:45.270275Z"
    }
   },
   "outputs": [],
   "source": [
    "url = 'http://www.reddit.com'\n",
    "\n",
    "user_agent = {'User-agent': 'Mozilla/5.0'}\n",
    "response  = requests.get(url, headers = user_agent)"
   ]
  },
  {
   "cell_type": "markdown",
   "metadata": {},
   "source": [
    "You can even generate a random user agent to send."
   ]
  },
  {
   "cell_type": "code",
   "execution_count": 7,
   "metadata": {
    "ExecuteTime": {
     "end_time": "2020-07-08T21:04:47.047916Z",
     "start_time": "2020-07-08T21:04:46.874454Z"
    }
   },
   "outputs": [
    {
     "ename": "ModuleNotFoundError",
     "evalue": "No module named 'fake_useragent'",
     "output_type": "error",
     "traceback": [
      "\u001b[0;31m---------------------------------------------------------------------------\u001b[0m",
      "\u001b[0;31mModuleNotFoundError\u001b[0m                       Traceback (most recent call last)",
      "\u001b[0;32m<ipython-input-7-f1468d40d477>\u001b[0m in \u001b[0;36m<module>\u001b[0;34m\u001b[0m\n\u001b[0;32m----> 1\u001b[0;31m \u001b[0;32mfrom\u001b[0m \u001b[0mfake_useragent\u001b[0m \u001b[0;32mimport\u001b[0m \u001b[0mUserAgent\u001b[0m\u001b[0;34m\u001b[0m\u001b[0;34m\u001b[0m\u001b[0m\n\u001b[0m\u001b[1;32m      2\u001b[0m \u001b[0;34m\u001b[0m\u001b[0m\n\u001b[1;32m      3\u001b[0m \u001b[0mua\u001b[0m \u001b[0;34m=\u001b[0m \u001b[0mUserAgent\u001b[0m\u001b[0;34m(\u001b[0m\u001b[0;34m)\u001b[0m\u001b[0;34m\u001b[0m\u001b[0;34m\u001b[0m\u001b[0m\n\u001b[1;32m      4\u001b[0m \u001b[0muser_agent\u001b[0m \u001b[0;34m=\u001b[0m \u001b[0;34m{\u001b[0m\u001b[0;34m'User-agent'\u001b[0m\u001b[0;34m:\u001b[0m \u001b[0mua\u001b[0m\u001b[0;34m.\u001b[0m\u001b[0mrandom\u001b[0m\u001b[0;34m}\u001b[0m\u001b[0;34m\u001b[0m\u001b[0;34m\u001b[0m\u001b[0m\n\u001b[1;32m      5\u001b[0m \u001b[0mprint\u001b[0m\u001b[0;34m(\u001b[0m\u001b[0muser_agent\u001b[0m\u001b[0;34m)\u001b[0m\u001b[0;34m\u001b[0m\u001b[0;34m\u001b[0m\u001b[0m\n",
      "\u001b[0;31mModuleNotFoundError\u001b[0m: No module named 'fake_useragent'"
     ]
    }
   ],
   "source": [
    "from fake_useragent import UserAgent\n",
    "\n",
    "ua = UserAgent()\n",
    "user_agent = {'User-agent': ua.random}\n",
    "print(user_agent)\n",
    "\n",
    "response  = requests.get(url, headers = user_agent)"
   ]
  },
  {
   "cell_type": "markdown",
   "metadata": {},
   "source": [
    "Note the next user agent generated has different specifications."
   ]
  },
  {
   "cell_type": "code",
   "execution_count": null,
   "metadata": {
    "ExecuteTime": {
     "end_time": "2020-07-08T21:04:47.050271Z",
     "start_time": "2020-07-08T21:04:37.498Z"
    }
   },
   "outputs": [],
   "source": [
    "user_agent = {'User-agent': ua.random}\n",
    "print(user_agent)"
   ]
  },
  {
   "cell_type": "code",
   "execution_count": null,
   "metadata": {},
   "outputs": [],
   "source": []
  }
 ],
 "metadata": {
  "kernelspec": {
   "display_name": "Python 3",
   "language": "python",
   "name": "python3"
  },
  "language_info": {
   "codemirror_mode": {
    "name": "ipython",
    "version": 3
   },
   "file_extension": ".py",
   "mimetype": "text/x-python",
   "name": "python",
   "nbconvert_exporter": "python",
   "pygments_lexer": "ipython3",
   "version": "3.7.7"
  },
  "toc": {
   "base_numbering": 1,
   "nav_menu": {},
   "number_sections": true,
   "sideBar": true,
   "skip_h1_title": false,
   "title_cell": "Table of Contents",
   "title_sidebar": "Contents",
   "toc_cell": false,
   "toc_position": {},
   "toc_section_display": true,
   "toc_window_display": false
  }
 },
 "nbformat": 4,
 "nbformat_minor": 2
}
